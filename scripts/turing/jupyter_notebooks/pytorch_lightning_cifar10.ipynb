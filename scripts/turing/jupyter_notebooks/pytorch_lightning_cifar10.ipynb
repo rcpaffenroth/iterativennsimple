{
  "cells": [
    {
      "cell_type": "code",
      "execution_count": 1,
      "metadata": {
        "id": "S2aDPLHCvefG"
      },
      "outputs": [],
      "source": [
        "from torch import nn, optim, cuda\n",
        "import torch.nn.functional as F\n",
        "from torchvision.transforms import transforms\n",
        "from torchvision import datasets, models\n",
        "from torch.utils.data import DataLoader\n",
        "from pytorch_lightning import LightningModule, Trainer"
      ]
    },
    {
      "cell_type": "code",
      "execution_count": 5,
      "metadata": {
        "id": "DufK5TbbvrD_"
      },
      "outputs": [],
      "source": [
        "def load_dataloader(name, transform, bs):\n",
        "  if name == 'cifar10':\n",
        "    train_ds = datasets.CIFAR10('./data', train=True, download=True, transform=transform)\n",
        "    val_ds = datasets.CIFAR10('./data', train=False, download=True, transform=transform)\n",
        "    # num_workers is the number of threads for loading data.  Pytorch lightning complains if \n",
        "    # this is not larger than 1.  It is ok for it to be 1 in general for small problems.\n",
        "    train_dl = DataLoader(train_ds, bs, shuffle=True, num_workers=2)\n",
        "    val_dl = DataLoader(val_ds, bs, shuffle=False, num_workers=2)\n",
        "    \n",
        "    return train_dl, val_dl    "
      ]
    },
    {
      "cell_type": "code",
      "execution_count": 6,
      "metadata": {
        "id": "KeavYcK8x-w2"
      },
      "outputs": [],
      "source": [
        "class Model(LightningModule):\n",
        "  def __init__(self, model='resnet18', freeze=False):\n",
        "    super().__init__()\n",
        "    self.model = self._build_model(model, freeze)\n",
        "\n",
        "  def _build_model(self, name, freeze):\n",
        "    if name=='resnet18':\n",
        "      model = models.resnet18(pretrained=True)\n",
        "\n",
        "      if freeze==True:\n",
        "        for params in model.parameters():\n",
        "          params.requires_grad = False\n",
        "        model.fc = nn.Linear(512, 10)\n",
        "        return model\n",
        "      else:\n",
        "        model.fc = nn.Linear(512, 10)\n",
        "        return model\n",
        "\n",
        "  def forward(x):\n",
        "    out = self.model(x)\n",
        "    return out\n",
        "\n",
        "  def training_step(self, batch, batch_idx):\n",
        "    x, y = batch\n",
        "    out = self.model(x)\n",
        "    loss = F.cross_entropy(out, y)\n",
        "    self.log(\"train_loss\", loss, prog_bar=True)\n",
        "\n",
        "    return loss\n",
        "\n",
        "  def validation_step(self, batch, batch_idx):\n",
        "    x, y = batch\n",
        "    out = self.model(x)\n",
        "    loss = F.cross_entropy(out, y)\n",
        "    self.log(\"val_loss\", loss, prog_bar=True)\n",
        "\n",
        "    return loss\n",
        "\n",
        "  def configure_optimizers(self):\n",
        "    return optim.Adam(self.model.parameters())"
      ]
    },
    {
      "cell_type": "code",
      "execution_count": 7,
      "metadata": {
        "colab": {
          "base_uri": "https://localhost:8080/"
        },
        "id": "pm6Wq3pryx5l",
        "outputId": "779fb728-c7b4-4924-f001-e3630fbf88fa"
      },
      "outputs": [
        {
          "name": "stdout",
          "output_type": "stream",
          "text": [
            "Files already downloaded and verified\n",
            "Files already downloaded and verified\n"
          ]
        }
      ],
      "source": [
        "trainloader, valloader = load_dataloader('cifar10', transforms.ToTensor(), 64)\n",
        "model = Model('resnet18', freeze=True)"
      ]
    },
    {
      "cell_type": "code",
      "execution_count": 8,
      "metadata": {},
      "outputs": [
        {
          "name": "stdout",
          "output_type": "stream",
          "text": [
            "CUDA *not* available\n"
          ]
        },
        {
          "name": "stderr",
          "output_type": "stream",
          "text": [
            "/work/rcpaffenroth/opt/anaconda3/lib/python3.8/site-packages/torch/cuda/__init__.py:52: UserWarning: CUDA initialization: CUDA unknown error - this may be due to an incorrectly set up environment, e.g. changing env variable CUDA_VISIBLE_DEVICES after program start. Setting the available devices to be zero. (Triggered internally at  /opt/conda/conda-bld/pytorch_1616554793803/work/c10/cuda/CUDAFunctions.cpp:109.)\n",
            "  return torch._C._cuda_getDeviceCount() > 0\n"
          ]
        }
      ],
      "source": [
        "if cuda.is_available():\n",
        "    print('CUDA available')\n",
        "    print('current device', cuda.current_device())\n",
        "    print('device count', cuda.device_count())\n",
        "    print('device name', cuda.get_device_name(0))\n",
        "    print('arch list', cuda.get_arch_list())\n",
        "    number_of_gpus=1\n",
        "else:\n",
        "    print('CUDA *not* available')\n",
        "    number_of_gpus=0"
      ]
    },
    {
      "cell_type": "code",
      "execution_count": 9,
      "metadata": {
        "colab": {
          "base_uri": "https://localhost:8080/"
        },
        "id": "ACNNE0EEy0f0",
        "outputId": "4fc59e22-84ab-4480-ccf6-7065a08a4742"
      },
      "outputs": [
        {
          "name": "stderr",
          "output_type": "stream",
          "text": [
            "GPU available: False, used: False\n",
            "TPU available: False, using: 0 TPU cores\n",
            "Running in fast_dev_run mode: will run a full train, val and test loop using 1 batch(es).\n"
          ]
        }
      ],
      "source": [
        "trainer = Trainer(max_epochs=2,\n",
        "                  fast_dev_run=True, # This runs just one batch to make sure things are running.  REMOVE FOR NORMAL RUNS!\n",
        "                  gpus=number_of_gpus)"
      ]
    },
    {
      "cell_type": "code",
      "execution_count": 10,
      "metadata": {
        "colab": {
          "base_uri": "https://localhost:8080/",
          "height": 153,
          "referenced_widgets": [
            "8eaa49b28a104d569a806ccbbaee04ac",
            "644acb60153e46ee93ebe9386790209f",
            "191ada1cb1cf455683c07768d85723e0",
            "14a75096c07349c68d8057e380bd1ef9",
            "4e2015f38bb94ef5988cb23f2521b4a6",
            "9f9697929cc64a01937842e0eca5e006",
            "f1dc73a15565443d81df7e911718cd45",
            "75c7838a066742598bb1739b96e7a5dd",
            "4779ea5478644684ae2c823393757123",
            "aabf821dd9d8490484329a466c091c76",
            "98b6bc63293549b9938c9844f3c2dc2b",
            "a3247fcd48b14ab49f7e7d62dc61d122",
            "e20b4cd20e554b0886fccd99041d7afb",
            "74ba8bb176c341f783c2db76f9031200",
            "d55898e7e525405e850bf88d951e2c09",
            "ed50ab8562584fee903b440364e30bb9"
          ]
        },
        "id": "8fDdoKvey1Nn",
        "outputId": "55c0b91e-3aa4-4f43-c182-6106f128f02c"
      },
      "outputs": [
        {
          "name": "stderr",
          "output_type": "stream",
          "text": [
            "\n",
            "  | Name  | Type   | Params\n",
            "---------------------------------\n",
            "0 | model | ResNet | 11.2 M\n",
            "---------------------------------\n",
            "5.1 K     Trainable params\n",
            "11.2 M    Non-trainable params\n",
            "11.2 M    Total params\n",
            "44.727    Total estimated model params size (MB)\n",
            "/work/rcpaffenroth/opt/anaconda3/lib/python3.8/site-packages/pytorch_lightning/utilities/distributed.py:69: UserWarning: The dataloader, train dataloader, does not have many workers which may be a bottleneck. Consider increasing the value of the `num_workers` argument` (try 72 which is the number of cpus on this machine) in the `DataLoader` init to improve performance.\n",
            "  warnings.warn(*args, **kwargs)\n",
            "/work/rcpaffenroth/opt/anaconda3/lib/python3.8/site-packages/pytorch_lightning/utilities/distributed.py:69: UserWarning: The dataloader, val dataloader 0, does not have many workers which may be a bottleneck. Consider increasing the value of the `num_workers` argument` (try 72 which is the number of cpus on this machine) in the `DataLoader` init to improve performance.\n",
            "  warnings.warn(*args, **kwargs)\n"
          ]
        },
        {
          "data": {
            "application/vnd.jupyter.widget-view+json": {
              "model_id": "5e9b734c692a4171b2e663c61caf8f46",
              "version_major": 2,
              "version_minor": 0
            },
            "text/plain": "Training: 0it [00:00, ?it/s]"
          },
          "metadata": {},
          "output_type": "display_data"
        },
        {
          "data": {
            "application/vnd.jupyter.widget-view+json": {
              "model_id": "585dfb47c9164a8e9f3115a72e69d946",
              "version_major": 2,
              "version_minor": 0
            },
            "text/plain": "Validating: 0it [00:00, ?it/s]"
          },
          "metadata": {},
          "output_type": "display_data"
        }
      ],
      "source": [
        "trainer.fit(model, trainloader, valloader)"
      ]
    },
    {
      "cell_type": "code",
      "execution_count": null,
      "metadata": {
        "id": "3PXzt0qh-oMz"
      },
      "outputs": [],
      "source": []
    }
  ],
  "metadata": {
    "interpreter": {
      "hash": "52f5c65119b432b12c1eb06f193f4306c621b6669524ca9d93c35871a5bccbab"
    },
    "kernelspec": {
      "display_name": "Python 3.8.8 64-bit ('base': conda)",
      "name": "python3"
    },
    "language_info": {
      "codemirror_mode": {
        "name": "ipython",
        "version": 3
      },
      "file_extension": ".py",
      "mimetype": "text/x-python",
      "name": "python",
      "nbconvert_exporter": "python",
      "pygments_lexer": "ipython3",
      "version": "3.8.8"
    },
    "orig_nbformat": 3
  },
  "nbformat": 4,
  "nbformat_minor": 0
}