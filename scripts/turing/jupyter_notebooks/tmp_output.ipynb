{
 "cells": [
  {
   "cell_type": "code",
   "execution_count": 1,
   "id": "78c6a73e",
   "metadata": {
    "execution": {
     "iopub.execute_input": "2021-05-17T13:52:45.353455Z",
     "iopub.status.busy": "2021-05-17T13:52:45.353039Z",
     "iopub.status.idle": "2021-05-17T13:53:07.460947Z",
     "shell.execute_reply": "2021-05-17T13:53:07.460339Z"
    },
    "id": "S2aDPLHCvefG",
    "papermill": {
     "duration": 22.126846,
     "end_time": "2021-05-17T13:53:07.461054",
     "exception": false,
     "start_time": "2021-05-17T13:52:45.334208",
     "status": "completed"
    },
    "tags": []
   },
   "outputs": [],
   "source": [
    "from torch import nn, optim, cuda\n",
    "import torch.nn.functional as F\n",
    "from torchvision.transforms import transforms\n",
    "from torchvision import datasets, models\n",
    "from torch.utils.data import DataLoader\n",
    "from pytorch_lightning import LightningModule, Trainer"
   ]
  },
  {
   "cell_type": "code",
   "execution_count": 2,
   "id": "f9222e10",
   "metadata": {
    "execution": {
     "iopub.execute_input": "2021-05-17T13:53:07.498065Z",
     "iopub.status.busy": "2021-05-17T13:53:07.497335Z",
     "iopub.status.idle": "2021-05-17T13:53:07.498454Z",
     "shell.execute_reply": "2021-05-17T13:53:07.497683Z"
    },
    "id": "DufK5TbbvrD_",
    "papermill": {
     "duration": 0.023735,
     "end_time": "2021-05-17T13:53:07.498533",
     "exception": false,
     "start_time": "2021-05-17T13:53:07.474798",
     "status": "completed"
    },
    "tags": []
   },
   "outputs": [],
   "source": [
    "def load_dataloader(name, transform, bs):\n",
    "  if name == 'cifar10':\n",
    "    train_ds = datasets.CIFAR10('./data', train=True, download=True, transform=transform)\n",
    "    val_ds = datasets.CIFAR10('./data', train=False, download=True, transform=transform)\n",
    "    # num_workers is the number of threads for loading data.  Pytorch lightning complains if \n",
    "    # this is not larger than 1.  It is ok for it to be 1 in general for small problems.\n",
    "    train_dl = DataLoader(train_ds, bs, shuffle=True, num_workers=2)\n",
    "    val_dl = DataLoader(val_ds, bs, shuffle=False, num_workers=2)\n",
    "    \n",
    "    return train_dl, val_dl    "
   ]
  },
  {
   "cell_type": "code",
   "execution_count": 3,
   "id": "b684d348",
   "metadata": {
    "execution": {
     "iopub.execute_input": "2021-05-17T13:53:07.534195Z",
     "iopub.status.busy": "2021-05-17T13:53:07.533789Z",
     "iopub.status.idle": "2021-05-17T13:53:07.535712Z",
     "shell.execute_reply": "2021-05-17T13:53:07.535386Z"
    },
    "id": "KeavYcK8x-w2",
    "papermill": {
     "duration": 0.020233,
     "end_time": "2021-05-17T13:53:07.535794",
     "exception": false,
     "start_time": "2021-05-17T13:53:07.515561",
     "status": "completed"
    },
    "tags": []
   },
   "outputs": [],
   "source": [
    "class Model(LightningModule):\n",
    "  def __init__(self, model='resnet18', freeze=False):\n",
    "    super().__init__()\n",
    "    self.model = self._build_model(model, freeze)\n",
    "\n",
    "  def _build_model(self, name, freeze):\n",
    "    if name=='resnet18':\n",
    "      model = models.resnet18(pretrained=True)\n",
    "\n",
    "      if freeze==True:\n",
    "        for params in model.parameters():\n",
    "          params.requires_grad = False\n",
    "        model.fc = nn.Linear(512, 10)\n",
    "        return model\n",
    "      else:\n",
    "        model.fc = nn.Linear(512, 10)\n",
    "        return model\n",
    "\n",
    "  def forward(x):\n",
    "    out = self.model(x)\n",
    "    return out\n",
    "\n",
    "  def training_step(self, batch, batch_idx):\n",
    "    x, y = batch\n",
    "    out = self.model(x)\n",
    "    loss = F.cross_entropy(out, y)\n",
    "    self.log(\"train_loss\", loss, prog_bar=True)\n",
    "\n",
    "    return loss\n",
    "\n",
    "  def validation_step(self, batch, batch_idx):\n",
    "    x, y = batch\n",
    "    out = self.model(x)\n",
    "    loss = F.cross_entropy(out, y)\n",
    "    self.log(\"val_loss\", loss, prog_bar=True)\n",
    "\n",
    "    return loss\n",
    "\n",
    "  def configure_optimizers(self):\n",
    "    return optim.Adam(self.model.parameters())"
   ]
  },
  {
   "cell_type": "code",
   "execution_count": 4,
   "id": "4fb2cb5e",
   "metadata": {
    "colab": {
     "base_uri": "https://localhost:8080/"
    },
    "execution": {
     "iopub.execute_input": "2021-05-17T13:53:07.567783Z",
     "iopub.status.busy": "2021-05-17T13:53:07.567388Z",
     "iopub.status.idle": "2021-05-17T13:53:12.180590Z",
     "shell.execute_reply": "2021-05-17T13:53:12.180232Z"
    },
    "id": "pm6Wq3pryx5l",
    "outputId": "779fb728-c7b4-4924-f001-e3630fbf88fa",
    "papermill": {
     "duration": 4.634229,
     "end_time": "2021-05-17T13:53:12.180689",
     "exception": false,
     "start_time": "2021-05-17T13:53:07.546460",
     "status": "completed"
    },
    "tags": []
   },
   "outputs": [
    {
     "name": "stdout",
     "output_type": "stream",
     "text": [
      "Files already downloaded and verified\n"
     ]
    },
    {
     "name": "stdout",
     "output_type": "stream",
     "text": [
      "Files already downloaded and verified\n"
     ]
    },
    {
     "name": "stderr",
     "output_type": "stream",
     "text": [
      "/work/rcpaffenroth/opt/anaconda3/lib/python3.8/site-packages/torch/utils/data/dataloader.py:474: UserWarning: This DataLoader will create 2 worker processes in total. Our suggested max number of worker in current system is 1, which is smaller than what this DataLoader is going to create. Please be aware that excessive worker creation might get DataLoader running slow or even freeze, lower the worker number to avoid potential slowness/freeze if necessary.\n",
      "  warnings.warn(_create_warning_msg(\n"
     ]
    }
   ],
   "source": [
    "trainloader, valloader = load_dataloader('cifar10', transforms.ToTensor(), 64)\n",
    "model = Model('resnet18', freeze=True)"
   ]
  },
  {
   "cell_type": "code",
   "execution_count": 5,
   "id": "0ecdf437",
   "metadata": {
    "execution": {
     "iopub.execute_input": "2021-05-17T13:53:12.269615Z",
     "iopub.status.busy": "2021-05-17T13:53:12.269174Z",
     "iopub.status.idle": "2021-05-17T13:53:12.279491Z",
     "shell.execute_reply": "2021-05-17T13:53:12.278963Z"
    },
    "papermill": {
     "duration": 0.086049,
     "end_time": "2021-05-17T13:53:12.279585",
     "exception": false,
     "start_time": "2021-05-17T13:53:12.193536",
     "status": "completed"
    },
    "tags": []
   },
   "outputs": [
    {
     "name": "stdout",
     "output_type": "stream",
     "text": [
      "CUDA available\n",
      "current device 0\n",
      "device count 1\n",
      "device name Tesla P100-SXM2-16GB\n",
      "arch list ['sm_37', 'sm_50', 'sm_60', 'sm_61', 'sm_70', 'sm_75', 'sm_80', 'sm_86', 'compute_37']\n"
     ]
    }
   ],
   "source": [
    "if cuda.is_available():\n",
    "    print('CUDA available')\n",
    "    print('current device', cuda.current_device())\n",
    "    print('device count', cuda.device_count())\n",
    "    print('device name', cuda.get_device_name(0))\n",
    "    print('arch list', cuda.get_arch_list())\n",
    "    number_of_gpus=1\n",
    "else:\n",
    "    print('CUDA *not* available')\n",
    "    number_of_gpus=0"
   ]
  },
  {
   "cell_type": "code",
   "execution_count": 6,
   "id": "20e66f78",
   "metadata": {
    "colab": {
     "base_uri": "https://localhost:8080/"
    },
    "execution": {
     "iopub.execute_input": "2021-05-17T13:53:12.307816Z",
     "iopub.status.busy": "2021-05-17T13:53:12.307415Z",
     "iopub.status.idle": "2021-05-17T13:53:12.312173Z",
     "shell.execute_reply": "2021-05-17T13:53:12.311846Z"
    },
    "id": "ACNNE0EEy0f0",
    "outputId": "4fc59e22-84ab-4480-ccf6-7065a08a4742",
    "papermill": {
     "duration": 0.02256,
     "end_time": "2021-05-17T13:53:12.312261",
     "exception": false,
     "start_time": "2021-05-17T13:53:12.289701",
     "status": "completed"
    },
    "tags": []
   },
   "outputs": [
    {
     "name": "stderr",
     "output_type": "stream",
     "text": [
      "GPU available: True, used: True\n"
     ]
    },
    {
     "name": "stderr",
     "output_type": "stream",
     "text": [
      "TPU available: False, using: 0 TPU cores\n"
     ]
    },
    {
     "name": "stderr",
     "output_type": "stream",
     "text": [
      "Running in fast_dev_run mode: will run a full train, val and test loop using 1 batch(es).\n"
     ]
    }
   ],
   "source": [
    "trainer = Trainer(max_epochs=2,\n",
    "                  fast_dev_run=True, # This runs just one batch to make sure things are running.  REMOVE FOR NORMAL RUNS!\n",
    "                  gpus=number_of_gpus)"
   ]
  },
  {
   "cell_type": "code",
   "execution_count": 7,
   "id": "2224f91c",
   "metadata": {
    "colab": {
     "base_uri": "https://localhost:8080/",
     "height": 153,
     "referenced_widgets": [
      "8eaa49b28a104d569a806ccbbaee04ac",
      "644acb60153e46ee93ebe9386790209f",
      "191ada1cb1cf455683c07768d85723e0",
      "14a75096c07349c68d8057e380bd1ef9",
      "4e2015f38bb94ef5988cb23f2521b4a6",
      "9f9697929cc64a01937842e0eca5e006",
      "f1dc73a15565443d81df7e911718cd45",
      "75c7838a066742598bb1739b96e7a5dd",
      "4779ea5478644684ae2c823393757123",
      "aabf821dd9d8490484329a466c091c76",
      "98b6bc63293549b9938c9844f3c2dc2b",
      "a3247fcd48b14ab49f7e7d62dc61d122",
      "e20b4cd20e554b0886fccd99041d7afb",
      "74ba8bb176c341f783c2db76f9031200",
      "d55898e7e525405e850bf88d951e2c09",
      "ed50ab8562584fee903b440364e30bb9"
     ]
    },
    "execution": {
     "iopub.execute_input": "2021-05-17T13:53:12.379285Z",
     "iopub.status.busy": "2021-05-17T13:53:12.378851Z",
     "iopub.status.idle": "2021-05-17T13:53:39.791641Z",
     "shell.execute_reply": "2021-05-17T13:53:39.791282Z"
    },
    "id": "8fDdoKvey1Nn",
    "outputId": "55c0b91e-3aa4-4f43-c182-6106f128f02c",
    "papermill": {
     "duration": 27.445369,
     "end_time": "2021-05-17T13:53:39.791739",
     "exception": false,
     "start_time": "2021-05-17T13:53:12.346370",
     "status": "completed"
    },
    "tags": []
   },
   "outputs": [
    {
     "name": "stderr",
     "output_type": "stream",
     "text": [
      "LOCAL_RANK: 0 - CUDA_VISIBLE_DEVICES: [0]\n"
     ]
    },
    {
     "name": "stderr",
     "output_type": "stream",
     "text": [
      "Set SLURM handle signals.\n"
     ]
    },
    {
     "name": "stderr",
     "output_type": "stream",
     "text": [
      "\n",
      "  | Name  | Type   | Params\n",
      "---------------------------------\n",
      "0 | model | ResNet | 11.2 M\n",
      "---------------------------------\n",
      "5.1 K     Trainable params\n",
      "11.2 M    Non-trainable params\n",
      "11.2 M    Total params\n",
      "44.727    Total estimated model params size (MB)\n"
     ]
    },
    {
     "name": "stderr",
     "output_type": "stream",
     "text": [
      "/work/rcpaffenroth/opt/anaconda3/lib/python3.8/site-packages/pytorch_lightning/utilities/distributed.py:69: UserWarning: The dataloader, train dataloader, does not have many workers which may be a bottleneck. Consider increasing the value of the `num_workers` argument` (try 16 which is the number of cpus on this machine) in the `DataLoader` init to improve performance.\n",
      "  warnings.warn(*args, **kwargs)\n",
      "/work/rcpaffenroth/opt/anaconda3/lib/python3.8/site-packages/pytorch_lightning/utilities/distributed.py:69: UserWarning: The dataloader, val dataloader 0, does not have many workers which may be a bottleneck. Consider increasing the value of the `num_workers` argument` (try 16 which is the number of cpus on this machine) in the `DataLoader` init to improve performance.\n",
      "  warnings.warn(*args, **kwargs)\n"
     ]
    },
    {
     "data": {
      "application/vnd.jupyter.widget-view+json": {
       "model_id": "e629e65d2f6d4e4da7e36aa1861e5735",
       "version_major": 2,
       "version_minor": 0
      },
      "text/plain": [
       "Training: 0it [00:00, ?it/s]"
      ]
     },
     "metadata": {},
     "output_type": "display_data"
    },
    {
     "data": {
      "application/vnd.jupyter.widget-view+json": {
       "model_id": "8208419d7fdd493a97ee49d17a73679a",
       "version_major": 2,
       "version_minor": 0
      },
      "text/plain": [
       "Validating: 0it [00:00, ?it/s]"
      ]
     },
     "metadata": {},
     "output_type": "display_data"
    }
   ],
   "source": [
    "trainer.fit(model, trainloader, valloader)"
   ]
  },
  {
   "cell_type": "code",
   "execution_count": null,
   "id": "d49ad9ee",
   "metadata": {
    "id": "3PXzt0qh-oMz",
    "papermill": {
     "duration": 0.011944,
     "end_time": "2021-05-17T13:53:39.848322",
     "exception": false,
     "start_time": "2021-05-17T13:53:39.836378",
     "status": "completed"
    },
    "tags": []
   },
   "outputs": [],
   "source": []
  }
 ],
 "metadata": {
  "interpreter": {
   "hash": "52f5c65119b432b12c1eb06f193f4306c621b6669524ca9d93c35871a5bccbab"
  },
  "kernelspec": {
   "display_name": "Python 3.8.8 64-bit ('base': conda)",
   "name": "python3"
  },
  "language_info": {
   "codemirror_mode": {
    "name": "ipython",
    "version": 3
   },
   "file_extension": ".py",
   "mimetype": "text/x-python",
   "name": "python",
   "nbconvert_exporter": "python",
   "pygments_lexer": "ipython3",
   "version": "3.8.8"
  },
  "papermill": {
   "default_parameters": {},
   "duration": 70.684902,
   "end_time": "2021-05-17T13:53:41.470360",
   "environment_variables": {},
   "exception": null,
   "input_path": "pytorch_lightning_cifar10.ipynb",
   "output_path": "tmp_output.ipynb",
   "parameters": {},
   "start_time": "2021-05-17T13:52:30.785458",
   "version": "2.3.3"
  },
  "widgets": {
   "application/vnd.jupyter.widget-state+json": {
    "state": {
     "004e7ab0b12f47e9b425dc0827f1dd93": {
      "model_module": "@jupyter-widgets/base",
      "model_module_version": "1.2.0",
      "model_name": "LayoutModel",
      "state": {
       "_model_module": "@jupyter-widgets/base",
       "_model_module_version": "1.2.0",
       "_model_name": "LayoutModel",
       "_view_count": null,
       "_view_module": "@jupyter-widgets/base",
       "_view_module_version": "1.2.0",
       "_view_name": "LayoutView",
       "align_content": null,
       "align_items": null,
       "align_self": null,
       "border": null,
       "bottom": null,
       "display": null,
       "flex": "2",
       "flex_flow": null,
       "grid_area": null,
       "grid_auto_columns": null,
       "grid_auto_flow": null,
       "grid_auto_rows": null,
       "grid_column": null,
       "grid_gap": null,
       "grid_row": null,
       "grid_template_areas": null,
       "grid_template_columns": null,
       "grid_template_rows": null,
       "height": null,
       "justify_content": null,
       "justify_items": null,
       "left": null,
       "margin": null,
       "max_height": null,
       "max_width": null,
       "min_height": null,
       "min_width": null,
       "object_fit": null,
       "object_position": null,
       "order": null,
       "overflow": null,
       "overflow_x": null,
       "overflow_y": null,
       "padding": null,
       "right": null,
       "top": null,
       "visibility": null,
       "width": null
      }
     },
     "1f839255e0ec4f0db4f136bfc18f8794": {
      "model_module": "@jupyter-widgets/controls",
      "model_module_version": "1.5.0",
      "model_name": "FloatProgressModel",
      "state": {
       "_dom_classes": [],
       "_model_module": "@jupyter-widgets/controls",
       "_model_module_version": "1.5.0",
       "_model_name": "FloatProgressModel",
       "_view_count": null,
       "_view_module": "@jupyter-widgets/controls",
       "_view_module_version": "1.5.0",
       "_view_name": "ProgressView",
       "bar_style": "success",
       "description": "",
       "description_tooltip": null,
       "layout": "IPY_MODEL_004e7ab0b12f47e9b425dc0827f1dd93",
       "max": 2.0,
       "min": 0.0,
       "orientation": "horizontal",
       "style": "IPY_MODEL_8bf1cf4c66c04762a37e9d2092fc8237",
       "value": 2.0
      }
     },
     "234e1bbbcf76420ea1a74f698268fb27": {
      "model_module": "@jupyter-widgets/controls",
      "model_module_version": "1.5.0",
      "model_name": "DescriptionStyleModel",
      "state": {
       "_model_module": "@jupyter-widgets/controls",
       "_model_module_version": "1.5.0",
       "_model_name": "DescriptionStyleModel",
       "_view_count": null,
       "_view_module": "@jupyter-widgets/base",
       "_view_module_version": "1.2.0",
       "_view_name": "StyleView",
       "description_width": ""
      }
     },
     "25dfc68258a24f15a2114ccadb050f73": {
      "model_module": "@jupyter-widgets/controls",
      "model_module_version": "1.5.0",
      "model_name": "ProgressStyleModel",
      "state": {
       "_model_module": "@jupyter-widgets/controls",
       "_model_module_version": "1.5.0",
       "_model_name": "ProgressStyleModel",
       "_view_count": null,
       "_view_module": "@jupyter-widgets/base",
       "_view_module_version": "1.2.0",
       "_view_name": "StyleView",
       "bar_color": null,
       "description_width": ""
      }
     },
     "2b9cf13908db4d9a88ae9673e0c1fabb": {
      "model_module": "@jupyter-widgets/controls",
      "model_module_version": "1.5.0",
      "model_name": "DescriptionStyleModel",
      "state": {
       "_model_module": "@jupyter-widgets/controls",
       "_model_module_version": "1.5.0",
       "_model_name": "DescriptionStyleModel",
       "_view_count": null,
       "_view_module": "@jupyter-widgets/base",
       "_view_module_version": "1.2.0",
       "_view_name": "StyleView",
       "description_width": ""
      }
     },
     "2c1981bb69484a18a20d6d8ec0fed7ab": {
      "model_module": "@jupyter-widgets/controls",
      "model_module_version": "1.5.0",
      "model_name": "HTMLModel",
      "state": {
       "_dom_classes": [],
       "_model_module": "@jupyter-widgets/controls",
       "_model_module_version": "1.5.0",
       "_model_name": "HTMLModel",
       "_view_count": null,
       "_view_module": "@jupyter-widgets/controls",
       "_view_module_version": "1.5.0",
       "_view_name": "HTMLView",
       "description": "",
       "description_tooltip": null,
       "layout": "IPY_MODEL_b601b09e38294db38ee538737ffa2fba",
       "placeholder": "​",
       "style": "IPY_MODEL_2b9cf13908db4d9a88ae9673e0c1fabb",
       "value": " 2/2 [00:04&lt;00:00,  2.28s/it, loss=2.58, v_num=, train_loss=2.580, val_loss=2.230]"
      }
     },
     "39e0473828b444ec9ccf5132da0bd5f8": {
      "model_module": "@jupyter-widgets/base",
      "model_module_version": "1.2.0",
      "model_name": "LayoutModel",
      "state": {
       "_model_module": "@jupyter-widgets/base",
       "_model_module_version": "1.2.0",
       "_model_name": "LayoutModel",
       "_view_count": null,
       "_view_module": "@jupyter-widgets/base",
       "_view_module_version": "1.2.0",
       "_view_name": "LayoutView",
       "align_content": null,
       "align_items": null,
       "align_self": null,
       "border": null,
       "bottom": null,
       "display": "inline-flex",
       "flex": null,
       "flex_flow": "row wrap",
       "grid_area": null,
       "grid_auto_columns": null,
       "grid_auto_flow": null,
       "grid_auto_rows": null,
       "grid_column": null,
       "grid_gap": null,
       "grid_row": null,
       "grid_template_areas": null,
       "grid_template_columns": null,
       "grid_template_rows": null,
       "height": null,
       "justify_content": null,
       "justify_items": null,
       "left": null,
       "margin": null,
       "max_height": null,
       "max_width": null,
       "min_height": null,
       "min_width": null,
       "object_fit": null,
       "object_position": null,
       "order": null,
       "overflow": null,
       "overflow_x": null,
       "overflow_y": null,
       "padding": null,
       "right": null,
       "top": null,
       "visibility": null,
       "width": "100%"
      }
     },
     "3bae4b75c718409bb77eff2f6f180dd0": {
      "model_module": "@jupyter-widgets/base",
      "model_module_version": "1.2.0",
      "model_name": "LayoutModel",
      "state": {
       "_model_module": "@jupyter-widgets/base",
       "_model_module_version": "1.2.0",
       "_model_name": "LayoutModel",
       "_view_count": null,
       "_view_module": "@jupyter-widgets/base",
       "_view_module_version": "1.2.0",
       "_view_name": "LayoutView",
       "align_content": null,
       "align_items": null,
       "align_self": null,
       "border": null,
       "bottom": null,
       "display": null,
       "flex": "2",
       "flex_flow": null,
       "grid_area": null,
       "grid_auto_columns": null,
       "grid_auto_flow": null,
       "grid_auto_rows": null,
       "grid_column": null,
       "grid_gap": null,
       "grid_row": null,
       "grid_template_areas": null,
       "grid_template_columns": null,
       "grid_template_rows": null,
       "height": null,
       "justify_content": null,
       "justify_items": null,
       "left": null,
       "margin": null,
       "max_height": null,
       "max_width": null,
       "min_height": null,
       "min_width": null,
       "object_fit": null,
       "object_position": null,
       "order": null,
       "overflow": null,
       "overflow_x": null,
       "overflow_y": null,
       "padding": null,
       "right": null,
       "top": null,
       "visibility": null,
       "width": null
      }
     },
     "43e45c28248b4e919f19897bb5869140": {
      "model_module": "@jupyter-widgets/base",
      "model_module_version": "1.2.0",
      "model_name": "LayoutModel",
      "state": {
       "_model_module": "@jupyter-widgets/base",
       "_model_module_version": "1.2.0",
       "_model_name": "LayoutModel",
       "_view_count": null,
       "_view_module": "@jupyter-widgets/base",
       "_view_module_version": "1.2.0",
       "_view_name": "LayoutView",
       "align_content": null,
       "align_items": null,
       "align_self": null,
       "border": null,
       "bottom": null,
       "display": "inline-flex",
       "flex": null,
       "flex_flow": "row wrap",
       "grid_area": null,
       "grid_auto_columns": null,
       "grid_auto_flow": null,
       "grid_auto_rows": null,
       "grid_column": null,
       "grid_gap": null,
       "grid_row": null,
       "grid_template_areas": null,
       "grid_template_columns": null,
       "grid_template_rows": null,
       "height": null,
       "justify_content": null,
       "justify_items": null,
       "left": null,
       "margin": null,
       "max_height": null,
       "max_width": null,
       "min_height": null,
       "min_width": null,
       "object_fit": null,
       "object_position": null,
       "order": null,
       "overflow": null,
       "overflow_x": null,
       "overflow_y": null,
       "padding": null,
       "right": null,
       "top": null,
       "visibility": null,
       "width": "100%"
      }
     },
     "47f58b7fc0cb4a2ca105bbee841ceab7": {
      "model_module": "@jupyter-widgets/controls",
      "model_module_version": "1.5.0",
      "model_name": "HTMLModel",
      "state": {
       "_dom_classes": [],
       "_model_module": "@jupyter-widgets/controls",
       "_model_module_version": "1.5.0",
       "_model_name": "HTMLModel",
       "_view_count": null,
       "_view_module": "@jupyter-widgets/controls",
       "_view_module_version": "1.5.0",
       "_view_name": "HTMLView",
       "description": "",
       "description_tooltip": null,
       "layout": "IPY_MODEL_f0777114b8d94f49a3d7f6dcd2b11105",
       "placeholder": "​",
       "style": "IPY_MODEL_eb2a5766c3d44c469e099a8af4faed44",
       "value": "Epoch 0: 100%"
      }
     },
     "58bb7957a1474a598394c866420e9dd7": {
      "model_module": "@jupyter-widgets/controls",
      "model_module_version": "1.5.0",
      "model_name": "FloatProgressModel",
      "state": {
       "_dom_classes": [],
       "_model_module": "@jupyter-widgets/controls",
       "_model_module_version": "1.5.0",
       "_model_name": "FloatProgressModel",
       "_view_count": null,
       "_view_module": "@jupyter-widgets/controls",
       "_view_module_version": "1.5.0",
       "_view_name": "ProgressView",
       "bar_style": "",
       "description": "",
       "description_tooltip": null,
       "layout": "IPY_MODEL_3bae4b75c718409bb77eff2f6f180dd0",
       "max": 1.0,
       "min": 0.0,
       "orientation": "horizontal",
       "style": "IPY_MODEL_25dfc68258a24f15a2114ccadb050f73",
       "value": 1.0
      }
     },
     "8208419d7fdd493a97ee49d17a73679a": {
      "model_module": "@jupyter-widgets/controls",
      "model_module_version": "1.5.0",
      "model_name": "HBoxModel",
      "state": {
       "_dom_classes": [],
       "_model_module": "@jupyter-widgets/controls",
       "_model_module_version": "1.5.0",
       "_model_name": "HBoxModel",
       "_view_count": null,
       "_view_module": "@jupyter-widgets/controls",
       "_view_module_version": "1.5.0",
       "_view_name": "HBoxView",
       "box_style": "",
       "children": [
        "IPY_MODEL_aa64ecfdfa814f659d8a7bfe560cafaf",
        "IPY_MODEL_58bb7957a1474a598394c866420e9dd7",
        "IPY_MODEL_d5273971a47749b58bb2f771b3cb08e1"
       ],
       "layout": "IPY_MODEL_43e45c28248b4e919f19897bb5869140"
      }
     },
     "8bf1cf4c66c04762a37e9d2092fc8237": {
      "model_module": "@jupyter-widgets/controls",
      "model_module_version": "1.5.0",
      "model_name": "ProgressStyleModel",
      "state": {
       "_model_module": "@jupyter-widgets/controls",
       "_model_module_version": "1.5.0",
       "_model_name": "ProgressStyleModel",
       "_view_count": null,
       "_view_module": "@jupyter-widgets/base",
       "_view_module_version": "1.2.0",
       "_view_name": "StyleView",
       "bar_color": null,
       "description_width": ""
      }
     },
     "94d68082ce434c41ad806609055ca79a": {
      "model_module": "@jupyter-widgets/controls",
      "model_module_version": "1.5.0",
      "model_name": "DescriptionStyleModel",
      "state": {
       "_model_module": "@jupyter-widgets/controls",
       "_model_module_version": "1.5.0",
       "_model_name": "DescriptionStyleModel",
       "_view_count": null,
       "_view_module": "@jupyter-widgets/base",
       "_view_module_version": "1.2.0",
       "_view_name": "StyleView",
       "description_width": ""
      }
     },
     "aa64ecfdfa814f659d8a7bfe560cafaf": {
      "model_module": "@jupyter-widgets/controls",
      "model_module_version": "1.5.0",
      "model_name": "HTMLModel",
      "state": {
       "_dom_classes": [],
       "_model_module": "@jupyter-widgets/controls",
       "_model_module_version": "1.5.0",
       "_model_name": "HTMLModel",
       "_view_count": null,
       "_view_module": "@jupyter-widgets/controls",
       "_view_module_version": "1.5.0",
       "_view_name": "HTMLView",
       "description": "",
       "description_tooltip": null,
       "layout": "IPY_MODEL_ec861b4692054284be47af6659197f4f",
       "placeholder": "​",
       "style": "IPY_MODEL_94d68082ce434c41ad806609055ca79a",
       "value": "Validating: 100%"
      }
     },
     "b601b09e38294db38ee538737ffa2fba": {
      "model_module": "@jupyter-widgets/base",
      "model_module_version": "1.2.0",
      "model_name": "LayoutModel",
      "state": {
       "_model_module": "@jupyter-widgets/base",
       "_model_module_version": "1.2.0",
       "_model_name": "LayoutModel",
       "_view_count": null,
       "_view_module": "@jupyter-widgets/base",
       "_view_module_version": "1.2.0",
       "_view_name": "LayoutView",
       "align_content": null,
       "align_items": null,
       "align_self": null,
       "border": null,
       "bottom": null,
       "display": null,
       "flex": null,
       "flex_flow": null,
       "grid_area": null,
       "grid_auto_columns": null,
       "grid_auto_flow": null,
       "grid_auto_rows": null,
       "grid_column": null,
       "grid_gap": null,
       "grid_row": null,
       "grid_template_areas": null,
       "grid_template_columns": null,
       "grid_template_rows": null,
       "height": null,
       "justify_content": null,
       "justify_items": null,
       "left": null,
       "margin": null,
       "max_height": null,
       "max_width": null,
       "min_height": null,
       "min_width": null,
       "object_fit": null,
       "object_position": null,
       "order": null,
       "overflow": null,
       "overflow_x": null,
       "overflow_y": null,
       "padding": null,
       "right": null,
       "top": null,
       "visibility": null,
       "width": null
      }
     },
     "d1ddcadf330a492984cf770cc0f35123": {
      "model_module": "@jupyter-widgets/base",
      "model_module_version": "1.2.0",
      "model_name": "LayoutModel",
      "state": {
       "_model_module": "@jupyter-widgets/base",
       "_model_module_version": "1.2.0",
       "_model_name": "LayoutModel",
       "_view_count": null,
       "_view_module": "@jupyter-widgets/base",
       "_view_module_version": "1.2.0",
       "_view_name": "LayoutView",
       "align_content": null,
       "align_items": null,
       "align_self": null,
       "border": null,
       "bottom": null,
       "display": null,
       "flex": null,
       "flex_flow": null,
       "grid_area": null,
       "grid_auto_columns": null,
       "grid_auto_flow": null,
       "grid_auto_rows": null,
       "grid_column": null,
       "grid_gap": null,
       "grid_row": null,
       "grid_template_areas": null,
       "grid_template_columns": null,
       "grid_template_rows": null,
       "height": null,
       "justify_content": null,
       "justify_items": null,
       "left": null,
       "margin": null,
       "max_height": null,
       "max_width": null,
       "min_height": null,
       "min_width": null,
       "object_fit": null,
       "object_position": null,
       "order": null,
       "overflow": null,
       "overflow_x": null,
       "overflow_y": null,
       "padding": null,
       "right": null,
       "top": null,
       "visibility": null,
       "width": null
      }
     },
     "d5273971a47749b58bb2f771b3cb08e1": {
      "model_module": "@jupyter-widgets/controls",
      "model_module_version": "1.5.0",
      "model_name": "HTMLModel",
      "state": {
       "_dom_classes": [],
       "_model_module": "@jupyter-widgets/controls",
       "_model_module_version": "1.5.0",
       "_model_name": "HTMLModel",
       "_view_count": null,
       "_view_module": "@jupyter-widgets/controls",
       "_view_module_version": "1.5.0",
       "_view_name": "HTMLView",
       "description": "",
       "description_tooltip": null,
       "layout": "IPY_MODEL_d1ddcadf330a492984cf770cc0f35123",
       "placeholder": "​",
       "style": "IPY_MODEL_234e1bbbcf76420ea1a74f698268fb27",
       "value": " 1/1 [00:00&lt;00:00,  4.27it/s]"
      }
     },
     "e629e65d2f6d4e4da7e36aa1861e5735": {
      "model_module": "@jupyter-widgets/controls",
      "model_module_version": "1.5.0",
      "model_name": "HBoxModel",
      "state": {
       "_dom_classes": [],
       "_model_module": "@jupyter-widgets/controls",
       "_model_module_version": "1.5.0",
       "_model_name": "HBoxModel",
       "_view_count": null,
       "_view_module": "@jupyter-widgets/controls",
       "_view_module_version": "1.5.0",
       "_view_name": "HBoxView",
       "box_style": "",
       "children": [
        "IPY_MODEL_47f58b7fc0cb4a2ca105bbee841ceab7",
        "IPY_MODEL_1f839255e0ec4f0db4f136bfc18f8794",
        "IPY_MODEL_2c1981bb69484a18a20d6d8ec0fed7ab"
       ],
       "layout": "IPY_MODEL_39e0473828b444ec9ccf5132da0bd5f8"
      }
     },
     "eb2a5766c3d44c469e099a8af4faed44": {
      "model_module": "@jupyter-widgets/controls",
      "model_module_version": "1.5.0",
      "model_name": "DescriptionStyleModel",
      "state": {
       "_model_module": "@jupyter-widgets/controls",
       "_model_module_version": "1.5.0",
       "_model_name": "DescriptionStyleModel",
       "_view_count": null,
       "_view_module": "@jupyter-widgets/base",
       "_view_module_version": "1.2.0",
       "_view_name": "StyleView",
       "description_width": ""
      }
     },
     "ec861b4692054284be47af6659197f4f": {
      "model_module": "@jupyter-widgets/base",
      "model_module_version": "1.2.0",
      "model_name": "LayoutModel",
      "state": {
       "_model_module": "@jupyter-widgets/base",
       "_model_module_version": "1.2.0",
       "_model_name": "LayoutModel",
       "_view_count": null,
       "_view_module": "@jupyter-widgets/base",
       "_view_module_version": "1.2.0",
       "_view_name": "LayoutView",
       "align_content": null,
       "align_items": null,
       "align_self": null,
       "border": null,
       "bottom": null,
       "display": null,
       "flex": null,
       "flex_flow": null,
       "grid_area": null,
       "grid_auto_columns": null,
       "grid_auto_flow": null,
       "grid_auto_rows": null,
       "grid_column": null,
       "grid_gap": null,
       "grid_row": null,
       "grid_template_areas": null,
       "grid_template_columns": null,
       "grid_template_rows": null,
       "height": null,
       "justify_content": null,
       "justify_items": null,
       "left": null,
       "margin": null,
       "max_height": null,
       "max_width": null,
       "min_height": null,
       "min_width": null,
       "object_fit": null,
       "object_position": null,
       "order": null,
       "overflow": null,
       "overflow_x": null,
       "overflow_y": null,
       "padding": null,
       "right": null,
       "top": null,
       "visibility": null,
       "width": null
      }
     },
     "f0777114b8d94f49a3d7f6dcd2b11105": {
      "model_module": "@jupyter-widgets/base",
      "model_module_version": "1.2.0",
      "model_name": "LayoutModel",
      "state": {
       "_model_module": "@jupyter-widgets/base",
       "_model_module_version": "1.2.0",
       "_model_name": "LayoutModel",
       "_view_count": null,
       "_view_module": "@jupyter-widgets/base",
       "_view_module_version": "1.2.0",
       "_view_name": "LayoutView",
       "align_content": null,
       "align_items": null,
       "align_self": null,
       "border": null,
       "bottom": null,
       "display": null,
       "flex": null,
       "flex_flow": null,
       "grid_area": null,
       "grid_auto_columns": null,
       "grid_auto_flow": null,
       "grid_auto_rows": null,
       "grid_column": null,
       "grid_gap": null,
       "grid_row": null,
       "grid_template_areas": null,
       "grid_template_columns": null,
       "grid_template_rows": null,
       "height": null,
       "justify_content": null,
       "justify_items": null,
       "left": null,
       "margin": null,
       "max_height": null,
       "max_width": null,
       "min_height": null,
       "min_width": null,
       "object_fit": null,
       "object_position": null,
       "order": null,
       "overflow": null,
       "overflow_x": null,
       "overflow_y": null,
       "padding": null,
       "right": null,
       "top": null,
       "visibility": null,
       "width": null
      }
     }
    },
    "version_major": 2,
    "version_minor": 0
   }
  }
 },
 "nbformat": 4,
 "nbformat_minor": 5
}