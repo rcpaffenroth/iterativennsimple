{
 "cells": [
  {
   "cell_type": "markdown",
   "id": "16ab8e30",
   "metadata": {},
   "source": [
    "# Training Spectra Analysis: Sequential2D Weight Matrices\n",
    "\n",
    "This notebook analyzes the singular value spectra of weight matrices during training for two Sequential2D architectures:\n",
    "\n",
    "1. **Diagonal Architecture**: A simple sequential chain where data flows through blocks along the diagonal\n",
    "2. **Full Architecture**: A more complex architecture where data can flow through multiple parallel paths\n",
    "\n",
    "## Problem: Vector Length Prediction\n",
    "\n",
    "Given a random vector $\\mathbf{x}$, predict its L2 norm (length): $y = \\|\\mathbf{x}\\|_2$\n",
    "\n",
    "This simple regression problem allows us to focus on understanding how weight matrix spectra evolve during training.\n",
    "\n",
    "## Learning Objectives\n",
    "\n",
    "- Understand how singular values of weight matrices change during training\n",
    "- Compare spectral evolution in different Sequential2D architectures\n",
    "- Gain insights into the learning dynamics of 2D block architectures"
   ]
  },
  {
   "cell_type": "code",
   "execution_count": 1,
   "id": "a134c568",
   "metadata": {},
   "outputs": [
    {
     "name": "stdout",
     "output_type": "stream",
     "text": [
      "Using device: cuda\n"
     ]
    }
   ],
   "source": [
    "# Import required libraries\n",
    "import torch\n",
    "import torch.nn as nn\n",
    "import numpy as np\n",
    "import matplotlib.pyplot as plt\n",
    "from iterativennsimple.Sequential2D import Sequential2D\n",
    "from iterativennsimple.Sequential1D import Sequential1D\n",
    "from iterativennsimple.MaskedLinear import MaskedLinear\n",
    "\n",
    "# Set random seeds for reproducibility\n",
    "torch.manual_seed(42)\n",
    "np.random.seed(42)\n",
    "\n",
    "# Device configuration\n",
    "device = torch.device(\"cuda\" if torch.cuda.is_available() else \"cpu\")\n",
    "print(f\"Using device: {device}\")"
   ]
  },
  {
   "cell_type": "markdown",
   "id": "e15c8f83",
   "metadata": {},
   "source": [
    "## Data Generation\n",
    "\n",
    "Create synthetic data where the task is to predict the L2 norm of input vectors."
   ]
  },
  {
   "cell_type": "code",
   "execution_count": 2,
   "id": "5c4c8182",
   "metadata": {},
   "outputs": [
    {
     "name": "stdout",
     "output_type": "stream",
     "text": [
      "Training data shape: X=torch.Size([1000, 20]), y=torch.Size([1000, 1])\n",
      "Test data shape: X=torch.Size([200, 20]), y=torch.Size([200, 1])\n",
      "\n",
      "Sample input norm: 5.1300\n"
     ]
    }
   ],
   "source": [
    "def generate_data(n_samples, input_size):\n",
    "    \"\"\"\n",
    "    Generate random vectors and their L2 norms\n",
    "    \n",
    "    Args:\n",
    "        n_samples: Number of samples to generate\n",
    "        input_size: Dimensionality of input vectors\n",
    "        \n",
    "    Returns:\n",
    "        X: Input vectors of shape (n_samples, input_size)\n",
    "        y: L2 norms of shape (n_samples, 1)\n",
    "    \"\"\"\n",
    "    X = torch.randn(n_samples, input_size)\n",
    "    y = torch.norm(X, dim=1, keepdim=True)\n",
    "    return X, y\n",
    "\n",
    "# Generate training and test data\n",
    "n_train = 1000\n",
    "n_test = 200\n",
    "input_size = 20\n",
    "hidden_size = 15\n",
    "output_size = 1\n",
    "\n",
    "X_train, y_train = generate_data(n_train, input_size)\n",
    "X_test, y_test = generate_data(n_test, input_size)\n",
    "\n",
    "print(f\"Training data shape: X={X_train.shape}, y={y_train.shape}\")\n",
    "print(f\"Test data shape: X={X_test.shape}, y={y_test.shape}\")\n",
    "print(f\"\\nSample input norm: {y_train[0].item():.4f}\")"
   ]
  },
  {
   "cell_type": "markdown",
   "id": "86583ff6",
   "metadata": {},
   "source": [
    "## Model 1: Diagonal Sequential2D Architecture\n",
    "\n",
    "This architecture has a simple sequential structure where data flows through blocks along the diagonal:\n",
    "\n",
    "$$\n",
    "\\begin{bmatrix}\n",
    "\\text{None} & F_1 & \\text{None} & \\text{None} \\\\\n",
    "\\text{None} & \\text{None} & F_2 & \\text{None} \\\\\n",
    "\\text{None} & \\text{None} & \\text{None} & F_3 \\\\\n",
    "\\text{None} & \\text{None} & \\text{None} & \\text{None}\n",
    "\\end{bmatrix}\n",
    "$$\n",
    "\n",
    "Where:\n",
    "- $F_1$: Linear transformation from input to hidden space\n",
    "- $F_2$: ReLU + Linear transformation in hidden space  \n",
    "- $F_3$: ReLU + Linear transformation to output space"
   ]
  },
  {
   "cell_type": "code",
   "execution_count": 3,
   "id": "a0ba9a3c",
   "metadata": {},
   "outputs": [
    {
     "name": "stdout",
     "output_type": "stream",
     "text": [
      "Diagonal model parameters: 1651\n"
     ]
    }
   ],
   "source": [
    "def create_diagonal_model():\n",
    "    \"\"\"\n",
    "    Create a Sequential2D model with diagonal structure\n",
    "    \n",
    "    Returns:\n",
    "        model: Sequential2D model\n",
    "        blocks_list: List of (name, block) tuples for analysis\n",
    "    \"\"\"\n",
    "    # Create the three blocks\n",
    "    F1 = Sequential1D(\n",
    "        nn.Sequential(MaskedLinear(input_size, hidden_size)),\n",
    "        in_features=input_size, \n",
    "        out_features=hidden_size\n",
    "    )\n",
    "    \n",
    "    F2 = Sequential1D(\n",
    "        nn.Sequential(nn.ReLU(), MaskedLinear(hidden_size, hidden_size)),\n",
    "        in_features=hidden_size, \n",
    "        out_features=hidden_size\n",
    "    )\n",
    "    \n",
    "    F3 = Sequential1D(\n",
    "        nn.Sequential(nn.ReLU(), MaskedLinear(hidden_size, output_size)),\n",
    "        in_features=hidden_size, \n",
    "        out_features=output_size\n",
    "    )\n",
    "    \n",
    "    # Diagonal block structure\n",
    "    blocks = [\n",
    "        [None, F1, None, None],\n",
    "        [None, None, F2, None],\n",
    "        [None, None, None, F3],\n",
    "        [None, None, None, None]\n",
    "    ]\n",
    "    \n",
    "    # Dimensions at each step\n",
    "    in_features_list = [input_size, hidden_size, hidden_size, output_size]\n",
    "    out_features_list = [input_size, hidden_size, hidden_size, output_size]\n",
    "    \n",
    "    # Create model\n",
    "    model = Sequential2D(in_features_list, out_features_list, blocks)\n",
    "    \n",
    "    # Store block references for analysis\n",
    "    blocks_list = [\n",
    "        (\"F1\", F1),\n",
    "        (\"F2\", F2),\n",
    "        (\"F3\", F3)\n",
    "    ]\n",
    "    \n",
    "    return model, blocks_list\n",
    "\n",
    "diagonal_model, diagonal_blocks = create_diagonal_model()\n",
    "print(f\"Diagonal model parameters: {sum(p.numel() for p in diagonal_model.parameters())}\")"
   ]
  },
  {
   "cell_type": "markdown",
   "id": "28f5ecd7",
   "metadata": {},
   "source": [
    "## Model 2: Full Sequential2D Architecture\n",
    "\n",
    "This architecture allows data to flow through multiple parallel paths:\n",
    "\n",
    "$$\n",
    "\\begin{bmatrix}\n",
    "\\text{None} & G_{01} & G_{02} & G_{03} \\\\\n",
    "\\text{None} & G_{11} & G_{12} & G_{13} \\\\\n",
    "\\text{None} & G_{21} & G_{22} & G_{23} \\\\\n",
    "\\text{None} & G_{31} & G_{32} & G_{33}\n",
    "\\end{bmatrix}\n",
    "$$\n",
    "\n",
    "Each $G_{ij}$ is a linear transformation, creating a richer connectivity pattern."
   ]
  },
  {
   "cell_type": "code",
   "execution_count": 4,
   "id": "25f61e28",
   "metadata": {},
   "outputs": [
    {
     "name": "stdout",
     "output_type": "stream",
     "text": [
      "Full model parameters: 2673\n"
     ]
    }
   ],
   "source": [
    "def create_full_model():\n",
    "    \"\"\"\n",
    "    Create a Sequential2D model with full structure (all non-None blocks in upper triangle)\n",
    "    \n",
    "    Returns:\n",
    "        model: Sequential2D model\n",
    "        blocks_dict: Dictionary of (name, block) for analysis\n",
    "    \"\"\"\n",
    "    # Create all blocks - varying sizes to match architecture\n",
    "    blocks_dict = {}\n",
    "    G_blocks = [[None, None, None, None] for _ in range(4)]\n",
    "    \n",
    "    # Define dimensions for each layer\n",
    "    # Layer 0: input_size, Layer 1-2: hidden_size, Layer 3: output_size\n",
    "    layer_dims = [input_size, hidden_size, hidden_size, output_size]\n",
    "    \n",
    "    for i in range(4):\n",
    "        for j in range(i+1, 4):\n",
    "            name = f\"G{i}{j}\"\n",
    "            block = Sequential1D(\n",
    "                nn.Sequential(MaskedLinear(layer_dims[i], layer_dims[j])),\n",
    "                in_features=layer_dims[i],\n",
    "                out_features=layer_dims[j]\n",
    "            )\n",
    "            G_blocks[i][j] = block\n",
    "            blocks_dict[name] = block\n",
    "    \n",
    "    # Dimensions at each step - properly sized to match layer transitions\n",
    "    in_features_list = [input_size, hidden_size, hidden_size, output_size]\n",
    "    out_features_list = [input_size, hidden_size, hidden_size, output_size]\n",
    "    \n",
    "    # Create model\n",
    "    model = Sequential2D(in_features_list, out_features_list, G_blocks)\n",
    "    \n",
    "    # Wrap with forward function that handles iteration\n",
    "    class FullModel(nn.Module):\n",
    "        def __init__(self, seq2d):\n",
    "            super().__init__()\n",
    "            self.seq2d = seq2d\n",
    "            \n",
    "        def forward(self, x):\n",
    "            # Initialize state\n",
    "            state = [x, None, None, None]\n",
    "            # Iterate 3 times\n",
    "            for _ in range(3):\n",
    "                state = self.seq2d(state)\n",
    "            # Return final state\n",
    "            return state[3]\n",
    "    \n",
    "    wrapped_model = FullModel(model)\n",
    "    \n",
    "    return wrapped_model, blocks_dict\n",
    "\n",
    "full_model, full_blocks = create_full_model()\n",
    "print(f\"Full model parameters: {sum(p.numel() for p in full_model.parameters())}\")"
   ]
  },
  {
   "cell_type": "markdown",
   "id": "c7513729",
   "metadata": {},
   "source": [
    "## Singular Value Extraction Function\n",
    "\n",
    "Extract singular values from MaskedLinear weight matrices within each block."
   ]
  },
  {
   "cell_type": "code",
   "execution_count": 5,
   "id": "bd904de4",
   "metadata": {},
   "outputs": [],
   "source": [
    "def get_singular_values(block):\n",
    "    \"\"\"\n",
    "    Extract singular values from the MaskedLinear layer in a Sequential1D block\n",
    "    \n",
    "    Args:\n",
    "        block: Sequential1D containing layers\n",
    "        \n",
    "    Returns:\n",
    "        Singular values as numpy array, or None if no MaskedLinear found\n",
    "    \"\"\"\n",
    "    # Iterate through the sequential block to find MaskedLinear\n",
    "    for module in block:\n",
    "        if isinstance(module, MaskedLinear):\n",
    "            # Get the weight matrix\n",
    "            weight = module.weight.data.cpu().numpy()\n",
    "            # Compute SVD\n",
    "            _, s, _ = np.linalg.svd(weight, full_matrices=False)\n",
    "            return s\n",
    "    return None\n",
    "\n",
    "# Test extraction on diagonal model\n",
    "test_sv = get_singular_values(diagonal_blocks[0][1])\n",
    "if test_sv is not None:\n",
    "    print(f\"Successfully extracted {len(test_sv)} singular values from F1\")\n",
    "    print(f\"Top 5 singular values: {test_sv[:5]}\")"
   ]
  },
  {
   "cell_type": "markdown",
   "id": "08c9fb96",
   "metadata": {},
   "source": [
    "## Training Function with Spectral Tracking\n",
    "\n",
    "Train models while recording singular value spectra at regular intervals."
   ]
  },
  {
   "cell_type": "code",
   "execution_count": 6,
   "id": "a7f7710f",
   "metadata": {},
   "outputs": [],
   "source": [
    "def train_with_spectral_tracking(model, blocks_info, X_train, y_train, X_test, y_test, \n",
    "                                  n_epochs=500, lr=0.01, record_interval=50, n_iterations=3):\n",
    "    \"\"\"\n",
    "    Train model and track singular value spectra\n",
    "    \n",
    "    Args:\n",
    "        model: The model to train\n",
    "        blocks_info: List or dict of (name, block) for spectral analysis\n",
    "        X_train, y_train: Training data\n",
    "        X_test, y_test: Test data\n",
    "        n_epochs: Number of training epochs\n",
    "        lr: Learning rate\n",
    "        record_interval: Record spectra every N epochs\n",
    "        n_iterations: Number of iterations for Sequential2D forward pass\n",
    "        \n",
    "    Returns:\n",
    "        train_losses: Training loss history\n",
    "        test_losses: Test loss history\n",
    "        spectra_history: Dictionary mapping block names to list of spectra over time\n",
    "        epochs_recorded: List of epochs when spectra were recorded\n",
    "    \"\"\"\n",
    "    optimizer = torch.optim.Adam(model.parameters(), lr=lr)\n",
    "    criterion = nn.MSELoss()\n",
    "    \n",
    "    train_losses = []\n",
    "    test_losses = []\n",
    "    spectra_history = {}\n",
    "    epochs_recorded = []\n",
    "    \n",
    "    # Initialize spectra history for each block\n",
    "    if isinstance(blocks_info, dict):\n",
    "        block_items = blocks_info.items()\n",
    "    else:\n",
    "        block_items = blocks_info\n",
    "        \n",
    "    for name, _ in block_items:\n",
    "        spectra_history[name] = []\n",
    "    \n",
    "    print(f\"Training for {n_epochs} epochs...\")\n",
    "    \n",
    "    for epoch in range(n_epochs):\n",
    "        # Training\n",
    "        model.train()\n",
    "        optimizer.zero_grad()\n",
    "        \n",
    "        # Forward pass depends on model type\n",
    "        if hasattr(model, 'seq2d'):\n",
    "            # Full model with Sequential2D wrapper\n",
    "            output = model(X_train)\n",
    "        else:\n",
    "            # Direct Sequential2D model\n",
    "            state = [X_train, None, None, None]\n",
    "            for _ in range(n_iterations):\n",
    "                state = model(state)\n",
    "            output = state[3]\n",
    "        \n",
    "        loss = criterion(output, y_train)\n",
    "        loss.backward()\n",
    "        optimizer.step()\n",
    "        \n",
    "        train_losses.append(loss.item())\n",
    "        \n",
    "        # Evaluation\n",
    "        model.eval()\n",
    "        with torch.no_grad():\n",
    "            if hasattr(model, 'seq2d'):\n",
    "                test_output = model(X_test)\n",
    "            else:\n",
    "                state = [X_test, None, None, None]\n",
    "                for _ in range(n_iterations):\n",
    "                    state = model(state)\n",
    "                test_output = state[3]\n",
    "            \n",
    "            test_loss = criterion(test_output, y_test)\n",
    "            test_losses.append(test_loss.item())\n",
    "        \n",
    "        # Record spectra at intervals\n",
    "        if epoch % record_interval == 0:\n",
    "            epochs_recorded.append(epoch)\n",
    "            for name, block in block_items:\n",
    "                sv = get_singular_values(block)\n",
    "                if sv is not None:\n",
    "                    spectra_history[name].append(sv)\n",
    "            \n",
    "            if epoch % (record_interval * 2) == 0:\n",
    "                print(f\"Epoch {epoch}/{n_epochs} - Train Loss: {loss.item():.4f}, Test Loss: {test_loss.item():.4f}\")\n",
    "    \n",
    "    print(f\"Final - Train Loss: {train_losses[-1]:.4f}, Test Loss: {test_losses[-1]:.4f}\")\n",
    "    \n",
    "    return train_losses, test_losses, spectra_history, epochs_recorded"
   ]
  },
  {
   "cell_type": "markdown",
   "id": "825b8296",
   "metadata": {},
   "source": [
    "## Train Diagonal Model"
   ]
  },
  {
   "cell_type": "code",
   "execution_count": 7,
   "id": "aff47834",
   "metadata": {},
   "outputs": [
    {
     "name": "stdout",
     "output_type": "stream",
     "text": [
      "============================================================\n",
      "Training Diagonal Model\n",
      "============================================================\n",
      "Training for 500 epochs...\n",
      "Epoch 0/500 - Train Loss: 16.2714, Test Loss: 15.6317\n",
      "Epoch 100/500 - Train Loss: 0.1428, Test Loss: 0.2361\n",
      "Training for 500 epochs...\n",
      "Epoch 0/500 - Train Loss: 16.2714, Test Loss: 15.6317\n",
      "Epoch 100/500 - Train Loss: 0.1428, Test Loss: 0.2361\n",
      "Epoch 200/500 - Train Loss: 0.0951, Test Loss: 0.2064\n",
      "Epoch 300/500 - Train Loss: 0.0811, Test Loss: 0.1986\n",
      "Epoch 200/500 - Train Loss: 0.0951, Test Loss: 0.2064\n",
      "Epoch 300/500 - Train Loss: 0.0811, Test Loss: 0.1986\n",
      "Epoch 400/500 - Train Loss: 0.0723, Test Loss: 0.1894\n",
      "Final - Train Loss: 0.0668, Test Loss: 0.1791\n",
      "Epoch 400/500 - Train Loss: 0.0723, Test Loss: 0.1894\n",
      "Final - Train Loss: 0.0668, Test Loss: 0.1791\n"
     ]
    }
   ],
   "source": [
    "print(\"=\"*60)\n",
    "print(\"Training Diagonal Model\")\n",
    "print(\"=\"*60)\n",
    "\n",
    "diag_train_loss, diag_test_loss, diag_spectra, diag_epochs = train_with_spectral_tracking(\n",
    "    diagonal_model, diagonal_blocks, X_train, y_train, X_test, y_test,\n",
    "    n_epochs=500, lr=0.01, record_interval=50\n",
    ")"
   ]
  },
  {
   "cell_type": "markdown",
   "id": "7b40181b",
   "metadata": {},
   "source": [
    "## Train Full Model"
   ]
  },
  {
   "cell_type": "code",
   "execution_count": 8,
   "id": "d8bdbac7",
   "metadata": {},
   "outputs": [
    {
     "name": "stdout",
     "output_type": "stream",
     "text": [
      "============================================================\n",
      "Training Full Model\n",
      "============================================================\n",
      "Training for 500 epochs...\n",
      "Epoch 0/500 - Train Loss: 20.9266, Test Loss: 20.5329\n",
      "Epoch 100/500 - Train Loss: 0.4612, Test Loss: 0.4769\n",
      "Epoch 100/500 - Train Loss: 0.4612, Test Loss: 0.4769\n",
      "Epoch 200/500 - Train Loss: 0.4611, Test Loss: 0.4773\n",
      "Epoch 200/500 - Train Loss: 0.4611, Test Loss: 0.4773\n",
      "Epoch 300/500 - Train Loss: 0.4611, Test Loss: 0.4779\n",
      "Epoch 300/500 - Train Loss: 0.4611, Test Loss: 0.4779\n",
      "Epoch 400/500 - Train Loss: 0.4613, Test Loss: 0.4766\n",
      "Epoch 400/500 - Train Loss: 0.4613, Test Loss: 0.4766\n",
      "Final - Train Loss: 0.4611, Test Loss: 0.4772\n",
      "Final - Train Loss: 0.4611, Test Loss: 0.4772\n"
     ]
    }
   ],
   "source": [
    "print(\"=\"*60)\n",
    "print(\"Training Full Model\")\n",
    "print(\"=\"*60)\n",
    "\n",
    "full_train_loss, full_test_loss, full_spectra, full_epochs = train_with_spectral_tracking(\n",
    "    full_model, full_blocks, X_train, y_train, X_test, y_test,\n",
    "    n_epochs=500, lr=0.01, record_interval=50\n",
    ")"
   ]
  },
  {
   "cell_type": "markdown",
   "id": "5a3baa40",
   "metadata": {},
   "source": [
    "## Visualization: Training Loss Curves"
   ]
  },
  {
   "cell_type": "code",
   "execution_count": 9,
   "id": "c9d6ade9",
   "metadata": {},
   "outputs": [
    {
     "data": {
      "image/png": "[encoded data removed]",
      "text/plain": [
       "<Figure size 1400x400 with 2 Axes>"
      ]
     },
     "metadata": {},
     "output_type": "display_data"
    }
   ],
   "source": [
    "fig, axes = plt.subplots(1, 2, figsize=(14, 4))\n",
    "\n",
    "# Diagonal model loss\n",
    "axes[0].plot(diag_train_loss, label='Train', alpha=0.7)\n",
    "axes[0].plot(diag_test_loss, label='Test', alpha=0.7)\n",
    "axes[0].set_xlabel('Epoch')\n",
    "axes[0].set_ylabel('Loss (MSE)')\n",
    "axes[0].set_title('Diagonal Model: Training Progress')\n",
    "axes[0].legend()\n",
    "axes[0].grid(True, alpha=0.3)\n",
    "axes[0].set_yscale('log')\n",
    "\n",
    "# Full model loss\n",
    "axes[1].plot(full_train_loss, label='Train', alpha=0.7)\n",
    "axes[1].plot(full_test_loss, label='Test', alpha=0.7)\n",
    "axes[1].set_xlabel('Epoch')\n",
    "axes[1].set_ylabel('Loss (MSE)')\n",
    "axes[1].set_title('Full Model: Training Progress')\n",
    "axes[1].legend()\n",
    "axes[1].grid(True, alpha=0.3)\n",
    "axes[1].set_yscale('log')\n",
    "\n",
    "plt.tight_layout()\n",
    "plt.show()"
   ]
  },
  {
   "cell_type": "markdown",
   "id": "06d15316",
   "metadata": {},
   "source": [
    "## Visualization: Singular Value Spectra Evolution - Diagonal Model\n",
    "\n",
    "Plot how singular values of each weight matrix evolve during training for the diagonal architecture."
   ]
  },
  {
   "cell_type": "code",
   "execution_count": 10,
   "id": "63833264",
   "metadata": {},
   "outputs": [
    {
     "name": "stdout",
     "output_type": "stream",
     "text": [
      "No spectra data to plot for Diagonal Model\n"
     ]
    }
   ],
   "source": [
    "def plot_spectra_evolution(spectra_history, epochs_recorded, title_prefix):\n",
    "    \"\"\"\n",
    "    Plot singular value spectra evolution over training\n",
    "    \n",
    "    Args:\n",
    "        spectra_history: Dict mapping block names to list of spectra\n",
    "        epochs_recorded: List of epochs when spectra were recorded\n",
    "        title_prefix: Prefix for plot titles\n",
    "    \"\"\"\n",
    "    # Filter out empty spectra\n",
    "    filtered_history = {name: spectra for name, spectra in spectra_history.items() \n",
    "                       if len(spectra) > 0}\n",
    "    \n",
    "    if len(filtered_history) == 0:\n",
    "        print(f\"No spectra data to plot for {title_prefix}\")\n",
    "        return\n",
    "    \n",
    "    n_blocks = len(filtered_history)\n",
    "    fig, axes = plt.subplots(1, n_blocks, figsize=(5*n_blocks, 4))\n",
    "    \n",
    "    # Always convert to list for consistent indexing\n",
    "    if n_blocks == 1:\n",
    "        axes = [axes]\n",
    "    else:\n",
    "        axes = list(axes)\n",
    "    \n",
    "    for idx, (name, spectra_list) in enumerate(filtered_history.items()):\n",
    "        ax = axes[idx]\n",
    "        \n",
    "        # Plot spectra at different epochs with colormap\n",
    "        n_snapshots = len(spectra_list)\n",
    "        colors = plt.cm.viridis(np.linspace(0, 1, n_snapshots))\n",
    "        \n",
    "        for i, (spectrum, epoch) in enumerate(zip(spectra_list, epochs_recorded)):\n",
    "            ax.plot(spectrum, color=colors[i], alpha=0.7, linewidth=1.5)\n",
    "        \n",
    "        ax.set_xlabel('Singular Value Index')\n",
    "        ax.set_ylabel('Singular Value')\n",
    "        ax.set_title(f'{title_prefix} - {name}')\n",
    "        ax.grid(True, alpha=0.3)\n",
    "        ax.set_yscale('log')\n",
    "        \n",
    "        # Add colorbar to show epoch progression\n",
    "        sm = plt.cm.ScalarMappable(cmap=plt.cm.viridis, \n",
    "                                   norm=plt.Normalize(vmin=epochs_recorded[0], \n",
    "                                                     vmax=epochs_recorded[-1]))\n",
    "        sm.set_array([])\n",
    "        cbar = plt.colorbar(sm, ax=ax)\n",
    "        cbar.set_label('Epoch')\n",
    "    \n",
    "    plt.tight_layout()\n",
    "    plt.show()\n",
    "\n",
    "# Plot diagonal model spectra\n",
    "plot_spectra_evolution(diag_spectra, diag_epochs, \"Diagonal Model\")"
   ]
  },
  {
   "cell_type": "markdown",
   "id": "107ad02c",
   "metadata": {},
   "source": [
    "## Visualization: Singular Value Spectra Evolution - Full Model\n",
    "\n",
    "Plot spectra for selected blocks from the full architecture (plotting all blocks would be too cluttered)."
   ]
  },
  {
   "cell_type": "code",
   "execution_count": 11,
   "id": "43f1c36e",
   "metadata": {},
   "outputs": [
    {
     "name": "stdout",
     "output_type": "stream",
     "text": [
      "Available blocks: ['G01', 'G02', 'G03', 'G12', 'G13', 'G23']\n",
      "Selected blocks for visualization: ['G01', 'G12', 'G23']\n",
      "No spectra data to plot for Full Model (Selected Blocks)\n"
     ]
    }
   ],
   "source": [
    "# Select a subset of blocks to visualize from full model\n",
    "# First, see what blocks we actually have\n",
    "print(f\"Available blocks: {list(full_spectra.keys())}\")\n",
    "\n",
    "# Select blocks that actually exist\n",
    "desired_blocks = ['G01', 'G12', 'G23']\n",
    "selected_blocks = [b for b in desired_blocks if b in full_spectra]\n",
    "selected_spectra = {k: v for k, v in full_spectra.items() if k in selected_blocks}\n",
    "\n",
    "print(f\"Selected blocks for visualization: {selected_blocks}\")\n",
    "plot_spectra_evolution(selected_spectra, full_epochs, \"Full Model (Selected Blocks)\")"
   ]
  },
  {
   "cell_type": "markdown",
   "id": "db0ca35d",
   "metadata": {},
   "source": [
    "## Visualization: Heatmap of Singular Value Decay\n",
    "\n",
    "Show how singular values decay across indices for each block at the final epoch."
   ]
  },
  {
   "cell_type": "code",
   "execution_count": 12,
   "id": "801b1be6",
   "metadata": {},
   "outputs": [
    {
     "data": {
      "image/png": "[encoded data removed]",
      "text/plain": [
       "<Figure size 1400x500 with 2 Axes>"
      ]
     },
     "metadata": {},
     "output_type": "display_data"
    }
   ],
   "source": [
    "def plot_final_spectra_comparison(diag_spectra, full_spectra, selected_full_blocks):\n",
    "    \"\"\"\n",
    "    Compare final singular value spectra between models\n",
    "    \n",
    "    Args:\n",
    "        diag_spectra: Spectra history for diagonal model\n",
    "        full_spectra: Spectra history for full model  \n",
    "        selected_full_blocks: List of block names to show from full model\n",
    "    \"\"\"\n",
    "    fig, axes = plt.subplots(1, 2, figsize=(14, 5))\n",
    "    \n",
    "    # Diagonal model - final spectra\n",
    "    ax = axes[0]\n",
    "    diag_plotted = False\n",
    "    for name, spectra_list in diag_spectra.items():\n",
    "        if len(spectra_list) > 0:\n",
    "            final_spectrum = spectra_list[-1]\n",
    "            ax.plot(final_spectrum, marker='o', label=name, linewidth=2, markersize=4)\n",
    "            diag_plotted = True\n",
    "    \n",
    "    if diag_plotted:\n",
    "        ax.set_xlabel('Singular Value Index')\n",
    "        ax.set_ylabel('Singular Value')\n",
    "        ax.set_title('Diagonal Model - Final Spectra')\n",
    "        ax.legend()\n",
    "        ax.grid(True, alpha=0.3)\n",
    "        ax.set_yscale('log')\n",
    "    else:\n",
    "        ax.text(0.5, 0.5, 'No data', ha='center', va='center', transform=ax.transAxes)\n",
    "    \n",
    "    # Full model - final spectra for selected blocks\n",
    "    ax = axes[1]\n",
    "    full_plotted = False\n",
    "    for name in selected_full_blocks:\n",
    "        if name in full_spectra and len(full_spectra[name]) > 0:\n",
    "            final_spectrum = full_spectra[name][-1]\n",
    "            ax.plot(final_spectrum, marker='o', label=name, linewidth=2, markersize=4)\n",
    "            full_plotted = True\n",
    "    \n",
    "    if full_plotted:\n",
    "        ax.set_xlabel('Singular Value Index')\n",
    "        ax.set_ylabel('Singular Value')\n",
    "        ax.set_title('Full Model - Final Spectra (Selected Blocks)')\n",
    "        ax.legend()\n",
    "        ax.grid(True, alpha=0.3)\n",
    "        ax.set_yscale('log')\n",
    "    else:\n",
    "        ax.text(0.5, 0.5, 'No data', ha='center', va='center', transform=ax.transAxes)\n",
    "    \n",
    "    plt.tight_layout()\n",
    "    plt.show()\n",
    "\n",
    "plot_final_spectra_comparison(diag_spectra, full_spectra, selected_blocks)"
   ]
  },
  {
   "cell_type": "markdown",
   "id": "f33db9c8",
   "metadata": {},
   "source": [
    "## Analysis: Spectral Properties Over Time\n",
    "\n",
    "Track key spectral properties: condition number, effective rank, and spectral decay rate."
   ]
  },
  {
   "cell_type": "code",
   "execution_count": 13,
   "id": "c5fdd41b",
   "metadata": {},
   "outputs": [],
   "source": [
    "def compute_spectral_metrics(spectra_history):\n",
    "    \"\"\"\n",
    "    Compute spectral metrics over training\n",
    "    \n",
    "    Args:\n",
    "        spectra_history: Dict mapping block names to list of spectra\n",
    "        \n",
    "    Returns:\n",
    "        metrics: Dict mapping block names to dict of metric lists\n",
    "    \"\"\"\n",
    "    metrics = {}\n",
    "    \n",
    "    for name, spectra_list in spectra_history.items():\n",
    "        if len(spectra_list) == 0:\n",
    "            continue\n",
    "            \n",
    "        condition_numbers = []\n",
    "        effective_ranks = []\n",
    "        spectral_gaps = []\n",
    "        \n",
    "        for spectrum in spectra_list:\n",
    "            # Condition number: ratio of largest to smallest singular value\n",
    "            if spectrum[-1] > 1e-10:  # Avoid division by zero\n",
    "                condition_numbers.append(spectrum[0] / spectrum[-1])\n",
    "            else:\n",
    "                condition_numbers.append(np.inf)\n",
    "            \n",
    "            # Effective rank: number of singular values > threshold\n",
    "            threshold = 0.01 * spectrum[0]\n",
    "            effective_ranks.append(np.sum(spectrum > threshold))\n",
    "            \n",
    "            # Spectral gap: ratio of first to second singular value\n",
    "            if len(spectrum) > 1:\n",
    "                spectral_gaps.append(spectrum[0] / spectrum[1])\n",
    "            else:\n",
    "                spectral_gaps.append(1.0)\n",
    "        \n",
    "        metrics[name] = {\n",
    "            'condition_number': condition_numbers,\n",
    "            'effective_rank': effective_ranks,\n",
    "            'spectral_gap': spectral_gaps\n",
    "        }\n",
    "    \n",
    "    return metrics\n",
    "\n",
    "# Compute metrics\n",
    "diag_metrics = compute_spectral_metrics(diag_spectra)\n",
    "full_metrics = compute_spectral_metrics({k: v for k, v in full_spectra.items() if k in selected_blocks})"
   ]
  },
  {
   "cell_type": "code",
   "execution_count": 14,
   "id": "a7c876b6",
   "metadata": {},
   "outputs": [
    {
     "name": "stderr",
     "output_type": "stream",
     "text": [
      "/tmp/ipykernel_154866/1442362126.py:23: UserWarning: No artists with labels found to put in legend.  Note that artists whose label start with an underscore are ignored when legend() is called with no argument.\n",
      "  axes[0].legend()\n",
      "/tmp/ipykernel_154866/1442362126.py:30: UserWarning: No artists with labels found to put in legend.  Note that artists whose label start with an underscore are ignored when legend() is called with no argument.\n",
      "  axes[1].legend()\n",
      "/tmp/ipykernel_154866/1442362126.py:36: UserWarning: No artists with labels found to put in legend.  Note that artists whose label start with an underscore are ignored when legend() is called with no argument.\n",
      "  axes[2].legend()\n"
     ]
    },
    {
     "data": {
      "image/png": "[encoded data removed]",
      "text/plain": [
       "<Figure size 1500x400 with 3 Axes>"
      ]
     },
     "metadata": {},
     "output_type": "display_data"
    },
    {
     "data": {
      "image/png": "[encoded data removed]",
      "text/plain": [
       "<Figure size 1500x400 with 3 Axes>"
      ]
     },
     "metadata": {},
     "output_type": "display_data"
    }
   ],
   "source": [
    "def plot_spectral_metrics(metrics, epochs_recorded, title_prefix):\n",
    "    \"\"\"\n",
    "    Plot spectral metrics over training\n",
    "    \n",
    "    Args:\n",
    "        metrics: Dict of metrics from compute_spectral_metrics\n",
    "        epochs_recorded: List of epochs\n",
    "        title_prefix: Prefix for titles\n",
    "    \"\"\"\n",
    "    fig, axes = plt.subplots(1, 3, figsize=(15, 4))\n",
    "    \n",
    "    for name, metric_dict in metrics.items():\n",
    "        axes[0].plot(epochs_recorded, metric_dict['condition_number'], \n",
    "                    marker='o', label=name, linewidth=2, markersize=4)\n",
    "        axes[1].plot(epochs_recorded, metric_dict['effective_rank'], \n",
    "                    marker='o', label=name, linewidth=2, markersize=4)\n",
    "        axes[2].plot(epochs_recorded, metric_dict['spectral_gap'], \n",
    "                    marker='o', label=name, linewidth=2, markersize=4)\n",
    "    \n",
    "    axes[0].set_xlabel('Epoch')\n",
    "    axes[0].set_ylabel('Condition Number')\n",
    "    axes[0].set_title(f'{title_prefix} - Condition Number')\n",
    "    axes[0].legend()\n",
    "    axes[0].grid(True, alpha=0.3)\n",
    "    axes[0].set_yscale('log')\n",
    "    \n",
    "    axes[1].set_xlabel('Epoch')\n",
    "    axes[1].set_ylabel('Effective Rank')\n",
    "    axes[1].set_title(f'{title_prefix} - Effective Rank')\n",
    "    axes[1].legend()\n",
    "    axes[1].grid(True, alpha=0.3)\n",
    "    \n",
    "    axes[2].set_xlabel('Epoch')\n",
    "    axes[2].set_ylabel('Spectral Gap')\n",
    "    axes[2].set_title(f'{title_prefix} - Spectral Gap')\n",
    "    axes[2].legend()\n",
    "    axes[2].grid(True, alpha=0.3)\n",
    "    \n",
    "    plt.tight_layout()\n",
    "    plt.show()\n",
    "\n",
    "# Plot metrics for both models\n",
    "plot_spectral_metrics(diag_metrics, diag_epochs, \"Diagonal Model\")\n",
    "plot_spectral_metrics(full_metrics, full_epochs, \"Full Model (Selected Blocks)\")"
   ]
  },
  {
   "cell_type": "markdown",
   "id": "2f22a856",
   "metadata": {},
   "source": [
    "## Summary and Observations\n",
    "\n",
    "### Key Questions to Explore:\n",
    "\n",
    "1. **Spectral Decay**: How do singular values decay during training? Do they follow a power law?\n",
    "\n",
    "2. **Conditioning**: Does the condition number increase or decrease during training? What does this tell us about the stability of the learned transformation?\n",
    "\n",
    "3. **Effective Rank**: Does the effective rank change during training? This indicates whether the transformation is learning to use all available dimensions.\n",
    "\n",
    "4. **Architecture Differences**: How do the spectral properties differ between the diagonal (sequential) and full (parallel paths) architectures?\n",
    "\n",
    "5. **Learning Dynamics**: Do singular values change rapidly early in training and then stabilize? Or do they continue to evolve throughout training?\n",
    "\n",
    "### Directions for Further Exploration:\n",
    "\n",
    "- Try different problem types (classification vs regression)\n",
    "- Vary the hidden layer size relative to input size\n",
    "- Use different activation functions\n",
    "- Compare with standard Sequential models (non-block structure)\n",
    "- Analyze the relationship between spectral properties and generalization performance"
   ]
  }
 ],
 "metadata": {
  "kernelspec": {
   "display_name": "iterativennsimple-py3.10",
   "language": "python",
   "name": "python3"
  },
  "language_info": {
   "codemirror_mode": {
    "name": "ipython",
    "version": 3
   },
   "file_extension": ".py",
   "mimetype": "text/x-python",
   "name": "python",
   "nbconvert_exporter": "python",
   "pygments_lexer": "ipython3",
   "version": "3.10.12"
  }
 },
 "nbformat": 4,
 "nbformat_minor": 5
}
