{
 "cells": [
  {
   "cell_type": "markdown",
   "metadata": {},
   "source": [
    "# Peformance comparison of different sparse data formats \n",
    "\n",
    "In this notebook we analyze the performance of various algorithms, including MLPs, dense dynamical systems, and various sorts of sparse dynamical systems."
   ]
  },
  {
   "cell_type": "code",
   "execution_count": 14,
   "metadata": {},
   "outputs": [],
   "source": [
    "import torch\n",
    "import warnings\n",
    "import time\n",
    "warnings.filterwarnings(\"ignore\")\n",
    "# TODO Add these imports and test MaskeLinear and SparseLinear\n",
    "from iterativennsimple.MaskedLinear import MaskedLinear\n",
    "from iterativennsimple.SparseLinear import SparseLinear\n",
    "\n",
    "import pandas as pd\n",
    "import plotly.express as px\n",
    "import numpy as np"
   ]
  },
  {
   "cell_type": "code",
   "execution_count": 2,
   "metadata": {},
   "outputs": [],
   "source": [
    "results = {}"
   ]
  },
  {
   "cell_type": "code",
   "execution_count": 3,
   "metadata": {},
   "outputs": [],
   "source": [
    "def generate(size, entries, device=\"cuda\"):\n",
    "    \"\"\"create a variety of sparse matrices \n",
    "\n",
    "    Args:\n",
    "        size (int, optional): Size of the square matrix. Defaults to 1000.\n",
    "        entries (int, optional): Total number of non-zero entries. Note this is an upper bound, but should be close to the actual size. Defaults to 23*1000.\n",
    "        device (str, optional): \"cuda\" or \"cpu\". Defaults to \"cuda\".\n",
    "\n",
    "    Returns:\n",
    "        dict: Dictionary of the sparse matrices\n",
    "    \"\"\" \n",
    "    output = {}\n",
    "    # We first create a COO tensor since that is easier to create\n",
    "    indices = torch.randint(0, size, (entries,2))\n",
    "    vals = torch.randn(entries)\n",
    "    coo = torch.sparse_coo_tensor(indices.t(), vals, (size, size), device=device)\n",
    "    coo = coo.coalesce()\n",
    "\n",
    "    # Then we convert it to CSC, CSR and dense\n",
    "    dense = coo.to_dense()\n",
    "    csc = coo.to_sparse_csc()\n",
    "    csr = coo.to_sparse_csr()\n",
    "    \n",
    "    # We also create the MaskedLinear and SparseLinear objects\n",
    "    class moduleWrapper(object):\n",
    "        def __init__(self, module, device=device):\n",
    "            self.module = module\n",
    "            self.device = device\n",
    "        def __matmul__(self, x):\n",
    "            return self.module(x.T).T\n",
    "        \n",
    "    maskedLinear = moduleWrapper(MaskedLinear.from_coo(coo).to(device), device)\n",
    "    sparseLinear = moduleWrapper(SparseLinear.from_coo(coo).to(device), device)\n",
    "\n",
    "    output[\"dense\"] = dense\n",
    "    output[\"coo\"] = coo\n",
    "    output[\"csc\"] = csc\n",
    "    output[\"csr\"] = csr\n",
    "    output[\"maskedLinear\"] = maskedLinear\n",
    "    output[\"sparseLinear\"] = sparseLinear\n",
    "    return output"
   ]
  },
  {
   "cell_type": "code",
   "execution_count": 4,
   "metadata": {},
   "outputs": [],
   "source": [
    "## check that all of the matrices are the same operator\n",
    "def matrix_check(size, entries, device):\n",
    "    # Generate the matrices\n",
    "    matrices = generate(size, entries, device=device)\n",
    "    # Size of the RHS\n",
    "    x_cols = 100\n",
    "    x = torch.randn(size, x_cols, device=device)\n",
    "\n",
    "    print('Matrix-matrix multiplication check')\n",
    "    y_true = None\n",
    "    base_name = None\n",
    "\n",
    "    for matrix, matrix_name in zip(matrices.values(), matrices.keys()):\n",
    "        y = matrix @ x\n",
    "        if y_true is None:\n",
    "            y_true = y\n",
    "            base_name = matrix_name\n",
    "        else:\n",
    "            # print the frobenius norm of the difference\n",
    "            print(f\"||{matrix_name} - {base_name}||_F: {torch.norm(y-y_true)}\")\n",
    "            "
   ]
  },
  {
   "cell_type": "code",
   "execution_count": 5,
   "metadata": {},
   "outputs": [
    {
     "name": "stdout",
     "output_type": "stream",
     "text": [
      "Matrix-matrix multiplication check\n",
      "||coo - dense||_F: 0.0001550955348648131\n",
      "||csc - dense||_F: 0.00016146268171723932\n",
      "||csr - dense||_F: 0.00016146268171723932\n",
      "||maskedLinear - dense||_F: 3.2562944397795945e-05\n",
      "||sparseLinear - dense||_F: 0.00016146268171723932\n"
     ]
    }
   ],
   "source": [
    "matrix_check(1000, 23*1000, \"cpu\")"
   ]
  },
  {
   "cell_type": "code",
   "execution_count": 6,
   "metadata": {},
   "outputs": [
    {
     "name": "stdout",
     "output_type": "stream",
     "text": [
      "Matrix-matrix multiplication check\n",
      "||coo - dense||_F: 0.00014411909796763211\n",
      "||csc - dense||_F: 0.00014411758456844836\n",
      "||csr - dense||_F: 0.0001441066706320271\n",
      "||maskedLinear - dense||_F: 0.0001318515423918143\n",
      "||sparseLinear - dense||_F: 0.00016621372196823359\n"
     ]
    }
   ],
   "source": [
    "matrix_check(1000, 23*1000, \"cuda\")"
   ]
  },
  {
   "cell_type": "code",
   "execution_count": 7,
   "metadata": {},
   "outputs": [],
   "source": [
    "def run_timing(size, entries, device, syncgpu):\n",
    "    # test if cuda is available\n",
    "    if device == \"cuda\":\n",
    "        if not torch.cuda.is_available():\n",
    "            print(\"CUDA is not available, using CPU instead\")\n",
    "            device = \"cpu\"\n",
    "\n",
    "    print(f\"Running on {device}\")\n",
    "    print(f\"Size: {size}\")\n",
    "    print(f\"Entries: {entries}\")\n",
    "    print(f\"Synchronize GPU: {syncgpu}\")\n",
    "    \n",
    "    # Generate the matrices\n",
    "    matrices = generate(size, entries, device=device)\n",
    "\n",
    "    # Size of the RHS\n",
    "    x_cols = 100\n",
    "\n",
    "    # Compute the timings\n",
    "    print('Matrix-matrix multiplication timings:')\n",
    "    base_time = None\n",
    "    base_name = None\n",
    "    all_times = {}\n",
    "    for matrix, matrix_name in zip(matrices.values(), matrices.keys()):\n",
    "        # first, do a few runs to warm up the cache\n",
    "        for i in range(2):\n",
    "            x = torch.randn(size, x_cols, device=device)\n",
    "            y = matrix @ x\n",
    "        # now do the timings\n",
    "        matrix_times = []\n",
    "        for i in range(5):\n",
    "            x = torch.randn(size, x_cols, device=device)    \n",
    "            if syncgpu:\n",
    "                torch.cuda.synchronize()\n",
    "            start = time.perf_counter()\n",
    "            y = matrix @ x\n",
    "            if syncgpu:\n",
    "                torch.cuda.synchronize()\n",
    "            matrix_time = time.perf_counter()-start\n",
    "            matrix_times.append(matrix_time)\n",
    "        avg_matrix_time = sum(matrix_times)/len(matrix_times)\n",
    "        min_matrix_time = min(matrix_times)\n",
    "        max_matrix_time = max(matrix_times)\n",
    "        if base_time is None:\n",
    "            base_time = avg_matrix_time\n",
    "            base_name = matrix_name\n",
    "\n",
    "        name = device+'_'+matrix_name\n",
    "        all_times[name] = avg_matrix_time\n",
    "\n",
    "        print(f\"{name} avg time:\", avg_matrix_time)\n",
    "        print(f\"{name} min time:\", min_matrix_time)\n",
    "        print(f\"{name} max time:\", max_matrix_time)\n",
    "        print(f\"{name} speedup over {base_name}:\", base_time/avg_matrix_time)\n",
    "\n",
    "\n",
    "    results.update(all_times)\n",
    "    return all_times"
   ]
  },
  {
   "cell_type": "code",
   "execution_count": 8,
   "metadata": {},
   "outputs": [
    {
     "name": "stdout",
     "output_type": "stream",
     "text": [
      "matrix size: 500\n",
      "Total number of entries: 250000\n",
      "Active entries: 250000\n",
      "Ratio of active entries to total entries: 1.0\n"
     ]
    }
   ],
   "source": [
    "matrix_size = 500\n",
    "matrix_entries = 500*matrix_size\n",
    "# matrix_size = 20000\n",
    "# matrix_entries = 100*matrix_size\n",
    "print(\"matrix size:\", matrix_size)\n",
    "print(\"Total number of entries:\", matrix_size**2)\n",
    "print(\"Active entries:\", matrix_entries)\n",
    "print(\"Ratio of active entries to total entries:\", matrix_entries/(matrix_size**2))\n"
   ]
  },
  {
   "cell_type": "code",
   "execution_count": 9,
   "metadata": {},
   "outputs": [
    {
     "name": "stdout",
     "output_type": "stream",
     "text": [
      "Running on cpu\n",
      "Size: 500\n",
      "Entries: 250000\n",
      "Synchronize GPU: True\n"
     ]
    },
    {
     "name": "stdout",
     "output_type": "stream",
     "text": [
      "Matrix-matrix multiplication timings:\n",
      "cpu_dense avg time: 0.00010764836333692074\n",
      "cpu_dense min time: 0.00010507798288017511\n",
      "cpu_dense max time: 0.0001143548870459199\n",
      "cpu_dense speedup over dense: 1.0\n",
      "cpu_coo avg time: 0.00488598442170769\n",
      "cpu_coo min time: 0.00484867300838232\n",
      "cpu_coo max time: 0.004929715069010854\n",
      "cpu_coo speedup over dense: 0.02203207256630933\n",
      "cpu_csc avg time: 0.0028228267794474958\n",
      "cpu_csc min time: 0.002752267988398671\n",
      "cpu_csc max time: 0.0029443189268931746\n",
      "cpu_csc speedup over dense: 0.038134951857722726\n",
      "cpu_csr avg time: 0.00020731783006340266\n",
      "cpu_csr min time: 0.00019508705008774996\n",
      "cpu_csr max time: 0.00021621608175337315\n",
      "cpu_csr speedup over dense: 0.5192431509822351\n",
      "cpu_maskedLinear avg time: 0.00022037478629499674\n",
      "cpu_maskedLinear min time: 0.00021616602316498756\n",
      "cpu_maskedLinear max time: 0.00022660696413367987\n",
      "cpu_maskedLinear speedup over dense: 0.4884785829937058\n",
      "cpu_sparseLinear avg time: 0.013665704196318984\n",
      "cpu_sparseLinear min time: 0.012904117000289261\n",
      "cpu_sparseLinear max time: 0.01422875898424536\n",
      "cpu_sparseLinear speedup over dense: 0.007877264266112028\n"
     ]
    }
   ],
   "source": [
    "all_times = run_timing(matrix_size, matrix_entries, \"cpu\", True)"
   ]
  },
  {
   "cell_type": "code",
   "execution_count": 10,
   "metadata": {},
   "outputs": [
    {
     "name": "stdout",
     "output_type": "stream",
     "text": [
      "Running on cuda\n",
      "Size: 500\n",
      "Entries: 250000\n",
      "Synchronize GPU: True\n",
      "Matrix-matrix multiplication timings:\n",
      "cuda_dense avg time: 2.335601020604372e-05\n",
      "cuda_dense min time: 2.184102777391672e-05\n",
      "cuda_dense max time: 2.6089022867381573e-05\n",
      "cuda_dense speedup over dense: 1.0\n",
      "cuda_coo avg time: 7.808499503880739e-05\n",
      "cuda_coo min time: 7.744599133729935e-05\n",
      "cuda_coo max time: 7.972004823386669e-05\n",
      "cuda_coo speedup over dense: 0.2991100939999553\n",
      "cuda_csc avg time: 0.0003505416214466095\n",
      "cuda_csc min time: 0.00034844502806663513\n",
      "cuda_csc max time: 0.00035221304278820753\n",
      "cuda_csc speedup over dense: 0.06662835103477446\n",
      "cuda_csr avg time: 3.975860308855772e-05\n",
      "cuda_csr min time: 3.7520076148211956e-05\n",
      "cuda_csr max time: 4.718801937997341e-05\n",
      "cuda_csr speedup over dense: 0.5874454430408657\n",
      "cuda_maskedLinear avg time: 7.570257876068353e-05\n",
      "cuda_maskedLinear min time: 7.266702596098185e-05\n",
      "cuda_maskedLinear max time: 8.298596367239952e-05\n",
      "cuda_maskedLinear speedup over dense: 0.3085233104129574\n",
      "cuda_sparseLinear avg time: 0.0003485518041998148\n",
      "cuda_sparseLinear min time: 0.00034485897049307823\n",
      "cuda_sparseLinear max time: 0.0003520520403981209\n",
      "cuda_sparseLinear speedup over dense: 0.06700871986493688\n"
     ]
    }
   ],
   "source": [
    "all_times = run_timing(matrix_size, matrix_entries, \"cuda\", True)"
   ]
  },
  {
   "cell_type": "code",
   "execution_count": 18,
   "metadata": {},
   "outputs": [
    {
     "data": {
      "application/vnd.plotly.v1+json": {
       "config": {
        "plotlyServerURL": "https://plot.ly"
       },
       "data": [
        {
         "coloraxis": "coloraxis",
         "hovertemplate": "x: %{x}<br>y: %{y}<br>color: %{z}<extra></extra>",
         "name": "0",
         "texttemplate": "%{z}",
         "type": "heatmap",
         "x": [
          "cpu_dense",
          "cpu_coo",
          "cpu_csc",
          "cpu_csr",
          "cpu_maskedLinear",
          "cpu_sparseLinear",
          "cuda_dense",
          "cuda_coo",
          "cuda_csc",
          "cuda_csr",
          "cuda_maskedLinear",
          "cuda_sparseLinear"
         ],
         "xaxis": "x",
         "y": [
          "cpu_dense",
          "cpu_coo",
          "cpu_csc",
          "cpu_csr",
          "cpu_maskedLinear",
          "cpu_sparseLinear",
          "cuda_dense",
          "cuda_coo",
          "cuda_csc",
          "cuda_csr",
          "cuda_maskedLinear",
          "cuda_sparseLinear"
         ],
         "yaxis": "y",
         "z": [
          [
           1,
           0.02203207256630933,
           0.038134951857722726,
           0.5192431509822351,
           0.4884785829937058,
           0.007877264266112028,
           4.609021934279901,
           1.378604984010317,
           0.30709153136417644,
           2.7075489321681245,
           1.4219907049299672,
           0.3088446596455114
          ],
          [
           45.388376285995214,
           1,
           1.7308835445666313,
           23.56760352070751,
           22.17124973256806,
           0.3575362346145167,
           209.19602186350164,
           62.57264176400868,
           13.93838597979974,
           122.89124974599136,
           64.54184919054894,
           14.017957625910594
          ],
          [
           26.222663233741294,
           0.5777396192476798,
           1,
           13.615938284633835,
           12.809209378739094,
           0.20656284805344,
           120.86083001954874,
           36.15069422805984,
           8.0527578088967,
           70.99914383712057,
           37.288383376888916,
           8.098729501423696
          ],
          [
           1.9258800007440313,
           0.042431127930396356,
           0.07344334111212464,
           1,
           0.9407511337793615,
           0.015170665710680766,
           8.876423166220233,
           2.6550277676315144,
           0.5914214386521258,
           5.214414339498449,
           2.738583459868531,
           0.5947977533478875
          ],
          [
           2.04717265979476,
           0.045103456596362626,
           0.07806883082571935,
           1.0629803824765143,
           1,
           0.01612612003956278,
           9.435463692252174,
           2.822242431922713,
           0.6286693870632469,
           5.542820148991081,
           2.9110604936149067,
           0.6322583433499089
          ],
          [
           126.94762625928362,
           2.7969193138652524,
           4.841141615849959,
           65.91668546858556,
           62.01119658954942,
           1,
           585.1043939338053,
           175.0106302693274,
           38.984540951010544,
           343.7169099196015,
           180.51834455362476,
           39.207096424854036
          ],
          [
           0.21696577153656718,
           0.004780205622898939,
           0.008273979252320658,
           0.11265799086793887,
           0.10598313263831845,
           0.001709096719094427,
           1,
           0.2991100939999553,
           0.06662835103477446,
           0.5874454430408657,
           0.3085233104129574,
           0.06700871986493688
          ],
          [
           0.7253709449758644,
           0.015981425297200615,
           0.02766198606564543,
           0.3766438951002293,
           0.35432817134661554,
           0.0057139386245342915,
           3.3432505958830983,
           1,
           0.22275527429971795,
           1.9639773274951848,
           1.031470741381946,
           0.2240269426178138
          ],
          [
           3.2563581143307765,
           0.07174431827682587,
           0.12418105992150892,
           1.6908416480116817,
           1.5906611974083535,
           0.025651193411681775,
           15.008625974820886,
           4.489231526138846,
           1,
           8.816748935213301,
           4.630510970501639,
           1.005708813504388
          ],
          [
           0.36933773869018494,
           0.008137275860298747,
           0.01408467688419038,
           0.191776091214145,
           0.18041357524148113,
           0.002909370971110816,
           1.702285738780401,
           0.5091708473413891,
           0.11342049176495092,
           1,
           0.5251948313972962,
           0.114067988200013
          ],
          [
           0.7032394772575182,
           0.01549382319443108,
           0.026818003609665554,
           0.3651522820662936,
           0.3435174233559869,
           0.005539603204719951,
           3.2412461757314333,
           0.9694894483000245,
           0.2159588879867542,
           1.9040552957070633,
           1,
           0.21719175700288557
          ],
          [
           3.237873697242456,
           0.07133706825819007,
           0.12347615756572776,
           1.6812437410386722,
           1.581631955541586,
           0.025505586773472037,
           14.92343089101844,
           4.463748816614362,
           0.9943235920499736,
           8.766701471464069,
           4.604226301215999,
           1
          ]
         ]
        }
       ],
       "layout": {
        "coloraxis": {
         "colorscale": [
          [
           0,
           "rgb(0,0,131)"
          ],
          [
           0.2,
           "rgb(0,60,170)"
          ],
          [
           0.4,
           "rgb(5,255,255)"
          ],
          [
           0.6,
           "rgb(255,255,0)"
          ],
          [
           0.8,
           "rgb(250,0,0)"
          ],
          [
           1,
           "rgb(128,0,0)"
          ]
         ]
        },
        "height": 900,
        "template": {
         "data": {
          "bar": [
           {
            "error_x": {
             "color": "#2a3f5f"
            },
            "error_y": {
             "color": "#2a3f5f"
            },
            "marker": {
             "line": {
              "color": "#E5ECF6",
              "width": 0.5
             },
             "pattern": {
              "fillmode": "overlay",
              "size": 10,
              "solidity": 0.2
             }
            },
            "type": "bar"
           }
          ],
          "barpolar": [
           {
            "marker": {
             "line": {
              "color": "#E5ECF6",
              "width": 0.5
             },
             "pattern": {
              "fillmode": "overlay",
              "size": 10,
              "solidity": 0.2
             }
            },
            "type": "barpolar"
           }
          ],
          "carpet": [
           {
            "aaxis": {
             "endlinecolor": "#2a3f5f",
             "gridcolor": "white",
             "linecolor": "white",
             "minorgridcolor": "white",
             "startlinecolor": "#2a3f5f"
            },
            "baxis": {
             "endlinecolor": "#2a3f5f",
             "gridcolor": "white",
             "linecolor": "white",
             "minorgridcolor": "white",
             "startlinecolor": "#2a3f5f"
            },
            "type": "carpet"
           }
          ],
          "choropleth": [
           {
            "colorbar": {
             "outlinewidth": 0,
             "ticks": ""
            },
            "type": "choropleth"
           }
          ],
          "contour": [
           {
            "colorbar": {
             "outlinewidth": 0,
             "ticks": ""
            },
            "colorscale": [
             [
              0,
              "#0d0887"
             ],
             [
              0.1111111111111111,
              "#46039f"
             ],
             [
              0.2222222222222222,
              "#7201a8"
             ],
             [
              0.3333333333333333,
              "#9c179e"
             ],
             [
              0.4444444444444444,
              "#bd3786"
             ],
             [
              0.5555555555555556,
              "#d8576b"
             ],
             [
              0.6666666666666666,
              "#ed7953"
             ],
             [
              0.7777777777777778,
              "#fb9f3a"
             ],
             [
              0.8888888888888888,
              "#fdca26"
             ],
             [
              1,
              "#f0f921"
             ]
            ],
            "type": "contour"
           }
          ],
          "contourcarpet": [
           {
            "colorbar": {
             "outlinewidth": 0,
             "ticks": ""
            },
            "type": "contourcarpet"
           }
          ],
          "heatmap": [
           {
            "colorbar": {
             "outlinewidth": 0,
             "ticks": ""
            },
            "colorscale": [
             [
              0,
              "#0d0887"
             ],
             [
              0.1111111111111111,
              "#46039f"
             ],
             [
              0.2222222222222222,
              "#7201a8"
             ],
             [
              0.3333333333333333,
              "#9c179e"
             ],
             [
              0.4444444444444444,
              "#bd3786"
             ],
             [
              0.5555555555555556,
              "#d8576b"
             ],
             [
              0.6666666666666666,
              "#ed7953"
             ],
             [
              0.7777777777777778,
              "#fb9f3a"
             ],
             [
              0.8888888888888888,
              "#fdca26"
             ],
             [
              1,
              "#f0f921"
             ]
            ],
            "type": "heatmap"
           }
          ],
          "heatmapgl": [
           {
            "colorbar": {
             "outlinewidth": 0,
             "ticks": ""
            },
            "colorscale": [
             [
              0,
              "#0d0887"
             ],
             [
              0.1111111111111111,
              "#46039f"
             ],
             [
              0.2222222222222222,
              "#7201a8"
             ],
             [
              0.3333333333333333,
              "#9c179e"
             ],
             [
              0.4444444444444444,
              "#bd3786"
             ],
             [
              0.5555555555555556,
              "#d8576b"
             ],
             [
              0.6666666666666666,
              "#ed7953"
             ],
             [
              0.7777777777777778,
              "#fb9f3a"
             ],
             [
              0.8888888888888888,
              "#fdca26"
             ],
             [
              1,
              "#f0f921"
             ]
            ],
            "type": "heatmapgl"
           }
          ],
          "histogram": [
           {
            "marker": {
             "pattern": {
              "fillmode": "overlay",
              "size": 10,
              "solidity": 0.2
             }
            },
            "type": "histogram"
           }
          ],
          "histogram2d": [
           {
            "colorbar": {
             "outlinewidth": 0,
             "ticks": ""
            },
            "colorscale": [
             [
              0,
              "#0d0887"
             ],
             [
              0.1111111111111111,
              "#46039f"
             ],
             [
              0.2222222222222222,
              "#7201a8"
             ],
             [
              0.3333333333333333,
              "#9c179e"
             ],
             [
              0.4444444444444444,
              "#bd3786"
             ],
             [
              0.5555555555555556,
              "#d8576b"
             ],
             [
              0.6666666666666666,
              "#ed7953"
             ],
             [
              0.7777777777777778,
              "#fb9f3a"
             ],
             [
              0.8888888888888888,
              "#fdca26"
             ],
             [
              1,
              "#f0f921"
             ]
            ],
            "type": "histogram2d"
           }
          ],
          "histogram2dcontour": [
           {
            "colorbar": {
             "outlinewidth": 0,
             "ticks": ""
            },
            "colorscale": [
             [
              0,
              "#0d0887"
             ],
             [
              0.1111111111111111,
              "#46039f"
             ],
             [
              0.2222222222222222,
              "#7201a8"
             ],
             [
              0.3333333333333333,
              "#9c179e"
             ],
             [
              0.4444444444444444,
              "#bd3786"
             ],
             [
              0.5555555555555556,
              "#d8576b"
             ],
             [
              0.6666666666666666,
              "#ed7953"
             ],
             [
              0.7777777777777778,
              "#fb9f3a"
             ],
             [
              0.8888888888888888,
              "#fdca26"
             ],
             [
              1,
              "#f0f921"
             ]
            ],
            "type": "histogram2dcontour"
           }
          ],
          "mesh3d": [
           {
            "colorbar": {
             "outlinewidth": 0,
             "ticks": ""
            },
            "type": "mesh3d"
           }
          ],
          "parcoords": [
           {
            "line": {
             "colorbar": {
              "outlinewidth": 0,
              "ticks": ""
             }
            },
            "type": "parcoords"
           }
          ],
          "pie": [
           {
            "automargin": true,
            "type": "pie"
           }
          ],
          "scatter": [
           {
            "fillpattern": {
             "fillmode": "overlay",
             "size": 10,
             "solidity": 0.2
            },
            "type": "scatter"
           }
          ],
          "scatter3d": [
           {
            "line": {
             "colorbar": {
              "outlinewidth": 0,
              "ticks": ""
             }
            },
            "marker": {
             "colorbar": {
              "outlinewidth": 0,
              "ticks": ""
             }
            },
            "type": "scatter3d"
           }
          ],
          "scattercarpet": [
           {
            "marker": {
             "colorbar": {
              "outlinewidth": 0,
              "ticks": ""
             }
            },
            "type": "scattercarpet"
           }
          ],
          "scattergeo": [
           {
            "marker": {
             "colorbar": {
              "outlinewidth": 0,
              "ticks": ""
             }
            },
            "type": "scattergeo"
           }
          ],
          "scattergl": [
           {
            "marker": {
             "colorbar": {
              "outlinewidth": 0,
              "ticks": ""
             }
            },
            "type": "scattergl"
           }
          ],
          "scattermapbox": [
           {
            "marker": {
             "colorbar": {
              "outlinewidth": 0,
              "ticks": ""
             }
            },
            "type": "scattermapbox"
           }
          ],
          "scatterpolar": [
           {
            "marker": {
             "colorbar": {
              "outlinewidth": 0,
              "ticks": ""
             }
            },
            "type": "scatterpolar"
           }
          ],
          "scatterpolargl": [
           {
            "marker": {
             "colorbar": {
              "outlinewidth": 0,
              "ticks": ""
             }
            },
            "type": "scatterpolargl"
           }
          ],
          "scatterternary": [
           {
            "marker": {
             "colorbar": {
              "outlinewidth": 0,
              "ticks": ""
             }
            },
            "type": "scatterternary"
           }
          ],
          "surface": [
           {
            "colorbar": {
             "outlinewidth": 0,
             "ticks": ""
            },
            "colorscale": [
             [
              0,
              "#0d0887"
             ],
             [
              0.1111111111111111,
              "#46039f"
             ],
             [
              0.2222222222222222,
              "#7201a8"
             ],
             [
              0.3333333333333333,
              "#9c179e"
             ],
             [
              0.4444444444444444,
              "#bd3786"
             ],
             [
              0.5555555555555556,
              "#d8576b"
             ],
             [
              0.6666666666666666,
              "#ed7953"
             ],
             [
              0.7777777777777778,
              "#fb9f3a"
             ],
             [
              0.8888888888888888,
              "#fdca26"
             ],
             [
              1,
              "#f0f921"
             ]
            ],
            "type": "surface"
           }
          ],
          "table": [
           {
            "cells": {
             "fill": {
              "color": "#EBF0F8"
             },
             "line": {
              "color": "white"
             }
            },
            "header": {
             "fill": {
              "color": "#C8D4E3"
             },
             "line": {
              "color": "white"
             }
            },
            "type": "table"
           }
          ]
         },
         "layout": {
          "annotationdefaults": {
           "arrowcolor": "#2a3f5f",
           "arrowhead": 0,
           "arrowwidth": 1
          },
          "autotypenumbers": "strict",
          "coloraxis": {
           "colorbar": {
            "outlinewidth": 0,
            "ticks": ""
           }
          },
          "colorscale": {
           "diverging": [
            [
             0,
             "#8e0152"
            ],
            [
             0.1,
             "#c51b7d"
            ],
            [
             0.2,
             "#de77ae"
            ],
            [
             0.3,
             "#f1b6da"
            ],
            [
             0.4,
             "#fde0ef"
            ],
            [
             0.5,
             "#f7f7f7"
            ],
            [
             0.6,
             "#e6f5d0"
            ],
            [
             0.7,
             "#b8e186"
            ],
            [
             0.8,
             "#7fbc41"
            ],
            [
             0.9,
             "#4d9221"
            ],
            [
             1,
             "#276419"
            ]
           ],
           "sequential": [
            [
             0,
             "#0d0887"
            ],
            [
             0.1111111111111111,
             "#46039f"
            ],
            [
             0.2222222222222222,
             "#7201a8"
            ],
            [
             0.3333333333333333,
             "#9c179e"
            ],
            [
             0.4444444444444444,
             "#bd3786"
            ],
            [
             0.5555555555555556,
             "#d8576b"
            ],
            [
             0.6666666666666666,
             "#ed7953"
            ],
            [
             0.7777777777777778,
             "#fb9f3a"
            ],
            [
             0.8888888888888888,
             "#fdca26"
            ],
            [
             1,
             "#f0f921"
            ]
           ],
           "sequentialminus": [
            [
             0,
             "#0d0887"
            ],
            [
             0.1111111111111111,
             "#46039f"
            ],
            [
             0.2222222222222222,
             "#7201a8"
            ],
            [
             0.3333333333333333,
             "#9c179e"
            ],
            [
             0.4444444444444444,
             "#bd3786"
            ],
            [
             0.5555555555555556,
             "#d8576b"
            ],
            [
             0.6666666666666666,
             "#ed7953"
            ],
            [
             0.7777777777777778,
             "#fb9f3a"
            ],
            [
             0.8888888888888888,
             "#fdca26"
            ],
            [
             1,
             "#f0f921"
            ]
           ]
          },
          "colorway": [
           "#636efa",
           "#EF553B",
           "#00cc96",
           "#ab63fa",
           "#FFA15A",
           "#19d3f3",
           "#FF6692",
           "#B6E880",
           "#FF97FF",
           "#FECB52"
          ],
          "font": {
           "color": "#2a3f5f"
          },
          "geo": {
           "bgcolor": "white",
           "lakecolor": "white",
           "landcolor": "#E5ECF6",
           "showlakes": true,
           "showland": true,
           "subunitcolor": "white"
          },
          "hoverlabel": {
           "align": "left"
          },
          "hovermode": "closest",
          "mapbox": {
           "style": "light"
          },
          "paper_bgcolor": "white",
          "plot_bgcolor": "#E5ECF6",
          "polar": {
           "angularaxis": {
            "gridcolor": "white",
            "linecolor": "white",
            "ticks": ""
           },
           "bgcolor": "#E5ECF6",
           "radialaxis": {
            "gridcolor": "white",
            "linecolor": "white",
            "ticks": ""
           }
          },
          "scene": {
           "xaxis": {
            "backgroundcolor": "#E5ECF6",
            "gridcolor": "white",
            "gridwidth": 2,
            "linecolor": "white",
            "showbackground": true,
            "ticks": "",
            "zerolinecolor": "white"
           },
           "yaxis": {
            "backgroundcolor": "#E5ECF6",
            "gridcolor": "white",
            "gridwidth": 2,
            "linecolor": "white",
            "showbackground": true,
            "ticks": "",
            "zerolinecolor": "white"
           },
           "zaxis": {
            "backgroundcolor": "#E5ECF6",
            "gridcolor": "white",
            "gridwidth": 2,
            "linecolor": "white",
            "showbackground": true,
            "ticks": "",
            "zerolinecolor": "white"
           }
          },
          "shapedefaults": {
           "line": {
            "color": "#2a3f5f"
           }
          },
          "ternary": {
           "aaxis": {
            "gridcolor": "white",
            "linecolor": "white",
            "ticks": ""
           },
           "baxis": {
            "gridcolor": "white",
            "linecolor": "white",
            "ticks": ""
           },
           "bgcolor": "#E5ECF6",
           "caxis": {
            "gridcolor": "white",
            "linecolor": "white",
            "ticks": ""
           }
          },
          "title": {
           "x": 0.05
          },
          "xaxis": {
           "automargin": true,
           "gridcolor": "white",
           "linecolor": "white",
           "ticks": "",
           "title": {
            "standoff": 15
           },
           "zerolinecolor": "white",
           "zerolinewidth": 2
          },
          "yaxis": {
           "automargin": true,
           "gridcolor": "white",
           "linecolor": "white",
           "ticks": "",
           "title": {
            "standoff": 15
           },
           "zerolinecolor": "white",
           "zerolinewidth": 2
          }
         }
        },
        "title": {
         "text": "Relative Timing Heatmap"
        },
        "width": 1000,
        "xaxis": {
         "anchor": "y",
         "constrain": "domain",
         "domain": [
          0,
          1
         ],
         "scaleanchor": "y"
        },
        "yaxis": {
         "anchor": "x",
         "autorange": "reversed",
         "constrain": "domain",
         "domain": [
          0,
          1
         ]
        }
       }
      },
      "text/html": [
       "<div>                            <div id=\"b34eed73-acfb-4826-b5b1-89983c5693b2\" class=\"plotly-graph-div\" style=\"height:900px; width:1000px;\"></div>            <script type=\"text/javascript\">                require([\"plotly\"], function(Plotly) {                    window.PLOTLYENV=window.PLOTLYENV || {};                                    if (document.getElementById(\"b34eed73-acfb-4826-b5b1-89983c5693b2\")) {                    Plotly.newPlot(                        \"b34eed73-acfb-4826-b5b1-89983c5693b2\",                        [{\"coloraxis\":\"coloraxis\",\"name\":\"0\",\"texttemplate\":\"%{z}\",\"x\":[\"cpu_dense\",\"cpu_coo\",\"cpu_csc\",\"cpu_csr\",\"cpu_maskedLinear\",\"cpu_sparseLinear\",\"cuda_dense\",\"cuda_coo\",\"cuda_csc\",\"cuda_csr\",\"cuda_maskedLinear\",\"cuda_sparseLinear\"],\"y\":[\"cpu_dense\",\"cpu_coo\",\"cpu_csc\",\"cpu_csr\",\"cpu_maskedLinear\",\"cpu_sparseLinear\",\"cuda_dense\",\"cuda_coo\",\"cuda_csc\",\"cuda_csr\",\"cuda_maskedLinear\",\"cuda_sparseLinear\"],\"z\":[[1.0,0.02203207256630933,0.038134951857722726,0.5192431509822351,0.4884785829937058,0.007877264266112028,4.609021934279901,1.378604984010317,0.30709153136417644,2.7075489321681245,1.4219907049299672,0.3088446596455114],[45.388376285995214,1.0,1.7308835445666313,23.56760352070751,22.17124973256806,0.3575362346145167,209.19602186350164,62.57264176400868,13.93838597979974,122.89124974599136,64.54184919054894,14.017957625910594],[26.222663233741294,0.5777396192476798,1.0,13.615938284633835,12.809209378739094,0.20656284805344,120.86083001954874,36.15069422805984,8.0527578088967,70.99914383712057,37.288383376888916,8.098729501423696],[1.9258800007440313,0.042431127930396356,0.07344334111212464,1.0,0.9407511337793615,0.015170665710680766,8.876423166220233,2.6550277676315144,0.5914214386521258,5.214414339498449,2.738583459868531,0.5947977533478875],[2.04717265979476,0.045103456596362626,0.07806883082571935,1.0629803824765143,1.0,0.01612612003956278,9.435463692252174,2.822242431922713,0.6286693870632469,5.542820148991081,2.9110604936149067,0.6322583433499089],[126.94762625928362,2.7969193138652524,4.841141615849959,65.91668546858556,62.01119658954942,1.0,585.1043939338053,175.0106302693274,38.984540951010544,343.7169099196015,180.51834455362476,39.207096424854036],[0.21696577153656718,0.004780205622898939,0.008273979252320658,0.11265799086793887,0.10598313263831845,0.001709096719094427,1.0,0.2991100939999553,0.06662835103477446,0.5874454430408657,0.3085233104129574,0.06700871986493688],[0.7253709449758644,0.015981425297200615,0.02766198606564543,0.3766438951002293,0.35432817134661554,0.0057139386245342915,3.3432505958830983,1.0,0.22275527429971795,1.9639773274951848,1.031470741381946,0.2240269426178138],[3.2563581143307765,0.07174431827682587,0.12418105992150892,1.6908416480116817,1.5906611974083535,0.025651193411681775,15.008625974820886,4.489231526138846,1.0,8.816748935213301,4.630510970501639,1.005708813504388],[0.36933773869018494,0.008137275860298747,0.01408467688419038,0.191776091214145,0.18041357524148113,0.002909370971110816,1.702285738780401,0.5091708473413891,0.11342049176495092,1.0,0.5251948313972962,0.114067988200013],[0.7032394772575182,0.01549382319443108,0.026818003609665554,0.3651522820662936,0.3435174233559869,0.005539603204719951,3.2412461757314333,0.9694894483000245,0.2159588879867542,1.9040552957070633,1.0,0.21719175700288557],[3.237873697242456,0.07133706825819007,0.12347615756572776,1.6812437410386722,1.581631955541586,0.025505586773472037,14.92343089101844,4.463748816614362,0.9943235920499736,8.766701471464069,4.604226301215999,1.0]],\"type\":\"heatmap\",\"xaxis\":\"x\",\"yaxis\":\"y\",\"hovertemplate\":\"x: %{x}\\u003cbr\\u003ey: %{y}\\u003cbr\\u003ecolor: %{z}\\u003cextra\\u003e\\u003c\\u002fextra\\u003e\"}],                        {\"template\":{\"data\":{\"histogram2dcontour\":[{\"type\":\"histogram2dcontour\",\"colorbar\":{\"outlinewidth\":0,\"ticks\":\"\"},\"colorscale\":[[0.0,\"#0d0887\"],[0.1111111111111111,\"#46039f\"],[0.2222222222222222,\"#7201a8\"],[0.3333333333333333,\"#9c179e\"],[0.4444444444444444,\"#bd3786\"],[0.5555555555555556,\"#d8576b\"],[0.6666666666666666,\"#ed7953\"],[0.7777777777777778,\"#fb9f3a\"],[0.8888888888888888,\"#fdca26\"],[1.0,\"#f0f921\"]]}],\"choropleth\":[{\"type\":\"choropleth\",\"colorbar\":{\"outlinewidth\":0,\"ticks\":\"\"}}],\"histogram2d\":[{\"type\":\"histogram2d\",\"colorbar\":{\"outlinewidth\":0,\"ticks\":\"\"},\"colorscale\":[[0.0,\"#0d0887\"],[0.1111111111111111,\"#46039f\"],[0.2222222222222222,\"#7201a8\"],[0.3333333333333333,\"#9c179e\"],[0.4444444444444444,\"#bd3786\"],[0.5555555555555556,\"#d8576b\"],[0.6666666666666666,\"#ed7953\"],[0.7777777777777778,\"#fb9f3a\"],[0.8888888888888888,\"#fdca26\"],[1.0,\"#f0f921\"]]}],\"heatmap\":[{\"type\":\"heatmap\",\"colorbar\":{\"outlinewidth\":0,\"ticks\":\"\"},\"colorscale\":[[0.0,\"#0d0887\"],[0.1111111111111111,\"#46039f\"],[0.2222222222222222,\"#7201a8\"],[0.3333333333333333,\"#9c179e\"],[0.4444444444444444,\"#bd3786\"],[0.5555555555555556,\"#d8576b\"],[0.6666666666666666,\"#ed7953\"],[0.7777777777777778,\"#fb9f3a\"],[0.8888888888888888,\"#fdca26\"],[1.0,\"#f0f921\"]]}],\"heatmapgl\":[{\"type\":\"heatmapgl\",\"colorbar\":{\"outlinewidth\":0,\"ticks\":\"\"},\"colorscale\":[[0.0,\"#0d0887\"],[0.1111111111111111,\"#46039f\"],[0.2222222222222222,\"#7201a8\"],[0.3333333333333333,\"#9c179e\"],[0.4444444444444444,\"#bd3786\"],[0.5555555555555556,\"#d8576b\"],[0.6666666666666666,\"#ed7953\"],[0.7777777777777778,\"#fb9f3a\"],[0.8888888888888888,\"#fdca26\"],[1.0,\"#f0f921\"]]}],\"contourcarpet\":[{\"type\":\"contourcarpet\",\"colorbar\":{\"outlinewidth\":0,\"ticks\":\"\"}}],\"contour\":[{\"type\":\"contour\",\"colorbar\":{\"outlinewidth\":0,\"ticks\":\"\"},\"colorscale\":[[0.0,\"#0d0887\"],[0.1111111111111111,\"#46039f\"],[0.2222222222222222,\"#7201a8\"],[0.3333333333333333,\"#9c179e\"],[0.4444444444444444,\"#bd3786\"],[0.5555555555555556,\"#d8576b\"],[0.6666666666666666,\"#ed7953\"],[0.7777777777777778,\"#fb9f3a\"],[0.8888888888888888,\"#fdca26\"],[1.0,\"#f0f921\"]]}],\"surface\":[{\"type\":\"surface\",\"colorbar\":{\"outlinewidth\":0,\"ticks\":\"\"},\"colorscale\":[[0.0,\"#0d0887\"],[0.1111111111111111,\"#46039f\"],[0.2222222222222222,\"#7201a8\"],[0.3333333333333333,\"#9c179e\"],[0.4444444444444444,\"#bd3786\"],[0.5555555555555556,\"#d8576b\"],[0.6666666666666666,\"#ed7953\"],[0.7777777777777778,\"#fb9f3a\"],[0.8888888888888888,\"#fdca26\"],[1.0,\"#f0f921\"]]}],\"mesh3d\":[{\"type\":\"mesh3d\",\"colorbar\":{\"outlinewidth\":0,\"ticks\":\"\"}}],\"scatter\":[{\"fillpattern\":{\"fillmode\":\"overlay\",\"size\":10,\"solidity\":0.2},\"type\":\"scatter\"}],\"parcoords\":[{\"type\":\"parcoords\",\"line\":{\"colorbar\":{\"outlinewidth\":0,\"ticks\":\"\"}}}],\"scatterpolargl\":[{\"type\":\"scatterpolargl\",\"marker\":{\"colorbar\":{\"outlinewidth\":0,\"ticks\":\"\"}}}],\"bar\":[{\"error_x\":{\"color\":\"#2a3f5f\"},\"error_y\":{\"color\":\"#2a3f5f\"},\"marker\":{\"line\":{\"color\":\"#E5ECF6\",\"width\":0.5},\"pattern\":{\"fillmode\":\"overlay\",\"size\":10,\"solidity\":0.2}},\"type\":\"bar\"}],\"scattergeo\":[{\"type\":\"scattergeo\",\"marker\":{\"colorbar\":{\"outlinewidth\":0,\"ticks\":\"\"}}}],\"scatterpolar\":[{\"type\":\"scatterpolar\",\"marker\":{\"colorbar\":{\"outlinewidth\":0,\"ticks\":\"\"}}}],\"histogram\":[{\"marker\":{\"pattern\":{\"fillmode\":\"overlay\",\"size\":10,\"solidity\":0.2}},\"type\":\"histogram\"}],\"scattergl\":[{\"type\":\"scattergl\",\"marker\":{\"colorbar\":{\"outlinewidth\":0,\"ticks\":\"\"}}}],\"scatter3d\":[{\"type\":\"scatter3d\",\"line\":{\"colorbar\":{\"outlinewidth\":0,\"ticks\":\"\"}},\"marker\":{\"colorbar\":{\"outlinewidth\":0,\"ticks\":\"\"}}}],\"scattermapbox\":[{\"type\":\"scattermapbox\",\"marker\":{\"colorbar\":{\"outlinewidth\":0,\"ticks\":\"\"}}}],\"scatterternary\":[{\"type\":\"scatterternary\",\"marker\":{\"colorbar\":{\"outlinewidth\":0,\"ticks\":\"\"}}}],\"scattercarpet\":[{\"type\":\"scattercarpet\",\"marker\":{\"colorbar\":{\"outlinewidth\":0,\"ticks\":\"\"}}}],\"carpet\":[{\"aaxis\":{\"endlinecolor\":\"#2a3f5f\",\"gridcolor\":\"white\",\"linecolor\":\"white\",\"minorgridcolor\":\"white\",\"startlinecolor\":\"#2a3f5f\"},\"baxis\":{\"endlinecolor\":\"#2a3f5f\",\"gridcolor\":\"white\",\"linecolor\":\"white\",\"minorgridcolor\":\"white\",\"startlinecolor\":\"#2a3f5f\"},\"type\":\"carpet\"}],\"table\":[{\"cells\":{\"fill\":{\"color\":\"#EBF0F8\"},\"line\":{\"color\":\"white\"}},\"header\":{\"fill\":{\"color\":\"#C8D4E3\"},\"line\":{\"color\":\"white\"}},\"type\":\"table\"}],\"barpolar\":[{\"marker\":{\"line\":{\"color\":\"#E5ECF6\",\"width\":0.5},\"pattern\":{\"fillmode\":\"overlay\",\"size\":10,\"solidity\":0.2}},\"type\":\"barpolar\"}],\"pie\":[{\"automargin\":true,\"type\":\"pie\"}]},\"layout\":{\"autotypenumbers\":\"strict\",\"colorway\":[\"#636efa\",\"#EF553B\",\"#00cc96\",\"#ab63fa\",\"#FFA15A\",\"#19d3f3\",\"#FF6692\",\"#B6E880\",\"#FF97FF\",\"#FECB52\"],\"font\":{\"color\":\"#2a3f5f\"},\"hovermode\":\"closest\",\"hoverlabel\":{\"align\":\"left\"},\"paper_bgcolor\":\"white\",\"plot_bgcolor\":\"#E5ECF6\",\"polar\":{\"bgcolor\":\"#E5ECF6\",\"angularaxis\":{\"gridcolor\":\"white\",\"linecolor\":\"white\",\"ticks\":\"\"},\"radialaxis\":{\"gridcolor\":\"white\",\"linecolor\":\"white\",\"ticks\":\"\"}},\"ternary\":{\"bgcolor\":\"#E5ECF6\",\"aaxis\":{\"gridcolor\":\"white\",\"linecolor\":\"white\",\"ticks\":\"\"},\"baxis\":{\"gridcolor\":\"white\",\"linecolor\":\"white\",\"ticks\":\"\"},\"caxis\":{\"gridcolor\":\"white\",\"linecolor\":\"white\",\"ticks\":\"\"}},\"coloraxis\":{\"colorbar\":{\"outlinewidth\":0,\"ticks\":\"\"}},\"colorscale\":{\"sequential\":[[0.0,\"#0d0887\"],[0.1111111111111111,\"#46039f\"],[0.2222222222222222,\"#7201a8\"],[0.3333333333333333,\"#9c179e\"],[0.4444444444444444,\"#bd3786\"],[0.5555555555555556,\"#d8576b\"],[0.6666666666666666,\"#ed7953\"],[0.7777777777777778,\"#fb9f3a\"],[0.8888888888888888,\"#fdca26\"],[1.0,\"#f0f921\"]],\"sequentialminus\":[[0.0,\"#0d0887\"],[0.1111111111111111,\"#46039f\"],[0.2222222222222222,\"#7201a8\"],[0.3333333333333333,\"#9c179e\"],[0.4444444444444444,\"#bd3786\"],[0.5555555555555556,\"#d8576b\"],[0.6666666666666666,\"#ed7953\"],[0.7777777777777778,\"#fb9f3a\"],[0.8888888888888888,\"#fdca26\"],[1.0,\"#f0f921\"]],\"diverging\":[[0,\"#8e0152\"],[0.1,\"#c51b7d\"],[0.2,\"#de77ae\"],[0.3,\"#f1b6da\"],[0.4,\"#fde0ef\"],[0.5,\"#f7f7f7\"],[0.6,\"#e6f5d0\"],[0.7,\"#b8e186\"],[0.8,\"#7fbc41\"],[0.9,\"#4d9221\"],[1,\"#276419\"]]},\"xaxis\":{\"gridcolor\":\"white\",\"linecolor\":\"white\",\"ticks\":\"\",\"title\":{\"standoff\":15},\"zerolinecolor\":\"white\",\"automargin\":true,\"zerolinewidth\":2},\"yaxis\":{\"gridcolor\":\"white\",\"linecolor\":\"white\",\"ticks\":\"\",\"title\":{\"standoff\":15},\"zerolinecolor\":\"white\",\"automargin\":true,\"zerolinewidth\":2},\"scene\":{\"xaxis\":{\"backgroundcolor\":\"#E5ECF6\",\"gridcolor\":\"white\",\"linecolor\":\"white\",\"showbackground\":true,\"ticks\":\"\",\"zerolinecolor\":\"white\",\"gridwidth\":2},\"yaxis\":{\"backgroundcolor\":\"#E5ECF6\",\"gridcolor\":\"white\",\"linecolor\":\"white\",\"showbackground\":true,\"ticks\":\"\",\"zerolinecolor\":\"white\",\"gridwidth\":2},\"zaxis\":{\"backgroundcolor\":\"#E5ECF6\",\"gridcolor\":\"white\",\"linecolor\":\"white\",\"showbackground\":true,\"ticks\":\"\",\"zerolinecolor\":\"white\",\"gridwidth\":2}},\"shapedefaults\":{\"line\":{\"color\":\"#2a3f5f\"}},\"annotationdefaults\":{\"arrowcolor\":\"#2a3f5f\",\"arrowhead\":0,\"arrowwidth\":1},\"geo\":{\"bgcolor\":\"white\",\"landcolor\":\"#E5ECF6\",\"subunitcolor\":\"white\",\"showland\":true,\"showlakes\":true,\"lakecolor\":\"white\"},\"title\":{\"x\":0.05},\"mapbox\":{\"style\":\"light\"}}},\"xaxis\":{\"anchor\":\"y\",\"domain\":[0.0,1.0],\"scaleanchor\":\"y\",\"constrain\":\"domain\"},\"yaxis\":{\"anchor\":\"x\",\"domain\":[0.0,1.0],\"autorange\":\"reversed\",\"constrain\":\"domain\"},\"coloraxis\":{\"colorscale\":[[0.0,\"rgb(0,0,131)\"],[0.2,\"rgb(0,60,170)\"],[0.4,\"rgb(5,255,255)\"],[0.6,\"rgb(255,255,0)\"],[0.8,\"rgb(250,0,0)\"],[1.0,\"rgb(128,0,0)\"]]},\"title\":{\"text\":\"Relative Timing Heatmap\"},\"height\":900,\"width\":1000},                        {\"responsive\": true}                    ).then(function(){\n",
       "                            \n",
       "var gd = document.getElementById('b34eed73-acfb-4826-b5b1-89983c5693b2');\n",
       "var x = new MutationObserver(function (mutations, observer) {{\n",
       "        var display = window.getComputedStyle(gd).display;\n",
       "        if (!display || display === 'none') {{\n",
       "            console.log([gd, 'removed!']);\n",
       "            Plotly.purge(gd);\n",
       "            observer.disconnect();\n",
       "        }}\n",
       "}});\n",
       "\n",
       "// Listen for the removal of the full notebook cells\n",
       "var notebookContainer = gd.closest('#notebook-container');\n",
       "if (notebookContainer) {{\n",
       "    x.observe(notebookContainer, {childList: true});\n",
       "}}\n",
       "\n",
       "// Listen for the clearing of the current output cell\n",
       "var outputEl = gd.closest('.output');\n",
       "if (outputEl) {{\n",
       "    x.observe(outputEl, {childList: true});\n",
       "}}\n",
       "\n",
       "                        })                };                });            </script>        </div>"
      ]
     },
     "metadata": {},
     "output_type": "display_data"
    },
    {
     "data": {
      "application/vnd.plotly.v1+json": {
       "config": {
        "plotlyServerURL": "https://plot.ly"
       },
       "data": [
        {
         "coloraxis": "coloraxis",
         "hovertemplate": "x: %{x}<br>y: %{y}<br>color: %{z}<extra></extra>",
         "name": "0",
         "texttemplate": "%{z}",
         "type": "heatmap",
         "x": [
          "cpu_dense",
          "cpu_coo",
          "cpu_csc",
          "cpu_csr",
          "cpu_maskedLinear",
          "cpu_sparseLinear",
          "cuda_dense",
          "cuda_coo",
          "cuda_csc",
          "cuda_csr",
          "cuda_maskedLinear",
          "cuda_sparseLinear"
         ],
         "xaxis": "x",
         "y": [
          "cpu_dense",
          "cpu_coo",
          "cpu_csc",
          "cpu_csr",
          "cpu_maskedLinear",
          "cpu_sparseLinear",
          "cuda_dense",
          "cuda_coo",
          "cuda_csc",
          "cuda_csr",
          "cuda_maskedLinear",
          "cuda_sparseLinear"
         ],
         "yaxis": "y",
         "z": [
          [
           0,
           -1.6569446466634128,
           -1.418676797536407,
           -0.28462922326708384,
           -0.3111544728695761,
           -2.1036245845942805,
           0.6636087749316496,
           0.13943984424685626,
           -0.5127321598920638,
           0.4325763141537103,
           0.1528967575675747,
           -0.5102599038180715
          ],
          [
           1.6569446466634128,
           0,
           0.2382678491270058,
           1.372315423396329,
           1.3457901737938367,
           -0.4466799379308676,
           2.3205534215950623,
           1.796384490910269,
           1.1442124867713488,
           2.089520960817123,
           1.8098414042309876,
           1.1466847428453413
          ],
          [
           1.418676797536407,
           -0.2382678491270058,
           0,
           1.134047574269323,
           1.1075223246668309,
           -0.6849477870578734,
           2.0822855724680567,
           1.5581166417832633,
           0.9059446376443431,
           1.8512531116901172,
           1.5715735551039818,
           0.9084168937183354
          ],
          [
           0.28462922326708384,
           -1.372315423396329,
           -1.1340475742693232,
           0,
           -0.02652524960249224,
           -1.8189953613271965,
           0.9482379981987334,
           0.42406906751394013,
           -0.22810293662498002,
           0.7172055374207941,
           0.43752598083465855,
           -0.22563068055098773
          ],
          [
           0.3111544728695761,
           -1.3457901737938367,
           -1.1075223246668309,
           0.02652524960249229,
           0,
           -1.7924701117247042,
           0.9747632478012257,
           0.4505943171164324,
           -0.20157768702248777,
           0.7437307870232863,
           0.46405123043715085,
           -0.19910543094849542
          ],
          [
           2.1036245845942805,
           0.4466799379308676,
           0.6849477870578734,
           1.8189953613271965,
           1.7924701117247042,
           0,
           2.76723335952593,
           2.2430644288411368,
           1.5908924247022165,
           2.5362008987479907,
           2.256521342161855,
           1.5933646807762087
          ],
          [
           -0.6636087749316496,
           -2.3205534215950623,
           -2.0822855724680567,
           -0.9482379981987334,
           -0.9747632478012256,
           -2.76723335952593,
           0,
           -0.5241689306847932,
           -1.1763409348237135,
           -0.23103246077793935,
           -0.5107120173640749,
           -1.173868678749721
          ],
          [
           -0.13943984424685624,
           -1.796384490910269,
           -1.5581166417832633,
           -0.4240690675139401,
           -0.4505943171164324,
           -2.2430644288411368,
           0.5241689306847933,
           0,
           -0.6521720041389202,
           0.29313646990685394,
           0.013456913320718472,
           -0.6496997480649278
          ],
          [
           0.5127321598920639,
           -1.144212486771349,
           -0.9059446376443431,
           0.22810293662498007,
           0.2015776870224878,
           -1.5908924247022165,
           1.1763409348237135,
           0.6521720041389201,
           0,
           0.9453084740457741,
           0.6656289174596386,
           0.0024722560739923066
          ],
          [
           -0.43257631415371023,
           -2.089520960817123,
           -1.8512531116901172,
           -0.7172055374207941,
           -0.7437307870232863,
           -2.5362008987479907,
           0.23103246077793935,
           -0.29313646990685394,
           -0.9453084740457741,
           0,
           -0.27967955658613547,
           -0.9428362179717817
          ],
          [
           -0.1528967575675747,
           -1.8098414042309874,
           -1.5715735551039818,
           -0.43752598083465855,
           -0.4640512304371508,
           -2.256521342161855,
           0.5107120173640749,
           -0.01345691332071847,
           -0.6656289174596386,
           0.27967955658613547,
           0,
           -0.6631566613856463
          ],
          [
           0.5102599038180715,
           -1.1466847428453413,
           -0.9084168937183354,
           0.22563068055098767,
           0.19910543094849542,
           -1.5933646807762087,
           1.173868678749721,
           0.6496997480649278,
           -0.0024722560739923356,
           0.9428362179717817,
           0.6631566613856462,
           0
          ]
         ]
        }
       ],
       "layout": {
        "coloraxis": {
         "colorscale": [
          [
           0,
           "rgb(0,0,131)"
          ],
          [
           0.2,
           "rgb(0,60,170)"
          ],
          [
           0.4,
           "rgb(5,255,255)"
          ],
          [
           0.6,
           "rgb(255,255,0)"
          ],
          [
           0.8,
           "rgb(250,0,0)"
          ],
          [
           1,
           "rgb(128,0,0)"
          ]
         ]
        },
        "height": 900,
        "template": {
         "data": {
          "bar": [
           {
            "error_x": {
             "color": "#2a3f5f"
            },
            "error_y": {
             "color": "#2a3f5f"
            },
            "marker": {
             "line": {
              "color": "#E5ECF6",
              "width": 0.5
             },
             "pattern": {
              "fillmode": "overlay",
              "size": 10,
              "solidity": 0.2
             }
            },
            "type": "bar"
           }
          ],
          "barpolar": [
           {
            "marker": {
             "line": {
              "color": "#E5ECF6",
              "width": 0.5
             },
             "pattern": {
              "fillmode": "overlay",
              "size": 10,
              "solidity": 0.2
             }
            },
            "type": "barpolar"
           }
          ],
          "carpet": [
           {
            "aaxis": {
             "endlinecolor": "#2a3f5f",
             "gridcolor": "white",
             "linecolor": "white",
             "minorgridcolor": "white",
             "startlinecolor": "#2a3f5f"
            },
            "baxis": {
             "endlinecolor": "#2a3f5f",
             "gridcolor": "white",
             "linecolor": "white",
             "minorgridcolor": "white",
             "startlinecolor": "#2a3f5f"
            },
            "type": "carpet"
           }
          ],
          "choropleth": [
           {
            "colorbar": {
             "outlinewidth": 0,
             "ticks": ""
            },
            "type": "choropleth"
           }
          ],
          "contour": [
           {
            "colorbar": {
             "outlinewidth": 0,
             "ticks": ""
            },
            "colorscale": [
             [
              0,
              "#0d0887"
             ],
             [
              0.1111111111111111,
              "#46039f"
             ],
             [
              0.2222222222222222,
              "#7201a8"
             ],
             [
              0.3333333333333333,
              "#9c179e"
             ],
             [
              0.4444444444444444,
              "#bd3786"
             ],
             [
              0.5555555555555556,
              "#d8576b"
             ],
             [
              0.6666666666666666,
              "#ed7953"
             ],
             [
              0.7777777777777778,
              "#fb9f3a"
             ],
             [
              0.8888888888888888,
              "#fdca26"
             ],
             [
              1,
              "#f0f921"
             ]
            ],
            "type": "contour"
           }
          ],
          "contourcarpet": [
           {
            "colorbar": {
             "outlinewidth": 0,
             "ticks": ""
            },
            "type": "contourcarpet"
           }
          ],
          "heatmap": [
           {
            "colorbar": {
             "outlinewidth": 0,
             "ticks": ""
            },
            "colorscale": [
             [
              0,
              "#0d0887"
             ],
             [
              0.1111111111111111,
              "#46039f"
             ],
             [
              0.2222222222222222,
              "#7201a8"
             ],
             [
              0.3333333333333333,
              "#9c179e"
             ],
             [
              0.4444444444444444,
              "#bd3786"
             ],
             [
              0.5555555555555556,
              "#d8576b"
             ],
             [
              0.6666666666666666,
              "#ed7953"
             ],
             [
              0.7777777777777778,
              "#fb9f3a"
             ],
             [
              0.8888888888888888,
              "#fdca26"
             ],
             [
              1,
              "#f0f921"
             ]
            ],
            "type": "heatmap"
           }
          ],
          "heatmapgl": [
           {
            "colorbar": {
             "outlinewidth": 0,
             "ticks": ""
            },
            "colorscale": [
             [
              0,
              "#0d0887"
             ],
             [
              0.1111111111111111,
              "#46039f"
             ],
             [
              0.2222222222222222,
              "#7201a8"
             ],
             [
              0.3333333333333333,
              "#9c179e"
             ],
             [
              0.4444444444444444,
              "#bd3786"
             ],
             [
              0.5555555555555556,
              "#d8576b"
             ],
             [
              0.6666666666666666,
              "#ed7953"
             ],
             [
              0.7777777777777778,
              "#fb9f3a"
             ],
             [
              0.8888888888888888,
              "#fdca26"
             ],
             [
              1,
              "#f0f921"
             ]
            ],
            "type": "heatmapgl"
           }
          ],
          "histogram": [
           {
            "marker": {
             "pattern": {
              "fillmode": "overlay",
              "size": 10,
              "solidity": 0.2
             }
            },
            "type": "histogram"
           }
          ],
          "histogram2d": [
           {
            "colorbar": {
             "outlinewidth": 0,
             "ticks": ""
            },
            "colorscale": [
             [
              0,
              "#0d0887"
             ],
             [
              0.1111111111111111,
              "#46039f"
             ],
             [
              0.2222222222222222,
              "#7201a8"
             ],
             [
              0.3333333333333333,
              "#9c179e"
             ],
             [
              0.4444444444444444,
              "#bd3786"
             ],
             [
              0.5555555555555556,
              "#d8576b"
             ],
             [
              0.6666666666666666,
              "#ed7953"
             ],
             [
              0.7777777777777778,
              "#fb9f3a"
             ],
             [
              0.8888888888888888,
              "#fdca26"
             ],
             [
              1,
              "#f0f921"
             ]
            ],
            "type": "histogram2d"
           }
          ],
          "histogram2dcontour": [
           {
            "colorbar": {
             "outlinewidth": 0,
             "ticks": ""
            },
            "colorscale": [
             [
              0,
              "#0d0887"
             ],
             [
              0.1111111111111111,
              "#46039f"
             ],
             [
              0.2222222222222222,
              "#7201a8"
             ],
             [
              0.3333333333333333,
              "#9c179e"
             ],
             [
              0.4444444444444444,
              "#bd3786"
             ],
             [
              0.5555555555555556,
              "#d8576b"
             ],
             [
              0.6666666666666666,
              "#ed7953"
             ],
             [
              0.7777777777777778,
              "#fb9f3a"
             ],
             [
              0.8888888888888888,
              "#fdca26"
             ],
             [
              1,
              "#f0f921"
             ]
            ],
            "type": "histogram2dcontour"
           }
          ],
          "mesh3d": [
           {
            "colorbar": {
             "outlinewidth": 0,
             "ticks": ""
            },
            "type": "mesh3d"
           }
          ],
          "parcoords": [
           {
            "line": {
             "colorbar": {
              "outlinewidth": 0,
              "ticks": ""
             }
            },
            "type": "parcoords"
           }
          ],
          "pie": [
           {
            "automargin": true,
            "type": "pie"
           }
          ],
          "scatter": [
           {
            "fillpattern": {
             "fillmode": "overlay",
             "size": 10,
             "solidity": 0.2
            },
            "type": "scatter"
           }
          ],
          "scatter3d": [
           {
            "line": {
             "colorbar": {
              "outlinewidth": 0,
              "ticks": ""
             }
            },
            "marker": {
             "colorbar": {
              "outlinewidth": 0,
              "ticks": ""
             }
            },
            "type": "scatter3d"
           }
          ],
          "scattercarpet": [
           {
            "marker": {
             "colorbar": {
              "outlinewidth": 0,
              "ticks": ""
             }
            },
            "type": "scattercarpet"
           }
          ],
          "scattergeo": [
           {
            "marker": {
             "colorbar": {
              "outlinewidth": 0,
              "ticks": ""
             }
            },
            "type": "scattergeo"
           }
          ],
          "scattergl": [
           {
            "marker": {
             "colorbar": {
              "outlinewidth": 0,
              "ticks": ""
             }
            },
            "type": "scattergl"
           }
          ],
          "scattermapbox": [
           {
            "marker": {
             "colorbar": {
              "outlinewidth": 0,
              "ticks": ""
             }
            },
            "type": "scattermapbox"
           }
          ],
          "scatterpolar": [
           {
            "marker": {
             "colorbar": {
              "outlinewidth": 0,
              "ticks": ""
             }
            },
            "type": "scatterpolar"
           }
          ],
          "scatterpolargl": [
           {
            "marker": {
             "colorbar": {
              "outlinewidth": 0,
              "ticks": ""
             }
            },
            "type": "scatterpolargl"
           }
          ],
          "scatterternary": [
           {
            "marker": {
             "colorbar": {
              "outlinewidth": 0,
              "ticks": ""
             }
            },
            "type": "scatterternary"
           }
          ],
          "surface": [
           {
            "colorbar": {
             "outlinewidth": 0,
             "ticks": ""
            },
            "colorscale": [
             [
              0,
              "#0d0887"
             ],
             [
              0.1111111111111111,
              "#46039f"
             ],
             [
              0.2222222222222222,
              "#7201a8"
             ],
             [
              0.3333333333333333,
              "#9c179e"
             ],
             [
              0.4444444444444444,
              "#bd3786"
             ],
             [
              0.5555555555555556,
              "#d8576b"
             ],
             [
              0.6666666666666666,
              "#ed7953"
             ],
             [
              0.7777777777777778,
              "#fb9f3a"
             ],
             [
              0.8888888888888888,
              "#fdca26"
             ],
             [
              1,
              "#f0f921"
             ]
            ],
            "type": "surface"
           }
          ],
          "table": [
           {
            "cells": {
             "fill": {
              "color": "#EBF0F8"
             },
             "line": {
              "color": "white"
             }
            },
            "header": {
             "fill": {
              "color": "#C8D4E3"
             },
             "line": {
              "color": "white"
             }
            },
            "type": "table"
           }
          ]
         },
         "layout": {
          "annotationdefaults": {
           "arrowcolor": "#2a3f5f",
           "arrowhead": 0,
           "arrowwidth": 1
          },
          "autotypenumbers": "strict",
          "coloraxis": {
           "colorbar": {
            "outlinewidth": 0,
            "ticks": ""
           }
          },
          "colorscale": {
           "diverging": [
            [
             0,
             "#8e0152"
            ],
            [
             0.1,
             "#c51b7d"
            ],
            [
             0.2,
             "#de77ae"
            ],
            [
             0.3,
             "#f1b6da"
            ],
            [
             0.4,
             "#fde0ef"
            ],
            [
             0.5,
             "#f7f7f7"
            ],
            [
             0.6,
             "#e6f5d0"
            ],
            [
             0.7,
             "#b8e186"
            ],
            [
             0.8,
             "#7fbc41"
            ],
            [
             0.9,
             "#4d9221"
            ],
            [
             1,
             "#276419"
            ]
           ],
           "sequential": [
            [
             0,
             "#0d0887"
            ],
            [
             0.1111111111111111,
             "#46039f"
            ],
            [
             0.2222222222222222,
             "#7201a8"
            ],
            [
             0.3333333333333333,
             "#9c179e"
            ],
            [
             0.4444444444444444,
             "#bd3786"
            ],
            [
             0.5555555555555556,
             "#d8576b"
            ],
            [
             0.6666666666666666,
             "#ed7953"
            ],
            [
             0.7777777777777778,
             "#fb9f3a"
            ],
            [
             0.8888888888888888,
             "#fdca26"
            ],
            [
             1,
             "#f0f921"
            ]
           ],
           "sequentialminus": [
            [
             0,
             "#0d0887"
            ],
            [
             0.1111111111111111,
             "#46039f"
            ],
            [
             0.2222222222222222,
             "#7201a8"
            ],
            [
             0.3333333333333333,
             "#9c179e"
            ],
            [
             0.4444444444444444,
             "#bd3786"
            ],
            [
             0.5555555555555556,
             "#d8576b"
            ],
            [
             0.6666666666666666,
             "#ed7953"
            ],
            [
             0.7777777777777778,
             "#fb9f3a"
            ],
            [
             0.8888888888888888,
             "#fdca26"
            ],
            [
             1,
             "#f0f921"
            ]
           ]
          },
          "colorway": [
           "#636efa",
           "#EF553B",
           "#00cc96",
           "#ab63fa",
           "#FFA15A",
           "#19d3f3",
           "#FF6692",
           "#B6E880",
           "#FF97FF",
           "#FECB52"
          ],
          "font": {
           "color": "#2a3f5f"
          },
          "geo": {
           "bgcolor": "white",
           "lakecolor": "white",
           "landcolor": "#E5ECF6",
           "showlakes": true,
           "showland": true,
           "subunitcolor": "white"
          },
          "hoverlabel": {
           "align": "left"
          },
          "hovermode": "closest",
          "mapbox": {
           "style": "light"
          },
          "paper_bgcolor": "white",
          "plot_bgcolor": "#E5ECF6",
          "polar": {
           "angularaxis": {
            "gridcolor": "white",
            "linecolor": "white",
            "ticks": ""
           },
           "bgcolor": "#E5ECF6",
           "radialaxis": {
            "gridcolor": "white",
            "linecolor": "white",
            "ticks": ""
           }
          },
          "scene": {
           "xaxis": {
            "backgroundcolor": "#E5ECF6",
            "gridcolor": "white",
            "gridwidth": 2,
            "linecolor": "white",
            "showbackground": true,
            "ticks": "",
            "zerolinecolor": "white"
           },
           "yaxis": {
            "backgroundcolor": "#E5ECF6",
            "gridcolor": "white",
            "gridwidth": 2,
            "linecolor": "white",
            "showbackground": true,
            "ticks": "",
            "zerolinecolor": "white"
           },
           "zaxis": {
            "backgroundcolor": "#E5ECF6",
            "gridcolor": "white",
            "gridwidth": 2,
            "linecolor": "white",
            "showbackground": true,
            "ticks": "",
            "zerolinecolor": "white"
           }
          },
          "shapedefaults": {
           "line": {
            "color": "#2a3f5f"
           }
          },
          "ternary": {
           "aaxis": {
            "gridcolor": "white",
            "linecolor": "white",
            "ticks": ""
           },
           "baxis": {
            "gridcolor": "white",
            "linecolor": "white",
            "ticks": ""
           },
           "bgcolor": "#E5ECF6",
           "caxis": {
            "gridcolor": "white",
            "linecolor": "white",
            "ticks": ""
           }
          },
          "title": {
           "x": 0.05
          },
          "xaxis": {
           "automargin": true,
           "gridcolor": "white",
           "linecolor": "white",
           "ticks": "",
           "title": {
            "standoff": 15
           },
           "zerolinecolor": "white",
           "zerolinewidth": 2
          },
          "yaxis": {
           "automargin": true,
           "gridcolor": "white",
           "linecolor": "white",
           "ticks": "",
           "title": {
            "standoff": 15
           },
           "zerolinecolor": "white",
           "zerolinewidth": 2
          }
         }
        },
        "title": {
         "text": "Log10 Relative Timing Heatmap"
        },
        "width": 1000,
        "xaxis": {
         "anchor": "y",
         "constrain": "domain",
         "domain": [
          0,
          1
         ],
         "scaleanchor": "y"
        },
        "yaxis": {
         "anchor": "x",
         "autorange": "reversed",
         "constrain": "domain",
         "domain": [
          0,
          1
         ]
        }
       }
      },
      "text/html": [
       "<div>                            <div id=\"f31c9fe6-50f8-4d06-b3ca-1cc237138bac\" class=\"plotly-graph-div\" style=\"height:900px; width:1000px;\"></div>            <script type=\"text/javascript\">                require([\"plotly\"], function(Plotly) {                    window.PLOTLYENV=window.PLOTLYENV || {};                                    if (document.getElementById(\"f31c9fe6-50f8-4d06-b3ca-1cc237138bac\")) {                    Plotly.newPlot(                        \"f31c9fe6-50f8-4d06-b3ca-1cc237138bac\",                        [{\"coloraxis\":\"coloraxis\",\"name\":\"0\",\"texttemplate\":\"%{z}\",\"x\":[\"cpu_dense\",\"cpu_coo\",\"cpu_csc\",\"cpu_csr\",\"cpu_maskedLinear\",\"cpu_sparseLinear\",\"cuda_dense\",\"cuda_coo\",\"cuda_csc\",\"cuda_csr\",\"cuda_maskedLinear\",\"cuda_sparseLinear\"],\"y\":[\"cpu_dense\",\"cpu_coo\",\"cpu_csc\",\"cpu_csr\",\"cpu_maskedLinear\",\"cpu_sparseLinear\",\"cuda_dense\",\"cuda_coo\",\"cuda_csc\",\"cuda_csr\",\"cuda_maskedLinear\",\"cuda_sparseLinear\"],\"z\":[[0.0,-1.6569446466634128,-1.418676797536407,-0.28462922326708384,-0.3111544728695761,-2.1036245845942805,0.6636087749316496,0.13943984424685626,-0.5127321598920638,0.4325763141537103,0.1528967575675747,-0.5102599038180715],[1.6569446466634128,0.0,0.2382678491270058,1.372315423396329,1.3457901737938367,-0.4466799379308676,2.3205534215950623,1.796384490910269,1.1442124867713488,2.089520960817123,1.8098414042309876,1.1466847428453413],[1.418676797536407,-0.2382678491270058,0.0,1.134047574269323,1.1075223246668309,-0.6849477870578734,2.0822855724680567,1.5581166417832633,0.9059446376443431,1.8512531116901172,1.5715735551039818,0.9084168937183354],[0.28462922326708384,-1.372315423396329,-1.1340475742693232,0.0,-0.02652524960249224,-1.8189953613271965,0.9482379981987334,0.42406906751394013,-0.22810293662498002,0.7172055374207941,0.43752598083465855,-0.22563068055098773],[0.3111544728695761,-1.3457901737938367,-1.1075223246668309,0.02652524960249229,0.0,-1.7924701117247042,0.9747632478012257,0.4505943171164324,-0.20157768702248777,0.7437307870232863,0.46405123043715085,-0.19910543094849542],[2.1036245845942805,0.4466799379308676,0.6849477870578734,1.8189953613271965,1.7924701117247042,0.0,2.76723335952593,2.2430644288411368,1.5908924247022165,2.5362008987479907,2.256521342161855,1.5933646807762087],[-0.6636087749316496,-2.3205534215950623,-2.0822855724680567,-0.9482379981987334,-0.9747632478012256,-2.76723335952593,0.0,-0.5241689306847932,-1.1763409348237135,-0.23103246077793935,-0.5107120173640749,-1.173868678749721],[-0.13943984424685624,-1.796384490910269,-1.5581166417832633,-0.4240690675139401,-0.4505943171164324,-2.2430644288411368,0.5241689306847933,0.0,-0.6521720041389202,0.29313646990685394,0.013456913320718472,-0.6496997480649278],[0.5127321598920639,-1.144212486771349,-0.9059446376443431,0.22810293662498007,0.2015776870224878,-1.5908924247022165,1.1763409348237135,0.6521720041389201,0.0,0.9453084740457741,0.6656289174596386,0.0024722560739923066],[-0.43257631415371023,-2.089520960817123,-1.8512531116901172,-0.7172055374207941,-0.7437307870232863,-2.5362008987479907,0.23103246077793935,-0.29313646990685394,-0.9453084740457741,0.0,-0.27967955658613547,-0.9428362179717817],[-0.1528967575675747,-1.8098414042309874,-1.5715735551039818,-0.43752598083465855,-0.4640512304371508,-2.256521342161855,0.5107120173640749,-0.01345691332071847,-0.6656289174596386,0.27967955658613547,0.0,-0.6631566613856463],[0.5102599038180715,-1.1466847428453413,-0.9084168937183354,0.22563068055098767,0.19910543094849542,-1.5933646807762087,1.173868678749721,0.6496997480649278,-0.0024722560739923356,0.9428362179717817,0.6631566613856462,0.0]],\"type\":\"heatmap\",\"xaxis\":\"x\",\"yaxis\":\"y\",\"hovertemplate\":\"x: %{x}\\u003cbr\\u003ey: %{y}\\u003cbr\\u003ecolor: %{z}\\u003cextra\\u003e\\u003c\\u002fextra\\u003e\"}],                        {\"template\":{\"data\":{\"histogram2dcontour\":[{\"type\":\"histogram2dcontour\",\"colorbar\":{\"outlinewidth\":0,\"ticks\":\"\"},\"colorscale\":[[0.0,\"#0d0887\"],[0.1111111111111111,\"#46039f\"],[0.2222222222222222,\"#7201a8\"],[0.3333333333333333,\"#9c179e\"],[0.4444444444444444,\"#bd3786\"],[0.5555555555555556,\"#d8576b\"],[0.6666666666666666,\"#ed7953\"],[0.7777777777777778,\"#fb9f3a\"],[0.8888888888888888,\"#fdca26\"],[1.0,\"#f0f921\"]]}],\"choropleth\":[{\"type\":\"choropleth\",\"colorbar\":{\"outlinewidth\":0,\"ticks\":\"\"}}],\"histogram2d\":[{\"type\":\"histogram2d\",\"colorbar\":{\"outlinewidth\":0,\"ticks\":\"\"},\"colorscale\":[[0.0,\"#0d0887\"],[0.1111111111111111,\"#46039f\"],[0.2222222222222222,\"#7201a8\"],[0.3333333333333333,\"#9c179e\"],[0.4444444444444444,\"#bd3786\"],[0.5555555555555556,\"#d8576b\"],[0.6666666666666666,\"#ed7953\"],[0.7777777777777778,\"#fb9f3a\"],[0.8888888888888888,\"#fdca26\"],[1.0,\"#f0f921\"]]}],\"heatmap\":[{\"type\":\"heatmap\",\"colorbar\":{\"outlinewidth\":0,\"ticks\":\"\"},\"colorscale\":[[0.0,\"#0d0887\"],[0.1111111111111111,\"#46039f\"],[0.2222222222222222,\"#7201a8\"],[0.3333333333333333,\"#9c179e\"],[0.4444444444444444,\"#bd3786\"],[0.5555555555555556,\"#d8576b\"],[0.6666666666666666,\"#ed7953\"],[0.7777777777777778,\"#fb9f3a\"],[0.8888888888888888,\"#fdca26\"],[1.0,\"#f0f921\"]]}],\"heatmapgl\":[{\"type\":\"heatmapgl\",\"colorbar\":{\"outlinewidth\":0,\"ticks\":\"\"},\"colorscale\":[[0.0,\"#0d0887\"],[0.1111111111111111,\"#46039f\"],[0.2222222222222222,\"#7201a8\"],[0.3333333333333333,\"#9c179e\"],[0.4444444444444444,\"#bd3786\"],[0.5555555555555556,\"#d8576b\"],[0.6666666666666666,\"#ed7953\"],[0.7777777777777778,\"#fb9f3a\"],[0.8888888888888888,\"#fdca26\"],[1.0,\"#f0f921\"]]}],\"contourcarpet\":[{\"type\":\"contourcarpet\",\"colorbar\":{\"outlinewidth\":0,\"ticks\":\"\"}}],\"contour\":[{\"type\":\"contour\",\"colorbar\":{\"outlinewidth\":0,\"ticks\":\"\"},\"colorscale\":[[0.0,\"#0d0887\"],[0.1111111111111111,\"#46039f\"],[0.2222222222222222,\"#7201a8\"],[0.3333333333333333,\"#9c179e\"],[0.4444444444444444,\"#bd3786\"],[0.5555555555555556,\"#d8576b\"],[0.6666666666666666,\"#ed7953\"],[0.7777777777777778,\"#fb9f3a\"],[0.8888888888888888,\"#fdca26\"],[1.0,\"#f0f921\"]]}],\"surface\":[{\"type\":\"surface\",\"colorbar\":{\"outlinewidth\":0,\"ticks\":\"\"},\"colorscale\":[[0.0,\"#0d0887\"],[0.1111111111111111,\"#46039f\"],[0.2222222222222222,\"#7201a8\"],[0.3333333333333333,\"#9c179e\"],[0.4444444444444444,\"#bd3786\"],[0.5555555555555556,\"#d8576b\"],[0.6666666666666666,\"#ed7953\"],[0.7777777777777778,\"#fb9f3a\"],[0.8888888888888888,\"#fdca26\"],[1.0,\"#f0f921\"]]}],\"mesh3d\":[{\"type\":\"mesh3d\",\"colorbar\":{\"outlinewidth\":0,\"ticks\":\"\"}}],\"scatter\":[{\"fillpattern\":{\"fillmode\":\"overlay\",\"size\":10,\"solidity\":0.2},\"type\":\"scatter\"}],\"parcoords\":[{\"type\":\"parcoords\",\"line\":{\"colorbar\":{\"outlinewidth\":0,\"ticks\":\"\"}}}],\"scatterpolargl\":[{\"type\":\"scatterpolargl\",\"marker\":{\"colorbar\":{\"outlinewidth\":0,\"ticks\":\"\"}}}],\"bar\":[{\"error_x\":{\"color\":\"#2a3f5f\"},\"error_y\":{\"color\":\"#2a3f5f\"},\"marker\":{\"line\":{\"color\":\"#E5ECF6\",\"width\":0.5},\"pattern\":{\"fillmode\":\"overlay\",\"size\":10,\"solidity\":0.2}},\"type\":\"bar\"}],\"scattergeo\":[{\"type\":\"scattergeo\",\"marker\":{\"colorbar\":{\"outlinewidth\":0,\"ticks\":\"\"}}}],\"scatterpolar\":[{\"type\":\"scatterpolar\",\"marker\":{\"colorbar\":{\"outlinewidth\":0,\"ticks\":\"\"}}}],\"histogram\":[{\"marker\":{\"pattern\":{\"fillmode\":\"overlay\",\"size\":10,\"solidity\":0.2}},\"type\":\"histogram\"}],\"scattergl\":[{\"type\":\"scattergl\",\"marker\":{\"colorbar\":{\"outlinewidth\":0,\"ticks\":\"\"}}}],\"scatter3d\":[{\"type\":\"scatter3d\",\"line\":{\"colorbar\":{\"outlinewidth\":0,\"ticks\":\"\"}},\"marker\":{\"colorbar\":{\"outlinewidth\":0,\"ticks\":\"\"}}}],\"scattermapbox\":[{\"type\":\"scattermapbox\",\"marker\":{\"colorbar\":{\"outlinewidth\":0,\"ticks\":\"\"}}}],\"scatterternary\":[{\"type\":\"scatterternary\",\"marker\":{\"colorbar\":{\"outlinewidth\":0,\"ticks\":\"\"}}}],\"scattercarpet\":[{\"type\":\"scattercarpet\",\"marker\":{\"colorbar\":{\"outlinewidth\":0,\"ticks\":\"\"}}}],\"carpet\":[{\"aaxis\":{\"endlinecolor\":\"#2a3f5f\",\"gridcolor\":\"white\",\"linecolor\":\"white\",\"minorgridcolor\":\"white\",\"startlinecolor\":\"#2a3f5f\"},\"baxis\":{\"endlinecolor\":\"#2a3f5f\",\"gridcolor\":\"white\",\"linecolor\":\"white\",\"minorgridcolor\":\"white\",\"startlinecolor\":\"#2a3f5f\"},\"type\":\"carpet\"}],\"table\":[{\"cells\":{\"fill\":{\"color\":\"#EBF0F8\"},\"line\":{\"color\":\"white\"}},\"header\":{\"fill\":{\"color\":\"#C8D4E3\"},\"line\":{\"color\":\"white\"}},\"type\":\"table\"}],\"barpolar\":[{\"marker\":{\"line\":{\"color\":\"#E5ECF6\",\"width\":0.5},\"pattern\":{\"fillmode\":\"overlay\",\"size\":10,\"solidity\":0.2}},\"type\":\"barpolar\"}],\"pie\":[{\"automargin\":true,\"type\":\"pie\"}]},\"layout\":{\"autotypenumbers\":\"strict\",\"colorway\":[\"#636efa\",\"#EF553B\",\"#00cc96\",\"#ab63fa\",\"#FFA15A\",\"#19d3f3\",\"#FF6692\",\"#B6E880\",\"#FF97FF\",\"#FECB52\"],\"font\":{\"color\":\"#2a3f5f\"},\"hovermode\":\"closest\",\"hoverlabel\":{\"align\":\"left\"},\"paper_bgcolor\":\"white\",\"plot_bgcolor\":\"#E5ECF6\",\"polar\":{\"bgcolor\":\"#E5ECF6\",\"angularaxis\":{\"gridcolor\":\"white\",\"linecolor\":\"white\",\"ticks\":\"\"},\"radialaxis\":{\"gridcolor\":\"white\",\"linecolor\":\"white\",\"ticks\":\"\"}},\"ternary\":{\"bgcolor\":\"#E5ECF6\",\"aaxis\":{\"gridcolor\":\"white\",\"linecolor\":\"white\",\"ticks\":\"\"},\"baxis\":{\"gridcolor\":\"white\",\"linecolor\":\"white\",\"ticks\":\"\"},\"caxis\":{\"gridcolor\":\"white\",\"linecolor\":\"white\",\"ticks\":\"\"}},\"coloraxis\":{\"colorbar\":{\"outlinewidth\":0,\"ticks\":\"\"}},\"colorscale\":{\"sequential\":[[0.0,\"#0d0887\"],[0.1111111111111111,\"#46039f\"],[0.2222222222222222,\"#7201a8\"],[0.3333333333333333,\"#9c179e\"],[0.4444444444444444,\"#bd3786\"],[0.5555555555555556,\"#d8576b\"],[0.6666666666666666,\"#ed7953\"],[0.7777777777777778,\"#fb9f3a\"],[0.8888888888888888,\"#fdca26\"],[1.0,\"#f0f921\"]],\"sequentialminus\":[[0.0,\"#0d0887\"],[0.1111111111111111,\"#46039f\"],[0.2222222222222222,\"#7201a8\"],[0.3333333333333333,\"#9c179e\"],[0.4444444444444444,\"#bd3786\"],[0.5555555555555556,\"#d8576b\"],[0.6666666666666666,\"#ed7953\"],[0.7777777777777778,\"#fb9f3a\"],[0.8888888888888888,\"#fdca26\"],[1.0,\"#f0f921\"]],\"diverging\":[[0,\"#8e0152\"],[0.1,\"#c51b7d\"],[0.2,\"#de77ae\"],[0.3,\"#f1b6da\"],[0.4,\"#fde0ef\"],[0.5,\"#f7f7f7\"],[0.6,\"#e6f5d0\"],[0.7,\"#b8e186\"],[0.8,\"#7fbc41\"],[0.9,\"#4d9221\"],[1,\"#276419\"]]},\"xaxis\":{\"gridcolor\":\"white\",\"linecolor\":\"white\",\"ticks\":\"\",\"title\":{\"standoff\":15},\"zerolinecolor\":\"white\",\"automargin\":true,\"zerolinewidth\":2},\"yaxis\":{\"gridcolor\":\"white\",\"linecolor\":\"white\",\"ticks\":\"\",\"title\":{\"standoff\":15},\"zerolinecolor\":\"white\",\"automargin\":true,\"zerolinewidth\":2},\"scene\":{\"xaxis\":{\"backgroundcolor\":\"#E5ECF6\",\"gridcolor\":\"white\",\"linecolor\":\"white\",\"showbackground\":true,\"ticks\":\"\",\"zerolinecolor\":\"white\",\"gridwidth\":2},\"yaxis\":{\"backgroundcolor\":\"#E5ECF6\",\"gridcolor\":\"white\",\"linecolor\":\"white\",\"showbackground\":true,\"ticks\":\"\",\"zerolinecolor\":\"white\",\"gridwidth\":2},\"zaxis\":{\"backgroundcolor\":\"#E5ECF6\",\"gridcolor\":\"white\",\"linecolor\":\"white\",\"showbackground\":true,\"ticks\":\"\",\"zerolinecolor\":\"white\",\"gridwidth\":2}},\"shapedefaults\":{\"line\":{\"color\":\"#2a3f5f\"}},\"annotationdefaults\":{\"arrowcolor\":\"#2a3f5f\",\"arrowhead\":0,\"arrowwidth\":1},\"geo\":{\"bgcolor\":\"white\",\"landcolor\":\"#E5ECF6\",\"subunitcolor\":\"white\",\"showland\":true,\"showlakes\":true,\"lakecolor\":\"white\"},\"title\":{\"x\":0.05},\"mapbox\":{\"style\":\"light\"}}},\"xaxis\":{\"anchor\":\"y\",\"domain\":[0.0,1.0],\"scaleanchor\":\"y\",\"constrain\":\"domain\"},\"yaxis\":{\"anchor\":\"x\",\"domain\":[0.0,1.0],\"autorange\":\"reversed\",\"constrain\":\"domain\"},\"coloraxis\":{\"colorscale\":[[0.0,\"rgb(0,0,131)\"],[0.2,\"rgb(0,60,170)\"],[0.4,\"rgb(5,255,255)\"],[0.6,\"rgb(255,255,0)\"],[0.8,\"rgb(250,0,0)\"],[1.0,\"rgb(128,0,0)\"]]},\"title\":{\"text\":\"Log10 Relative Timing Heatmap\"},\"height\":900,\"width\":1000},                        {\"responsive\": true}                    ).then(function(){\n",
       "                            \n",
       "var gd = document.getElementById('f31c9fe6-50f8-4d06-b3ca-1cc237138bac');\n",
       "var x = new MutationObserver(function (mutations, observer) {{\n",
       "        var display = window.getComputedStyle(gd).display;\n",
       "        if (!display || display === 'none') {{\n",
       "            console.log([gd, 'removed!']);\n",
       "            Plotly.purge(gd);\n",
       "            observer.disconnect();\n",
       "        }}\n",
       "}});\n",
       "\n",
       "// Listen for the removal of the full notebook cells\n",
       "var notebookContainer = gd.closest('#notebook-container');\n",
       "if (notebookContainer) {{\n",
       "    x.observe(notebookContainer, {childList: true});\n",
       "}}\n",
       "\n",
       "// Listen for the clearing of the current output cell\n",
       "var outputEl = gd.closest('.output');\n",
       "if (outputEl) {{\n",
       "    x.observe(outputEl, {childList: true});\n",
       "}}\n",
       "\n",
       "                        })                };                });            </script>        </div>"
      ]
     },
     "metadata": {},
     "output_type": "display_data"
    }
   ],
   "source": [
    "# Create a dataframe with row and column names for the heatmap\n",
    "df = pd.DataFrame(columns=results.keys(), index=results.keys())\n",
    "\n",
    "# Fill in df with the values we want to display\n",
    "for name1, time1 in results.items():\n",
    "    for name2, time2 in results.items():\n",
    "        df.loc[name1, name2] = time1/time2\n",
    "# Create the heatmap and make it large\n",
    "# Plot the original heatmap\n",
    "fig = px.imshow(df, text_auto=True, color_continuous_scale='Jet', width=1000, height=900, title=\"Relative Timing Heatmap\")\n",
    "fig.show()\n",
    "\n",
    "# Plot the log10 heatmap\n",
    "df_log = np.log10(df.astype(float))\n",
    "fig_log = px.imshow(df_log, text_auto=True, color_continuous_scale='Jet', width=1000, height=900, title=\"Log10 Relative Timing Heatmap\")\n",
    "fig_log.show()"
   ]
  },
  {
   "cell_type": "code",
   "execution_count": 12,
   "metadata": {},
   "outputs": [
    {
     "name": "stdout",
     "output_type": "stream",
     "text": [
      "Running on cuda\n",
      "Size: 100\n",
      "Entries: 500\n",
      "Synchronize GPU: True\n",
      "Training least squares models:\n",
      "-------------dense training:--------------\n",
      "dense Epoch 0, Loss: 6.207830905914307\n",
      "dense Epoch 10, Loss: 5.944512844085693\n",
      "dense Epoch 20, Loss: 5.693314552307129\n",
      "dense final loss: 5.47710657119751\n",
      "-------------coo training:--------------\n",
      "coo Epoch 0, Loss: 6.207830905914307\n",
      "coo Epoch 10, Loss: 6.168856620788574\n",
      "coo Epoch 20, Loss: 6.130222797393799\n",
      "coo final loss: 6.095741271972656\n",
      "-------------csr training:--------------\n",
      "csr Epoch 0, Loss: 6.207830905914307\n",
      "csr Epoch 10, Loss: 6.168856620788574\n",
      "csr Epoch 20, Loss: 6.130222797393799\n",
      "csr final loss: 6.095741271972656\n",
      "-------------maskedLinear training:--------------\n",
      "maskedLinear Epoch 0, Loss: 6.207830905914307\n",
      "maskedLinear Epoch 10, Loss: 6.168856620788574\n",
      "maskedLinear Epoch 20, Loss: 6.130222797393799\n",
      "maskedLinear final loss: 6.095741271972656\n",
      "-------------sparseLinear training:--------------\n",
      "sparseLinear Epoch 0, Loss: 6.207830905914307\n",
      "sparseLinear Epoch 10, Loss: 6.168856620788574\n",
      "sparseLinear Epoch 20, Loss: 6.130222797393799\n",
      "sparseLinear final loss: 6.095741271972656\n"
     ]
    }
   ],
   "source": [
    "def train_least_squares(size, entries, device, syncgpu, epochs=30):\n",
    "    # test if cuda is available\n",
    "    if device == \"cuda\":\n",
    "        if not torch.cuda.is_available():\n",
    "            print(\"CUDA is not available, using CPU instead\")\n",
    "            device = \"cpu\"\n",
    "\n",
    "    print(f\"Running on {device}\")\n",
    "    print(f\"Size: {size}\")\n",
    "    print(f\"Entries: {entries}\")\n",
    "    print(f\"Synchronize GPU: {syncgpu}\")\n",
    "    \n",
    "    # Generate the matrices\n",
    "    matrices = generate(size, entries, device=device)\n",
    "\n",
    "    # Generate the data\n",
    "    X = torch.randn(10, size, device=device)  # Example input data\n",
    "    Y = torch.randn(10, size, device=device)  # Example target data\n",
    "\n",
    "    # Define the loss function\n",
    "    criterion = torch.nn.MSELoss()\n",
    "\n",
    "    # Wrap a model around the sparse matrix\n",
    "    class matrixWrapper(torch.nn.Module):\n",
    "        def __init__(self, matrix, type=\"dense\"):\n",
    "            super(matrixWrapper, self).__init__()\n",
    "            self.type = type\n",
    "            self.matrix = torch.nn.Parameter(matrix)\n",
    "        def forward(self, x):\n",
    "            if self.type == \"dense\":\n",
    "                return torch.mm(x, self.matrix.T)\n",
    "            else:\n",
    "                return torch.sparse.mm(self.matrix, x.T).T\n",
    "\n",
    "    # Train the models\n",
    "    print('Training least squares models:')\n",
    "    for matrix, matrix_name in zip(matrices.values(), matrices.keys()):\n",
    "        if matrix_name in [\"coo\", \"csr\"]:\n",
    "            sparse_model = matrixWrapper(matrix, type=\"sparse\").to(device)\n",
    "        elif matrix_name in [\"dense\"]:\n",
    "            sparse_model = matrixWrapper(matrix, type=\"dense\").to(device)\n",
    "        elif matrix_name in [\"maskedLinear\", \"sparseLinear\"]:\n",
    "            sparse_model = matrix.module.to(device)\n",
    "        else:\n",
    "            continue\n",
    "\n",
    "        # Define the optimizer\n",
    "        optimizer = torch.optim.SGD(sparse_model.parameters(), lr=0.01)\n",
    "\n",
    "        # Training loop\n",
    "        print(f'-------------{matrix_name} training:--------------')\n",
    "        for epoch in range(epochs):\n",
    "            optimizer.zero_grad()\n",
    "            output = sparse_model(X)\n",
    "            loss = criterion(output, Y)\n",
    "            if epoch % 10 == 0:\n",
    "                print(f'{matrix_name} Epoch {epoch}, Loss: {loss.item()}')\n",
    "            loss.backward()\n",
    "            optimizer.step()\n",
    "\n",
    "        print(f'{matrix_name} final loss: {loss.item()}')\n",
    "    return matrices\n",
    "\n",
    "# Example usage\n",
    "matrices = train_least_squares(size=100, entries=500, device='cuda', syncgpu=True)"
   ]
  },
  {
   "cell_type": "code",
   "execution_count": null,
   "metadata": {},
   "outputs": [],
   "source": []
  }
 ],
 "metadata": {
  "kernelspec": {
   "display_name": ".venv",
   "language": "python",
   "name": "python3"
  },
  "language_info": {
   "codemirror_mode": {
    "name": "ipython",
    "version": 3
   },
   "file_extension": ".py",
   "mimetype": "text/x-python",
   "name": "python",
   "nbconvert_exporter": "python",
   "pygments_lexer": "ipython3",
   "version": "3.10.12"
  }
 },
 "nbformat": 4,
 "nbformat_minor": 2
}
