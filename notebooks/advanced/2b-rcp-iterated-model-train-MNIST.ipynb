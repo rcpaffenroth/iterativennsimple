{
 "cells": [
  {
   "cell_type": "markdown",
   "id": "0d149436",
   "metadata": {
    "colab_type": "text",
    "id": "view-in-github"
   },
   "source": [
    "<a href=\"https://colab.research.google.com/github/rcpaffenroth/dac_raghu/blob/main/Autoencoder.ipynb\" target=\"_parent\"><img src=\"https://colab.research.google.com/assets/colab-badge.svg\" alt=\"Open In Colab\"/></a>"
   ]
  },
  {
   "cell_type": "markdown",
   "id": "f6828844-3a74-49bd-8348-ceae45948da7",
   "metadata": {
    "id": "f6828844-3a74-49bd-8348-ceae45948da7"
   },
   "source": [
    "# Load data"
   ]
  },
  {
   "cell_type": "code",
   "execution_count": null,
   "id": "a5713c2d-0108-4708-9f0d-021e183f6d1e",
   "metadata": {
    "id": "a5713c2d-0108-4708-9f0d-021e183f6d1e"
   },
   "outputs": [],
   "source": [
    "import torch\n",
    "import torch.nn as nn\n",
    "\n",
    "import matplotlib.pyplot as plt\n",
    "%matplotlib inline\n",
    "\n",
    "from generatedata.load_data import load_data\n",
    "from generatedata.StartTargetData import StartTargetData"
   ]
  },
  {
   "cell_type": "code",
   "execution_count": 28,
   "id": "9f5c3fcc-147d-4669-8ab2-3ddf16a88b4e",
   "metadata": {
    "id": "9f5c3fcc-147d-4669-8ab2-3ddf16a88b4e"
   },
   "outputs": [],
   "source": [
    "data_dict = load_data('MNIST')\n",
    "# Read the start data\n",
    "x_start = data_dict['start']\n",
    "# Read the target data\n",
    "x_target = data_dict['target']\n"
   ]
  },
  {
   "cell_type": "markdown",
   "id": "1880ae29-6269-42a9-870f-fb52bb18cf36",
   "metadata": {
    "id": "1880ae29-6269-42a9-870f-fb52bb18cf36"
   },
   "source": [
    "# Dynamical system"
   ]
  },
  {
   "cell_type": "code",
   "execution_count": 29,
   "id": "ebbc9b74-d7dc-4dd6-bb72-88ed57f5b63e",
   "metadata": {
    "id": "ebbc9b74-d7dc-4dd6-bb72-88ed57f5b63e"
   },
   "outputs": [],
   "source": [
    "x_size = x_start.shape[1]\n",
    "\n",
    "# # A pytorch module that multiplies the output of two other modules, where the two modules are given as arguments to the constructor, and the fo\n",
    "# # The forward method takes a single argument and returns a single tensor.\n",
    "# class Multiply(nn.Module):\n",
    "#     def __init__(self, module1, module2):\n",
    "#         super().__init__()\n",
    "#         self.module1 = module1\n",
    "#         self.module2 = module2\n",
    "#     def forward(self, x):\n",
    "#         return self.module1(x) * self.module2(x)\n",
    "\n",
    "# map = Multiply(nn.Linear(x_size, x_size), nn.Linear(x_size, x_size)) \n",
    "\n",
    "map = nn.Sequential(nn.Linear(x_size, x_size), nn.LeakyReLU(), nn.Linear(x_size, x_size))"
   ]
  },
  {
   "cell_type": "code",
   "execution_count": 30,
   "id": "a7eeb2b8",
   "metadata": {},
   "outputs": [],
   "source": [
    "# Turn a pandas dataframe into a pytorch tensor\n",
    "def df_to_tensor(df):\n",
    "    return torch.tensor(df.values, dtype=torch.float32)\n",
    "\n",
    "# Make two pytorch tensor datasets from the start and target data\n",
    "x_start_tensor = df_to_tensor(x_start)\n",
    "x_target_tensor = df_to_tensor(x_target)\n",
    "    \n",
    "train_data = StartTargetData(x_start_tensor, x_target_tensor)\n",
    "train_loader = torch.utils.data.DataLoader(train_data, batch_size=100, shuffle=True)"
   ]
  },
  {
   "cell_type": "code",
   "execution_count": 31,
   "id": "7486ca78-5e1c-4f94-afb5-9015303aaa09",
   "metadata": {
    "colab": {
     "base_uri": "https://localhost:8080/",
     "height": 382,
     "referenced_widgets": [
      "915d05c1f046462ebe574b6b306b6110",
      "df24beefb77f4549b7beed2e23558980",
      "a5a6545605cb475fb4bd6db5d32b0b24",
      "5959c15bd28a4059b8952689490ebe2f",
      "a3075bdd01e047faa3f1246dabaedcc7",
      "4d5e173f3cdd465b9b40f8b23d270e8a",
      "4340e450c8c9444784e3ac188b9230df",
      "c81f9b0a5dee4db396442599cb295097",
      "faf8ff98c59b4951b62cd8ad4e1d5bfa",
      "a955f09104b54e37b262198a3807761c",
      "d4d3328dd8914927b619350b49b6f81c"
     ]
    },
    "id": "7486ca78-5e1c-4f94-afb5-9015303aaa09",
    "outputId": "e3247ec9-d372-4fda-c69e-654d985bc905"
   },
   "outputs": [],
   "source": [
    "# Define the loss function and optimizer\n",
    "criterion = torch.nn.MSELoss()\n",
    "optimizer = torch.optim.RAdam(map.parameters())"
   ]
  },
  {
   "cell_type": "code",
   "execution_count": 32,
   "id": "7d02afae",
   "metadata": {},
   "outputs": [
    {
     "name": "stdout",
     "output_type": "stream",
     "text": [
      "Epoch 0, Batch 9, Loss 0.8981095552444458\n",
      "Epoch 100, Batch 9, Loss 0.009909420274198055\n",
      "Epoch 200, Batch 9, Loss 0.003561983583495021\n",
      "Epoch 300, Batch 9, Loss 0.0022189284209161997\n",
      "Epoch 400, Batch 9, Loss 0.001917598769068718\n"
     ]
    }
   ],
   "source": [
    "max_epochs = 500\n",
    "# Train the model\n",
    "for epoch in range(max_epochs):\n",
    "    for batch_idx, (start, target) in enumerate(train_loader):\n",
    "        optimizer.zero_grad()\n",
    "        mapped = map(start)\n",
    "        loss = criterion(mapped, target)\n",
    "        loss.backward()\n",
    "        optimizer.step()\n",
    "    if epoch % 100 == 0:\n",
    "        print(f'Epoch {epoch}, Batch {batch_idx}, Loss {loss.item()}')"
   ]
  },
  {
   "cell_type": "markdown",
   "id": "054793e0",
   "metadata": {},
   "source": [
    "# Training data"
   ]
  },
  {
   "cell_type": "code",
   "execution_count": 33,
   "id": "bc001b5d",
   "metadata": {},
   "outputs": [
    {
     "name": "stdout",
     "output_type": "stream",
     "text": [
      "before:  tensor(0.1000)\n",
      "after:   tensor(-0.0178)\n",
      "truth:   tensor(0.)\n"
     ]
    }
   ],
   "source": [
    "plot_idx = 2\n",
    "mapped_tensor = map(x_start_tensor).detach()\n",
    "print('before: ', x_start_tensor[plot_idx][-1])\n",
    "print('after:  ', mapped_tensor[plot_idx][-1])\n",
    "print('truth:  ', x_target_tensor[plot_idx][-1])\n",
    "\n"
   ]
  },
  {
   "cell_type": "code",
   "execution_count": 34,
   "id": "ef3fdffb",
   "metadata": {},
   "outputs": [
    {
     "data": {
      "text/plain": [
       "<matplotlib.image.AxesImage at 0x70a1cc24e890>"
      ]
     },
     "execution_count": 34,
     "metadata": {},
     "output_type": "execute_result"
    },
    {
     "data": {
      "image/png": "[encoded data removed]",
      "text/plain": [
       "<Figure size 640x480 with 1 Axes>"
      ]
     },
     "metadata": {},
     "output_type": "display_data"
    }
   ],
   "source": [
    "plt.figure()\n",
    "plt.imshow(mapped_tensor[plot_idx][:28*28].reshape(28, 28).numpy())"
   ]
  },
  {
   "cell_type": "code",
   "execution_count": 35,
   "id": "8ac074be-5d27-480a-83fe-e1161e9d69ef",
   "metadata": {
    "id": "8ac074be-5d27-480a-83fe-e1161e9d69ef"
   },
   "outputs": [
    {
     "data": {
      "image/png": "[encoded data removed]",
      "text/plain": [
       "<Figure size 640x480 with 1 Axes>"
      ]
     },
     "metadata": {},
     "output_type": "display_data"
    }
   ],
   "source": [
    "mapped_tensor = map(x_start_tensor).detach()\n",
    "plot_points = 10\n",
    "\n",
    "from sklearn.decomposition import PCA\n",
    "\n",
    "\n",
    "def plot_tensor_projections(x_start_tensor, mapped_tensor, x_target_tensor, plot_points):\n",
    "    from sklearn.decomposition import PCA\n",
    "    import matplotlib.pyplot as plt\n",
    "\n",
    "\n",
    "    pca = PCA(n_components=2)\n",
    "    pca.fit(x_target_tensor)\n",
    "    # Project tensors to 2D using PCA\n",
    "    x_start_tensor_2 = pca.transform(x_start_tensor)[:plot_points]\n",
    "    mapped_tensor_2 = pca.transform(mapped_tensor)[:plot_points]\n",
    "    x_target_tensor_2 = pca.transform(x_target_tensor)\n",
    "\n",
    "    # Plot the 2D PCA projections and arrows\n",
    "    fig, ax = plt.subplots()\n",
    "    ax.scatter(x_start_tensor_2[:,0], x_start_tensor_2[:,1])\n",
    "    ax.scatter(mapped_tensor_2[:,0], mapped_tensor_2[:,1])\n",
    "    dx = mapped_tensor_2[:,0]-x_start_tensor_2[:,0]\n",
    "    dy = mapped_tensor_2[:,1]-x_start_tensor_2[:,1]\n",
    "    ax.quiver(x_start_tensor_2[:,0], x_start_tensor_2[:,1], dx, dy, scale=1, scale_units='xy', angles='xy', color='r', width=0.005)\n",
    "    ax.scatter(x_target_tensor_2[:,0], x_target_tensor_2[:,1], s=1)\n",
    "    plt.show()\n",
    "\n",
    "# Plot the 2D PCA projections and arrows for the three tensors\n",
    "plot_tensor_projections(x_start_tensor, mapped_tensor, x_target_tensor, plot_points)"
   ]
  },
  {
   "cell_type": "markdown",
   "id": "a8d68302",
   "metadata": {},
   "source": [
    "# Testing data"
   ]
  },
  {
   "cell_type": "markdown",
   "id": "bfaef6c1",
   "metadata": {},
   "source": [
    "## Testing label"
   ]
  },
  {
   "cell_type": "code",
   "execution_count": 36,
   "id": "ab6cb817",
   "metadata": {},
   "outputs": [
    {
     "name": "stdout",
     "output_type": "stream",
     "text": [
      "before:  tensor(0.) after:   tensor(-0.0202) truth:  tensor(0.)\n",
      "before:  tensor(1.) after:   tensor(0.0041) truth:  tensor(0.)\n",
      "before:  tensor(2.) after:   tensor(0.0281) truth:  tensor(0.)\n",
      "before:  tensor(3.) after:   tensor(0.0547) truth:  tensor(0.)\n",
      "before:  tensor(4.) after:   tensor(0.0822) truth:  tensor(0.)\n",
      "before:  tensor(5.) after:   tensor(0.1092) truth:  tensor(0.)\n",
      "before:  tensor(6.) after:   tensor(0.1359) truth:  tensor(0.)\n",
      "before:  tensor(7.) after:   tensor(0.1627) truth:  tensor(0.)\n",
      "before:  tensor(8.) after:   tensor(0.1891) truth:  tensor(0.)\n",
      "before:  tensor(9.) after:   tensor(0.2198) truth:  tensor(0.)\n"
     ]
    }
   ],
   "source": [
    "plot_idx = 2\n",
    "test_tensor = x_start_tensor[plot_idx]\n",
    "test_truth = x_target_tensor[plot_idx][-1]\n",
    "\n",
    "\n",
    "for i in range(10):\n",
    "    test_tensor[-1] = i\n",
    "    mapped_tensor = map(test_tensor).detach()\n",
    "    print('before: ', test_tensor[-1], 'after:  ', mapped_tensor[-1], 'truth: ', test_truth)\n"
   ]
  },
  {
   "cell_type": "code",
   "execution_count": 37,
   "id": "3eefbeb5",
   "metadata": {},
   "outputs": [
    {
     "data": {
      "text/plain": [
       "<matplotlib.image.AxesImage at 0x70a1c404d810>"
      ]
     },
     "execution_count": 37,
     "metadata": {},
     "output_type": "execute_result"
    },
    {
     "data": {
      "image/png": "[encoded data removed]",
      "text/plain": [
       "<Figure size 640x480 with 1 Axes>"
      ]
     },
     "metadata": {},
     "output_type": "display_data"
    }
   ],
   "source": [
    "plt.figure()\n",
    "plt.imshow(mapped_tensor[:28*28].reshape(28, 28).numpy())"
   ]
  },
  {
   "cell_type": "code",
   "execution_count": 38,
   "id": "c693735a",
   "metadata": {},
   "outputs": [
    {
     "name": "stdout",
     "output_type": "stream",
     "text": [
      "before:  tensor(0.) after:   tensor(-0.0508) truth:  tensor(0.)\n",
      "before:  tensor(1.) after:   tensor(-0.0296) truth:  tensor(0.)\n",
      "before:  tensor(2.) after:   tensor(-0.0080) truth:  tensor(0.)\n",
      "before:  tensor(3.) after:   tensor(0.0140) truth:  tensor(0.)\n",
      "before:  tensor(4.) after:   tensor(0.0355) truth:  tensor(0.)\n",
      "before:  tensor(5.) after:   tensor(0.0571) truth:  tensor(0.)\n",
      "before:  tensor(6.) after:   tensor(0.0802) truth:  tensor(0.)\n",
      "before:  tensor(7.) after:   tensor(0.1032) truth:  tensor(0.)\n",
      "before:  tensor(8.) after:   tensor(0.1250) truth:  tensor(0.)\n",
      "before:  tensor(9.) after:   tensor(0.1460) truth:  tensor(0.)\n"
     ]
    }
   ],
   "source": [
    "plot_idx = 155\n",
    "test_tensor = x_start_tensor[plot_idx]\n",
    "test_truth = x_target_tensor[plot_idx][-1]\n",
    "\n",
    "for i in range(10):\n",
    "    test_tensor[-1] = i\n",
    "    mapped_tensor = map(map(test_tensor)).detach()\n",
    "    print('before: ', test_tensor[-1], 'after:  ', mapped_tensor[-1], 'truth: ', test_truth)"
   ]
  },
  {
   "cell_type": "code",
   "execution_count": 39,
   "id": "d930e308",
   "metadata": {},
   "outputs": [
    {
     "data": {
      "text/plain": [
       "<matplotlib.image.AxesImage at 0x70a207f0d120>"
      ]
     },
     "execution_count": 39,
     "metadata": {},
     "output_type": "execute_result"
    },
    {
     "data": {
      "image/png": "[encoded data removed]",
      "text/plain": [
       "<Figure size 640x480 with 1 Axes>"
      ]
     },
     "metadata": {},
     "output_type": "display_data"
    }
   ],
   "source": [
    "plt.figure()\n",
    "plt.imshow(mapped_tensor[:28*28].reshape(28, 28).numpy())"
   ]
  },
  {
   "cell_type": "markdown",
   "id": "f2219886",
   "metadata": {},
   "source": [
    "## Testing everything"
   ]
  },
  {
   "cell_type": "code",
   "execution_count": 40,
   "id": "bf7cf775",
   "metadata": {},
   "outputs": [
    {
     "name": "stdout",
     "output_type": "stream",
     "text": [
      "before:  tensor(0.) after:   tensor(-0.0840) truth:  tensor(0.)\n",
      "before:  tensor(1.) after:   tensor(-0.0590) truth:  tensor(0.)\n",
      "before:  tensor(2.) after:   tensor(-0.0339) truth:  tensor(0.)\n",
      "before:  tensor(3.) after:   tensor(-0.0096) truth:  tensor(0.)\n",
      "before:  tensor(4.) after:   tensor(0.0163) truth:  tensor(0.)\n",
      "before:  tensor(5.) after:   tensor(0.0430) truth:  tensor(0.)\n",
      "before:  tensor(6.) after:   tensor(0.0699) truth:  tensor(0.)\n",
      "before:  tensor(7.) after:   tensor(0.0956) truth:  tensor(0.)\n",
      "before:  tensor(8.) after:   tensor(0.1219) truth:  tensor(0.)\n",
      "before:  tensor(9.) after:   tensor(0.1495) truth:  tensor(0.)\n"
     ]
    }
   ],
   "source": [
    "plot_idx = 0\n",
    "test_tensor = x_start_tensor_test[plot_idx]\n",
    "test_truth = x_target_tensor_test[plot_idx][-1]\n",
    "\n",
    "for i in range(10):\n",
    "    test_tensor[-1] = i\n",
    "    mapped_tensor = map(map(test_tensor)).detach()\n",
    "    print('before: ', test_tensor[-1], 'after:  ', mapped_tensor[-1], 'truth: ', test_truth)"
   ]
  },
  {
   "cell_type": "code",
   "execution_count": 41,
   "id": "e892288c",
   "metadata": {},
   "outputs": [
    {
     "data": {
      "text/plain": [
       "<matplotlib.image.AxesImage at 0x70a244085f90>"
      ]
     },
     "execution_count": 41,
     "metadata": {},
     "output_type": "execute_result"
    },
    {
     "data": {
      "image/png": "[encoded data removed]",
      "text/plain": [
       "<Figure size 640x480 with 1 Axes>"
      ]
     },
     "metadata": {},
     "output_type": "display_data"
    }
   ],
   "source": [
    "plt.figure()\n",
    "plt.imshow(mapped_tensor[:28*28].reshape(28, 28).numpy())"
   ]
  },
  {
   "cell_type": "code",
   "execution_count": 42,
   "id": "32ca6419",
   "metadata": {},
   "outputs": [
    {
     "name": "stdout",
     "output_type": "stream",
     "text": [
      "before:  tensor(0.) after:   tensor(-0.0232) truth:  tensor(0.)\n",
      "before:  tensor(1.) after:   tensor(-0.0063) truth:  tensor(0.)\n",
      "before:  tensor(2.) after:   tensor(0.0116) truth:  tensor(0.)\n",
      "before:  tensor(3.) after:   tensor(0.0305) truth:  tensor(0.)\n",
      "before:  tensor(4.) after:   tensor(0.0497) truth:  tensor(0.)\n",
      "before:  tensor(5.) after:   tensor(0.0690) truth:  tensor(0.)\n",
      "before:  tensor(6.) after:   tensor(0.0892) truth:  tensor(0.)\n",
      "before:  tensor(7.) after:   tensor(0.1112) truth:  tensor(0.)\n",
      "before:  tensor(8.) after:   tensor(0.1330) truth:  tensor(0.)\n",
      "before:  tensor(9.) after:   tensor(0.1544) truth:  tensor(0.)\n"
     ]
    }
   ],
   "source": [
    "plot_idx = 1\n",
    "test_tensor = x_start_tensor_test[plot_idx]\n",
    "test_truth = x_target_tensor_test[plot_idx][-1]\n",
    "\n",
    "for i in range(10):\n",
    "    test_tensor[-1] = i\n",
    "    mapped_tensor = map(map(test_tensor)).detach()\n",
    "    print('before: ', test_tensor[-1], 'after:  ', mapped_tensor[-1], 'truth: ', test_truth)"
   ]
  },
  {
   "cell_type": "code",
   "execution_count": 43,
   "id": "41f8b8ed",
   "metadata": {},
   "outputs": [
    {
     "data": {
      "text/plain": [
       "<matplotlib.image.AxesImage at 0x70a1c405e980>"
      ]
     },
     "execution_count": 43,
     "metadata": {},
     "output_type": "execute_result"
    },
    {
     "data": {
      "image/png": "[encoded data removed]",
      "text/plain": [
       "<Figure size 640x480 with 1 Axes>"
      ]
     },
     "metadata": {},
     "output_type": "display_data"
    }
   ],
   "source": [
    "plt.figure()\n",
    "plt.imshow(mapped_tensor[:28*28].reshape(28, 28).numpy())"
   ]
  },
  {
   "cell_type": "code",
   "execution_count": null,
   "id": "15340083",
   "metadata": {},
   "outputs": [],
   "source": []
  }
 ],
 "metadata": {
  "accelerator": "GPU",
  "colab": {
   "include_colab_link": true,
   "provenance": []
  },
  "gpuClass": "standard",
  "jupytext": {
   "formats": "ipynb,py:percent,md"
  },
  "kernelspec": {
   "display_name": ".venv",
   "language": "python",
   "name": "python3"
  },
  "language_info": {
   "codemirror_mode": {
    "name": "ipython",
    "version": 3
   },
   "file_extension": ".py",
   "mimetype": "text/x-python",
   "name": "python",
   "nbconvert_exporter": "python",
   "pygments_lexer": "ipython3",
   "version": "3.10.12"
  },
  "widgets": {
   "application/vnd.jupyter.widget-state+json": {
    "4340e450c8c9444784e3ac188b9230df": {
     "model_module": "@jupyter-widgets/controls",
     "model_module_version": "1.5.0",
     "model_name": "DescriptionStyleModel",
     "state": {
      "_model_module": "@jupyter-widgets/controls",
      "_model_module_version": "1.5.0",
      "_model_name": "DescriptionStyleModel",
      "_view_count": null,
      "_view_module": "@jupyter-widgets/base",
      "_view_module_version": "1.2.0",
      "_view_name": "StyleView",
      "description_width": ""
     }
    },
    "4d5e173f3cdd465b9b40f8b23d270e8a": {
     "model_module": "@jupyter-widgets/base",
     "model_module_version": "1.2.0",
     "model_name": "LayoutModel",
     "state": {
      "_model_module": "@jupyter-widgets/base",
      "_model_module_version": "1.2.0",
      "_model_name": "LayoutModel",
      "_view_count": null,
      "_view_module": "@jupyter-widgets/base",
      "_view_module_version": "1.2.0",
      "_view_name": "LayoutView",
      "align_content": null,
      "align_items": null,
      "align_self": null,
      "border": null,
      "bottom": null,
      "display": null,
      "flex": null,
      "flex_flow": null,
      "grid_area": null,
      "grid_auto_columns": null,
      "grid_auto_flow": null,
      "grid_auto_rows": null,
      "grid_column": null,
      "grid_gap": null,
      "grid_row": null,
      "grid_template_areas": null,
      "grid_template_columns": null,
      "grid_template_rows": null,
      "height": null,
      "justify_content": null,
      "justify_items": null,
      "left": null,
      "margin": null,
      "max_height": null,
      "max_width": null,
      "min_height": null,
      "min_width": null,
      "object_fit": null,
      "object_position": null,
      "order": null,
      "overflow": null,
      "overflow_x": null,
      "overflow_y": null,
      "padding": null,
      "right": null,
      "top": null,
      "visibility": null,
      "width": null
     }
    },
    "5959c15bd28a4059b8952689490ebe2f": {
     "model_module": "@jupyter-widgets/controls",
     "model_module_version": "1.5.0",
     "model_name": "HTMLModel",
     "state": {
      "_dom_classes": [],
      "_model_module": "@jupyter-widgets/controls",
      "_model_module_version": "1.5.0",
      "_model_name": "HTMLModel",
      "_view_count": null,
      "_view_module": "@jupyter-widgets/controls",
      "_view_module_version": "1.5.0",
      "_view_name": "HTMLView",
      "description": "",
      "description_tooltip": null,
      "layout": "IPY_MODEL_a955f09104b54e37b262198a3807761c",
      "placeholder": "​",
      "style": "IPY_MODEL_d4d3328dd8914927b619350b49b6f81c",
      "value": " 999/999 [00:08&lt;00:00, 114.60it/s, loss=0.000293, v_num=0]"
     }
    },
    "915d05c1f046462ebe574b6b306b6110": {
     "model_module": "@jupyter-widgets/controls",
     "model_module_version": "1.5.0",
     "model_name": "HBoxModel",
     "state": {
      "_dom_classes": [],
      "_model_module": "@jupyter-widgets/controls",
      "_model_module_version": "1.5.0",
      "_model_name": "HBoxModel",
      "_view_count": null,
      "_view_module": "@jupyter-widgets/controls",
      "_view_module_version": "1.5.0",
      "_view_name": "HBoxView",
      "box_style": "",
      "children": [
       "IPY_MODEL_df24beefb77f4549b7beed2e23558980",
       "IPY_MODEL_a5a6545605cb475fb4bd6db5d32b0b24",
       "IPY_MODEL_5959c15bd28a4059b8952689490ebe2f"
      ],
      "layout": "IPY_MODEL_a3075bdd01e047faa3f1246dabaedcc7"
     }
    },
    "a3075bdd01e047faa3f1246dabaedcc7": {
     "model_module": "@jupyter-widgets/base",
     "model_module_version": "1.2.0",
     "model_name": "LayoutModel",
     "state": {
      "_model_module": "@jupyter-widgets/base",
      "_model_module_version": "1.2.0",
      "_model_name": "LayoutModel",
      "_view_count": null,
      "_view_module": "@jupyter-widgets/base",
      "_view_module_version": "1.2.0",
      "_view_name": "LayoutView",
      "align_content": null,
      "align_items": null,
      "align_self": null,
      "border": null,
      "bottom": null,
      "display": "inline-flex",
      "flex": null,
      "flex_flow": "row wrap",
      "grid_area": null,
      "grid_auto_columns": null,
      "grid_auto_flow": null,
      "grid_auto_rows": null,
      "grid_column": null,
      "grid_gap": null,
      "grid_row": null,
      "grid_template_areas": null,
      "grid_template_columns": null,
      "grid_template_rows": null,
      "height": null,
      "justify_content": null,
      "justify_items": null,
      "left": null,
      "margin": null,
      "max_height": null,
      "max_width": null,
      "min_height": null,
      "min_width": null,
      "object_fit": null,
      "object_position": null,
      "order": null,
      "overflow": null,
      "overflow_x": null,
      "overflow_y": null,
      "padding": null,
      "right": null,
      "top": null,
      "visibility": null,
      "width": "100%"
     }
    },
    "a5a6545605cb475fb4bd6db5d32b0b24": {
     "model_module": "@jupyter-widgets/controls",
     "model_module_version": "1.5.0",
     "model_name": "FloatProgressModel",
     "state": {
      "_dom_classes": [],
      "_model_module": "@jupyter-widgets/controls",
      "_model_module_version": "1.5.0",
      "_model_name": "FloatProgressModel",
      "_view_count": null,
      "_view_module": "@jupyter-widgets/controls",
      "_view_module_version": "1.5.0",
      "_view_name": "ProgressView",
      "bar_style": "success",
      "description": "",
      "description_tooltip": null,
      "layout": "IPY_MODEL_c81f9b0a5dee4db396442599cb295097",
      "max": 999,
      "min": 0,
      "orientation": "horizontal",
      "style": "IPY_MODEL_faf8ff98c59b4951b62cd8ad4e1d5bfa",
      "value": 999
     }
    },
    "a955f09104b54e37b262198a3807761c": {
     "model_module": "@jupyter-widgets/base",
     "model_module_version": "1.2.0",
     "model_name": "LayoutModel",
     "state": {
      "_model_module": "@jupyter-widgets/base",
      "_model_module_version": "1.2.0",
      "_model_name": "LayoutModel",
      "_view_count": null,
      "_view_module": "@jupyter-widgets/base",
      "_view_module_version": "1.2.0",
      "_view_name": "LayoutView",
      "align_content": null,
      "align_items": null,
      "align_self": null,
      "border": null,
      "bottom": null,
      "display": null,
      "flex": null,
      "flex_flow": null,
      "grid_area": null,
      "grid_auto_columns": null,
      "grid_auto_flow": null,
      "grid_auto_rows": null,
      "grid_column": null,
      "grid_gap": null,
      "grid_row": null,
      "grid_template_areas": null,
      "grid_template_columns": null,
      "grid_template_rows": null,
      "height": null,
      "justify_content": null,
      "justify_items": null,
      "left": null,
      "margin": null,
      "max_height": null,
      "max_width": null,
      "min_height": null,
      "min_width": null,
      "object_fit": null,
      "object_position": null,
      "order": null,
      "overflow": null,
      "overflow_x": null,
      "overflow_y": null,
      "padding": null,
      "right": null,
      "top": null,
      "visibility": null,
      "width": null
     }
    },
    "c81f9b0a5dee4db396442599cb295097": {
     "model_module": "@jupyter-widgets/base",
     "model_module_version": "1.2.0",
     "model_name": "LayoutModel",
     "state": {
      "_model_module": "@jupyter-widgets/base",
      "_model_module_version": "1.2.0",
      "_model_name": "LayoutModel",
      "_view_count": null,
      "_view_module": "@jupyter-widgets/base",
      "_view_module_version": "1.2.0",
      "_view_name": "LayoutView",
      "align_content": null,
      "align_items": null,
      "align_self": null,
      "border": null,
      "bottom": null,
      "display": null,
      "flex": "2",
      "flex_flow": null,
      "grid_area": null,
      "grid_auto_columns": null,
      "grid_auto_flow": null,
      "grid_auto_rows": null,
      "grid_column": null,
      "grid_gap": null,
      "grid_row": null,
      "grid_template_areas": null,
      "grid_template_columns": null,
      "grid_template_rows": null,
      "height": null,
      "justify_content": null,
      "justify_items": null,
      "left": null,
      "margin": null,
      "max_height": null,
      "max_width": null,
      "min_height": null,
      "min_width": null,
      "object_fit": null,
      "object_position": null,
      "order": null,
      "overflow": null,
      "overflow_x": null,
      "overflow_y": null,
      "padding": null,
      "right": null,
      "top": null,
      "visibility": null,
      "width": null
     }
    },
    "d4d3328dd8914927b619350b49b6f81c": {
     "model_module": "@jupyter-widgets/controls",
     "model_module_version": "1.5.0",
     "model_name": "DescriptionStyleModel",
     "state": {
      "_model_module": "@jupyter-widgets/controls",
      "_model_module_version": "1.5.0",
      "_model_name": "DescriptionStyleModel",
      "_view_count": null,
      "_view_module": "@jupyter-widgets/base",
      "_view_module_version": "1.2.0",
      "_view_name": "StyleView",
      "description_width": ""
     }
    },
    "df24beefb77f4549b7beed2e23558980": {
     "model_module": "@jupyter-widgets/controls",
     "model_module_version": "1.5.0",
     "model_name": "HTMLModel",
     "state": {
      "_dom_classes": [],
      "_model_module": "@jupyter-widgets/controls",
      "_model_module_version": "1.5.0",
      "_model_name": "HTMLModel",
      "_view_count": null,
      "_view_module": "@jupyter-widgets/controls",
      "_view_module_version": "1.5.0",
      "_view_name": "HTMLView",
      "description": "",
      "description_tooltip": null,
      "layout": "IPY_MODEL_4d5e173f3cdd465b9b40f8b23d270e8a",
      "placeholder": "​",
      "style": "IPY_MODEL_4340e450c8c9444784e3ac188b9230df",
      "value": "Epoch 9: 100%"
     }
    },
    "faf8ff98c59b4951b62cd8ad4e1d5bfa": {
     "model_module": "@jupyter-widgets/controls",
     "model_module_version": "1.5.0",
     "model_name": "ProgressStyleModel",
     "state": {
      "_model_module": "@jupyter-widgets/controls",
      "_model_module_version": "1.5.0",
      "_model_name": "ProgressStyleModel",
      "_view_count": null,
      "_view_module": "@jupyter-widgets/base",
      "_view_module_version": "1.2.0",
      "_view_name": "StyleView",
      "bar_color": null,
      "description_width": ""
     }
    }
   }
  }
 },
 "nbformat": 4,
 "nbformat_minor": 5
}
