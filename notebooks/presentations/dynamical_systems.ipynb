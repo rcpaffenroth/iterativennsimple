{
 "cells": [
  {
   "cell_type": "markdown",
   "id": "b98db5a1-8385-4a5e-9447-503de5f56866",
   "metadata": {
    "tags": []
   },
   "source": [
    "#  Load libraries"
   ]
  },
  {
   "cell_type": "code",
   "execution_count": 1,
   "id": "be7f4d4e-bd21-4e1c-be95-e58f1bcc743c",
   "metadata": {},
   "outputs": [
    {
     "data": {
      "text/plain": [
       "<torch._C.Generator at 0x744c901f0ed0>"
      ]
     },
     "execution_count": 1,
     "metadata": {},
     "output_type": "execute_result"
    }
   ],
   "source": [
    "import torch\n",
    "import matplotlib.pylab as py\n",
    "import numpy as np\n",
    "from ipywidgets import interact\n",
    "torch.manual_seed(123)"
   ]
  },
  {
   "cell_type": "markdown",
   "id": "501a918a",
   "metadata": {
    "tags": []
   },
   "source": [
    "# Dynamical Systems"
   ]
  },
  {
   "cell_type": "markdown",
   "id": "7ed2294c",
   "metadata": {},
   "source": [
    "### Notation"
   ]
  },
  {
   "cell_type": "markdown",
   "id": "f17deacf",
   "metadata": {},
   "source": [
    "Notation for functions $f,g,h$ and vectors $x,y,z$ we use $\\circ$ to denote function composition as well as application of a vector function\n",
    "\n",
    "$$\n",
    "\\begin{bmatrix}\n",
    "f \\\\\n",
    "g \\\\\n",
    "h \\\\\n",
    "\\end{bmatrix}\n",
    "\\circ\n",
    "\\left(\n",
    "\\begin{bmatrix}\n",
    "x \\\\\n",
    "y \\\\\n",
    "z \\\\\n",
    "\\end{bmatrix}\n",
    "\\right)\n",
    "=\n",
    "\\begin{bmatrix}\n",
    "f(x) \\\\\n",
    "g(y) \\\\\n",
    "h(z) \\\\\n",
    "\\end{bmatrix}\n",
    "$$\n",
    "\n",
    "and \n",
    "\n",
    "$$\n",
    "\\begin{bmatrix}\n",
    "a \\\\\n",
    "b \\\\\n",
    "c \\\\\n",
    "\\end{bmatrix}\n",
    "\\circ\n",
    "\\begin{bmatrix}\n",
    "f \\\\\n",
    "g \\\\\n",
    "h \\\\\n",
    "\\end{bmatrix}\n",
    "\\circ\n",
    "\\left(\n",
    "\\begin{bmatrix}\n",
    "x \\\\\n",
    "y \\\\\n",
    "z \\\\\n",
    "\\end{bmatrix}\n",
    "\\right)\n",
    "=\n",
    "\\begin{bmatrix}\n",
    "a(f(x)) \\\\\n",
    "b(g(y)) \\\\\n",
    "c(h(z)) \\\\\n",
    "\\end{bmatrix}\n",
    "$$\n",
    "\n",
    "and so on.\n"
   ]
  },
  {
   "cell_type": "markdown",
   "id": "25b6a8c2",
   "metadata": {},
   "source": [
    "\n",
    "We use $\\odot$ to represent the Hadamard product of two matrices $A,B$\n",
    "\n",
    "$$\n",
    "A \\odot B = \n",
    "\\begin{bmatrix}\n",
    "A_{0,0} & A_{0,1} \\\\\n",
    "A_{1,0} & A_{1,1} \\\\\n",
    "\\end{bmatrix}\n",
    "\\odot\n",
    "\\begin{bmatrix}\n",
    "B_{0,0} & B_{0,1} \\\\\n",
    "B_{1,0} & B_{1,1} \\\\\n",
    "\\end{bmatrix}\n",
    "=\n",
    "\\begin{bmatrix}\n",
    "A_{0,0}B_{0,0} & A_{0,1}B_{0,1} \\\\\n",
    "A_{1,0}B_{1,0} & A_{1,1}B_{1,1} \\\\\n",
    "\\end{bmatrix}\n",
    "$$"
   ]
  },
  {
   "cell_type": "markdown",
   "id": "90d44e2e",
   "metadata": {},
   "source": [
    "\n",
    "$\\sigma$ is an arbitrary \"activation\" function. I.e., $\\sigma$ is applied entry-wise to a vector or matrix.\n",
    "\n",
    "$I$ is the identity activation function such that $I(x)=x$.\n",
    "\n",
    "\n"
   ]
  },
  {
   "cell_type": "markdown",
   "id": "5ba8244b",
   "metadata": {},
   "source": [
    "### Basic MLP"
   ]
  },
  {
   "cell_type": "markdown",
   "id": "77286346",
   "metadata": {},
   "source": [
    "Consider an MLP N.  For an $l$-layer network this is commonly written as\n",
    "\n",
    "$$\n",
    "\\sigma(W_{l-1}\\; \\sigma(W_{l-2}\\; \\cdots \\sigma(W_0\\; x  + b_0) \\cdots + b_{l-2}) + b_{l-1})\n",
    "$$\n",
    "\n",
    "for \"weight\" matrices $W_i$, \"bias\" vectors $b_i$, and input data $x$."
   ]
  },
  {
   "cell_type": "markdown",
   "id": "8acc28fe",
   "metadata": {},
   "source": [
    "### Dynamical systems"
   ]
  },
  {
   "cell_type": "markdown",
   "id": "57a8071d",
   "metadata": {},
   "source": [
    "A classic discrete or algebraic dynamical system is a *fixed* function that is iterated such as in\n",
    "\n",
    "$$\n",
    "f(f(\\cdots f(x) \\cdots))=f\n",
    "$$\n",
    "\n",
    "https://en.wikipedia.org/wiki/Dynamical_system"
   ]
  },
  {
   "cell_type": "markdown",
   "id": "6edc7fb4",
   "metadata": {},
   "source": [
    "Famous examples abound!   "
   ]
  },
  {
   "cell_type": "markdown",
   "id": "e7b89d8f",
   "metadata": {},
   "source": [
    "The logstic map https://en.wikipedia.org/wiki/Logistic_map\n",
    "\n",
    "![](https://upload.wikimedia.org/wikipedia/commons/thumb/5/50/Logistic_Bifurcation_map_High_Resolution.png/330px-Logistic_Bifurcation_map_High_Resolution.png)"
   ]
  },
  {
   "cell_type": "markdown",
   "id": "e52bc255",
   "metadata": {},
   "source": [
    "The Lorenz attractor https://en.wikipedia.org/wiki/Lorenz_system\n",
    "\n",
    "![](https://upload.wikimedia.org/wikipedia/commons/thumb/5/5b/Lorenz_attractor_yb.svg/330px-Lorenz_attractor_yb.svg.png)"
   ]
  },
  {
   "cell_type": "markdown",
   "id": "f30a5345",
   "metadata": {},
   "source": [
    "Baker's map https://en.wikipedia.org/wiki/Baker%27s_map\n",
    "\n",
    "![](https://upload.wikimedia.org/wikipedia/commons/thumb/7/7d/Ising-tartan.png/330px-Ising-tartan.png)"
   ]
  },
  {
   "cell_type": "markdown",
   "id": "a5f22e23",
   "metadata": {},
   "source": [
    "### Building a bridge between dynamical systems and neural networks"
   ]
  },
  {
   "cell_type": "markdown",
   "id": "5745c7c2",
   "metadata": {},
   "source": [
    "As we will demonstrate, dynamical systems and MLPs share the idea of recursive/iterative maps.  For example, setting \n",
    "\n",
    "$$\n",
    "f(x)  = \\sigma(W x + b)\n",
    "$$ \n",
    "\n",
    "we get a dynamical system\n",
    "\n",
    "$$\n",
    "\\sigma(W\\; \\sigma(W\\; \\cdots \\sigma(W\\; x  + b) \\cdots + b) + b)\n",
    "$$\n",
    "\n",
    "which is a cousin of the MLP\n",
    "\n",
    "$$\n",
    "\\sigma(W_{l-1}\\; \\sigma(W_{l-2}\\; \\cdots \\sigma(W_0\\; x  + b_0) \\cdots + b_{l-2}) + b_{l-1})\n",
    "$$\n",
    "\n",
    "with one **important difference**.   For the MLP $W_i$ and $b_i$ *vary* from iteration to iteration, while in the dynamical system, $W$ and $b$ are *fixed* from iteration to iteration.  \n",
    "In other words, this is exactly a neural network, except we have simplified it by **sharing weights** between all of the layers.\n",
    "\n",
    "\n",
    "The question we wish to explore is, what really are the differences between the two approaches?"
   ]
  },
  {
   "cell_type": "markdown",
   "id": "eaccccad",
   "metadata": {},
   "source": [
    "### Simple example"
   ]
  },
  {
   "cell_type": "markdown",
   "id": "d8a0bb9c",
   "metadata": {},
   "source": [
    "<img src=\"https://i.pinimg.com/originals/dd/bf/6a/ddbf6a19df36ca75e22fa1d379957666.png\" width=\"500\"/>"
   ]
  },
  {
   "cell_type": "markdown",
   "id": "84a402c1",
   "metadata": {},
   "source": [
    "Let's make a dynamical system and boil it down to its essence.   In particular, we know that NNs can have quite complicated behavior with their maps that change every iteration.  We therefore wish to understand if dynamical systems can also evince a similar level of complexity, even though the are hobbled by only being able to iterate a *fixed* map.\n",
    "\n",
    "With this in mind, let us consider a very simple dynamical system.  Namely, let us consider the same dynamical system above by iteration the function\n",
    "\n",
    "$$\n",
    "f(x)  = \\sigma(W x + b)\n",
    "$$ "
   ]
  },
  {
   "cell_type": "markdown",
   "id": "a65c5e3c",
   "metadata": {},
   "source": [
    "We begin our simplification by letting $x$, $W$, and $b$ be scalar, leading to the 1D map\n",
    "\n",
    "$$\n",
    "f(x) = \\sigma(w\\; x + b)\n",
    "$$"
   ]
  },
  {
   "cell_type": "markdown",
   "id": "3e2bf51a",
   "metadata": {},
   "source": [
    "Futher, let $\\sigma$ be a simple non-linearity, such as the square function, leading to\n",
    "\n",
    "$$\n",
    "f(x) = (w\\;x + b)^2\n",
    "$$"
   ]
  },
  {
   "cell_type": "markdown",
   "id": "aa8ac587",
   "metadata": {},
   "source": [
    "### A simple numerical experiment"
   ]
  },
  {
   "cell_type": "code",
   "execution_count": 2,
   "id": "95a8ecd9",
   "metadata": {},
   "outputs": [],
   "source": [
    "def f(x,w,c):\n",
    "    return (w*x+c)**2"
   ]
  },
  {
   "cell_type": "code",
   "execution_count": null,
   "id": "32a60b9e",
   "metadata": {},
   "outputs": [
    {
     "data": {
      "application/vnd.jupyter.widget-view+json": {
       "model_id": "aa7c643a15494fca91cc75fa1823c325",
       "version_major": 2,
       "version_minor": 0
      },
      "text/plain": [
       "interactive(children=(FloatSlider(value=1.0, description='w', max=1.0, min=-1.0), FloatSlider(value=0.0, descr…"
      ]
     },
     "metadata": {},
     "output_type": "display_data"
    }
   ],
   "source": [
    "#c=0\n",
    "# fixed point\n",
    "#c=-0.5\n",
    "# hopf\n",
    "#c=-0.8\n",
    "# chaos\n",
    "#c=-1.6\n",
    "@interact(w=(-1.0,1.0),c=(-2.0,2.0),x=(-1.0,1.0))\n",
    "def test(w=1.0, c=0.0, x=0.0):\n",
    "    layers = 50\n",
    "    record_x = np.zeros(layers)\n",
    "    for i in range(layers):\n",
    "        record_x[i] = x\n",
    "        x = f(x,w,c)\n",
    "    _,ax = py.subplots(1,2,figsize=(8,4))\n",
    "    ax[0].plot(record_x,'-o')\n",
    "    ax[1].plot(record_x[-10:],'-o')"
   ]
  },
  {
   "cell_type": "markdown",
   "id": "9efc22db",
   "metadata": {},
   "source": [
    "Of course we can see them all at once but just looping over values of $b$.   What do we get?  A cousin of the logistic map!"
   ]
  },
  {
   "cell_type": "code",
   "execution_count": 4,
   "id": "38921988",
   "metadata": {},
   "outputs": [
    {
     "data": {
      "text/plain": [
       "<matplotlib.collections.PathCollection at 0x744b5b15ef20>"
      ]
     },
     "execution_count": 4,
     "metadata": {},
     "output_type": "execute_result"
    },
    {
     "data": {
      "image/png": "[encoded data removed]",
      "text/plain": [
       "<Figure size 640x480 with 1 Axes>"
      ]
     },
     "metadata": {},
     "output_type": "display_data"
    }
   ],
   "source": [
    "w=1\n",
    "layers=1000\n",
    "num_bs = 500\n",
    "points = []\n",
    "for i,b in enumerate(np.linspace(0,-2,num_bs)):\n",
    "    x=0\n",
    "    for j in range(layers):\n",
    "        x = f(x,w,b)\n",
    "        if j > layers-20:\n",
    "            points += [(b,x)]\n",
    "points = np.array(points)\n",
    "py.scatter(points[:,0],points[:,1],marker='.')"
   ]
  },
  {
   "cell_type": "markdown",
   "id": "094b45ca",
   "metadata": {},
   "source": [
    "### A more *complex* example"
   ]
  },
  {
   "cell_type": "markdown",
   "id": "26a3f542",
   "metadata": {},
   "source": [
    "If I can be forgiven a small pun, what happens if $b$ is allowed to be complex?  In other words, let's look at \n",
    "values of $b$ taken from the complex plane, and just ask \"does the scalar neural network with shared weights converge\n",
    "or go off to infinity (when started at $x=0$)\"?  I mean, the set of $b$ for which the scalar neural network (remember with shared weights)\n",
    "gives a finite value as we add more and more layers must be simple, right?"
   ]
  },
  {
   "cell_type": "code",
   "execution_count": null,
   "id": "467b6a93",
   "metadata": {},
   "outputs": [
    {
     "data": {
      "application/vnd.jupyter.widget-view+json": {
       "model_id": "e1d9a5240daf4ee59e056c9e99c2e85e",
       "version_major": 2,
       "version_minor": 0
      },
      "text/plain": [
       "interactive(children=(IntSlider(value=50, description='layers', min=1), Output()), _dom_classes=('widget-inter…"
      ]
     },
     "metadata": {},
     "output_type": "display_data"
    }
   ],
   "source": [
    "@interact(layers=(1, 100))\n",
    "def complex_f(layers):\n",
    "    x = np.zeros((200, 200), dtype=complex)\n",
    "    b_real, b_imag = np.meshgrid(np.linspace(-2, 0, 200), np.linspace(-1, 1, 200))\n",
    "    b = b_real + 1j * b_imag\n",
    "    w = 1.0\n",
    "    for i in range(layers):\n",
    "        x = f(x,w,b)\n",
    "        np.clip(x.real, -5, 5, out=x.real)\n",
    "        np.clip(x.imag, -5, 5, out=x.imag)\n",
    "    image = np.abs(x) < 2.0\n",
    "    py.imshow(image, extent=[-2, 0, -1, 1])"
   ]
  },
  {
   "cell_type": "markdown",
   "id": "4f0fadf7",
   "metadata": {},
   "source": [
    "This is the Mandelbrot set!   \n",
    "\n",
    "All from the **simplest** iterative map we could come up with.  \n",
    "\n",
    "1. The input is always $x=0$\n",
    "1. Scalar weight $w$ (in fact the weight $w$ is fixed at 1.0)\n",
    "1. Scalar bias $b$ (both the real and complex case are interesting)\n",
    "1. The weight and bias are **shared** across all layers\n",
    "\n",
    "It would appear that weight sharing does not lead to a neural network which is overly simple :-)\n",
    "\n",
    "https://en.wikipedia.org/wiki/Mandelbrot_set\n",
    "\n",
    "\n",
    "![](https://upload.wikimedia.org/wikipedia/commons/a/a4/Mandelbrot_sequence_new.gif)\n",
    "\n",
    "![](https://www.azquotes.com/picture-quotes/quote-the-mandelbrot-set-is-the-most-complex-mathematical-object-known-to-mankind-benoit-mandelbrot-73-97-72.jpg)"
   ]
  }
 ],
 "metadata": {
  "kernelspec": {
   "display_name": ".venv",
   "language": "python",
   "name": "python3"
  },
  "language_info": {
   "codemirror_mode": {
    "name": "ipython",
    "version": 3
   },
   "file_extension": ".py",
   "mimetype": "text/x-python",
   "name": "python",
   "nbconvert_exporter": "python",
   "pygments_lexer": "ipython3",
   "version": "3.10.12"
  }
 },
 "nbformat": 4,
 "nbformat_minor": 5
}
