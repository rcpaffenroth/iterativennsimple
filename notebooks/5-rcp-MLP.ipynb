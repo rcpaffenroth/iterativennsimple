{
 "cells": [
  {
   "cell_type": "code",
   "execution_count": 1,
   "id": "7bbf52f7",
   "metadata": {},
   "outputs": [],
   "source": [
    "# Uncomment this code if you are running on Google Colab\n",
    "# ! pip install https://github.com/rcpaffenroth/generatedata\n",
    "# ! pip install https://github.com/rcpaffenroth/iterativennsimple"
   ]
  },
  {
   "cell_type": "markdown",
   "id": "89b2345e",
   "metadata": {},
   "source": [
    "<a href=\"https://colab.research.google.com/github/rcpaffenroth/iterativennsimple/blob/main/notebooks/4-rcp-MLP.ipynb\" target=\"_parent\"><img src=\"https://colab.research.google.com/assets/colab-badge.svg\" alt=\"Open In Colab\"/></a>"
   ]
  },
  {
   "cell_type": "markdown",
   "id": "f6828844-3a74-49bd-8348-ceae45948da7",
   "metadata": {
    "id": "f6828844-3a74-49bd-8348-ceae45948da7"
   },
   "source": [
    "# Load data"
   ]
  },
  {
   "cell_type": "code",
   "execution_count": 2,
   "id": "a5713c2d-0108-4708-9f0d-021e183f6d1e",
   "metadata": {
    "id": "a5713c2d-0108-4708-9f0d-021e183f6d1e"
   },
   "outputs": [],
   "source": [
    "import torch\n",
    "import matplotlib.pyplot as plt\n",
    "%matplotlib widget\n",
    "\n",
    "from iterativennsimple.Sequential2D import Sequential2D, Identity\n",
    "from iterativennsimple.Sequential1D import Sequential1D\n",
    "from generatedata.load_data import load_data\n",
    "from generatedata.plot_2D_start_end import plot_2D_start_end"
   ]
  },
  {
   "cell_type": "code",
   "execution_count": 3,
   "id": "d0e79796",
   "metadata": {},
   "outputs": [],
   "source": [
    "# Turn a pandas dataframe into a pytorch tensor\n",
    "def df_to_tensor(df):\n",
    "    return torch.tensor(df.values, dtype=torch.float32)"
   ]
  },
  {
   "cell_type": "code",
   "execution_count": 4,
   "id": "9f5c3fcc-147d-4669-8ab2-3ddf16a88b4e",
   "metadata": {
    "id": "9f5c3fcc-147d-4669-8ab2-3ddf16a88b4e"
   },
   "outputs": [],
   "source": [
    "#name = 'regression_line'\n",
    "#name = 'pca_line'\n",
    "#name = 'circle'\n",
    "#name = 'regression_circle'\n",
    "#one_hot_y = False\n",
    "\n",
    "name = 'MNIST'\n",
    "one_hot_y = True\n",
    "\n",
    "# Read the data\n",
    "data_dict = load_data(name)\n",
    "\n",
    "z_start = data_dict['start']\n",
    "z_target = data_dict['target']"
   ]
  },
  {
   "cell_type": "markdown",
   "id": "78ba5bdc",
   "metadata": {},
   "source": [
    "## Data preprocessing"
   ]
  },
  {
   "cell_type": "code",
   "execution_count": 5,
   "id": "133ecd27",
   "metadata": {},
   "outputs": [],
   "source": [
    "z_start_tensor = df_to_tensor(z_start)\n",
    "z_target_tensor = df_to_tensor(z_target)\n",
    "\n",
    "# Only use the given number of sample\n",
    "max_num_samples = 1000\n",
    "num_samples = min(max_num_samples, z_start_tensor.shape[0])\n",
    "z_start_tensor = z_start_tensor[:num_samples]\n",
    "z_target_tensor = z_target_tensor[:num_samples]\n"
   ]
  },
  {
   "cell_type": "markdown",
   "id": "2d9b3a29",
   "metadata": {},
   "source": [
    "We have two views of the data, and here is where we reconcile them.   The dynamical systems view is to have vector $z_0$ (called \"z_start_tensor\" in the code) and $z_1$ (called \"z_target_tensor\" in the code) that are the initial and final states of the system.  We want to construct a function $f$ (or more precisely choose a set of parameters $\\theta$ that selects $f$ from some family of functions) such that $\\|f(z_0) - z_1\\|$ is small.  The machine learning view is to have a set of inputs $x$ (which is a subset of \"z_start_tensor\") and a set of outputs $y$ (which is a subset of \"z_target_tensor\") and to construct a function $g$ (or more precisely choose a set of parameters $\\phi$ that selects $g$ from some family of functions) such that $\\|g(x) - y\\|$ is small.   \n",
    "\n",
    "**The idea is to have $x$ and $y$ be subsets of $z_0$ and $z_1$ respectively!**   But how to do that!?"
   ]
  },
  {
   "cell_type": "markdown",
   "id": "4f1e3668",
   "metadata": {},
   "source": [
    "Let's begin by writing \n",
    "\n",
    "$$\n",
    "z_i=\n",
    "\\begin{bmatrix}\n",
    "x_i \\\\\n",
    "y_i \\\\\n",
    "\\end{bmatrix}\n",
    "$$\n",
    "\n",
    "and **we assume that $x_0=x_1$**.  This may seem odd at first glance, but is actually quite natural.  For example, in our MNIST example the starting image in $x_0$ and the target image in $x_1$ are the same.  It is merely the classification in $y_0$ and $y_1$ that are different.  I.e., $y_0$ contains some noisy classification or uniform prior of $x_0$ and $y_1$ contains the correct classification of $x_0$.  In the case of the MNIST data, we have $x_0=x_1$ and $y_0\\neq y_1$.\n",
    "\n",
    "So, in slighltly more detail we choose $z_0$ and $z_1$ so that\n",
    "\n",
    "$$\n",
    "z_0=\n",
    "\\begin{bmatrix}\n",
    "x_0 \\\\\n",
    "y_0 \\\\\n",
    "\\end{bmatrix}\n",
    "$$\n",
    "\n",
    "and\n",
    "\n",
    "$$\n",
    "z_1=\n",
    "\\begin{bmatrix}\n",
    "x_0 \\\\\n",
    "y_1 \\\\\n",
    "\\end{bmatrix}\n",
    "$$"
   ]
  },
  {
   "cell_type": "code",
   "execution_count": 6,
   "id": "701f8d98",
   "metadata": {},
   "outputs": [
    {
     "name": "stdout",
     "output_type": "stream",
     "text": [
      "torch.Size([794]) torch.Size([794])\n",
      "tensor(784) tensor(10)\n"
     ]
    }
   ],
   "source": [
    "\n",
    "# compute a mask for the data where every entry in each column is the same\n",
    "# this is used to remove columns that are constant\n",
    "mask = (z_start_tensor == z_target_tensor).all(axis=0)\n",
    "mask.shape\n",
    "x_mask = mask\n",
    "y_mask = ~mask\n",
    "\n",
    "# print out the shape of the masks\n",
    "print(x_mask.shape, y_mask.shape)\n",
    "\n",
    "# print out number of true entries in each mask\n",
    "print(x_mask.sum(), y_mask.sum())\n"
   ]
  },
  {
   "cell_type": "markdown",
   "id": "1880ae29-6269-42a9-870f-fb52bb18cf36",
   "metadata": {
    "id": "1880ae29-6269-42a9-870f-fb52bb18cf36"
   },
   "source": [
    "# MLP model"
   ]
  },
  {
   "cell_type": "markdown",
   "id": "11bc5490",
   "metadata": {},
   "source": [
    "Now we start using Sequential2D to build our model.  This requires a little massaging of the data.  In particlar, remember that we now have an iterative map of the form\n",
    "\n",
    "$$\n",
    "\\begin{bmatrix}\n",
    "I   & 0   & 0   & 0 \\\\\n",
    "f_1 & 0   & 0   & 0 \\\\\n",
    "0   & f_2 & 0   & 0 \\\\\n",
    "0   & 0   & f_3 & 0 \\\\\n",
    "\\end{bmatrix}\n",
    "$$\n",
    "\n",
    "and a state vector that combines $x$, $y$, and *the hidden layers* in the following way.\n",
    "\n",
    "$$\n",
    "\\begin{bmatrix}\n",
    "I   & 0   & 0   & 0 \\\\\n",
    "f_1 & 0   & 0   & 0 \\\\\n",
    "0   & f_2 & 0   & 0 \\\\\n",
    "0   & 0   & f_3 & 0 \\\\\n",
    "\\end{bmatrix}\n",
    "\\circ\n",
    "\\begin{bmatrix}\n",
    "x_0 \\\\\n",
    "h_1 \\\\\n",
    "h_2 \\\\\n",
    "y_0 \\\\\n",
    "\\end{bmatrix}\n",
    "$$"
   ]
  },
  {
   "cell_type": "markdown",
   "id": "0fc9ed2c",
   "metadata": {},
   "source": [
    "I am feeling a little silly today, so let's do the rest using Achilles and the Hare from Godel, Escher, Bach.\n",
    "\n",
    "![Godel, Escher, Bach](https://m.media-amazon.com/images/I/41AkcQQKK3L._SY445_SX342_PQ29_.jpg)"
   ]
  },
  {
   "cell_type": "markdown",
   "id": "7daa36af",
   "metadata": {},
   "source": [
    "Achilles:  But... didn't you just say that an normal ML algorithm link and MLP ignores $y_0$?  Look, doesn't $y_0$ appear right up there?  \n",
    "\n",
    "Hare: Well, look at what happens after the first iteration.\n",
    "\n",
    "$$\n",
    "\\begin{bmatrix}\n",
    "I   & 0   & 0   & 0 \\\\\n",
    "f_1 & 0   & 0   & 0 \\\\\n",
    "0   & f_2 & 0   & 0 \\\\\n",
    "0   & 0   & f_3 & 0 \\\\\n",
    "\\end{bmatrix}\n",
    "\\circ\n",
    "\\begin{bmatrix}\n",
    "x_0 \\\\\n",
    "h_1 \\\\\n",
    "h_2 \\\\\n",
    "y_0 \\\\\n",
    "\\end{bmatrix}\n",
    "=\n",
    "\\begin{bmatrix}\n",
    "x_0 \\\\\n",
    "f_1(x_0) \\\\\n",
    "f_2(h_1) \\\\\n",
    "f_3(h_2) \\\\\n",
    "\\end{bmatrix}\n",
    "$$\n",
    "\n",
    "which **does not** contain $y_0$!  The MLP is cunningly designed to ignore the initial guess contained in $y_0$ :-)"
   ]
  },
  {
   "cell_type": "markdown",
   "id": "3c74a4ef",
   "metadata": {},
   "source": [
    "Achilles:  But... but... but...  what about the hidden layers $h_1$ and $h_2$?  Don't you need to choose them carefully since they are the input to the next layer\\iteration?  I remember reading that MLPs don't care about random initializations of the hidden layers since they will be overwritten by the training process!?\n",
    "\n",
    "Hare: Yes, but...  look at what happens after the second iteration.\n",
    "\n",
    "$$\n",
    "\\begin{bmatrix}\n",
    "I   & 0   & 0   & 0 \\\\\n",
    "f_1 & 0   & 0   & 0 \\\\\n",
    "0   & f_2 & 0   & 0 \\\\\n",
    "0   & 0   & f_3 & 0 \\\\\n",
    "\\end{bmatrix}\n",
    "\\circ\n",
    "\\begin{bmatrix}\n",
    "I   & 0   & 0   & 0 \\\\\n",
    "f_1 & 0   & 0   & 0 \\\\\n",
    "0   & f_2 & 0   & 0 \\\\\n",
    "0   & 0   & f_3 & 0 \\\\\n",
    "\\end{bmatrix}\n",
    "\\circ\n",
    "\\begin{bmatrix}\n",
    "x_0 \\\\\n",
    "h_1 \\\\\n",
    "h_2 \\\\\n",
    "y_0 \\\\\n",
    "\\end{bmatrix}\n",
    "=\n",
    "\\begin{bmatrix}\n",
    "x_0 \\\\\n",
    "f_1(x_0) \\\\\n",
    "f_2(f_1(x_0)) \\\\\n",
    "f_3(f_2(h_1)) \\\\\n",
    "\\end{bmatrix}\n",
    "$$\n"
   ]
  },
  {
   "cell_type": "markdown",
   "id": "19538528",
   "metadata": {},
   "source": [
    "Hare: And one more iteration gives\n",
    "\n",
    "$$\n",
    "\\begin{bmatrix}\n",
    "I   & 0   & 0   & 0 \\\\\n",
    "f_1 & 0   & 0   & 0 \\\\\n",
    "0   & f_2 & 0   & 0 \\\\\n",
    "0   & 0   & f_3 & 0 \\\\\n",
    "\\end{bmatrix}\n",
    "\\circ\n",
    "\\begin{bmatrix}\n",
    "I   & 0   & 0   & 0 \\\\\n",
    "f_1 & 0   & 0   & 0 \\\\\n",
    "0   & f_2 & 0   & 0 \\\\\n",
    "0   & 0   & f_3 & 0 \\\\\n",
    "\\end{bmatrix}\n",
    "\\circ\n",
    "\\begin{bmatrix}\n",
    "I   & 0   & 0   & 0 \\\\\n",
    "f_1 & 0   & 0   & 0 \\\\\n",
    "0   & f_2 & 0   & 0 \\\\\n",
    "0   & 0   & f_3 & 0 \\\\\n",
    "\\end{bmatrix}\n",
    "\\circ\n",
    "\\begin{bmatrix}\n",
    "x_0 \\\\\n",
    "h_1 \\\\\n",
    "h_2 \\\\\n",
    "y_0 \\\\\n",
    "\\end{bmatrix}\n",
    "=\n",
    "\\begin{bmatrix}\n",
    "x_0 \\\\\n",
    "f_1(x_0) \\\\\n",
    "f_2(f_1(x_0)) \\\\\n",
    "f_3(f_2(f_1(x_0))) \\\\\n",
    "\\end{bmatrix}\n",
    "$$\n",
    "\n",
    "Two neat things have happened. First notice that the hidden layers $h_1$ and $h_2$ have been overwritten by the training process, so their initiationlization is irrelevant.  Second, we have the last entry has the form $f_3(f_2(f_1(x_0)))$ which is exactly the form of the answer that the MLP would have given!"
   ]
  },
  {
   "cell_type": "markdown",
   "id": "1fddde4e",
   "metadata": {},
   "source": [
    "Hare:  So, the MLP is a cunningly designed iterative map that ignores the initial guess $y_0$ and the hidden layers $h_1$ and $h_2$ and gives the same answer as the iterative map that we are trying to learn!  "
   ]
  },
  {
   "cell_type": "code",
   "execution_count": 7,
   "id": "ebbc9b74-d7dc-4dd6-bb72-88ed57f5b63e",
   "metadata": {
    "id": "ebbc9b74-d7dc-4dd6-bb72-88ed57f5b63e"
   },
   "outputs": [],
   "source": [
    "input_size = int(x_mask.sum())\n",
    "h1_size = 20\n",
    "h2_size = 20\n",
    "output_size = int(y_mask.sum())\n",
    "\n",
    "x_idx = torch.arange(0, input_size)\n",
    "h_idx = torch.arange(input_size, input_size+h1_size+h2_size)\n",
    "y_idx = torch.arange(input_size+h1_size+h2_size, input_size+h1_size+h2_size+output_size)\n",
    "\n",
    "total_size = input_size + h1_size + h2_size + output_size\n",
    "\n",
    "iterations = 3\n",
    "\n",
    "I = Identity(in_features=input_size, out_features=input_size)\n",
    "f1 = Sequential1D(torch.nn.Linear(in_features=input_size, out_features=h1_size), \n",
    "                  torch.nn.ReLU(), \n",
    "                  in_features=input_size, out_features=h1_size)\n",
    "f2 = Sequential1D(torch.nn.Linear(in_features=h1_size, out_features=h2_size), \n",
    "                  torch.nn.ReLU(), \n",
    "                  in_features=h1_size,    out_features=h2_size)\n",
    "f3 = torch.nn.Linear(in_features=h2_size,    out_features=output_size)    \n",
    "\n",
    "in_features_list  = [input_size, h1_size, h2_size, output_size]\n",
    "out_features_list = [input_size, h1_size, h2_size, output_size]\n",
    "blocks = [[I,    None, None, None],\n",
    "          [f1,   None, None, None],\n",
    "          [None, f2,   None, None],\n",
    "          [None, None, f3,   None]]\n",
    "\n",
    "def transpose_blocks(blocks):\n",
    "    return [[blocks[j][i] for j in range(len(blocks))] for i in range(len(blocks[0]))]\n",
    "\n",
    "map = Sequential2D(\n",
    "    in_features_list=in_features_list,\n",
    "    out_features_list=out_features_list,\n",
    "    blocks=transpose_blocks(blocks)\n",
    ")   "
   ]
  },
  {
   "cell_type": "code",
   "execution_count": 8,
   "id": "c367059b",
   "metadata": {},
   "outputs": [],
   "source": [
    "zh_start_tensor = torch.cat((z_start_tensor[:, x_mask],\n",
    "                             torch.zeros(z_start_tensor.shape[0], len(h_idx)), \n",
    "                             z_start_tensor[:, y_mask]), dim=1)\n",
    "zh_target_tensor = torch.cat((z_target_tensor[:, x_mask], \n",
    "                             torch.zeros(z_target_tensor.shape[0], len(h_idx)), \n",
    "                             z_target_tensor[:, y_mask]), dim=1)"
   ]
  },
  {
   "cell_type": "code",
   "execution_count": 9,
   "id": "a7eeb2b8",
   "metadata": {},
   "outputs": [],
   "source": [
    "# a dataloader which returns a batch of start and target data\n",
    "class Data(torch.utils.data.Dataset):\n",
    "    def __init__(self, z_start, z_target):\n",
    "        self.z_start = z_start\n",
    "        self.z_target = z_target\n",
    "    def __len__(self):\n",
    "        return len(self.z_start)\n",
    "    def __getitem__(self, idx):\n",
    "        return self.z_start[idx], self.z_target[idx]\n",
    "    \n",
    "train_data = Data(zh_start_tensor, zh_target_tensor)\n",
    "train_loader = torch.utils.data.DataLoader(train_data, batch_size=512, shuffle=True)"
   ]
  },
  {
   "cell_type": "code",
   "execution_count": 10,
   "id": "7486ca78-5e1c-4f94-afb5-9015303aaa09",
   "metadata": {
    "colab": {
     "base_uri": "https://localhost:8080/",
     "height": 382,
     "referenced_widgets": [
      "915d05c1f046462ebe574b6b306b6110",
      "df24beefb77f4549b7beed2e23558980",
      "a5a6545605cb475fb4bd6db5d32b0b24",
      "5959c15bd28a4059b8952689490ebe2f",
      "a3075bdd01e047faa3f1246dabaedcc7",
      "4d5e173f3cdd465b9b40f8b23d270e8a",
      "4340e450c8c9444784e3ac188b9230df",
      "c81f9b0a5dee4db396442599cb295097",
      "faf8ff98c59b4951b62cd8ad4e1d5bfa",
      "a955f09104b54e37b262198a3807761c",
      "d4d3328dd8914927b619350b49b6f81c"
     ]
    },
    "id": "7486ca78-5e1c-4f94-afb5-9015303aaa09",
    "outputId": "e3247ec9-d372-4fda-c69e-654d985bc905"
   },
   "outputs": [],
   "source": [
    "# Define the loss function and optimizer\n",
    "criterion = torch.nn.MSELoss()\n",
    "optimizer = torch.optim.Adam(map.parameters(), lr=0.001)"
   ]
  },
  {
   "cell_type": "code",
   "execution_count": 11,
   "id": "cb50afb7",
   "metadata": {},
   "outputs": [
    {
     "name": "stdout",
     "output_type": "stream",
     "text": [
      "Epoch 0, Batch 1, Loss 0.11880900710821152\n",
      "Epoch 100, Batch 1, Loss 0.033591631799936295\n",
      "Epoch 200, Batch 1, Loss 0.016794877126812935\n",
      "Epoch 300, Batch 1, Loss 0.01194818690419197\n",
      "Epoch 400, Batch 1, Loss 0.008991331793367863\n"
     ]
    }
   ],
   "source": [
    "max_epochs = 500\n",
    "# Train the model\n",
    "for epoch in range(max_epochs):\n",
    "    for batch_idx, (start, target) in enumerate(train_loader):\n",
    "        optimizer.zero_grad()\n",
    "\n",
    "        mapped = start\n",
    "\n",
    "        loss = 0.0\n",
    "        for i in range(iterations):\n",
    "            mapped = map(mapped)\n",
    "\n",
    "        loss = criterion(mapped[:, y_idx], target[:, y_idx])\n",
    "        loss.backward()\n",
    "\n",
    "        optimizer.step()\n",
    "    if epoch % 100 == 0:\n",
    "        print(f'Epoch {epoch}, Batch {batch_idx}, Loss {loss.item()}')"
   ]
  },
  {
   "cell_type": "markdown",
   "id": "054793e0",
   "metadata": {},
   "source": [
    "# Training data"
   ]
  },
  {
   "cell_type": "code",
   "execution_count": 12,
   "id": "0545bf25",
   "metadata": {},
   "outputs": [],
   "source": [
    "def project(z_start, z_mapped, z_target, idx, one_hot=False):\n",
    "    if len(idx) == 1:\n",
    "        start = z_start[:, idx[0]]\n",
    "        target = z_target[:, idx[0]]\n",
    "        mapped = z_mapped[:, idx[0]]\n",
    "    else:\n",
    "        if one_hot:\n",
    "            start = torch.argmax(z_start[:, idx], dim=1)\n",
    "            target = torch.argmax(z_target[:, idx], dim=1)\n",
    "            mapped = torch.argmax(z_mapped[:, idx], dim=1)\n",
    "        else:\n",
    "            # Use PCA to reduce the dimensionality of the data\n",
    "            _, _, V = torch.svd(z_target[:, idx])\n",
    "            start = torch.matmul(z_start[:, idx], V[:, 0])\n",
    "            target = torch.matmul(z_target[:, idx], V[:, 0])\n",
    "            mapped = torch.matmul(z_mapped[:, idx], V[:, 0])\n",
    "    return start, mapped, target\n",
    "\n",
    "\n",
    "def my_plot(z_start, z_mapped, z_target, plot_points, x_idx, y_idx, one_hot_y=False):\n",
    "    start_x, mapped_x, target_x = project(z_start, z_mapped, z_target, x_idx)\n",
    "    start_y, mapped_y, target_y = project(z_start, z_mapped, z_target, y_idx, one_hot_y)\n",
    "    plot_2D_start_end(start_x, start_y,\n",
    "                      mapped_x, mapped_y, \n",
    "                      target_x, target_y, \n",
    "                      plot_points)"
   ]
  },
  {
   "cell_type": "code",
   "execution_count": 13,
   "id": "86109c30",
   "metadata": {},
   "outputs": [
    {
     "data": {
      "application/vnd.jupyter.widget-view+json": {
       "model_id": "feecb800d9fd4dbcb0b6fc6853a8072b",
       "version_major": 2,
       "version_minor": 0
      },
      "image/png": "[encoded data removed]",
      "text/html": [
       "\n",
       "            <div style=\"display: inline-block;\">\n",
       "                <div class=\"jupyter-widgets widget-label\" style=\"text-align: center;\">\n",
       "                    Figure\n",
       "                </div>\n",
       "                <img src='data:image/png;base64,iVBORw0KGgoAAAANSUhEUgAAAoAAAAHgCAYAAAA10dzkAAAAOXRFWHRTb2Z0d2FyZQBNYXRwbG90bGliIHZlcnNpb24zLjkuNCwgaHR0cHM6Ly9tYXRwbG90bGliLm9yZy8ekN5oAAAACXBIWXMAAA9hAAAPYQGoP6dpAABAF0lEQVR4nO3de3yU5Z3///c9M5kMhMxAUsGRU5C2CEPEQF2tWKu0hUHs1t21+WoPurSj1XUXrPugSHe74mO1StmfW9h2PYX18LOVZu23tbUljSsq4hEBISLFEwiFAJZABgg5zdzfPyZzMzOZHJ0wWa7Xs488MnPPfX+uz3Xdk+k794zBsm3bFgAAAIzhyncDAAAAOLUIgAAAAIYhAAIAABiGAAgAAGAYAiAAAIBhCIAAAACGIQACAAAYhgAIAABgGAIgAACAYQiAAAAAhiEAAgAAGIYACAAAYBgCIAAAgGEIgAAAAIYhAAIAABiGAAgAAGAYAiAAAIBhCIAAAACGIQACAAAYhgAIAABgGAIgAACAYQiAAAAAhiEAAgAAGIYACAAAYBgCIAAAgGEIgAAAAIYhAAIAABiGAAgAAGAYAiAAAIBhCIAAAACGIQACAAAYhgAIAABgGAIgAACAYQiAAAAAhiEAAgAAGIYACAAAYBgCIAAAgGEIgAAAAIYhAAIAABiGAAgAAGAYAiAAAIBhCIAAAACGIQACAAAYhgAIAABgGAIgAACAYQiAAAAAhiEAAgAAGIYACAAAYBgCIAAAgGEIgAAAAIYhAAIAABiGAAgAAGAYAiAAAIBhCIAAAACGIQACAAAYhgAIAABgGE++GwAyxeNx7du3T8XFxbIsK9/tAEDe2Lato0eP6qyzzpLLxTUb5A4BEIPOvn37NHbs2Hy3AQCDxp49ezRmzJh8t4HTCAEQg05xcbGkxAue3+/PczcAkD/RaFRjx451XheBXCEAYtBJvu3r9/sJgAAg8XEY5BwfKAAAADAMARAAAMAwBEAAAADDEAABAAAMQwAEAAAwDAEQAADAMARAAAAAwxAAAQAADEMABAAAMAwBEAAAwDAEQAAAAMMQAAEAAAzjyXcDQL4tXrdYNbtqFC4La9klyyRJ1TuqVVVXpYqRFVq/d70sWVowfYEkOds3H9yc9vjM0TO1fu96tcZa5XV7NbZ4rLY3bNfkkslqaG5QxcgKrd29Vi2xFk0pnaL3j7yv5lizPJZHRQVFmjl6pjYf3KwSX4nePvS2Ct2FmjVultbuXqvmWLMsWbJlq8BVoC+N/5IzliS1x9vVbrd3OUeXXIor7nz3uX3yur2KtkblslyaXDLZ6fX9I+87Pf7p6J9ky9bFoy92ett2aJskye/1K9oaVbAoqONtx3Wi/YTa4m3yuX1adP4iVU6qTFvLSHnEWb9IecR5PHkO1uxco0J3oSYOn6jtDdvTzkdvpI6TbezU8fqqeke1Vmxa4TwPelurq/F721eu+h8Ig7k3AD2zbNu2890EkCoajSoQCKixsVF+v3/Ax5v22DTF7bhclktbrt0iSZr95GzVH6+Xy3IpbsclScGioCSlbU99PPV2Nv15vKtjeqqVa30dL1gUVO1VtZJOrmXq+qU+Lp08B5ljJs9Hb6SOk23s1PH6Klknc2796akvfeWq/4EwmHs7nZzq10OYg7eAYbxwWVguy6VwWdjZFimPKFgUVLgsLL/Xr4A3oEh5JG175uPJ2z63T36vX6HSkFyWS6HSkLOvz+2TJUuh0pB8bp8kyWN5nOODRUGFSkOyZMnn9jnHSJIlS5JU4CpIG8vn9sljdX8x39Xxo578nuxRktNj8ntqjwFvQH6vP623pOTxwaKg/F6/ClwFTu3k1b7UtUxdv9THk+cgOedkL6nnozey1e5qvL6KlEfSngcfp6e+9JWr/gfCYO4NQM+4AohBh994ASCB10MMFK4AAgAAGIYACAAAYBgCIAAAgGEIgAAAAIYhAAIAABiGAAgAAGAYAiAAAIBhCIAAAACGIQACAAAYhgAIAABgGAIgAACAYQiAAAAAhiEAAgAAGIYACAAAYBgCIAAAgGEIgAAAAIYhAAIAABiGAAgAAGAYAiAAAIBhCIAAAACGIQACAAAYhgAIAABgGAIgAACAYQiAAAAAhiEAAgAAGIYACAAAYBgCIAAAgGEIgAAAAIYhAAIAABiGAAgAAGAYAiByKhaL6Qc/+IEmTJigIUOGaOLEifrXf/1X2bad79YAAEAHT74bwOll2bJluu+++/Too48qFArpjTfe0Pz58xUIBLRgwYJ8twcAAEQARI69/PLL+spXvqJ58+ZJksrKyvTEE0/o9ddfz3NnAAAgibeAkVMXXXSRnn32Wb3zzjuSpC1btmj9+vWaO3dunjsDAABJXAFETt12222KRqM655xz5Ha7FYvFdNddd+nrX/96l8e0tLSopaXFuR+NRk9Fq47qHdWqqqtSpDyiykmVfd6neke1VmxaIUuWZo6eqc0HN6tiZIU2H9zc7f5NbU1qt9vlsTzyuDxqjbUqrrhCpSGtvmK1qndUa/mG5WqONTv7FLoLNaZ4jN4+9LYK3YVadP4iSXLGXzB9gSonVXbqN/P+1U9frW2HtilYFNRHTR+p3W6XJIVKQ5KkbYe2Off/dPRPaom1qNBdqJmjZ+qZD59RW7zN6TNp9pOzVX+83jmuobnBWYfU7+v3rtextmOK23FZsmTLls/t06xxs7R291o1x5qdGnuO7klb19T1rN5RrZWbVjq9LZie+IhBcp4bD2xUza4ahcvCWnbJMmcNSnwl2t6wPW176volj5tcMlkNzQ1Zz2Fy/fxev461HXNq9fc5JUkrN62ULVsLpy/s8pjeyKz7cZ7bvR2nt8f1d6x81wZOR5bNp/ORQ6tXr9aiRYu0fPlyhUIhvfnmm7rlllt077336rrrrst6zNKlS3XHHXd02t7Y2Ci/3z/QLTvBJVgUVO1VtX3eJzX4uCyX4nbc+d7T/l2pu66uV/sFi4KS5OyXHC+z38z75Y+Wd1u3K8l5pfaZlK1m5npkHt9d7WyPpa5n5vqkrkWwKKgDTQecMbdcu6XT/tm2px6XWjfzHGbONVkrqa/PqWTfXY3XF9nq9ve53dtxentcf8fKd+18ikajCgQCp+z1EObgLWDk1KJFi3Tbbbfp6quvVnl5ub75zW/qu9/9ru6+++4uj1myZIkaGxudrz179pzCjqVIeUTBoqBzxaSv+0TKI/J7/Qp4AwqXhRUsCjrfu9vfYyUuwHssj3xun1wdP47Jq3CR8oh8bl/aPgFvQKHSkCxZ8rl9ipRH0sZPjpfZb+b95BjBoqDTR3J78rHk/YA34IwdLgurwFWQViMpGTiSj6WuQ+p3v9cvl5WYqyVLkuRz+xQuCzvzTdbIXNfU9YyUR9J6S65Fcr9wWVguy6VwWThtDUKloU7bU9cveVxyDtnOYXLuybkka6X21pfnVHIufq+/22N6I7Pux3lu93acgTxmMNQGTkdcAUROlZaW6s4779RNN93kbLv77rv18MMPO58L7Am/8QJAAq+HGCh8BhA59eUvf1l33XWXxo0bp1AopM2bN+vee+/Vt771rXy3BgAAOnAFEDl19OhR/eAHP9CvfvUrHTx4UGeddZauueYa/cu//Iu8Xm+vavAbLwAk8HqIgUIAxKDDCx4AJPB6iIHCfwQCAABgGAIgAACAYQiAAAAAhiEAAgAAGIYACAAAYBgCIAAAgGEIgAAAAIYhAAIAABiGAAgAAGAYAiAAAIBhCIAAAACGIQACAAAYhgAIAABgGAIgAACAYQiAAAAAhiEAAgAAGIYACAAAYBgCIAAAgGEIgAAAAIYhAAIAABiGAAgAAGAYAiAAAIBhCIAAAACGIQACAAAYhgAIAABgGAIgAACAYQiAAAAAhiEAAgAAGIYACAAAYBgCIAAAgGE8+W4AGKyqd1Srqq5KJb4SbW/YrnBZWMsuWeZsj5RHJEl3v3a32u12uSyXhhUM08WjL9ba3WvVHGuWz+3TovMXSZJWbFqhprYmtdvtzhg+t0+S1BxrVoGrQLF4THHFFSwKqqmtSS2xFhW6C7Vg+gJVTqpU9Y5qrdi0Qq2xVnndXi2cvlCSVFVXpYqRFardVat2u10ey6MlFyyRJK3ctFItsRZJcmqlHrN291q1xFp0ZtGZ2n98vyTJli1LliRp7oS5afOuGFmhzQc3O+syuWSyGpobJEn1x+slSR7Lo6EFQ7Vw+sK0vi1Zmjl6pjYf3OysX+paJuuv37terbFWFboLNaZ4jLYd2uasWag0pIbmBqePSHlElZMq085Z6rZs57S7YzLPb/L2xgMbVbOrxplvV2P05nmVXIvkee3O4nWLtWbnGhW6C7Xo/EV9HrOnNQFgJsu2bTvfTQCpotGoAoGAGhsb5ff789bH7CdnO4FGklyWS1uu3eJsDxYFJSltn+R+cTvu3O9qv74IFgVVe1Vtp55Sa/d23O6OySZz3r05pru+k8en9tHXnjLr1F5VK0lp5ya5LVW2xzO3ZTu/waKgDjQd6LS+2cboSepa9KbGtMemOeP2Z8ye1gSD22B5PcTph7eAgS5EyiMKFgUVKg3JZbkULgunbY+URxQpj8hjJS6kuyyX/F6/wmVh58qez+1z9vN7/c6+ST63z9m3wFUgV8ePZLAoqIA3IJ/bp4A34FyNStbxuX3ye/1O7WBRUOGysFPfY3mcx5J1UmulHuNz+2TJUrAoKKvjf5Kc25nzDpeF09YlVBpSsCjoBKbk+Mn+UvsOeAPO8al9ZPaUnGPAG1CoNJS2ZsnxUutknrPUbdnOaXfHZOspUh5RuCycNt+uxuhJ6lr0pka4LCxLlvNc6s94H6dfAKcnrgBi0OE3XgBI4PUQA4UrgAAAAIYhAAIAABiGAAgAAGAYAiAAAIBhCIAAAACGIQACAAAYhgAIAABgGAIgAACAYQiAAAAAhiEAAgAAGIYACAAAYBgCIAAAgGEIgAAAAIYhAAIAABiGAAgAAGAYAiAAAIBhCIAAAACGIQACAAAYhgAIAABgGAIgAACAYQiAAAAAhiEAAgAAGIYACAAAYBgCIAAAgGEIgAAAAIYhAAIAABiGAAgAAGAYAiAAAIBhCIAAAACG8eS7AQCS4jHpw5elYwekYaOk8RdJLvfgq91Vrb6OEY9JO1+UPlwv2ZImfE4qu7h/feVqfvGYtGt9oi9L0viLE331tdZAnksAyBECIHJu7969Wrx4sdasWaOmpiZ98pOf1MMPP6zPfOYz+W5tcHr7N1LNYim67+Q2/1lSeJk05S8HT+2uak29Snrryd6P8fZvpN8ukE4cPrntxeXSkBLpyyv61leu5vf2b6TfLpRONKRsXC4NGSF9eWXvaw3kuQSAHLJs27bz3QROH4cPH1ZFRYUuu+wy3XTTTTrjjDP07rvvauLEiZo4cWKvakSjUQUCATU2Nsrv9w9wx3n29m+k6muVuAyWykp8q3ys/8Ehl7W7rNWVLsZ4+zdS9Te7P7Ty/+9dX7maX656GshzCWMZ9XqIU4oAiJy67bbb9NJLL+nFF1/sdw1jXvDiMenHU9OvFqWxElePbqnr39uQuardY62uZIwRj0n/HpKO1nd/mH90z33lan69nVvxWdJ33+q61kCeSxjNmNdDnHIEQOTUlClTNGfOHP3pT3/SCy+8oNGjR+vv/u7vdP3113d5TEtLi1paWpz70WhUY8eOHZQveNU7qrVi0wpZsrRg+gJVTqqUJC1et1i/3/l7SZLP7dOi8xc5j6UeW1VXpYqRFdp8cLMiwc+r8pkfqbp4mFaOCKjFstQuqd2y5LFt5/MZMXeB2uyYPJZHMTsmO+UKk8/t06xxsxL1yiOqnFSp6h3VWv76PWqOtSb2sW3Najqh9UN8arUsFdq2Zp5o1ubCQkUmf0MbY1Gnd4/lUVFBkcYUj9Hbh95WobtQs0qmavO+V1XR0qLNhYWqaGnRS0N8Om5Zarcs+WxbixqOqPLoscQ8i4dpeclwNVuWXJLiliWP5ZHHcsnbdkILDzdKklaMCKipo4YkhVpatbr+QKLGl76nqvoXFCmPaOOBjarZVaNwWVgfRj/UtkPbFBo2Tqvr1jvjVQX8ijRGVXn0mBafUaqaoqEKH2/SjPO+rZW716gl1qL2eLtidkxzJ8zVjFEzEucx3q6ZRz7S2qFD1GJZmtLSqga3W5HGqCSl1dV1Tyc+E5hxLl/a+5Ja2puk9hYV2rYWHG501iLt/BcPU9XoTypScXOidl2Vc85Sa6Zuy/b8iZRHsh6fbb9sdXorW51c1UbvEQAxUAiAyCmfzydJuvXWW/XVr35VGzZs0MKFC3X//ffruuuuy3rM0qVLdccdd3TaPhhf8GY/OVv1xxNXsIJFQdVeVStJmvbYNMXtuLNf6mOZx7osl+J2XEFvQLU76jR7zFmqL+j/x3Gdeh1jpvbo7GPbincErdT7QW9AB9qOpvXeqb4sxWU7x2TWkqRgW7tq/7RPisY1e8qYbucTbGuXpM772Lbqdu2RJM2eVK761kYFi4I60HRAcTvuzDOpbufuxL4d6xdsbVft3n2aVjbW6XNU4XDVtzZ2Wq9RQ0c5a5Q2H9uWLEvB1nbJSvTozO1vVknlVyXGzDiXndbi/b2Jd4J9J9fJ6bMomJj/8fq050myZrbnTubj2Y7Ptl+2Or2VrU6uaqP3CIAYKPwZGORUPB7X9OnT9cMf/lAVFRW64YYbdP311+v+++/v8pglS5aosbHR+dqzZ88p7LhvIuUR+b1+BbwB50qMJIXLws5tn9uX9ljqscGioMJlYQWLgoqMm5vY3hhVIBaTrz0uTywu2bY88bh8HV8FVuItQ4/lkaX04OVz+07W6xgzUh6Rz1WQCDO2LV88rvAHR+Vvi8kXjysQiyl8vEnBtnZFxs1N691jeRTwBhQqDcmSlah/xgwF29qdY8LHjitwIiZPPO7UjzRGpcNx6fVWRRqj8nU85ur4/dJjeeRzeeWPxRRpjCrSGJW/LebMV7atUEvrybUaN9eZU7gsLJflUrgsrFBpSJIUGjbu5L6N0cRcnv9z4lwcb5LLthU+3qTIuLkKeAPyuX3O+oXLwifPoydxpdAXj8uybYWOtih4rE2RdX8+WbfjaqCGjcp6LgPegHyuAmdtI41R6YN26b329PPfGFWwsESR8ohzfOrzJNu2bM+fro7vbZ3e6k+PAP734Aogcmr8+PH60pe+pKqqKmfbfffdpzvvvFN79+7tVQ1jfuN1PjdWL8mW/m+T5Lakrwzp2CEXnwHsqP3gMSlUIM0s7HvtzFp/apf+q0laVCwNSQmkr7VIG9ukvxuWfYzMzwBuaJXWtUhxSf84THJ11OrTZwA7evooJv3ncenWYVKxq/fzy/zs3nPN0h/bE2H2e8WSp6OnXn8GsKOfp05IMUl/nYNzCaMZ83qIU44rgMipmTNnaseOHWnb3nnnHY0fPz5PHQ1iLnfiz4NIiRD0bnviy7bl/Jej4Xv6FxhSa0dtqT4uvZO8ItXH2qm1ZCXq2Op0hUvvtEsfxRPhKdsYLrc090cp+7dJx2ypyZb2xk5u701fmT3taD/ZQ1/ml1an4/iDcalN0s6U+c1d1n2tzHP5Trv0bpsUz8G5BIABQABETn33u9/Vq6++qh/+8Id677339POf/1wPPvigbr755ny3NjhN+cvEnwc5NFxqlnS8Iwz5z/r4fzYkWXvP0MT9PTGpKd6/2sla/uDJIPlOW+Jq3UULJO8oaVdHiNvR1vUYU/4y8SdVXAHpg5TQt6M98XcAe/snYLrsqb3v80v21OKX9qd8nu+dPvaU7OfIiESobVZizXNxLgEg12wgx37729/aU6dOtQsLC+1zzjnHfvDBB/t0fGNjoy3JbmxsHKAOB6Fbv9vxSTjZ9s3ftO1Ye+5qz5t3sva9//zxan/w/sla/mG23dKc2L569cntMz/T8xhPPnlyf8m2P1XW/74O7LdtlytRp9Br20ej/avzk5+k9xQcadvtbX2vs+S2kzVuuCa35xLGMfL1EKcEVwCRc1dccYXq6urU3Nys7du3d/snYNDh6d+dvP3ilty9VdjUJD377Mn7r77z8Wr/fs3J29Fj0iuvJm7/LqX/17dIx453Xyd1f0l6d5f04e7+9VTzByneceWupVV6/oX+1cnsqf6gVPdW3+uknst1m3nbF8CgRAAE8u2dd6S9e6WhQ6Vhw6T33pM+/DA3tZ99ViouTtwuKZH+53+k1tbuj+nOb38rjRyZuD1yZOJ+LCb94Q9SaWli+4gRiftdicelmhrJnRKM/P5ErVz11FfHj0vr16f3NHx432t9+KH0/vuJ8zh0qLR7d+J8AsAgQwAE8s3lknbulM4+W5o0Sfrgg5NXtD6usrJE7YICae5c6bXXpGi0f7VsW1q6VLrzzsT9X/5SqqxM1Fu3TrryysT2996TPv3prutEo9KaNSf3l6QnnpBmzuxfX//4j9KPf5y4/eij0re+1fca0ai0eXOihyEd/+VuVZUUDnd/XKZYLHH+Pv1paeJEadcuKeNvJgLAYND/vz4LIDc++cn0+6NGZd+vP8rLux+rLyxLuvBCqa4ucd/lkv7iLxK3R4w4ud/QodK0aV3XGT488fWJT5zcdu650pgx/evrwgsTQSvZ4wUX9L1GMPHHldPmcc45UijUtzpnn51+/4wzEl8AMMhwBRAAAMAwBEAAAADDEAABAAAMQwAEAAAwDAEQAADAMARAAAAAwxAAAQAADEMABAAAMAwBEAAAwDAEQAAAAMMQAAEAAAxDAAQAADAMARAAAMAwBEAAAADDEAABAAAMQwAEAAAwDAEQAADAMARAAAAAwxAAAQAADEMABAAAMAwBEAAAwDAEQAAAAMMQAAEAAAxDAAQAADAMARAAAMAwBEAAAADDEAABAAAM48l3A8BgVL2jWlV1VYqUR1Q5qTLtscXrFqtmV40ml0xWQ3ODs093x3RVv2JkhTYf3Jw4Jst+Vz99tbYd2iZJunzC5Vp2ybKs22eMmuGMLUlVdVUq8ZVoe8N2jRo6Svsf+LTc9hYNfWKmFk5f6OwTKY9o44GNqtlVo3BZ2KmT7EuS6o/XK1Qa0nj/eP1+5++lAqngoSmKvXuj4u/acsklr9ur2MwWtc8Mae762zTjzPM7zS85prNt1BBt/M5orblguAqfu1KL/uJ7ab1km6skhUpDamhu6HHtMs/H4nWLtWbnGhW6C7Xo/EVp5yxZq2JGVOu/VCZLthYcfEbybOt8nro4t2njddNHb2Q7pj91Btpg7AlA71i2bdv5bgJIFY1GFQgE1NjYKL/fn5ceZj85W/XH6xUsCqr2qtq0x6Y9Nk1xO+7cT+7T3TFd1XdZLsXteOKYO+qlwkLpjTec/cofLXduuyyXtly7Jev2UUNHOWNLidDWldR9gkVBHWg6oLgdT6uT7CtVtm3ZZKuTOqazrblQBwqaFXdbTl+pvWSba7Z+gkVB1bZ/S7rmGqmmRpozJ22Nk+cj9bxlnrNkLVdcine8LxL0fkIqKOh8nro4t2nj3X1IamuTtm7t0/Mia62OY/pTZ6ANxp5ON4Ph9RCnJ94CBrKIlEcULAo6V65ShcvCclkuhUpDaft0d0xX9cNl4W6PCZWG0sbtanvq2MnbodKQXJZLwaKgrLgtT0zye/1p+0TKI858Uusk+0oGt1Bp6OT4tlTQFpdLieDmkks+t08FcUtW3FZ4/Oys8+u0bd9ohV8/Iituy+cq7NRLtrkm7/dm7TLPR7gsLEuWfG5fp3OWrBX+U5H8x2IKHGtX5Myv9Po8ZRuvp+3dyXZMf+oMtMHYE4De4QogBh1jf+MtL+90BTBnvF6pslJ6/PGPX+uhh6QbbpBeekm66KKT2yMRadUqqb1dcrt7rnPjjdIDDyRu79kjjRnT/55Wr+50BbBfrrxSqq2VTpyQ3npLCoV6PCSrGTOcK4DAx2Hs6yEGHFcAAQAADEMABAAAMAwBEAAAwDAEQAAAAMMQAAEAAAxDAAQAADAMARAAAMAwBEAAAADDEAABAAAMQwAEAAAwDAEQAADAMARAAAAAwxAAAQAADEMABAAAMAwBEAAAwDAEQAAAAMMQAAEAAAxDAAQAADAMARAAAMAwBEAAAADDEAABAAAMQwAEAAAwDAEQAADAMARAAAAAwxAAAQAADEMABAAAMAwBEAAAwDAEQAAAAMMQAAEAAAxDAAQAADAMARAD6p577pFlWbrlllvy3QoAAOhAAMSA2bBhgx544AGde+65+W4FAACkIABiQBw7dkxf//rX9dBDD2nEiBH5bgcAAKTw5LsBnJ5uvvlmzZs3T1/84hd15513drtvS0uLWlpanPvRaHSg2+uV6h3VqqqrUqQ8IkmqqqtSia9Ebx96W4XuQk0cPtG5PWvcLG0+uFmR8ogqJ1Wqeke1VmxaodZYq7xurxZOX+jUqBhZofV716uprUkxO6YppVO05+geWTdLC16NqbJj/MXrFqtmV42GFQxTtDUqj+XRkguWOPVXblqplliLCt2FWjB9gTYe2Kg1O9fIkiVbtuZOmCtJWrNzjdz/+Sl5rK0qfOJijSke06nvipEV2nxws0p8JdresF2TSybr/SPvqznWLI/lkcflccaRq07L75+slndv1Nz2uVp2ybKTa3bZCC1/4kI1x5qdbZdPuFwzRs3otJaRUUOcuVb/6Xda8eJjsmRpwfQFqpxUebJmynlIzj31furYVQfvUsW6tWlzCZeF03ocSMneSipbtX2kFF63WMsuWeacy9RekufQlq2F0xemzSWXvWSu00AbyHHzNSfgdGTZtm3nuwmcXlavXq277rpLGzZskM/n06WXXqrzzjtPP/7xj7Puv3TpUt1xxx2dtjc2Nsrv9w9wt12b/eRs1R+vV7AoKEmqP17f5b4uy6W4HVewKKjaq2qdY5NSayT3zSYYlWr/oU6SNO2xaZ32667+gaYDafu7rMQF/q7GSu27u54yx9exY6q3jjrHb7l2S+LBSESzJ7+o+k94O40xauioTmsZbC5U7Y0bJUmzV89SffPBtDkmpZ6H1Lmn7bd6tWbvvV31n/B2mktajz258kqptlY6cUJ66y0pFOrdcRm9ypZknRw7eS5Te0k9h5lzzoWs63QKDOS4+ZpTPkWjUQUCgby/HuL0w1vAyKk9e/Zo4cKF+tnPfiafz9erY5YsWaLGxkbna8+ePQPcZe9EyiMKFgUVKY84t0OlIVmy5HP70m6Hy8LOvslj/V6/fG6f/F5/Wo1wWVh+r18eyyNLlkKlIfm9fgVOSJGNJy/Kh8vCclku+b2JF32P5UmrH/AG5HP7FPAGFCmPKFwWliVLLrlkyVK4LOxs87TF5Wu3FPAGsvad/B4qDclluRQqDcnn9jnjpo4TiX1GvuaYM0bamv3uI+e41HlkW8vIvtEnjxtfmViDjjG6Og/Z7qeOHXSN6DSXzB4HkvM8OSC54nLGTp7L1F6S5zD5/BioXgaidr7GzdecgNMRVwCRU7/+9a/1V3/1V3K73c62WCwmy7LkcrnU0tKS9lg2xv7GW14uFRZKb7yR+9per1RZKT3++Mev9dBD0g03SC+9JF100cntkYi0apXU3i71cI4lSTfeKD3wQOL2nj3SmDH972n1aumaa6SaGmnOnP7X+ZhXAB0zZkhtbdLWrf3vBZDBr4cYcHwGEDn1hS98QXV1dWnb5s+fr3POOUeLFy/uMfwBAICBRwBEThUXF2vq1Klp24qKilRaWtppOwAAyA8+AwgAAGAYrgBiwD3//PP5bgEAAKTgCiAAAIBhCIAAAACGIQACAAAYhgAIAABgGAIgAACAYQiAAAAAhiEAAgAAGIYACAAAYBgCIAAAgGEIgAAAAIYhAAIAABiGAAgAAGAYAiAAAIBhCIAAAACGIQACAAAYhgAIAABgGAIgAACAYQiAAAAAhiEAAgAAGIYACAAAYBgCIAAAgGEIgAAAAIYhAAIAABiGAAgAAGAYAiAAAIBhCIAAAACGIQACAAAYhgAIAABgGAIgAACAYSzbtu18NwGkikajCgQCamxslN/vz3c7kqTqHdVasWmFLFlaMH2BKidVdrvv8g3L1RJr0dwJc7XskmVpj63ctFK2bC2cvjC9Tnm5qmd4VHXFGaoYWaE1O9fIli2/16+F0xeqqq5KFSMrtPngZkXKI5Lk9DRz9Ey9tPcltcRaJEmF7kLZshVtjUqSXLG4vLZbhUP9WjB9QdqxyflU76hWVV2VIuURbTywUWt2rlGhu1Czxs3S+r3rnXFqP6hRu2IK+cr01xXXOn2tfW+Nmq24fAVDJEnNsWZZsvTPF/6zM8/F6xbr9zt/L0kKHS1SQ8thybZVf0ahQqUhrb5itbN+yeNt2fJYHi25YInTlyTZshUqDWm8f7zW7Py9CptjWjTyq6r8qzu0eN1i1eyqUbgsnLb+mTL3q77lMlWNq1fk6YOq/I8XpVDIWZeKkRVau3utWmItmlI6RQ3NDc75SD0vlZMqpRkzpLY2Vf/3P3c6b8m1SK2b+VhP/aeeq+6ei33ZN3O/zP6y9YmBNxhfD3F6IABi0BmML3izn5yt+uP1kqRgUVC1V9X2al+X5dKWa7f0rk55uWbfINX7E8fF7bjzULAoqPrj9c72YFFQktLGSd2/O5nHJvtI9hYsCupA0wGnXmrtnvrqarzkPKc9Nu3kfrYkS5JtS5YlSaq7ri5tjTLrpPaVlDp20DVCtd9c54yTuf6ZMvebfV+F6oe2K/jnVtWG/68UCjn9ZJtjclvqeam9qtYJgLP/5cxO5y25Fpl1s61TV/2nnqvunot92Tdzv8z+svWJgTcYXw9xeuAtYKAXIuUR+b1+BbwB5+pbd/v63D5ZshQuC3d6LOANyO/1Z60T2ehRsCiocFlYlhKhKLlvcnuwKKhIeSStp3BZWAFvQD63Tz63zxkjyRWLy9duOf1nm09yjEh5xBnf5/YpXBZOG8djuyTbVqhwfFpfvpglxW2nB0myZKXNM3U9QseKFPxzq4J/bk3cLw2lrV/yeEnyWJ60vpLbQ6Whjm2SrzmmyLDLnHFclqvT+mfK3C+yY7iCh9oU+d1HaefMmWPHeQ2VhtLOR+p5yTzfXT3e3WM99Z96rnrS230z98vsr6s5AvjfiSuAGHSM/Y23vFwqLJTeeCP3tb1eqbJSevzxj1/roYekG26QXnpJuuiik9sjEWnVKqm9XXK7e65z443SAw8kbu/ZI40Z0/+eVq+WrrlGqqmR5szpf50rr5Rqa6UTJ6S33pJCof7V6bgCqK1b+98LIINfDzHguAIIAABgGAIgAACAYQiAAAAAhiEAAgAAGIYACAAAYBgCIAAAgGEIgAAAAIYhAAIAABiGAAgAAGAYAiAAAIBhCIAAAACGIQACAAAYhgAIAABgGAIgAACAYQiAAAAAhiEAAgAAGIYACAAAYBgCIAAAgGEIgAAAAIYhAAIAABiGAAgAAGAYAiAAAIBhCIAAAACGIQACAAAYhgAIAABgGAIgAACAYQiAAAAAhiEAAgAAGIYACAAAYBgCIAAAgGEIgMipu+++W+eff76Ki4s1cuRIXXnlldqxY0e+2wIAACkIgMipF154QTfffLNeffVVPfPMM2pra9Ps2bN1/PjxfLcGAAA6ePLdAE4vNTU1afcfeeQRjRw5Uhs3btQll1ySp64AAEAqrgBiQDU2NkqSSkpK8twJAABI4gogBkw8Htctt9yimTNnaurUqV3u19LSopaWFud+NBo9Fe0NatU7qlVVV6WKkRXafHCzIuURVU6q7HH/1P0Wr1usml01CpeFtUxS9Zg/q+rJ2SrxlejtQ29LkmzZCpWGtPqK1b3uQ646Vf3bp1VRX6XNTy5Via9E2xu2KzxpuJb1UGPt7rVqjjUnHrhQ0oUhybalZ+fKJZfcLrfa4+2aO2Gull2yTNU7qrV8w/KTx0jyuX2aNW6WNh/c7MzFLUtFPzlHC5pelnY0auWmlbJl6+LRF2vt7rVqibVoSukUNTQ3OHNxjrXcKioo0szRM7V+3k61Xj5B7S4p9sY1mnso0UdS2pqmbE9df0laeX2rbEkXr1vc6fwla0wumZzWT+a5rt5RrRWbVsiSpQXTF2jjgY2dxq7eUa27X7tb7Xa7cx5722NyXX1unxadv6jT82vxusVas3ONCt2FznpnPg9Te5w5emaPz9XMHjKfswBOHcu2bTvfTeD0dNNNN2nNmjVav369xowZ0+V+S5cu1R133NFpe2Njo/x+/0C2OLiUl0uFhdIbb2j2k7NVf7xeLsuluB1XsCio2qtquzw0uX/qftMem6a4HZfLcmlLZLtmr5yq+iFtWY+vu66u27qpfejYMdVbR+WSS3HFnX1dtrRl/ltSe7vkdndZozdclktbrt3iHJvt8Wy1gq4R0hCfc0y2/bo6tqt9t1y7xbmftqYp21PXX1Kn8bOdl8xxM/dNnXuwKKgDTQc6jZ25PnXX1fW5x2T9zOdXap9dPQ9Tx+/NczVbDz09t00XjUYVCATMez3EgOMtYAyIv//7v9fTTz+t5557rtvwJ0lLlixRY2Oj87Vnz55T1OXgFSmPKFgUVLgsrGBR0Lli0tP+qfuFy8JyWS6Fy8KJfXaNVLAoqFBpSFbH/yQpVBrqUx+R2GcU/HOrwsNmOPVclkvhj7K/zZ9aw+f2nXzAVuLqX7wjZMilAleBLFkney6PpB+jxBXAZD/JuXjkUuBYuyLDLlOkPKKANyC/1++MaclSqDSUNhfnWMujgDegcFlY/laXfC1xedriaX10tabZ1j9SHlHghOQ/oaznL1kjs5/MfSPlEfm9fgW8AUXKI1nHjpRH5LE8aeextz0m19Xn9mV9foXLwrJkpa135n6pPfbmuZrZQ2+e2wAGBlcAkVO2besf/uEf9Ktf/UrPP/+8PvWpT/W5hrG/8aZcAcw5r1eqrJQef/zj13roIemGG6SXXpIuuujk9khEWrWq0xXALt14o/TAA4nbe/ZIPfyi0K3Vq6VrrpFqaqQ5c/pf58orpdpa6cQJ6a23pFDX4bhbM2ZIbW3S1q397wWQwa+HGHB8BhA5dfPNN+vnP/+5nnrqKRUXF2v//v2SpEAgoCFDhuS5OwAAIPEWMHLsvvvuU2Njoy699FIFg0Hn6xe/+EW+WwMAAB24Aoic4hMFAAAMflwBBAAAMAwBEAAAwDAEQAAAAMMQAAEAAAxDAAQAADAMARAAAMAwBEAAAADDEAABAAAMQwAEAAAwDAEQAADAMARAAAAAwxAAAQAADEMABAAAMAwBEAAAwDAEQAAAAMMQAAEAAAxDAAQAADAMARAAAMAwBEAAAADDEAABAAAMQwAEAAAwDAEQAADAMARAAAAAwxAAAQAADEMABAAAMAwBEAAAwDAEQAAAAMMQAAEAAAxDAAQAADAMARAAAMAwnnw3AORS9Y5qVdVVqcRXorcPva1Cd6EWnb9IkrRi0wodazumuB1XqDSkv/7UX+vOV++ULbvX9V1yKa54l49bsmTLlstyybZtFXuLFW2NOo97LI/a7XYFi4KqvapWknT101dr26Ft8twiLXkxpsoeeli8brHW7FyjQnehZo2bpbW716ol1qIppVPU0NygSHlElZN6qnJScs16Om7xusWq2VWjsPuTmnHZCFXtXKJI6c39GqtiZIU2V7yhyGUjVPnc4V4fDwDIDa4A4rRSVVel+uP12nZom2zZao41q6quSlV1VYq2RhW3E+Ft26Ftqqqr6lP4k9Rt+JPk1Ivbcdmy08KfJLXb7ZKk+uP1zrZth7YlHvNIVTPae+yhZleNM7eaXTVqjjXLlq1th7ap/ni9quqq+jSn5Jr1dFzNrhrF7bhqXO+qat4Zqm9v6PdYNbtqVO9rUdW8M/p0PAAgNwiAOK1EyiMKFgUVKg3JkiWf26dIeUSR8oj8Xr9cVuIpHyoNKVIekSWrT/VdPfzIJOu5LJcsWfJ7/WmPe6zERfdgUdDZFioNJR5rlyIbe74oHy4LO3MLl4Xlc/tkyVKoNKRgUVCR8kif5pRcs56OC5eF5bJcCsc/pcjvPlLQU9LvscJlYQWbCxX53Ud9Oh4AkBuWbdt9uwQCDLBoNKpAIKDGxkb5/f6eDzhdlJdLhYXSG2/kvrbXK1VWSo8//vFrPfSQdMMN0ksvSRdddHJ7JCKtWiW1t0tud891brxReuCBxO09e6QxY/rf0+rV0jXXSDU10pw5/a9z5ZVSba104oT01ltSKNS/OjNmSG1t0tat/e8FkMGvhxhwXAEEAAAwDAEQAADAMARAAAAAwxAAAQAADEMABAAAMAwBEAAAwDAEQAAAAMMQAAEAAAxDAAQAADAMARAAAMAwBEAAAADDEAABAAAMQwAEAAAwDAEQAADAMARAAAAAwxAAAQAADEMABAAAMAwBEAAAwDAEQAAAAMMQAAEAAAxDAAQAADAMARAAAMAwBEAAAADDEAABAAAMQwAEAAAwDAEQAADAMARAAAAAwxAAAQAADEMABAAAMAwBEBgEYnFbTa0xHWlq0yvvH1Isbue0dlzSnsNNH7t2LG7r/YPHJEl1exudWrG4rQPRZknq1RixuK39jc3O/Q07G/rdVyxu650DRyVJb++Lfqw6h463qi0WlyRt+vBwv2rF4raOtbSrsTn35xIAcoUAiAHx05/+VGVlZfL5fLrgggv0+uuv57ulQavmrXpdvGytdjc0affhJl3z0Ku6eNla1bxVn7Pa7TFbb+w6/LFqJ2s99OIHkqTbn9qmi5et1d2/f1sXL1ur53Z8JEn6elX3Y9S8Va8Zdz6jZ/94wNn2D09s1ow7n+lzX8me/uPZdyVJ96zZ3q/5JXva+OFhtXcEtsW/3NrnnpL97Pzzce070pzTcwkAuUQARM794he/0K233qrbb79dmzZt0rRp0zRnzhwdPHgw360NOjVv1eumxzepPuVqmCTtb2zWTY9v+ljBIZe1u6pV39isB9bt7PUYNW/V68bHN+lIU1unMY40tenGPvSVq/nlqqeBPJcAkGsEQOTcvffeq+uvv17z58/XlClTdP/992vo0KH6r//6r3y3NqjE4rbu+O3byvYGYXLbHb99u99vQ+aqdne1upJtjFjc1tLfbOvx2N70lav5JXp6u8eelv5mW7e1BvJcAsBA8OS7AZxeWltbtXHjRi1ZssTZ5nK59MUvflGvvPJK1mNaWlrU0tLi3I9GowPe50Cr3lGtqroqRcojqpxUmXWf13c26M/W8yqa+LxaD13a6fHCs57QUf9WXb/mMv3XvBV9Gv/1nQ2drkQlFQx/Vd7S53X4xHjNqr5bF541Q5sPblbFyAptPri5U8/JWsnjPjx2hvSHnnvwDH9V0dLntfzlD3X2GcP0080P6siwM1V0xodp8138ndE6/hf/n4raArIKGnU4eq5e33mePjuxVIvXLVbNrhpNLpmshuYGp8dZZ16tw0VrNSy4VXZbQM+fc0TlfxWSrP+WL/qOmvddo/rGZi1/+WGt3b9aFSMrtH7velmytGD6AlVOqlT1jmr9dPODOuT6rHxn7ZTHv0WLFkvDmidq7MFm7Z9wv3zRcxVrmqBjZ/xB5/8srqEenxZMXyBJWrFphVPvsbpqHQ3u0LAzLdlxn/7nArd2lHk07JzbnHkejk5z5pWUfJ4k51XiK9H2hu0Kl4U1Y9QMrdy0UsfbjqvdbpfP7dOi8xdJklZuWilbtsYWj9X2hu3O+mR7vlXvqNbyDcvVEmvR3Alznbq2bBUVFKn+eOLK5OUTLteyS5Ylzsm6xVqzc43clltDC4bq4tEXO+s3pniM02Ny/9S5JHu4+umrte3QNoVKQ1p9xeqsPxPJcTwuj4Z4hjjzyaydba26+tlKHUdSr47pyxjZ5tHTz3tvXg+AU82ybZtfSZEz+/bt0+jRo/Xyyy/rs5/9rLP9e9/7nl544QW99tprnY5ZunSp7rjjjk7bGxsb5ff7B7TfgTL7ydmqP16vYFFQtVfVZt3nqTf36vsbrpbLe0Tx1uH6/O8uVsxy6Q+TLpIkDTtniSzLliWXtl63pU/jP/XmXi1c/aZz//9s+YN2Dz9Tr4yfpqKJ98jlPSLbtmRZtlyWS3E77nzP7DlZK3mcq7lYl/9qhv7nkxfoo2EjnP0u2F2nsxv2avW02bItl7P/8IKRGuJ1q/54vTNmvHW4pjx/hS79YKPuv2G75JJsW7IsybYt3XXeGn3lvNGa9tg0xe24M0ayx+EFI3W49SNZlu0cl2Tblo798W5J0thz79WRtoPOcZKc+SXPUbx1uKyCRllWykuhLamjF7stIJf3iPNQsCgoSU5wChYFndtJhU1D1OI7kfYeS+q8kpI9pPaXnOeooaM61c0cO1O251tyjO7qJh/bcm3iedbVune1f+o4yR7KHy13Hqu7ri7rz0TmOF3VTq3f1fM0Wx+SenVMX8bINo+eft5783rQlWg0qkAg8L/69RCDE28BI++WLFmixsZG52vPnj35bulji5RHFCwKOlchshlZ7FProUsVbx2u1kOX6vfnXOyEP0lqj54r27b0mU9c2ufxRxb70u7/YtocvTJ+miQ5Y7ZHz1VJ4SiFy8IKFgWd75k9J2slj2s6/AU9cV44LfxJ0mvjyvXEeWHZlitt/3njvq5IeUQlhaPUHj3Xme+GsVO1/PPXqe3otI6gNVy2bak9eq4zZrgsLJflUqg0lNbjvHFfd9YncZycr/bouU5P88Z93TnO7/Ur4A0480v21Hro0o5aUjzukt0+RLHm0U4vrYculd0+RAWuQuf4SHkkrd74okmJ8eOW4u1D1Ng4p2Ne6X1lnpfk8yQ5r1BpSC7LpXBZWJHyiALegDxW4o0an9vnjB3wBuT3+p39k+uT7fkWKY/I5/bJkpVW1+/1OyEpudapty1Z8lge+b3+tPVL7THbXJI9hEpDad+z/UwkxylwFaTNJ7N2trXq6mcrdZzeHtOXMbLNo6ef9968HgCnGlcAkVOtra0aOnSonnzySV155ZXO9uuuu05HjhzRU0891WMNU37jjcVtXbxsrfY3Nmf97Jgl6cyAT+sXz5LbZWXZ49TU7qlWVzLHiMVtzbznWe2PtnR7XLAXfeVqfome1mp/NPvb5Uln+gv10m1f6LLWQJ5LmM2U10OcelwBRE55vV7NmDFDzz77rLMtHo/r2WefTXtLGJLbZen2L0+RlAgIqZL3b//ylH4FhlzW7q5WV7KN4XZZWvqXoR6P7U1fuZpfoqcpPfa09C9D3dYayHMJAAOBAIicu/XWW/XQQw/p0Ucf1fbt23XTTTfp+PHjmj9/fr5bG3TCU4O67xvTdWYg/a3BMwM+3feN6QpPDXZx5Kmt3VWtYMCn71wyQcFejhGeGtT935iu4UMLOo0xYmiB7u9DX7maX3c9De9DTwN5LgEg13gLGAPiJz/5iZYvX679+/frvPPO08qVK3XBBRf06lgT3/KIxW29vrNBB482a2SxT38xoSRnV4tyWburWn0dIxa39er7h/TKB3+WZOmzE0t14dml/eorV/OLxW29+sEhvfL+IUm2Pnv2J3ThxL73NJDnEuYx8fUQpwYBEIMOL3gAkMDrIQYKbwEDAAAYhgAIAABgGAIgAACAYQiAAAAAhiEAAgAAGIYACAAAYBgCIAAAgGEIgAAAAIYhAAIAABjGk+8GgEzJf5wmGo3muRMAyK/k6yD/aBdyjQCIQefo0aOSpLFjx+a5EwAYHI4ePapAIJDvNnAa4d8CxqATj8e1b98+FRcXy7KsfLdzykSjUY0dO1Z79uzh3/zsBuvUe6xV7w3WtbJtW0ePHtVZZ50ll4tPbSF3uAKIQcflcmnMmDH5biNv/H7/oPo/oMGKdeo91qr3BuNaceUPA4FfJwAAAAxDAAQAADAMARAYJAoLC3X77bersLAw360MaqxT77FWvcdawTT8RyAAAACG4QogAACAYQiAAAAAhiEAAgAAGIYACAAAYBgCIJBnu3bt0re//W1NmDBBQ4YM0cSJE3X77bertbU16/7vvfeeiouLNXz48FPbaJ71Zp2ef/55feUrX1EwGFRRUZHOO+88/exnP8tj1/nR2+fU1q1b9bnPfU4+n09jx47Vj370ozx1nD933XWXLrroIg0dOrTLn6kNGzboC1/4goYPH64RI0Zozpw52rJly6ltFMgxAiCQZ3/84x8Vj8f1wAMPaNu2bfr3f/933X///fr+97/fad+2tjZdc801+tznPpeHTvOrN+v08ssv69xzz9Uvf/lLbd26VfPnz9e1116rp59+Oo+dn3q9WatoNKrZs2dr/Pjx2rhxo5YvX66lS5fqwQcfzGPnp15ra6u++tWv6qabbsr6+LFjxxQOhzVu3Di99tprWr9+vYqLizVnzhy1tbWd4m6BHLIBDDo/+tGP7AkTJnTa/r3vfc/+xje+YT/88MN2IBA49Y0NMl2tU6rLL7/cnj9//inqaPDKXKv//M//tEeMGGG3tLQ42xYvXmxPmjQpH+3lXVc/Uxs2bLAl2bt373a2bd261ZZkv/vuu6ewQyC3uAIIDEKNjY0qKSlJ27Z27Vr993//t37605/mqavBJ9s69WcfE2SuwyuvvKJLLrlEXq/X2TZnzhzt2LFDhw8fzkeLg9KkSZNUWlqqVatWqbW1VSdOnNCqVas0efJklZWV5bs9oN8IgMAg89577+k//uM/9J3vfMfZdujQIf3t3/6tHnnkkUH3D9XnS7Z1ylRdXa0NGzZo/vz5p7CzwSfbWu3fv1+jRo1K2y95f//+/ae0v8GsuLhYzz//vB5//HENGTJEw4YNU01NjdasWSOPx5Pv9oB+IwACA+S2226TZVndfv3xj39MO2bv3r0Kh8P66le/quuvv97Zfv311+trX/uaLrnkklM9jQGXy3VK9dxzz2n+/Pl66KGHFAqFTsVUBtxArdXppj/r1JUTJ07o29/+tmbOnKlXX31VL730kqZOnap58+bpxIkTAzwTYODwT8EBA+Sjjz7SoUOHut3n7LPPdt6C27dvny699FJdeOGFeuSRR+Rynfz9bPjw4Tp27Jhz37ZtxeNxud1uPfjgg/rWt741MJM4BXK5TkkvvPCC5s2bp3vvvVc33HDDgPSdD7lcq2uvvVbRaFS//vWvnW3PPfecZs2apYaGBo0YMWJA5nAq9HWdJOmRRx7RLbfcoiNHjqTtt2rVKn3/+99XfX29s36tra0aMWKEVq1apauvvjrn/QOnAtevgQFyxhln6IwzzujVvnv37tVll12mGTNm6OGHH+4Ual555RXFYjHn/lNPPaVly5bp5Zdf1ujRo3Pa96mWy3WSEn8K5oorrtCyZctOq/An5XatPvvZz+qf/umf1NbWpoKCAknSM888o0mTJv2vDn9S39apJ01NTXK5XLIsy9mWvB+Px3MyBpAPvAUM5NnevXt16aWXaty4cfq3f/s3ffTRR9q/f3/a57AmT56sqVOnOl+jR4+Wy+XS1KlT/9f/n3Vv9WadnnvuOc2bN08LFizQ3/zN3ziPNzQ05LHzU683a/W1r31NXq9X3/72t7Vt2zb94he/0IoVK3TrrbfmsfNTb/fu3XrzzTe1e/duxWIxvfnmm3rzzTedK+5f+tKXdPjwYd18883avn27tm3bpvnz58vj8eiyyy7Lc/fAx5Dn/woZMN7DDz9sS8r61d0xpv0ZmN6s03XXXZf18c9//vP5azwPevuc2rJli33xxRfbhYWF9ujRo+177rknTx3nT1fPmeeee87Zp7a21p45c6YdCATsESNG2LNmzbJfeeWV/DUN5ACfAQQAADAMbwEDAAAYhgAIAABgGAIgAACAYQiAAAAAhiEAAgAAGIYACAAAYBgCIAAAgGEIgAAAAIYhAAIAABiGAAgAAGAYAiAAAIBhCIAAAACGIQACAAAYhgAIAABgGAIgAACAYQiAAAAAhiEAAgAAGIYACAAAYBgCIAAAgGEIgAAAAIYhAAIAABiGAAgAAGAYAiAAAIBhCIAAAACGIQACAAAYhgAIAABgGAIgAACAYQiAAAAAhiEAAgAAGIYACAAAYBgCIAAAgGH+H8FVt1Gu85V2AAAAAElFTkSuQmCC' width=640.0/>\n",
       "            </div>\n",
       "        "
      ],
      "text/plain": [
       "Canvas(toolbar=Toolbar(toolitems=[('Home', 'Reset original view', 'home', 'home'), ('Back', 'Back to previous …"
      ]
     },
     "metadata": {},
     "output_type": "display_data"
    }
   ],
   "source": [
    "\n",
    "plot_iterations = 1\n",
    "\n",
    "mapped_tensor = zh_start_tensor\n",
    "for i in range(plot_iterations):\n",
    "    mapped_tensor = map(mapped_tensor)\n",
    "mapped_tensor = mapped_tensor.detach()\n",
    "\n",
    "my_plot(zh_start_tensor, mapped_tensor, zh_target_tensor, plot_points=10, x_idx=x_idx, y_idx=y_idx, one_hot_y=one_hot_y)\n"
   ]
  },
  {
   "cell_type": "code",
   "execution_count": 14,
   "id": "8ac074be-5d27-480a-83fe-e1161e9d69ef",
   "metadata": {
    "id": "8ac074be-5d27-480a-83fe-e1161e9d69ef"
   },
   "outputs": [
    {
     "data": {
      "application/vnd.jupyter.widget-view+json": {
       "model_id": "71cb7143769f4a95b17221e051e6ca9a",
       "version_major": 2,
       "version_minor": 0
      },
      "image/png": "[encoded data removed]",
      "text/html": [
       "\n",
       "            <div style=\"display: inline-block;\">\n",
       "                <div class=\"jupyter-widgets widget-label\" style=\"text-align: center;\">\n",
       "                    Figure\n",
       "                </div>\n",
       "                <img src='data:image/png;base64,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' width=640.0/>\n",
       "            </div>\n",
       "        "
      ],
      "text/plain": [
       "Canvas(toolbar=Toolbar(toolitems=[('Home', 'Reset original view', 'home', 'home'), ('Back', 'Back to previous …"
      ]
     },
     "metadata": {},
     "output_type": "display_data"
    }
   ],
   "source": [
    "plot_iterations = iterations\n",
    "\n",
    "mapped_tensor = zh_start_tensor\n",
    "for i in range(plot_iterations):\n",
    "    mapped_tensor = map(mapped_tensor)\n",
    "mapped_tensor = mapped_tensor.detach()\n",
    "\n",
    "my_plot(zh_start_tensor, mapped_tensor, zh_target_tensor, plot_points=10, x_idx=x_idx, y_idx=y_idx, one_hot_y=one_hot_y)"
   ]
  },
  {
   "cell_type": "markdown",
   "id": "ea123cd4",
   "metadata": {},
   "source": [
    "# Path"
   ]
  },
  {
   "cell_type": "code",
   "execution_count": 15,
   "id": "911b76b9",
   "metadata": {},
   "outputs": [
    {
     "data": {
      "application/vnd.jupyter.widget-view+json": {
       "model_id": "ec1647a719b74eefbfd9225125ac55a8",
       "version_major": 2,
       "version_minor": 0
      },
      "image/png": "[encoded data removed]",
      "text/html": [
       "\n",
       "            <div style=\"display: inline-block;\">\n",
       "                <div class=\"jupyter-widgets widget-label\" style=\"text-align: center;\">\n",
       "                    Figure\n",
       "                </div>\n",
       "                <img src='data:image/png;base64,iVBORw0KGgoAAAANSUhEUgAAAoAAAAHgCAYAAAA10dzkAAAAOXRFWHRTb2Z0d2FyZQBNYXRwbG90bGliIHZlcnNpb24zLjkuNCwgaHR0cHM6Ly9tYXRwbG90bGliLm9yZy8ekN5oAAAACXBIWXMAAA9hAAAPYQGoP6dpAAA+W0lEQVR4nO3df3RU9Z3/8dedySS50GQmUvyREaOmFQUZf7AqSqXR1qIdtHZb3VrZuthqd2qlrYstyLdVt/5A67pWTxet6+qeQ6V23W0VU7WsglY0BVkkLlpQVgMmohTIhB8hP2bu94+buZmZTGCSTJjA5/k4J2fu3Ln3/Xnfz50ML+7MgOU4jiMAAAAYw1fsBgAAAHBgEQABAAAMQwAEAAAwDAEQAADAMARAAAAAwxAAAQAADEMABAAAMAwBEAAAwDAEQAAAAMMQAAEAAAxDAAQAADAMARAAAMAwBEAAAADDEAABAAAMQwAEAAAwDAEQAADAMARAAAAAwxAAAQAADEMABAAAMAwBEAAAwDAEQAAAAMMQAAEAAAxDAAQAADAMARAAAMAwBEAAAADDEAABAAAMQwAEAAAwDAEQAADAMARAAAAAwxAAAQAADEMABAAAMAwBEAAAwDAEQAAAAMMQAAEAAAxDAAQAADAMARAAAMAwBEAAAADDEAABAAAMQwAEAAAwDAEQAADAMARAAAAAwxAAAQAADEMABAAAMAwBEAAAwDAEQAAAAMMQAAEAAAxDAAQAADAMARAAAMAwBEAAAADDEAABAAAMQwAEAAAwDAEQAADAMARAAAAAwxAAAQAADEMABAAAMAwBEAAAwDAlxW4AyJZMJtXS0qKKigpZllXsdgCgaBzH0c6dO1VdXS2fj2s2KBwCIEaclpYWjRs3rthtAMCIsXnzZh199NHFbgOHEAIgRpyKigpJ7gteZWVlkbsBgOJpa2vTuHHjvNdFoFAIgBhxUm/7VlZWEgABQOLjMCg4PlAAAABgGAIgAACAYQiAAAAAhiEAAgAAGIYACAAAYBgCIAAAgGEIgAAAAIYhAAIAABiGAAgAAGAYAiAAAIBhCIAAAACGIQACAAAYpqTYDQDFNnvxGtU3tigaqdb9V5wmSVrU0KSFyzdqck2VXt6wVZI0Z/p4SfLWr27akfH4tBPG6uUNW9XRnVRZiU/HHDZK61rimlgd1LbdnZpcU6Wlb23R3q6kJoWDeufjXWrvSijgszS6rETTThir1U07NGZ0qd5sjqs84NMFE47U0rc+UntXQpYkR1LAb+mik4/yxpIcdSccdSWdfo/RZ0lJp/fWDvhVVmKptb1bfkuaWB30en3n451ej5u27/GOLdVbY3NckhSyS9Ta3q1wqFy7OxLa3dmtroQjO+DT/OgEzZxSkzGXsbpab/5idbXe46lzsGRti8oDPn368Aqta4lnnI98pI+Ta+z08QZqUUOT7nl+vST3eZBvrf7Gz7evQvU/HEZybwD2z3Icp/8/NYAiaGtrUzAYVDweV2Vl5bCPVzuvXglH8lvSxjujkqSpC15Uc2u7/JaU6PkNCYdsScpYn/54+nIug3m8v332V6vQBjpeOGRrxdzzJfXOZfr8pT8u9Z6D7DFT5yMf6ePkGjt9vIFK1ck+tsH0NJC+CtX/cBjJvR1KDvTrIczBW8AwXjRSLb/l3qbE6moVDtmKRqoVsgMK2QHF6moz1mc/nlq2A36F7IAi4aD8lhQJB71t7YBPltx1dsAvSQr4LG//cMhWJByUJckO+Hr2cbezenoL+K2MseyATwGfpX1JPZy6dXt03wBI9Zi6Te8x/dhSvaWk9g+HyhWyAwr4rZ7aPu9qX/pcps9f+uOpc5A65lQv6ecjH7lq9zfeQMXqajOeB0PpaSB9Far/4TCSewOwf1wBxIjD33gBwMXrIYYLVwABAAAMQwAEAAAwDAEQAADAMARAAAAAwxAAAQAADEMABAAAMAwBEAAAwDAEQAAAAMMQAAEAAAxDAAQAADAMARAAAMAwBEAAAADDEAABAAAMQwAEAAAwDAEQAADAMARAAAAAwxAAAQAADEMABAAAMAwBEAAAwDAEQAAAAMMQAAEAAAxDAAQAADAMARAAAMAwBEAAAADDEAABAAAMQwAEAAAwDAEQAADAMARAAAAAwxAAAQAADEMABAAAMAwBEAWVSCT04x//WMcdd5xs21Ztba1++tOfynGcYrcGAAB6lBS7ARxa7rrrLi1cuFD//u//rokTJ+r111/XrFmzFAwGNXv27GK3BwAARABEgb366qv60pe+pGg0Kkk69thjtXjxYq1cubLInQEAgBTeAkZBnXPOOXrhhRe0YcMGSdLatWv1yiuv6KKLLipyZwAAIIUrgCiouXPnqq2tTSeeeKL8fr8SiYRuv/12XXnllf3u09HRoY6ODu9+W1vbgWjVs6ihSQuXb1SsrlYzp9QMeJtFDU265/n1kqRpJ4zV6qYdmlxTpdVNO/a5/e6ObnUlHQV8lkr8ljq6k0o6UiQc1NPXf0aLGpp0e/1bau9KetuUlfh1zGGj9GZzXOUBn+ZHJ0iSN/6c6eM1c0pNn34XrdiohX9s8u5f8sAramyOKxwq18dtHepKup/RjISDkqTG5rh3f9P2PeroTqisxK9pJ4zVs//7oboSjtdnytQFL6i5da+337bdnd48pN++vGGrdu7tUsKRLEmOJDvg1wUTjtDStz5Se1ciY+z0eU2fz9Q8pnqbM328JHnHvfK97apvbFE0Uq37rzjNm5Mxo0u1riWesT59/lL7Tax2jyHXOUzNX8gu0c693V6twT6ncp3DwcquO5Tndr7j5LvfYMcqdm3gUGQ5fDofBfTrX/9aN954o372s59p4sSJeuONN/T9739f9957r6666qqc+9xyyy269dZb+6yPx+OqrKwc7pY1dcGLam5tVzhka8Xc8we8TeoxSfJbUsLpvd3f9v15f0E0r+3CIVuSvO1S42X3O/X/PaXm7hLv/rFz6/dZtz+p40rvMyVXzez5yN5/X7VzPZY+n9nzkz4X4ZCtLfF2b8yNd/adz1zr0/dLr5t9DrOPNVUrZaDPqVTf/Y03ELnqDva5ne84+e432LGKXbuY2traFAwGD9jrIczBW8AoqBtvvFFz587V1772NU2aNEl/+7d/qx/84Ae68847+91n3rx5isfj3s/mzZsPYMdSrK5W4ZDtXTEZ6DaxulqF7IBCdkDRSLXCIdu73df2AZ8lSQr4LNkBn3xOUpLjXYWL1dXKDvgytgnZAUXCQVmS7IBPsbrajPFT42X3G9v0qsKBhHc/NUY4VO71kVqfeix1P2QHvLGjkWoFfJIcR5Fw5h9G4VB5xn7p85B+G7ID8vcMmRrZDvgVjVTLDvj7jJ0+r+nzmTruVG+puUhtF41Uy29J0Uh1xpxEwsE+69PnL7Vf6hhyncPUHIXskoxa6b0N5DmV6xwOVnbdoTy38x1nOPcZCbWBQxFXAFFQY8aM0W233aZYLOatu/POO/Xoo496nwvcH2P/xjt+vFReLq1dW9i6e/ZIY8ZIl1wiPfHE0Ov94hfSd78rLV8uffazQ68HoF/Gvh5i2PEZQBTUxRdfrNtvv13HHHOMJk6cqDVr1ujee+/V1VdfXezWRrYNG9wfSWpqkmoK+BmmF16Q9u6VnntO6uyUSkuHVm/Jkt5bAiAAHJR4CxgF9cADD+irX/2qvvOd7+ikk07SnDlz9O1vf1s//elPi93ayPbMM7mXCyEV2NrapD/+cWi1du2Sli3LrAsAOOgQAFFQFRUVuu+++9TU1KT29nZt3LhRt912m0qHetXpUJcepgoZrJLJzEA51NpLl7pXEaXMq5YAgIMKARAoth07Mq/MLVvmXmkrhDVrpA8/7L2/ZIk0lI/9ZgfIQl+tBAAcEARAoNjWr5cefVQ68UTplFOkhx5y1xXCBx9Iv/+9VFIiXXqpFItJW7YMrpbjSMcdJ/3kJ+79hx6SAoHC9AkAOKD4FjBGHGO/9TZpklRWJr3+euFrl5ZKl18uLVo09FoPPyxde620YoV0zjlDrwegX8a+HmLYcQUQAADAMARAAAAAwxAAAQAADEMABAAAMAwBEAAAwDAEQAAAAMMQAAEAAAxDAAQAADAMARAAAMAwBEAAAADDEAABAAAMQwAEAAAwDAEQAADAMARAAAAAwxAAAQAADEMABAAAMAwBEAAAwDAEQAAAAMMQAAEAAAxDAAQAADAMARAAAMAwBEAAAADDEAABAAAMQwAEAAAwDAEQAADAMARAAAAAwxAAAQAADGM5juMUuwkgXVtbm4LBoOLxuCorK4vWx6KGJi1cvlFjRpdqXUtc0Ui17r/iNG99rK5WknTr0+vUlXTks6TK8oCmnTBWS9/aovaupOyAT/OjEyRJ9zy/Xrs7utWV7P2VswM+SZbauxIKJLqVsCwlfX6FQ+Xa3ZFQR3dCZSV+zZk+XjOn1GhRQ5PueX69OrqTKivxac708ZKkhcs3anJNlZ5980N1JR0FfJZuvmSiN25HfKdU4lfZ6FF99ln61kfa25VQdahcLa17JUmOJKunx4tPyTzuyV3btLplp8bUHKV18aQmVge1bXenJEfNPfsHfJZGl5X06VuSpp0wVqubdnjzlz6XqZ5e3rDVO/ZjDhulxua4N2eRsDve5Joqr87MKTUZ5yx9Xa5zuq99ss9vannle9tV39jiHW9/Y+TzvErNRWp+9mX24jVasrZF5T3PpYGOub85wcg2Ul4PceghAGLEGSkveFMXvKjm1nbvvt+SNt4Z9daHQ7YkZWyT2i6R9lvV33YDEQ7ZWjH3/D49pdfOd9x97ZNL9nH75SjhxcOB950aM72PgfaUXWfF3PMlKePcpNaly/V49rpc5zccsrUl3t5nfnONsT/pc5FPjdp59d64gxlzf3OCkW2kvB7i0MNbwEA/YnW1CodsRcJB+S0pGqnOWB+rq1WsrlYBnxuGfJYUsgOKRqp7ruy5V/hS24XsgLdtih3wyQ74JUmBRLd8yYQkKRwqV8gOyA74FLID3tWoVB074PfWp/qJRqq9+gGflTGu3blXdrIr5z52wC+rZ0xLvVf+UsvZxx0d3a5w/CNFQj75LfeKXDhkKxwq944r4LNy9p2an/T5y16ORqozjj0SDmbMWWq89DrZ5yx9Xa5zuq99YpMPV3hva5/+opHqjOPtb4z9SZ+LfGpEI9Wy1PtcGsx4Q+kXwKGJK4AYcYz9G++kSVJZmfT664WvXVoqXX65tGjR0Gs9/LB07bXSihXSOecMvd5I8+ij0tVXSx9+KB15ZLG7geGMfT3EsOMKIACke+YZ97a+vrh9AMAwIgACQEpHh/SHP7jLS5YUtxcAGEYEQABIWb5c2rXLXV66VNq7t6jtAMBwIQACQEr6Vb89e6Rly4rXCwAMIwIgAEiS40hvvSVdcIF7/8or3SuCAHAIIgACgOQGwOefl77wBff+vHnSP/5jcXsCgGFSUuwGAGBE8Pncn3RlZcXpBQCGGVcAAQAADEMABAAAMAwBEAAAwDAEQAAAAMMQAAEAAAxDAAQAADAMARAAAMAwBEAAAADDEAABAAAMQwAEAAAwDAEQAADAMARAAAAAwxAAAQAADEMABAAAMAwBEAAAwDAEQAAAAMMQAAEAAAxDAAQAADAMARAAAMAwBEAAAADDEAABAAAMQwAEAAAwDAEQAADAMARAFFxzc7NmzpypMWPGyLZtTZo0Sa+//nqx2wIAAD1Kit0ADi07duzQ1KlTdd555+nZZ5/V2LFj9c4776iqqqrYrQEAgB4EQBTUXXfdpXHjxunRRx/11h133HFF7AgAAGSzHMdxit0EDh0TJkzQ9OnT9cEHH+ill15SOBzWd77zHV1zzTX97tPR0aGOjg7vfltbm8aNG6d4PK7KysoD0XbeFjU06Z7n10uS5kwfr5lTaiRJsxev0dNrWyRJdsCn+dEJ3mPp+y5cvlGTa6q0ummHYnW1mjmlxqvZsXOXui2/uvwlCvgslfgtSVJ30lFXwlHAZ6k76Sj9F9YO+HTBhCP71Lu9/i21dyV7t2lcrpdPOEsd5bbKSvyadsJYb5+V7233eg/4LI0uK9Exh43Sm81xlafVT/U9uWubXv5Lt3aPqlSXI9kBv+ZHT/KO1x3/bbV3JeS3pISjnuPxqazEpznTx0uS7nl+vXZ3dKsr6R5RJBzU09d/JmOuUv3VN7YoGqnW+3/ZrcbmeL/bzpxSo9mL13jbn3ncYe7cdifUnXDUnXR08Sm96yVp2gljtfStj7S3K6FJ4aC2fbhVsWcfln7yYy1c3+7V7e9cvrxhqzq6E5KkshJ/xvMi1z6xulpJyug513EMdP9c2+Wqk69cdQpVG/lra2tTMBgcka+HOLgRAFFQ5eXlkqQbbrhBl112mVatWqXvfe97evDBB3XVVVfl3OeWW27Rrbfe2mf9SHzBm7rgRTW3tkuSwiFbK+aeL0mqnVevRNpvUvpj2fumQlFqm/Sag5FPPX8yoYTPn3OfLfH2jN77q+/dOo4SlpWxTThka0X1B9Lzz2vqpKvV3Lq333rhkC1JOY/5/QVRSb1zld5favx+t+3epRWzTlbtove97Y8M2n3nImt9Zl1HkqVw/CPpiCPVvNfJ61z2mYvdy6TubunOO/vsk3786bXTH88eL5/9c22Xq06+ctUpVG3kjwCI4cKXQFBQyWRSp59+uu644w6ddtppuvbaa3XNNdfowQcf7HefefPmKR6Pez+bN28+gB0PTKyuViE7oJAd8K7ESFI0Uu0t2wFfxmPp+4ZDtqKRaoVDtrdNqqbd2a5Ad5ck94qZHfDJDvgU6LkSGPBZsrJq2gFfznp2wJe5zdt/VGjvLtkBn0J2IGOf9N4DPkshO6BIOCgrq753u6dJofY2BZS6wuh3x66vlx5/XLFpx8sOuGGzp/We4/F78xarq1Uosdc9Xqf3CmD2XKX681vuHKe26bNtIKnYC/8uffBBxvbe3AZ83vylr0/NhR3wy5IU2blF4fjHijU8qdhR3Rnz2t+5TNVPzW2srlZ6/HH3J8c+qePPrp1r3UD2z7dOvgbTI4CDB1cAUVA1NTW64IIL9K//+q/euoULF+q2225Tc3NzXjWM/Ruv3y9ZlnvlqNAsS6qqkrZvH3qtiy6SnntO+qd/km64oXf92WdLDQ1u/35///unnHuu9Mor7vLGjdLxxw++p3vukW68UfrVr6Svf33wdcaPlzZscJd/8xvpsssGV+eTn5QSCWnHjsH3Asjg10MMO64AoqCmTp2q9evXZ6zbsGGDamr4vNA+dXdLyaQbGpLJwtZOBe89ewpT74MP3Nt16zLXb9rk3v7f/+VXp6mpd/k3vxlaT//zP+7tn/40tDpbtvQuv/nm4GokElI8Lu3cOTxhHgAKgACIgvrBD36ghoYG3XHHHXr33Xf1+OOP65e//KWuu+66Yrc2sq1Y0bu8cmVhaz/zjHvb0SFt2zb0eqkA2NjYu66tTfrww8zx9mXXrt460tAD4OrV7m1Dw+BrbN7sHkfKqlWDq7NypRv8Egnp1VcH3w8ADCMCIArqjDPO0G9/+1stXrxYJ598sn7605/qvvvu05VXXlns1ka2JUt6l/MJUAORXu/ZZ4dWq6lJam11l9et673C9fzz3mf5VF+//zpLl/Zun6o1WH/5i/TOO+7ymjWDv9KZPe+rVmX2OJg6hT6XAFAgBEAU3IwZM/Tmm29q7969evvtt/f5T8CgR3oATF8eqj17pP/+78LVTg807e29Vy7T6770UuaVtFyy++jslF5+eXA9/f73vUGtq0t68cXB1cnuads2ae3aodUp5LkEgAIiAALFtmFD7+f0JOnddzM/HzcUL7wgVVS4yz6fGwY7Owdfb8kSqazMXa6ocO8nEu4VwNT6qir3fn+SSfdLJOksS/r5zwffU+rD8cHg4ELX7t29X0hJGTVq4LWamtwvtPh87jFt2uSeTwAYYQiAQLH5fNJ777mBwedzv0RRqC+CHHusW1uSbNv9ksT+rs71x3GkW26RTjvNvX/ttdLll7v1Xn5ZSn3RZ8MG6YQT+q/T1iY99ZRU3fvPz+hnP5O+/OXB9fUP/yB94xvu8o03SldfPfAabW3u28djxvSu++53pQsvHFidRMI9f2Vl7s/777vnFQBGGP4rOKDYPvWpzPtHHFG42pMm7XusgbAsacqU3vs+n3Tmme5y+v/1PGqUdMop/dcJhaQzznCv1rW4/wOJxo+XZswYXF9TpmT+m3tnnTXwGkcd5d4GAr3rjj7a7XMgsv8pm7Fj3R8AGGG4AggAAGAYAiAAAIBhCIAAAACGIQACAAAYhgAIAABgGAIgAACAYQiAAAAAhiEAAgAAGIYACAAAYBgCIAAAgGEIgAAAAIYhAAIAABiGAAgAAGAYAiAAAIBhCIAAAACGIQACAAAYhgAIAABgGAIgAACAYQiAAAAAhiEAAgAAGIYACAAAYBgCIAAAgGEIgAAAAIYhAAIAABiGAAgAAGAYAiAAAIBhCIAAAACGKSl2A8BItKihSQuXb1SsrlYzp9RkPDZ78RrVN7ZoYnVQ23Z3etvsa5/+6k+uqdLqph3uPjm2u+SBV9TYHHeXT6nW/VeclnP9mccd5o0tSQuXb9SY0aVa1xLXkcFytdz4tEqchEbf+gfNmT7e2yZWV6uV721XfWOLopHeOqm+JEfNrXsVCQd17CdH6+m1LdK0mxSYmlDC8is5t14+Syor8an7krvVbfl08X806szasX2OLzWmt65milbWRrXkpGkqf1Wa/8mmjF5yHaskRcLuvO9v7rLPx+zFa7RkbYvKAz7Nj07IOGepWpPP/ZZePmqCJGnO7g4p13nq59xmjLePPvKRa5/B1BluI7EnAPmxHMdxit0EkK6trU3BYFDxeFyVlZVF6WHqghfV3NqucMjWirnnZzxWO69eibTfmtQ2+9qnv/p+S0o4PTVu+rxkWVIi4W137Nx6b9lvSRvvjOZcf2TQ9saWpObW9n7HTt8mHLK1Jd6uhJNZJ9VXulzrcslVJ31Mb92e7dpSHlTC5/f6Su8l17Hm6iccsrWi5XfSAw9It90mzZ8vqe85TD9v2ecsVcufTPT24++SKir7nqd+zm3GeP84Q3Icqb19QM+LnLV69hlMneE2Ens61IyE10McmngLGMghVlercMj2rlyli0aq5bfcK1Hp2+xrn/7qRyPV+9wnEg5mjNvf+vSxU8uRcFB+SwqHymUlkwokuhSyAxnbxOpqveNJr5PqKxwq98bzxneSCnR3yeckJUk+S7IDPgUSXbKSSUVPPiLn8fVZ984yRd/+o6xkUrbP6dNLrmNN3c9n7rLPRzRSLUtur9nnLFUr+m6DQu1tCrW3KVbRmvd5yjXe/tbvS659BlNnuI3EngDkhyuAGHGM/Ruvz9fnCmDBWJY0erS0a9fQa519ttTQIN14o3T33b3rKyulnTulrVulT35y/3UmTJDefttdXrJEmjFj8D3Nnt3nCuCglJVJnZ3u8v33S9dfP7g6o0Z5VwCBoTD29RDDjiuAAIYukZB273aXly4tbi+DtXt3b/gDgEMcARDA0DU0SEn3LWHV5/7M3oj33/9d7A4A4IAhAAIYuiVLepefe2543sYebunHILlv4QLAIYoACGDo0sPTtm3uFcGDSTIpPfNM5rqPPy5OLwBwABAAAQzNX/4i/e3fSp/4hHv/qaekLVuK29NAvf++dNNNUmlp77pt24rWDgAMNwIggKH55CeluXPdbzFL0gUXSF/5SnF7Gqjjj3e/SWxZvesmTChePwAwzAiAAAAAhiEAAgAAGIYACAAAYBgCIAAAgGEIgAAAAIYhAAIAABiGAAgAAGAYAiAAAIBhCIAAAACGIQACAAAYhgAIAABgGAIgAACAYQiAAAAAhiEAAgAAGIYACAAAYBgCIAAAgGEIgAAAAIYhAAIAABiGAAgAAGAYAiAAAIBhCIAAAACGIQACAAAYhgAIAABgGAIgAACAYQiAGFYLFiyQZVn6/ve/X+xWAABADwIghs2qVav00EMPKRKJFLsVAACQhgCIYbFr1y5deeWVevjhh1VVVVXsdgAAQJqSYjeAQ9N1112naDSqz3/+87rtttv2uW1HR4c6Ojq8+21tbcPdXl4WNTRp4fKNitXVSpIWLt+oMaNL9WZzXOUBvz59+Cd6ln26YMKRWt20Q7G6Ws2cUqNFDU265/n16uhOqqzEpznTx3s1JtdU6eUNW7W7o1vdSUeTwkFt2r5Huv5XmvPHRZrZM/7sxWtU39iiivIStbZ3K+CzdPMlE7PqJ1RW4tec6eO18r3tWrK2RZYlOY508SnVkqQla1tU8g//pZJkUmW3/kHHHDaqT9+Ta6q0ummHxowu1bqWuCZWB/XOxzvV3pVUwGepxG954+io03X7D/5Be61yXbx4je6/4rTeOTv1It1+x3K1dyW9dZecUq0zjzusz1zGaqZo5ttvu/t9KN1z6x8kSXOmj9fMKTU5z0Pq2NPvp4+9cNcETV68JuNYopHqjB6HU6q3MZffoXWHH69oz/ykzmV6L6lzmOuYC9lL9jwNt+Ect1jHBByKLMdxnGI3gUPLr3/9a91+++1atWqVysvLVVdXp1NPPVX33Xdfzu1vueUW3XrrrX3Wx+NxVVZWDnO3/Zu64EU1t7YrHLIlSc2t7f1u67ekhCOFQ7ZWzD3f2zclvUZq21zC8Y+1YuEsSVLtvPo+2+2r/pZ4e8b2fsu97W+s9L731VP2+NryoZrLQ97+G++Mug8Gg5r69X9Wc/CIPmMcGbT7zGV4z3ateOAbkqSpP1mi5g4r4xhT0s9D+rFnbDd7tqZ2narm4BF9jiWjx/0pL5dSfxm5/37p+uvz2y+rVzmOZFne2Klzmd5L+jnMPuZCyDlPB8BwjlusYyqmtrY2BYPBor8e4tDDW8AoqM2bN+t73/uefvWrX6m8vDyvfebNm6d4PO79bN68eZi7zE+srlbhkK1YXa23HAkHZUmyA/60ZZ+ikWpv29S+ITsgO+BXyA5k1IhGqhWyAwr4LFmSIuGgQnZAofY2xf70pDd+NFItvyWFbPdCfcBn5ajv8+pHI9WyJPksyerZP7Uu0N0pu3OvQnYgZ9+p20g4KL/l9mQHfN646ePENr0qu7NdluMoGqnOnLOGJ7390o8j11zG3lnWu9/RcuegZ4z+zkOu++ljh63OPseS3eNw8p4nW96VP5nwxk6dy/ReUucw1zEXspfhqF2scYt1TMChiCuAKKjf/e53+vKXvyy/3++tSyQSsixLPp9PHR0dGY/lYuzfeH0+ybKkRKLwtS1LGj1a2rVr6LXOPltqaJBuvFG6++7e9cGg1NYm7dkj2fb+60yYIPW8BawlS6QZMwbf0+zZ0gMPSLfdJs2fP/g6Q7wC6Ek9x4fjXMIoxr4eYtjxGUAU1Oc+9zm9+eabGetmzZqlE088UT/60Y/2G/6Ag97OnVKy5zOQra1SKFTMbgAgJwIgCqqiokInn3xyxrrRo0drzJgxfdYDh6SlS3uXn39e+pu/KV4vANAPPgMIAIW0ZEnuZQAYQbgCiGG3fPnyYrcAHBiJhFRf33v/97+XurulEl5qAYwsXAEEgEJZtUo64wz3SzeSNHWq9Nprxe0JAHLgr6UAUCinneZeAUx9o3vJkt5vFQPACMIVQAAolLKy/NYBQJERAAEAAAxDAAQAADAMARAAAMAwBEAAAADDEAABAAAMQwAEAAAwDAEQAADAMARAAAAAwxAAAQAADEMABAAAMAwBEAAAwDAEQAAAAMMQAAEAAAxDAAQAADAMARAAAMAwBEAAAADDEAABAAAMQwAEAAAwDAEQAADAMARAAAAAwxAAAQAADEMABAAAMAwBEAAAwDAEQAAAAMMQAAEAAAxDAAQAADCM5TiOU+wmgHRtbW0KBoOKx+OqrKwsdjuSpEUNTbrn+fWSpDnTx2vmlJp9bnt7/Vva25XUxadU6/4rTsuvjs+nRadepIWX/4Mm11RpydoWOZJCdonmTD9RC5dv1OSaKq1u2qFYXa0kebWmnTBWL2/Yqo7uhCSprMQvyVFre7dbOtGtsmS3yiorNGf6+Ix9U30samjSwuUbFaur1cr3tmvJ2haVB3y6YMKRennDVm+cZ9dsUpflV8TZqcv/+hyvr6Wv/5/a/aWyy0okSe1dSVmSfnrpyd5xzl68Rk+vbZEkRXZs0jZfmeRIzaHDFQmH9PT1n/HmL7W/Iyngs3TzJRO9vtSzPhIO6thPjtaSNz5QeVen5lds1cxb/16zF69RfWOLopHM+c+Wvd2iMy7Rwr+6VLGGJzXz6ouk66/35mVyTZWWvrVFe7uSmhQOatvuTu98pJ+XmVNqJJ/7d+tFr77X57yl5iK9bvZj++s//Vzt67k4kG2zt8vuL1efGH4j8fUQhwYCIEackfiCN3XBi2pubZckhUO2Vsw9P69t/Za08c5ofnV8Pk399iNqDh4uvyUl0n4zwyFbza3t3vpwyJakjHESef4mZ++b6iPVWzhka0u83auXXjtjHMdRuGpURl/9jZc6ztp59Rn7y7J6byW9vyCaMUfZddL7SkkfO2x1asWdX/bGyZ7/bNnbTf3Oo2quPFzh+EdaMWG3dP31Xj+5jjG1Lv28rJh7vhcAp97x333OW2ousuvmmqf++k8/V/t6Lg5k2+ztsvvL1SeG30h8PcShgbeAgTzE6moVsgMK2QHv6tu+trUDPlmSopHqAdWJ/elJhUO2opFqWT3rQnaJYnW13vpwyFasrjajVjRSrZAdkB3wyQ74etaXeHV9iW7ZXXu9cXP1kRojVlfrjW8HfF7t1DiBZLfkOIo4OzP6srv2Ssmk14MkWT11U9LnI9K6WeH4RwrHP5bkKBIOZsxfan/JvQKY3ldqfSQcdNc5SdmdexUr/cgbx2/1nf9s2dvFVv1W4fhHijU8mXHOvGPsOa+RcDDjfKSfl+zz3d/j+3psf/2nn6v9yXfb7O2y++vvGAEcnLgCiBHH2L/x+nzulbBEovC1LUsaPVratWvotc4+W2pokG68Ubr77t71waDU1ibt2SPZ9v7rTJggvf22u7xkiTRjxuB7mj1beuAB6bbbpPnzB1+nvFzq6HCX779fuv76wdXpuQKoZHLwvQAy+PUQw44rgAAAAIYhAAIAABiGAAgAAGAYAiAAAIBhCIAAAACGIQACAAAYhgAIAABgGAIgAACAYQiAAAAAhiEAAgAAGIYACAAAYBgCIAAAgGEIgAAAAIYhAAIAABiGAAgAAGAYAiAAAIBhCIAAAACGIQACAAAYhgAIAABgGAIgAACAYQiAAAAAhiEAAgAAGIYACAAAYBgCIAAAgGEIgAAAAIYhAAIAABiGAAgU24cfSp2dvfc7OqQtWwpTe/NmKZnsvR+PS62tg6vlONKmTZnrNm2S2tqkHTv2vV26nTvdY+7u7l338cdSU9Pg+srV00Bt2+bOi+P0rtuxY+C1tmxxz19KZ6d7rAAwwhAAgWL76CPp0592w0cyKX3qU4MPadlefVU67TR3ee9eacIEqbR0cLUsS5o1S3r7bff+449Ld90llZVJkYjU3u6uP+ccadmy/uuUl0tnnilt3Ni77qabpMWLB9fXd78r/e537vK//Zv04x8PvIbPJ510UmYQ/5d/kRYuHFidHTvc8+c47s+nPy1t3TrwfgBgmBEAgWI75ZTMK0/l5dL48YWpPX269NZb7nIiIZ1+ujRq1ODrXXihexVRkpqbpRkz3AB41llSV5e7fu1a6Ytf7L9GICBNnZp5ZfKjj6SLLx5cT1/8onulU5L+7/+kaHTgNaqq+s75YHo68UR3PtJNmjTwfgBgmBEAgWKzLDdIpcyY4a4rhFBIOvfczNpDkR6ISkul887ru/6ss6SxY/OvI0nV1e7VycFIPya/3w29g5HdU2WleywDMZznEgAKiACIgrrzzjt1xhlnqKKiQocffrguvfRSrV+/vthtjXzp4WOwV8LyqT3UADh+vFRR4S6fdJJ7tVLKvOKXzxW4iy7KvH/uuYMPSkcfLR17rLs8aZIUDA6uTva8T57sBsqh1Cn0uQSAAiEAoqBeeuklXXfddWpoaNDSpUvV1dWlL3zhC9q9e3exWxvZUlfSpMwrdoWQCiGlpVI4PLRaltVbI/2tzbFje8NgPgHwsMOkI4/svT916tD6Ov1093agV+zSnXBCZuA744zB1Uk/f3V1g+8HAIZRSbEbwKHlueeey7j/2GOP6fDDD9fq1as1bdq0InV1ECgvd7+IYFnuZ+QK6VOfcm+H8tm/dEcfLf35z30/2/aJT7hfNJk4Mb86NTW933ZOBbjBOv106b/+a2gBUHI/v7dnj7t86qmDq1Fa6gZJx+kNxQAwwnAFEMMq3vOFgcMOO6zInRwEfL7BveWYL9suTJ3DD3dvs99qHT3avc33rdyamt7lwX4zOeW449zb6uqh1UkPbEMJzH6/ez4BYISyHCf964dA4SSTSV1yySVqbW3VK6+80u92HR0d6kj7t9Pa2to0btw4xeNxVVZWHohWR4ZQSCopkf7yFy1qaNLC5Rs1uaZKq5t2KFZXq5lTavrdNbV9+nazF69RfWOLopFq3X/lZC2KfksLp35NY0aX6s1mN5g7kiLhoJ6+/jP7rJveh554Qgv3flKTjwlptRXSmNGlWtcSV/TDRt3/7ze5/w5eWqBLr7H0rY/U3pVwH0i99DiO5PPJZ0l+n6XuhKOLT6nW/VecpkUNTbq9/i21d/V+Y9gO+HXBhCO0ummHdywlSmp0+y7NGV8unX667nne/dzptBPGaulbW7S3K6lJ4aC27e70jsXb12dpdFmJpp0wVi+vfEcdll/dPp+6S0q9PlIy5jRtffr8S9I9v26Q5GjaWeP7nL9UjYnVmf1kn+tFDU3eccyZPl4r39veZ+xFDU269el16ko63nnMt8fb699We1dCdsCv+dGT+jy/Zi9eoyVrW1Qe8OmCCUfmfB6m9zjthLH7fa5m95D9nEVfbW1tCgaD5r0eYtgRADFsYrGYnn32Wb3yyis6+uij+93ulltu0a233tpnvXEveJMmuW9Bvv66pi54Uc2t7fJbUsKRwiFbK+ae3++uqe3Tt6udV6+EI/ktaeM/fVlTZy9Sc8nonPu/vyD35/Zy9aFdO9XcXSK/pETatn4nqY13X+L+A89pVzKza+TDb0kb74x6++Z6PFetsNUpBYPePrm262/f/rbdeGfv3GTMadr69PmX1Gf8XOcle9zsbdOPPRyytSXe3mfs7Pl5f0F0wD2m6mc/v9L77O95mD5+Ps/VXD3s77ltOgIghgvvUWBYfPe739UzzzyjZcuW7TP8SdK8efMUj8e9n82pf9PNYLG6WoVDtqKRaoVDtnfFZH/bp28XjVTLb7m3khTb+ZbCIVuRcFCWpNQbtZFw/9+azdVHLLRL4fhHioYDXj2/JUU7PthvDTuQ9hZ36h9L7vn3AH2WFPBbspTWc12t7EDmy5Qd8Hv9pI4l4CQUam9TrPQjxepqFbIDCtmBnjF9snqOM/1YvH19lrdtKLFXdtdeBbo7M/rob05zzX+srlahzj0Kde7Oef5SNbL7yd42/ThidbU5x47V1SrgszLOY749ps6FHfDnfH5FI9WyJNkBX7/Pw+y53t9zNbuHfJ7bAIYHVwBRUI7j6Prrr9dvf/tbLV++XJ/+9KcHXMPYv/GmXQEsuNJS6fLLpUWLhl7r4Yela6+VVqxw/9ePlG99S3rkkT5XAPv1938vPfSQu7x5s/vlksGaPVt64AHpttuk+fMHX+fSS6U//MH9X03+93/z/0JLtsmT3X8Yu7Fx8L0AMvj1EMOObwGjoK677jo9/vjjeuqpp1RRUaEtPd/yDAaDsgv1JQQAADAkvAWMglq4cKHi8bjq6up01FFHeT9PPPFEsVsDAAA9uAKIguITBQAAjHxcAQQAADAMARAAAMAwBEAAAADDEAABAAAMQwAEAAAwDAEQAADAMARAAAAAwxAAAQAADEMABAAAMAwBEAAAwDAEQAAAAMMQAAEAAAxDAAQAADAMARAAAMAwBEAAAADDEAABAAAMQwAEAAAwDAEQAADAMARAAAAAwxAAAQAADEMABAAAMAwBEAAAwDAEQAAAAMMQAAEAAAxDAAQAADAMARAAAMAwBEAAAADDEAABAAAMQwAEAAAwDAEQAADAMCXFbgAopEUNTVq4fKPGjC7Vm81xlQd8mh+dIEm65/n1atvbpaQjRcJBXX7GOP34d/8rZwD1fZaU3McOliSnZzvHkYJ2iVrbu73HAz5LXUlH4VC5Vsz9nCTpkgdeUWNzXIELb9PNG57VzP30MHvxGi1Z26LygE8XTDhSS9/aor1dSU0KB7Vtd6didbWaOaUm72NKzdn+9pu9eI3qG1sUHRXSmadepIVLWxXzNQ1qrMk1VVpd+TnFTt2kmW88m/f+AIDC4AogDikLl29Uc2u7GpvjciS1dyW1cPlGLVy+Ua3tXV54a2yOa+HyjQMKf9K+w58kr17ScZfTw58kdfUUaG7d661rbI67j/lLtPDYc/fbQ31ji3ds9Y0tau9Kyump09zaroXLN+Z5NK7UnO1vv/rGFiUcqX63rYVTvqrmdmfQY9U3tqjZN0oLp3x1QPsDAAqDAIhDSqyuVuGQrUg4KEuSHfApVlerWF2tQnZAPsvdLhIOKlZXK2uA9X372SH1sM9yl0N25kX2QE+BcKjcWxcJB93HEt2Kvf/H/fYQjVR7xxaNVMsO+GT11AmHbMXqavM8Gldqzva3XzRSLb8lRUe3K9bwpMK2NeixopFqhZN7FGt4ckD7AwAKg7eAcUiZOaWm37ckc60fyNuXw+Xp6z/jLkyaJJWV7Xf7+684TfdfcVrBxt/XnOUc9+GHpTee1cxf/D9pgPOXMdZLD0m8/QsARcEVQAAAAMMQAAEAAAxDAAQAADAMARAAAMAwBEAAAADDEAABAAAMQwAEAAAwDAEQAADAMARAAAAAwxAAAQAADEMABAAAMAwBEAAAwDAEQAAAAMMQAAEAAAxDAAQAADAMARAAAMAwBEAAAADDEAABAAAMQwAEAAAwDAEQAADAMARAAAAAwxAAAQAADEMABAAAMAwBEAAAwDAEQAAAAMMQAAEAAAxDAARwcHvsMam93V3etUtatKio7QDAwYAACODgtmKF9Mgj7vJdd0mNjcXtBwAOAgRAAAe3GTMkx3GXHUe6+OLi9gMABwECIICD2+c/LwUC7nJFhXT22cXtBwAOAgRADItf/OIXOvbYY1VeXq6zzjpLK1euLHZLOFSNHi1NnOgun3GGVFJS3H4A4CBAAETBPfHEE7rhhht0880363/+5390yimnaPr06fr444+L3RoOVaef7t5OmVLcPgDgIEEARMHde++9uuaaazRr1ixNmDBBDz74oEaNGqV/+7d/K3ZrOFSlAuDkycXtAwAOErxXgoLq7OzU6tWrNW/ePG+dz+fT5z//eb322ms59+no6FBHR4d3v62tbdj7HG6LGpq0cPlGxepqNXNKTX7bZT02e/Ea1Te2KBqp1v1XnFbw3ibXVGl1044+t/317PVaMqpPr/saJ1ZXK0kZY6Yf7+wZc1T/i7U6MrheW+J7M443NQcTq4PatrszY/+V721XfWOLjgyWq7m1RrrxaWmlT5d0rPH2Tz/WlzdslSTNmT5eM6fUZPS38r3tWrK2RSUnXK3RNV/TMTs+1LpF7ysa6dSZxx2me55fr47uhMpK/Jozfbwk6Z7n13v1frNqsxqb4/JZUmV5QHOO/iutrBynp+fWe/NxySl9z2P2uRgzulTrWuKKRqq9cXd3dKsr6cgO+DU/elLG2MccNkrrWuLe/OQ6d4samnR7/dva25XQxaf01pWk0WV+Nbfu7dPf7MVr3PnwWRpdVqJpJ4z15i81ZvbzMvs5f8kDr6ixOa5IOKinr/9Mzt8Jbxy/pdGlJf3WzjVX+32e9ve8y+P3cV/b5zqO/f2+5/t6ABxIluOkvj4HDF1LS4vC4bBeffVVnZ32Yfwf/vCHeumll/SnP/2pzz633HKLbr311j7r4/G4Kisrh7Xf4TJ1wYtqbm1XOGRrxdzz89uudpvk90t//deSpNp59Uo4kt+SNt4ZHVpD//qv0vHHS+ef743pt+TVT7/tr2ev19ElWnFEk3TJJdKRR/Zu8NJL0vr10re+Jfl8GccmKWPMcMjWiqkB6dlnVZs8RwlZXpn0403NQfpjqf23xNszHsu1f/axSr3Hl95f31qOJEt+SzoyaKu5td17JP14UvfTH5ekcKmjLZ3q97iy5zS9v9S22ePmGjtbrnOXGmNfdbP762/e+9s+fZxUD8emhd/3F0Rz/k5kj9Nf7fT6eT9P+3ve5fH7uK/tcx3H/n7f8309yKWtrU3BYPCgfj3EyMRbwCi6efPmKR6Pez+bN28udktDFqurVThke1ch8trussu88CdJ0Ui1/JZ7O2Tf+pZ0/vkZY0Yj1Tlv++vZ6/WCE6Vrr80Mf5L02c+6632+PseWPWasrlY691zpjjsUPSUsvyWFQ+V9jjc1B5FwsM/+qcfCofKMNtL3Tx83ZAcUsgPe8aX3F41Uy5IU8FkK2QFFwiGvl1hdrUJ2QHbA5+2fWpe6HwkHJUk+S+66L05S9JRwv33l6i8cshUJB/uMG/C5IdIO+PuMndo+NT+5zl2srlZ2wC9LmXVDdiBj7rLnPX0+0ucvvcecz4+eHlJzkrrN9TvhjeO39lk711zt93na3/NuH/LZPtdx7O/3Pd/XA+BA4gogCqqzs1OjRo3Sk08+qUsvvdRbf9VVV6m1tVVPPfXUfmvwN14AcPF6iOHCFUAUVGlpqSZPnqwXXnjBW5dMJvXCCy9kvCUMAACKhy+BoOBuuOEGXXXVVfqrv/ornXnmmbrvvvu0e/duzZo1q9itAQAAEQAxDP7mb/5GW7du1U9+8hNt2bJFp556qp577jkdccQRxW4NAACIzwBiBOIzLwDg4vUQw4XPAAIAABiGAAgAAGAYAiAAAIBhCIAAAACGIQACAAAYhgAIAABgGAIgAACAYQiAAAAAhiEAAgAAGIb/Cg4jTuo/p2lraytyJwBQXKnXQf7TLhQaARAjzs6dOyVJ48aNK3InADAy7Ny5U8FgsNht4BDC/wWMESeZTKqlpUUVFRWyLKvY7RwwbW1tGjdunDZv3sz/+bkPzFP+mKv8jdS5chxHO3fuVHV1tXw+PrWFwuEKIEYcn8+no48+uthtFE1lZeWI+gNopGKe8sdc5W8kzhVX/jAc+OsEAACAYQiAAAAAhiEAAiNEWVmZbr75ZpWVlRW7lRGNecofc5U/5gqm4UsgAAAAhuEKIAAAgGEIgAAAAIYhAAIAABiGAAgAAGAYAiBQZO+//76++c1v6rjjjpNt26qtrdXNN9+szs7OnNu/++67qqioUCgUOrCNFlk+87R8+XJ96Utf0lFHHaXRo0fr1FNP1a9+9asidl0c+T6nGhsbde6556q8vFzjxo3T3XffXaSOi+f222/XOeeco1GjRvX7O7Vq1Sp97nOfUygUUlVVlaZPn661a9ce2EaBAiMAAkX25z//WclkUg899JDWrVunf/7nf9aDDz6om266qc+2XV1duuKKK3TuuecWodPiymeeXn31VUUiEf3nf/6nGhsbNWvWLH3jG9/QM888U8TOD7x85qqtrU1f+MIXVFNTo9WrV+tnP/uZbrnlFv3yl78sYucHXmdnpy677DLFYrGcj+/atUsXXnihjjnmGP3pT3/SK6+8ooqKCk2fPl1dXV0HuFuggBwAI87dd9/tHHfccX3W//CHP3RmzpzpPProo04wGDzwjY0w/c1Tui9+8YvOrFmzDlBHI1f2XP3Lv/yLU1VV5XR0dHjrfvSjHznjx48vRntF19/v1KpVqxxJzqZNm7x1jY2NjiTnnXfeOYAdAoXFFUBgBIrH4zrssMMy1r344ov6j//4D/3iF78oUlcjT655Gsw2Jsieh9dee03Tpk1TaWmpt2769Olav369duzYUYwWR6Tx48drzJgxeuSRR9TZ2an29nY98sgjOumkk3TssccWuz1g0AiAwAjz7rvv6oEHHtC3v/1tb922bdv0d3/3d3rsscdG3H9UXyy55inbb37zG61atUqzZs06gJ2NPLnmasuWLTriiCMytkvd37JlywHtbySrqKjQ8uXLtWjRItm2rU984hN67rnn9Oyzz6qkpKTY7QGDRgAEhsncuXNlWdY+f/785z9n7NPc3KwLL7xQl112ma655hpv/TXXXKOvf/3rmjZt2oE+jGFXyHlKt2zZMs2aNUsPP/ywJk6ceCAOZdgN11wdagYzT/1pb2/XN7/5TU2dOlUNDQ1asWKFTj75ZEWjUbW3tw/zkQDDh/8KDhgmW7du1bZt2/a5zfHHH++9BdfS0qK6ujpNmTJFjz32mHy+3r+fhUIh7dq1y7vvOI6SyaT8fr9++ctf6uqrrx6egzgACjlPKS+99JKi0ajuvfdeXXvttcPSdzEUcq6+8Y1vqK2tTb/73e+8dcuWLdP555+v7du3q6qqaliO4UAY6DxJ0mOPPabvf//7am1tzdjukUce0U033aQPP/zQm7/Ozk5VVVXpkUce0de+9rWC9w8cCFy/BobJ2LFjNXbs2Ly2bW5u1nnnnafJkyfr0Ucf7RNqXnvtNSUSCe/+U089pbvuukuvvvqqwuFwQfs+0Ao5T5L7T8HMmDFDd9111yEV/qTCztXZZ5+t+fPnq6urS4FAQJK0dOlSjR8//qAOf9LA5ml/9uzZI5/PJ8uyvHWp+8lksiBjAMXAW8BAkTU3N6uurk7HHHOM7rnnHm3dulVbtmzJ+BzWSSedpJNPPtn7CYfD8vl8Ovnkkw/6P6zzlc88LVu2TNFoVLNnz9ZXvvIV7/Ht27cXsfMDL5+5+vrXv67S0lJ985vf1Lp16/TEE0/o5z//uW644YYidn7gbdq0SW+88YY2bdqkRCKhN954Q2+88YZ3xf2CCy7Qjh07dN111+ntt9/WunXrNGvWLJWUlOi8884rcvfAEBT5W8iA8R599FFHUs6ffe1j2j8Dk888XXXVVTkf/+xnP1u8xosg3+fU2rVrnc985jNOWVmZEw6HnQULFhSp4+Lp7zmzbNkyb5s//OEPztSpU51gMOhUVVU5559/vvPaa68Vr2mgAPgMIAAAgGF4CxgAAMAwBEAAAADDEAABAAAMQwAEAAAwDAEQAADAMARAAAAAwxAAAQAADEMABAAAMAwBEAAAwDAEQAAAAMMQAAEAAAxDAAQAADAMARAAAMAwBEAAAADDEAABAAAMQwAEAAAwDAEQAADAMARAAAAAwxAAAQAADEMABAAAMAwBEAAAwDAEQAAAAMMQAAEAAAxDAAQAADAMARAAAMAwBEAAAADDEAABAAAMQwAEAAAwDAEQAADAMARAAAAAwxAAAQAADPP/AZ9SzynVQnZJAAAAAElFTkSuQmCC' width=640.0/>\n",
       "            </div>\n",
       "        "
      ],
      "text/plain": [
       "Canvas(toolbar=Toolbar(toolitems=[('Home', 'Reset original view', 'home', 'home'), ('Back', 'Back to previous …"
      ]
     },
     "metadata": {},
     "output_type": "display_data"
    }
   ],
   "source": [
    "plot_points = 10\n",
    "\n",
    "\n",
    "mapped_tensors = [zh_start_tensor[:plot_points, :]]\n",
    "for i in range(iterations):\n",
    "    mapped_tensors.append(map(mapped_tensors[i]).detach())\n",
    "\n",
    "\n",
    "plt.figure()\n",
    "\n",
    "for i, mapped_tensor in enumerate(mapped_tensors):\n",
    "    if i > 0:\n",
    "        start = mapped_tensors[i-1]\n",
    "        mapped = mapped_tensors[i]\n",
    "\n",
    "        start_x, mapped_x, target_x = project(start, mapped, zh_target_tensor, idx=x_idx)\n",
    "        start_y, mapped_y, target_y = project(start, mapped, zh_target_tensor, idx=y_idx, one_hot=one_hot_y)\n",
    "\n",
    "        dx = mapped_x-start_x\n",
    "        dy = mapped_y-start_y\n",
    "        plt.quiver(start_x, start_y, dx, dy, scale=1, scale_units='xy', angles='xy', color='r', width=0.005)\n",
    "\n",
    "plt.scatter(target_x, target_y, s=1)\n",
    "\n",
    "plt.gca().set_aspect('equal')\n",
    "plt.show()"
   ]
  },
  {
   "cell_type": "markdown",
   "id": "a8d68302",
   "metadata": {},
   "source": [
    "# Testing data"
   ]
  },
  {
   "cell_type": "code",
   "execution_count": 16,
   "id": "1c14b142",
   "metadata": {},
   "outputs": [
    {
     "data": {
      "application/vnd.jupyter.widget-view+json": {
       "model_id": "3d0ef1205c4e412293b6818d765e3244",
       "version_major": 2,
       "version_minor": 0
      },
      "image/png": "[encoded data removed]",
      "text/html": [
       "\n",
       "            <div style=\"display: inline-block;\">\n",
       "                <div class=\"jupyter-widgets widget-label\" style=\"text-align: center;\">\n",
       "                    Figure\n",
       "                </div>\n",
       "                <img src='data:image/png;base64,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' width=640.0/>\n",
       "            </div>\n",
       "        "
      ],
      "text/plain": [
       "Canvas(toolbar=Toolbar(toolitems=[('Home', 'Reset original view', 'home', 'home'), ('Back', 'Back to previous …"
      ]
     },
     "metadata": {},
     "output_type": "display_data"
    }
   ],
   "source": [
    "zh_start_tensor_test = zh_start_tensor+torch.rand_like(zh_start_tensor)*0.2\n",
    "mapped_tensor = zh_start_tensor_test\n",
    "for i in range(iterations):\n",
    "    mapped_tensor = map(mapped_tensor)\n",
    "mapped_tensor = mapped_tensor.detach()\n",
    "\n",
    "my_plot(zh_start_tensor_test, mapped_tensor, zh_target_tensor, plot_points=10, x_idx=x_idx, y_idx=y_idx, one_hot_y=one_hot_y)\n"
   ]
  },
  {
   "cell_type": "code",
   "execution_count": 17,
   "id": "5e549cdb",
   "metadata": {},
   "outputs": [
    {
     "name": "stdout",
     "output_type": "stream",
     "text": [
      "i = 399\n",
      "tensor([0.2625, 0.1866, 0.2196, 0.2999, 0.1602, 0.1851, 0.1275, 0.1925, 0.2291,\n",
      "        0.2492])\n",
      "tensor([ 0.1476,  0.0448,  0.8062, -0.1440, -0.0283,  0.0724, -0.0234,  0.0305,\n",
      "         0.0030, -0.0126])\n",
      "tensor([0., 0., 1., 0., 0., 0., 0., 0., 0., 0.])\n",
      "3 -> 2 -> 2\n",
      "i = 663\n",
      "tensor([0.1703, 0.2051, 0.1010, 0.2771, 0.1507, 0.2859, 0.1552, 0.1210, 0.2082,\n",
      "        0.2662])\n",
      "tensor([-0.0589,  0.1224,  1.1273, -0.0367, -0.0310, -0.0175, -0.0696, -0.0137,\n",
      "        -0.0461,  0.0243])\n",
      "tensor([0., 0., 1., 0., 0., 0., 0., 0., 0., 0.])\n",
      "5 -> 2 -> 2\n",
      "i = 479\n",
      "tensor([0.2963, 0.1382, 0.2696, 0.1965, 0.2205, 0.1045, 0.2513, 0.1598, 0.1885,\n",
      "        0.1668])\n",
      "tensor([ 0.8339, -0.0387, -0.0734,  0.0609, -0.0841, -0.0421, -0.0070, -0.0072,\n",
      "         0.2560,  0.0869])\n",
      "tensor([1., 0., 0., 0., 0., 0., 0., 0., 0., 0.])\n",
      "0 -> 0 -> 0\n",
      "i = 376\n",
      "tensor([0.1047, 0.2690, 0.2977, 0.2578, 0.2838, 0.2205, 0.1188, 0.1182, 0.1193,\n",
      "        0.2072])\n",
      "tensor([ 0.0304, -0.0025,  0.0319,  0.0029, -0.2220,  0.1024,  0.0262, -0.0060,\n",
      "         0.9466,  0.0974])\n",
      "tensor([0., 0., 0., 0., 0., 0., 0., 0., 1., 0.])\n",
      "2 -> 8 -> 8\n",
      "i = 366\n",
      "tensor([0.1263, 0.2638, 0.1546, 0.2681, 0.2911, 0.2858, 0.1162, 0.2230, 0.1640,\n",
      "        0.2702])\n",
      "tensor([ 0.0051,  0.0947, -0.0954,  0.6752, -0.0548,  0.0921,  0.0448,  0.0394,\n",
      "         0.0422,  0.0453])\n",
      "tensor([0., 0., 0., 1., 0., 0., 0., 0., 0., 0.])\n",
      "4 -> 3 -> 3\n"
     ]
    }
   ],
   "source": [
    "for i in torch.randperm(zh_start_tensor.shape[0])[:5]:\n",
    "    print(f'i = {i}')    \n",
    "    print(zh_start_tensor_test[i,y_idx])\n",
    "    print(mapped_tensor[i,y_idx])\n",
    "    print(zh_target_tensor[i,y_idx])\n",
    "    print(f'{torch.argmax(zh_start_tensor_test[i,y_idx])} -> {torch.argmax(mapped_tensor[i,y_idx])} -> {torch.argmax(zh_target_tensor[i,y_idx])}')\n",
    "\n"
   ]
  },
  {
   "cell_type": "code",
   "execution_count": null,
   "metadata": {},
   "outputs": [],
   "source": []
  }
 ],
 "metadata": {
  "accelerator": "GPU",
  "colab": {
   "include_colab_link": true,
   "provenance": []
  },
  "gpuClass": "standard",
  "jupytext": {
   "formats": "ipynb,py:percent,md"
  },
  "kernelspec": {
   "display_name": "iterativennsimple-py3.10",
   "language": "python",
   "name": "python3"
  },
  "language_info": {
   "codemirror_mode": {
    "name": "ipython",
    "version": 3
   },
   "file_extension": ".py",
   "mimetype": "text/x-python",
   "name": "python",
   "nbconvert_exporter": "python",
   "pygments_lexer": "ipython3",
   "version": "3.10.12"
  },
  "widgets": {
   "application/vnd.jupyter.widget-state+json": {
    "4340e450c8c9444784e3ac188b9230df": {
     "model_module": "@jupyter-widgets/controls",
     "model_module_version": "1.5.0",
     "model_name": "DescriptionStyleModel",
     "state": {
      "_model_module": "@jupyter-widgets/controls",
      "_model_module_version": "1.5.0",
      "_model_name": "DescriptionStyleModel",
      "_view_count": null,
      "_view_module": "@jupyter-widgets/base",
      "_view_module_version": "1.2.0",
      "_view_name": "StyleView",
      "description_width": ""
     }
    },
    "4d5e173f3cdd465b9b40f8b23d270e8a": {
     "model_module": "@jupyter-widgets/base",
     "model_module_version": "1.2.0",
     "model_name": "LayoutModel",
     "state": {
      "_model_module": "@jupyter-widgets/base",
      "_model_module_version": "1.2.0",
      "_model_name": "LayoutModel",
      "_view_count": null,
      "_view_module": "@jupyter-widgets/base",
      "_view_module_version": "1.2.0",
      "_view_name": "LayoutView",
      "align_content": null,
      "align_items": null,
      "align_self": null,
      "border": null,
      "bottom": null,
      "display": null,
      "flex": null,
      "flex_flow": null,
      "grid_area": null,
      "grid_auto_columns": null,
      "grid_auto_flow": null,
      "grid_auto_rows": null,
      "grid_column": null,
      "grid_gap": null,
      "grid_row": null,
      "grid_template_areas": null,
      "grid_template_columns": null,
      "grid_template_rows": null,
      "height": null,
      "justify_content": null,
      "justify_items": null,
      "left": null,
      "margin": null,
      "max_height": null,
      "max_width": null,
      "min_height": null,
      "min_width": null,
      "object_fit": null,
      "object_position": null,
      "order": null,
      "overflow": null,
      "overflow_x": null,
      "overflow_y": null,
      "padding": null,
      "right": null,
      "top": null,
      "visibility": null,
      "width": null
     }
    },
    "5959c15bd28a4059b8952689490ebe2f": {
     "model_module": "@jupyter-widgets/controls",
     "model_module_version": "1.5.0",
     "model_name": "HTMLModel",
     "state": {
      "_dom_classes": [],
      "_model_module": "@jupyter-widgets/controls",
      "_model_module_version": "1.5.0",
      "_model_name": "HTMLModel",
      "_view_count": null,
      "_view_module": "@jupyter-widgets/controls",
      "_view_module_version": "1.5.0",
      "_view_name": "HTMLView",
      "description": "",
      "description_tooltip": null,
      "layout": "IPY_MODEL_a955f09104b54e37b262198a3807761c",
      "placeholder": "​",
      "style": "IPY_MODEL_d4d3328dd8914927b619350b49b6f81c",
      "value": " 999/999 [00:08&lt;00:00, 114.60it/s, loss=0.000293, v_num=0]"
     }
    },
    "915d05c1f046462ebe574b6b306b6110": {
     "model_module": "@jupyter-widgets/controls",
     "model_module_version": "1.5.0",
     "model_name": "HBoxModel",
     "state": {
      "_dom_classes": [],
      "_model_module": "@jupyter-widgets/controls",
      "_model_module_version": "1.5.0",
      "_model_name": "HBoxModel",
      "_view_count": null,
      "_view_module": "@jupyter-widgets/controls",
      "_view_module_version": "1.5.0",
      "_view_name": "HBoxView",
      "box_style": "",
      "children": [
       "IPY_MODEL_df24beefb77f4549b7beed2e23558980",
       "IPY_MODEL_a5a6545605cb475fb4bd6db5d32b0b24",
       "IPY_MODEL_5959c15bd28a4059b8952689490ebe2f"
      ],
      "layout": "IPY_MODEL_a3075bdd01e047faa3f1246dabaedcc7"
     }
    },
    "a3075bdd01e047faa3f1246dabaedcc7": {
     "model_module": "@jupyter-widgets/base",
     "model_module_version": "1.2.0",
     "model_name": "LayoutModel",
     "state": {
      "_model_module": "@jupyter-widgets/base",
      "_model_module_version": "1.2.0",
      "_model_name": "LayoutModel",
      "_view_count": null,
      "_view_module": "@jupyter-widgets/base",
      "_view_module_version": "1.2.0",
      "_view_name": "LayoutView",
      "align_content": null,
      "align_items": null,
      "align_self": null,
      "border": null,
      "bottom": null,
      "display": "inline-flex",
      "flex": null,
      "flex_flow": "row wrap",
      "grid_area": null,
      "grid_auto_columns": null,
      "grid_auto_flow": null,
      "grid_auto_rows": null,
      "grid_column": null,
      "grid_gap": null,
      "grid_row": null,
      "grid_template_areas": null,
      "grid_template_columns": null,
      "grid_template_rows": null,
      "height": null,
      "justify_content": null,
      "justify_items": null,
      "left": null,
      "margin": null,
      "max_height": null,
      "max_width": null,
      "min_height": null,
      "min_width": null,
      "object_fit": null,
      "object_position": null,
      "order": null,
      "overflow": null,
      "overflow_x": null,
      "overflow_y": null,
      "padding": null,
      "right": null,
      "top": null,
      "visibility": null,
      "width": "100%"
     }
    },
    "a5a6545605cb475fb4bd6db5d32b0b24": {
     "model_module": "@jupyter-widgets/controls",
     "model_module_version": "1.5.0",
     "model_name": "FloatProgressModel",
     "state": {
      "_dom_classes": [],
      "_model_module": "@jupyter-widgets/controls",
      "_model_module_version": "1.5.0",
      "_model_name": "FloatProgressModel",
      "_view_count": null,
      "_view_module": "@jupyter-widgets/controls",
      "_view_module_version": "1.5.0",
      "_view_name": "ProgressView",
      "bar_style": "success",
      "description": "",
      "description_tooltip": null,
      "layout": "IPY_MODEL_c81f9b0a5dee4db396442599cb295097",
      "max": 999,
      "min": 0,
      "orientation": "horizontal",
      "style": "IPY_MODEL_faf8ff98c59b4951b62cd8ad4e1d5bfa",
      "value": 999
     }
    },
    "a955f09104b54e37b262198a3807761c": {
     "model_module": "@jupyter-widgets/base",
     "model_module_version": "1.2.0",
     "model_name": "LayoutModel",
     "state": {
      "_model_module": "@jupyter-widgets/base",
      "_model_module_version": "1.2.0",
      "_model_name": "LayoutModel",
      "_view_count": null,
      "_view_module": "@jupyter-widgets/base",
      "_view_module_version": "1.2.0",
      "_view_name": "LayoutView",
      "align_content": null,
      "align_items": null,
      "align_self": null,
      "border": null,
      "bottom": null,
      "display": null,
      "flex": null,
      "flex_flow": null,
      "grid_area": null,
      "grid_auto_columns": null,
      "grid_auto_flow": null,
      "grid_auto_rows": null,
      "grid_column": null,
      "grid_gap": null,
      "grid_row": null,
      "grid_template_areas": null,
      "grid_template_columns": null,
      "grid_template_rows": null,
      "height": null,
      "justify_content": null,
      "justify_items": null,
      "left": null,
      "margin": null,
      "max_height": null,
      "max_width": null,
      "min_height": null,
      "min_width": null,
      "object_fit": null,
      "object_position": null,
      "order": null,
      "overflow": null,
      "overflow_x": null,
      "overflow_y": null,
      "padding": null,
      "right": null,
      "top": null,
      "visibility": null,
      "width": null
     }
    },
    "c81f9b0a5dee4db396442599cb295097": {
     "model_module": "@jupyter-widgets/base",
     "model_module_version": "1.2.0",
     "model_name": "LayoutModel",
     "state": {
      "_model_module": "@jupyter-widgets/base",
      "_model_module_version": "1.2.0",
      "_model_name": "LayoutModel",
      "_view_count": null,
      "_view_module": "@jupyter-widgets/base",
      "_view_module_version": "1.2.0",
      "_view_name": "LayoutView",
      "align_content": null,
      "align_items": null,
      "align_self": null,
      "border": null,
      "bottom": null,
      "display": null,
      "flex": "2",
      "flex_flow": null,
      "grid_area": null,
      "grid_auto_columns": null,
      "grid_auto_flow": null,
      "grid_auto_rows": null,
      "grid_column": null,
      "grid_gap": null,
      "grid_row": null,
      "grid_template_areas": null,
      "grid_template_columns": null,
      "grid_template_rows": null,
      "height": null,
      "justify_content": null,
      "justify_items": null,
      "left": null,
      "margin": null,
      "max_height": null,
      "max_width": null,
      "min_height": null,
      "min_width": null,
      "object_fit": null,
      "object_position": null,
      "order": null,
      "overflow": null,
      "overflow_x": null,
      "overflow_y": null,
      "padding": null,
      "right": null,
      "top": null,
      "visibility": null,
      "width": null
     }
    },
    "d4d3328dd8914927b619350b49b6f81c": {
     "model_module": "@jupyter-widgets/controls",
     "model_module_version": "1.5.0",
     "model_name": "DescriptionStyleModel",
     "state": {
      "_model_module": "@jupyter-widgets/controls",
      "_model_module_version": "1.5.0",
      "_model_name": "DescriptionStyleModel",
      "_view_count": null,
      "_view_module": "@jupyter-widgets/base",
      "_view_module_version": "1.2.0",
      "_view_name": "StyleView",
      "description_width": ""
     }
    },
    "df24beefb77f4549b7beed2e23558980": {
     "model_module": "@jupyter-widgets/controls",
     "model_module_version": "1.5.0",
     "model_name": "HTMLModel",
     "state": {
      "_dom_classes": [],
      "_model_module": "@jupyter-widgets/controls",
      "_model_module_version": "1.5.0",
      "_model_name": "HTMLModel",
      "_view_count": null,
      "_view_module": "@jupyter-widgets/controls",
      "_view_module_version": "1.5.0",
      "_view_name": "HTMLView",
      "description": "",
      "description_tooltip": null,
      "layout": "IPY_MODEL_4d5e173f3cdd465b9b40f8b23d270e8a",
      "placeholder": "​",
      "style": "IPY_MODEL_4340e450c8c9444784e3ac188b9230df",
      "value": "Epoch 9: 100%"
     }
    },
    "faf8ff98c59b4951b62cd8ad4e1d5bfa": {
     "model_module": "@jupyter-widgets/controls",
     "model_module_version": "1.5.0",
     "model_name": "ProgressStyleModel",
     "state": {
      "_model_module": "@jupyter-widgets/controls",
      "_model_module_version": "1.5.0",
      "_model_name": "ProgressStyleModel",
      "_view_count": null,
      "_view_module": "@jupyter-widgets/base",
      "_view_module_version": "1.2.0",
      "_view_name": "StyleView",
      "bar_color": null,
      "description_width": ""
     }
    }
   }
  }
 },
 "nbformat": 4,
 "nbformat_minor": 5
}
