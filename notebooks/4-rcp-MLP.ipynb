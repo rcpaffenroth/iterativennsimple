{
 "cells": [
  {
   "cell_type": "code",
   "execution_count": null,
   "id": "7bbf52f7",
   "metadata": {},
   "outputs": [],
   "source": [
    "# Uncomment this code if you are running on Google Colab\n",
    "# ! pip install https://github.com/rcpaffenroth/generatedata\n",
    "# ! pip install https://github.com/rcpaffenroth/iterativennsimple"
   ]
  },
  {
   "cell_type": "markdown",
   "id": "89b2345e",
   "metadata": {},
   "source": [
    "<a href=\"https://colab.research.google.com/github/rcpaffenroth/iterativennsimple/blob/main/notebooks/4-rcp-MLP.ipynb\" target=\"_parent\"><img src=\"https://colab.research.google.com/assets/colab-badge.svg\" alt=\"Open In Colab\"/></a>"
   ]
  },
  {
   "cell_type": "markdown",
   "id": "f6828844-3a74-49bd-8348-ceae45948da7",
   "metadata": {
    "id": "f6828844-3a74-49bd-8348-ceae45948da7"
   },
   "source": [
    "# Load data"
   ]
  },
  {
   "cell_type": "code",
   "execution_count": 2,
   "id": "a5713c2d-0108-4708-9f0d-021e183f6d1e",
   "metadata": {
    "id": "a5713c2d-0108-4708-9f0d-021e183f6d1e"
   },
   "outputs": [],
   "source": [
    "import torch\n",
    "import matplotlib.pyplot as plt\n",
    "%matplotlib widget\n",
    "\n",
    "from iterativennsimple.Sequential2D import Sequential2D, Identity\n",
    "from iterativennsimple.Sequential1D import Sequential1D\n",
    "from generatedata.load_data import load_data\n",
    "from generatedata.plot_2D_start_end import plot_2D_start_end"
   ]
  },
  {
   "cell_type": "code",
   "execution_count": 3,
   "id": "d0e79796",
   "metadata": {},
   "outputs": [],
   "source": [
    "# Turn a pandas dataframe into a pytorch tensor\n",
    "def df_to_tensor(df):\n",
    "    return torch.tensor(df.values, dtype=torch.float32)"
   ]
  },
  {
   "cell_type": "code",
   "execution_count": 4,
   "id": "9f5c3fcc-147d-4669-8ab2-3ddf16a88b4e",
   "metadata": {
    "id": "9f5c3fcc-147d-4669-8ab2-3ddf16a88b4e"
   },
   "outputs": [],
   "source": [
    "#name = 'regression_line'\n",
    "#name = 'pca_line'\n",
    "#name = 'circle'\n",
    "#name = 'regression_circle'\n",
    "#one_hot_y = False\n",
    "\n",
    "name = 'MNIST'\n",
    "one_hot_y = True\n",
    "\n",
    "# Read the data\n",
    "data_dict = load_data(name)\n",
    "\n",
    "z_start = data_dict['start']\n",
    "z_target = data_dict['target']"
   ]
  },
  {
   "cell_type": "markdown",
   "id": "78ba5bdc",
   "metadata": {},
   "source": [
    "## Data preprocessing"
   ]
  },
  {
   "cell_type": "code",
   "execution_count": 5,
   "id": "133ecd27",
   "metadata": {},
   "outputs": [],
   "source": [
    "z_start_tensor = df_to_tensor(z_start)\n",
    "z_target_tensor = df_to_tensor(z_target)\n",
    "\n",
    "# Only use the given number of sample\n",
    "max_num_samples = 1000\n",
    "num_samples = min(max_num_samples, z_start_tensor.shape[0])\n",
    "z_start_tensor = z_start_tensor[:num_samples]\n",
    "z_target_tensor = z_target_tensor[:num_samples]\n"
   ]
  },
  {
   "cell_type": "markdown",
   "id": "2d9b3a29",
   "metadata": {},
   "source": [
    "We have two views of the data, and here is where we reconcile them.   The dynamical systems view is to have vector $z_0$ (called \"z_start_tensor\" in the code) and $z_1$ (called \"z_target_tensor\" in the code) that are the initial and final states of the system.  We want to construct a function $f$ (or more precisely choose a set of parameters $\\theta$ that selects $f$ from some family of functions) such that $\\|f(z_0) - z_1\\|$ is small.  The machine learning view is to have a set of inputs $x$ (which is a subset of \"z_start_tensor\") and a set of outputs $y$ (which is a subset of \"z_target_tensor\") and to construct a function $g$ (or more precisely choose a set of parameters $\\phi$ that selects $g$ from some family of functions) such that $\\|g(x) - y\\|$ is small.   \n",
    "\n",
    "**The idea is to have $x$ and $y$ be subsets of $z_0$ and $z_1$ respectively!**   But how to do that!?"
   ]
  },
  {
   "cell_type": "markdown",
   "id": "4f1e3668",
   "metadata": {},
   "source": [
    "Let's begin by writing \n",
    "\n",
    "$$\n",
    "z_i=\n",
    "\\begin{bmatrix}\n",
    "x_i \\\\\n",
    "y_i \\\\\n",
    "\\end{bmatrix}\n",
    "$$\n",
    "\n",
    "and **we assume that $x_0=x_1$**.  This may seem odd at first glance, but is actually quite natural.  For example, in our MNIST example the starting image in $x_0$ and the target image in $x_1$ are the same.  It is merely the classification in $y_0$ and $y_1$ that are different.  I.e., $y_0$ contains some noisy classification or uniform prior of $x_0$ and $y_1$ contains the correct classification of $x_0$.  In the case of the MNIST data, we have $x_0=x_1$ and $y_0\\neq y_1$.\n",
    "\n",
    "So, in slighltly more detail we choose $z_0$ and $z_1$ so that\n",
    "\n",
    "$$\n",
    "z_0=\n",
    "\\begin{bmatrix}\n",
    "x_0 \\\\\n",
    "y_0 \\\\\n",
    "\\end{bmatrix}\n",
    "$$\n",
    "\n",
    "and\n",
    "\n",
    "$$\n",
    "z_1=\n",
    "\\begin{bmatrix}\n",
    "x_0 \\\\\n",
    "y_1 \\\\\n",
    "\\end{bmatrix}\n",
    "$$"
   ]
  },
  {
   "cell_type": "code",
   "execution_count": 6,
   "id": "701f8d98",
   "metadata": {},
   "outputs": [
    {
     "name": "stdout",
     "output_type": "stream",
     "text": [
      "torch.Size([794]) torch.Size([794])\n",
      "tensor(784) tensor(10)\n"
     ]
    }
   ],
   "source": [
    "\n",
    "# compute a mask for the data where every entry in each column is the same\n",
    "# this is used to remove columns that are constant\n",
    "mask = (z_start_tensor == z_target_tensor).all(axis=0)\n",
    "mask.shape\n",
    "x_mask = mask\n",
    "y_mask = ~mask\n",
    "\n",
    "# print out the shape of the masks\n",
    "print(x_mask.shape, y_mask.shape)\n",
    "\n",
    "# print out number of true entries in each mask\n",
    "print(x_mask.sum(), y_mask.sum())\n"
   ]
  },
  {
   "cell_type": "markdown",
   "id": "1880ae29-6269-42a9-870f-fb52bb18cf36",
   "metadata": {
    "id": "1880ae29-6269-42a9-870f-fb52bb18cf36"
   },
   "source": [
    "# MLP model"
   ]
  },
  {
   "cell_type": "markdown",
   "id": "11bc5490",
   "metadata": {},
   "source": [
    "Now we start using Sequential2D to build our model.  This requires a little massaging of the data.  In particlar, remember that we now have an iterative map of the form\n",
    "\n",
    "$$\n",
    "\\begin{bmatrix}\n",
    "I   & 0   & 0   & 0 \\\\\n",
    "f_1 & 0   & 0   & 0 \\\\\n",
    "0   & f_2 & 0   & 0 \\\\\n",
    "0   & 0   & f_3 & 0 \\\\\n",
    "\\end{bmatrix}\n",
    "$$\n",
    "\n",
    "and a state vector that combines $x$, $y$, and *the hidden layers* in the following way.\n",
    "\n",
    "$$\n",
    "\\begin{bmatrix}\n",
    "I   & 0   & 0   & 0 \\\\\n",
    "f_1 & 0   & 0   & 0 \\\\\n",
    "0   & f_2 & 0   & 0 \\\\\n",
    "0   & 0   & f_3 & 0 \\\\\n",
    "\\end{bmatrix}\n",
    "\\circ\n",
    "\\begin{bmatrix}\n",
    "x_0 \\\\\n",
    "h_1 \\\\\n",
    "h_2 \\\\\n",
    "y_0 \\\\\n",
    "\\end{bmatrix}\n",
    "$$"
   ]
  },
  {
   "cell_type": "markdown",
   "id": "0fc9ed2c",
   "metadata": {},
   "source": [
    "I am feeling a little silly today, so let's do the rest using Achilles and the Hare from Godel, Escher, Bach.\n",
    "\n",
    "![Godel, Escher, Bach](https://m.media-amazon.com/images/I/41AkcQQKK3L._SY445_SX342_PQ29_.jpg)"
   ]
  },
  {
   "cell_type": "markdown",
   "id": "7daa36af",
   "metadata": {},
   "source": [
    "Achilles:  But... didn't you just say that an normal ML algorithm link and MLP ignores $y_0$?  Look, doesn't $y_0$ appear right up there?  \n",
    "\n",
    "Hare: Well, look at what happens after the first iteration.\n",
    "\n",
    "$$\n",
    "\\begin{bmatrix}\n",
    "I   & 0   & 0   & 0 \\\\\n",
    "f_1 & 0   & 0   & 0 \\\\\n",
    "0   & f_2 & 0   & 0 \\\\\n",
    "0   & 0   & f_3 & 0 \\\\\n",
    "\\end{bmatrix}\n",
    "\\circ\n",
    "\\begin{bmatrix}\n",
    "x_0 \\\\\n",
    "h_1 \\\\\n",
    "h_2 \\\\\n",
    "y_0 \\\\\n",
    "\\end{bmatrix}\n",
    "=\n",
    "\\begin{bmatrix}\n",
    "x_0 \\\\\n",
    "f_1(x_0) \\\\\n",
    "f_2(h_1) \\\\\n",
    "f_3(h_2) \\\\\n",
    "\\end{bmatrix}\n",
    "$$\n",
    "\n",
    "which **does not** contain $y_0$!  The MLP is cunningly designed to ignore the initial guess contained in $y_0$ :-)"
   ]
  },
  {
   "cell_type": "markdown",
   "id": "3c74a4ef",
   "metadata": {},
   "source": [
    "Achilles:  But... but... but...  what about the hidden layers $h_1$ and $h_2$?  Don't you need to choose them carefully since they are the input to the next layer\\iteration?  I remember reading that MLPs don't care about random initializations of the hidden layers since they will be overwritten by the training process!?\n",
    "\n",
    "Hare: Yes, but...  look at what happens after the second iteration.\n",
    "\n",
    "$$\n",
    "\\begin{bmatrix}\n",
    "I   & 0   & 0   & 0 \\\\\n",
    "f_1 & 0   & 0   & 0 \\\\\n",
    "0   & f_2 & 0   & 0 \\\\\n",
    "0   & 0   & f_3 & 0 \\\\\n",
    "\\end{bmatrix}\n",
    "\\circ\n",
    "\\begin{bmatrix}\n",
    "I   & 0   & 0   & 0 \\\\\n",
    "f_1 & 0   & 0   & 0 \\\\\n",
    "0   & f_2 & 0   & 0 \\\\\n",
    "0   & 0   & f_3 & 0 \\\\\n",
    "\\end{bmatrix}\n",
    "\\circ\n",
    "\\begin{bmatrix}\n",
    "x_0 \\\\\n",
    "h_1 \\\\\n",
    "h_2 \\\\\n",
    "y_0 \\\\\n",
    "\\end{bmatrix}\n",
    "=\n",
    "\\begin{bmatrix}\n",
    "x_0 \\\\\n",
    "f_1(x_0) \\\\\n",
    "f_2(f_1(x_0)) \\\\\n",
    "f_3(f_2(h_1)) \\\\\n",
    "\\end{bmatrix}\n",
    "$$\n"
   ]
  },
  {
   "cell_type": "markdown",
   "id": "19538528",
   "metadata": {},
   "source": [
    "Hare: And one more iteration gives\n",
    "\n",
    "$$\n",
    "\\begin{bmatrix}\n",
    "I   & 0   & 0   & 0 \\\\\n",
    "f_1 & 0   & 0   & 0 \\\\\n",
    "0   & f_2 & 0   & 0 \\\\\n",
    "0   & 0   & f_3 & 0 \\\\\n",
    "\\end{bmatrix}\n",
    "\\circ\n",
    "\\begin{bmatrix}\n",
    "I   & 0   & 0   & 0 \\\\\n",
    "f_1 & 0   & 0   & 0 \\\\\n",
    "0   & f_2 & 0   & 0 \\\\\n",
    "0   & 0   & f_3 & 0 \\\\\n",
    "\\end{bmatrix}\n",
    "\\circ\n",
    "\\begin{bmatrix}\n",
    "I   & 0   & 0   & 0 \\\\\n",
    "f_1 & 0   & 0   & 0 \\\\\n",
    "0   & f_2 & 0   & 0 \\\\\n",
    "0   & 0   & f_3 & 0 \\\\\n",
    "\\end{bmatrix}\n",
    "\\circ\n",
    "\\begin{bmatrix}\n",
    "x_0 \\\\\n",
    "h_1 \\\\\n",
    "h_2 \\\\\n",
    "y_0 \\\\\n",
    "\\end{bmatrix}\n",
    "=\n",
    "\\begin{bmatrix}\n",
    "x_0 \\\\\n",
    "f_1(x_0) \\\\\n",
    "f_2(f_1(x_0)) \\\\\n",
    "f_3(f_2(f_1(x_0))) \\\\\n",
    "\\end{bmatrix}\n",
    "$$\n",
    "\n",
    "Two neat things have happened. First notice that the hidden layers $h_1$ and $h_2$ have been overwritten by the training process, so their initiationlization is irrelevant.  Second, we have the last entry has the form $f_3(f_2(f_1(x_0)))$ which is exactly the form of the answer that the MLP would have given!"
   ]
  },
  {
   "cell_type": "markdown",
   "id": "1fddde4e",
   "metadata": {},
   "source": [
    "Hare:  So, the MLP is a cunningly designed iterative map that ignores the initial guess $y_0$ and the hidden layers $h_1$ and $h_2$ and gives the same answer as the iterative map that we are trying to learn!  "
   ]
  },
  {
   "cell_type": "code",
   "execution_count": 7,
   "id": "ebbc9b74-d7dc-4dd6-bb72-88ed57f5b63e",
   "metadata": {
    "id": "ebbc9b74-d7dc-4dd6-bb72-88ed57f5b63e"
   },
   "outputs": [],
   "source": [
    "input_size = int(x_mask.sum())\n",
    "h1_size = 20\n",
    "h2_size = 20\n",
    "output_size = int(y_mask.sum())\n",
    "\n",
    "x_idx = torch.arange(0, input_size)\n",
    "h_idx = torch.arange(input_size, input_size+h1_size+h2_size)\n",
    "y_idx = torch.arange(input_size+h1_size+h2_size, input_size+h1_size+h2_size+output_size)\n",
    "\n",
    "total_size = input_size + h1_size + h2_size + output_size\n",
    "\n",
    "iterations = 3\n",
    "\n",
    "I = Identity(in_features=input_size, out_features=input_size)\n",
    "f1 = Sequential1D(torch.nn.Linear(in_features=input_size, out_features=h1_size), \n",
    "                  torch.nn.ReLU(), \n",
    "                  in_features=input_size, out_features=h1_size)\n",
    "f2 = Sequential1D(torch.nn.Linear(in_features=h1_size, out_features=h2_size), \n",
    "                  torch.nn.ReLU(), \n",
    "                  in_features=h1_size,    out_features=h2_size)\n",
    "f3 = torch.nn.Linear(in_features=h2_size,    out_features=output_size)    \n",
    "\n",
    "in_features_list  = [input_size, h1_size, h2_size, output_size]\n",
    "out_features_list = [input_size, h1_size, h2_size, output_size]\n",
    "blocks = [[I,    None, None, None],\n",
    "          [f1,   None, None, None],\n",
    "          [None, f2,   None, None],\n",
    "          [None, None, f3,   None]]\n",
    "\n",
    "def transpose_blocks(blocks):\n",
    "    return [[blocks[j][i] for j in range(len(blocks))] for i in range(len(blocks[0]))]\n",
    "\n",
    "map = Sequential2D(\n",
    "    in_features_list=in_features_list,\n",
    "    out_features_list=out_features_list,\n",
    "    blocks=transpose_blocks(blocks)\n",
    ")   "
   ]
  },
  {
   "cell_type": "code",
   "execution_count": 8,
   "id": "c367059b",
   "metadata": {},
   "outputs": [],
   "source": [
    "zh_start_tensor = torch.cat((z_start_tensor[:, x_mask],\n",
    "                             torch.zeros(z_start_tensor.shape[0], len(h_idx)), \n",
    "                             z_start_tensor[:, y_mask]), dim=1)\n",
    "zh_target_tensor = torch.cat((z_target_tensor[:, x_mask], \n",
    "                             torch.zeros(z_target_tensor.shape[0], len(h_idx)), \n",
    "                             z_target_tensor[:, y_mask]), dim=1)"
   ]
  },
  {
   "cell_type": "code",
   "execution_count": 9,
   "id": "a7eeb2b8",
   "metadata": {},
   "outputs": [],
   "source": [
    "# a dataloader which returns a batch of start and target data\n",
    "class Data(torch.utils.data.Dataset):\n",
    "    def __init__(self, z_start, z_target):\n",
    "        self.z_start = z_start\n",
    "        self.z_target = z_target\n",
    "    def __len__(self):\n",
    "        return len(self.z_start)\n",
    "    def __getitem__(self, idx):\n",
    "        return self.z_start[idx], self.z_target[idx]\n",
    "    \n",
    "train_data = Data(zh_start_tensor, zh_target_tensor)\n",
    "train_loader = torch.utils.data.DataLoader(train_data, batch_size=512, shuffle=True)"
   ]
  },
  {
   "cell_type": "code",
   "execution_count": 10,
   "id": "7486ca78-5e1c-4f94-afb5-9015303aaa09",
   "metadata": {
    "colab": {
     "base_uri": "https://localhost:8080/",
     "height": 382,
     "referenced_widgets": [
      "915d05c1f046462ebe574b6b306b6110",
      "df24beefb77f4549b7beed2e23558980",
      "a5a6545605cb475fb4bd6db5d32b0b24",
      "5959c15bd28a4059b8952689490ebe2f",
      "a3075bdd01e047faa3f1246dabaedcc7",
      "4d5e173f3cdd465b9b40f8b23d270e8a",
      "4340e450c8c9444784e3ac188b9230df",
      "c81f9b0a5dee4db396442599cb295097",
      "faf8ff98c59b4951b62cd8ad4e1d5bfa",
      "a955f09104b54e37b262198a3807761c",
      "d4d3328dd8914927b619350b49b6f81c"
     ]
    },
    "id": "7486ca78-5e1c-4f94-afb5-9015303aaa09",
    "outputId": "e3247ec9-d372-4fda-c69e-654d985bc905"
   },
   "outputs": [],
   "source": [
    "# Define the loss function and optimizer\n",
    "criterion = torch.nn.MSELoss()\n",
    "optimizer = torch.optim.Adam(map.parameters(), lr=0.001)"
   ]
  },
  {
   "cell_type": "code",
   "execution_count": 11,
   "id": "cb50afb7",
   "metadata": {},
   "outputs": [
    {
     "name": "stdout",
     "output_type": "stream",
     "text": [
      "Epoch 0, Batch 1, Loss 0.10880624502897263\n",
      "Epoch 100, Batch 1, Loss 0.02582365833222866\n",
      "Epoch 200, Batch 1, Loss 0.016223903745412827\n",
      "Epoch 300, Batch 1, Loss 0.009541472420096397\n",
      "Epoch 400, Batch 1, Loss 0.006648981478065252\n"
     ]
    }
   ],
   "source": [
    "max_epochs = 500\n",
    "# Train the model\n",
    "for epoch in range(max_epochs):\n",
    "    for batch_idx, (start, target) in enumerate(train_loader):\n",
    "        optimizer.zero_grad()\n",
    "\n",
    "        mapped = start\n",
    "\n",
    "        loss = 0.0\n",
    "        for i in range(iterations):\n",
    "            mapped = map(mapped)\n",
    "\n",
    "        loss = criterion(mapped[:, y_idx], target[:, y_idx])\n",
    "        loss.backward()\n",
    "\n",
    "        optimizer.step()\n",
    "    if epoch % 100 == 0:\n",
    "        print(f'Epoch {epoch}, Batch {batch_idx}, Loss {loss.item()}')"
   ]
  },
  {
   "cell_type": "markdown",
   "id": "054793e0",
   "metadata": {},
   "source": [
    "# Training data"
   ]
  },
  {
   "cell_type": "code",
   "execution_count": 12,
   "id": "0545bf25",
   "metadata": {},
   "outputs": [],
   "source": [
    "def project(z_start, z_mapped, z_target, idx, one_hot=False):\n",
    "    if len(idx) == 1:\n",
    "        start = z_start[:, idx[0]]\n",
    "        target = z_target[:, idx[0]]\n",
    "        mapped = z_mapped[:, idx[0]]\n",
    "    else:\n",
    "        if one_hot:\n",
    "            start = torch.argmax(z_start[:, idx], dim=1)\n",
    "            target = torch.argmax(z_target[:, idx], dim=1)\n",
    "            mapped = torch.argmax(z_mapped[:, idx], dim=1)\n",
    "        else:\n",
    "            # Use PCA to reduce the dimensionality of the data\n",
    "            _, _, V = torch.svd(z_target[:, idx])\n",
    "            start = torch.matmul(z_start[:, idx], V[:, 0])\n",
    "            target = torch.matmul(z_target[:, idx], V[:, 0])\n",
    "            mapped = torch.matmul(z_mapped[:, idx], V[:, 0])\n",
    "    return start, mapped, target\n",
    "\n",
    "\n",
    "def my_plot(z_start, z_mapped, z_target, plot_points, x_idx, y_idx, one_hot_y=False):\n",
    "    start_x, mapped_x, target_x = project(z_start, z_mapped, z_target, x_idx)\n",
    "    start_y, mapped_y, target_y = project(z_start, z_mapped, z_target, y_idx, one_hot_y)\n",
    "    plot_2D_start_end(start_x, start_y,\n",
    "                      mapped_x, mapped_y, \n",
    "                      target_x, target_y, \n",
    "                      plot_points)"
   ]
  },
  {
   "cell_type": "code",
   "execution_count": 13,
   "id": "86109c30",
   "metadata": {},
   "outputs": [
    {
     "data": {
      "application/vnd.jupyter.widget-view+json": {
       "model_id": "ae4530d250144510b8cbcc24794123d9",
       "version_major": 2,
       "version_minor": 0
      },
      "image/png": "[encoded data removed]",
      "text/html": [
       "\n",
       "            <div style=\"display: inline-block;\">\n",
       "                <div class=\"jupyter-widgets widget-label\" style=\"text-align: center;\">\n",
       "                    Figure\n",
       "                </div>\n",
       "                <img src='data:image/png;base64,iVBORw0KGgoAAAANSUhEUgAAAoAAAAHgCAYAAAA10dzkAAAAOXRFWHRTb2Z0d2FyZQBNYXRwbG90bGliIHZlcnNpb24zLjkuNCwgaHR0cHM6Ly9tYXRwbG90bGliLm9yZy8ekN5oAAAACXBIWXMAAA9hAAAPYQGoP6dpAAA/BUlEQVR4nO3dfXxU5Z3///eZmUwGQmaArODIXajffhGGiIF1bYW6SlsYxLburuantZWlHa2uW7A+vhTpbis+qlXK/tzCtutdqNavrTTr/qxdK9m4olK8qQgREClqC0IxgBLIQCA3M3N+f0zmMDOZ3DphUq7Xsw8eyZy5bj7XdU6m75xJomXbti0AAAAYw1XoAgAAAHB6EQABAAAMQwAEAAAwDAEQAADAMARAAAAAwxAAAQAADEMABAAAMAwBEAAAwDAEQAAAAMMQAAEAAAxDAAQAADAMARAAAMAwBEAAAADDEAABAAAMQwAEAAAwDAEQAADAMARAAAAAwxAAAQAADEMABAAAMAwBEAAAwDAEQAAAAMMQAAEAAAxDAAQAADAMARAAAMAwBEAAAADDEAABAAAMQwAEAAAwDAEQAADAMARAAAAAwxAAAQAADEMABAAAMAwBEAAAwDAEQAAAAMMQAAEAAAxDAAQAADAMARAAAMAwBEAAAADDEAABAAAMQwAEAAAwDAEQAADAMARAAAAAwxAAAQAADEMABAAAMAwBEAAAwDAEQAAAAMMQAAEAAAxDAAQAADAMARAAAMAwBEAAAADDEAABAAAMQwAEAAAwDAEQAADAMARAAAAAwxAAAQAADEMABAAAMAwBEAAAwDCeQhcAZEskEvrggw9UWloqy7IKXQ4AFIxt2zp27JjOOeccuVzcs0H+EAAx6HzwwQcaN25cocsAgEFj3759Gjt2bKHLwBmEAIhBp7S0VFLyBc/v9xe4GgAonGg0qnHjxjmvi0C+EAAx6KTe9vX7/QRAAJD4cRjkHT9QAAAAYBgCIAAAgGEIgAAAAIYhAAIAABiGAAgAAGAYAiAAAIBhCIAAAACGIQACAAAYhgAIAABgGAIgAACAYQiAAAAAhiEAAgAAGMZT6AKAQlu6Yalq99QqXB7WiktWSJJqdtWoenu1KkdVauP+jbJkadH0RZLkHK8/VJ/x/MwxM7Vx/0a1xdvkdXs1rnScdjbu1OSRk9XY0qjKUZVav3e9WuOtmlI2RX84+ge1xFvksTwqKSrRzDEzVX+oXiN9I/X24bdV7C7W7PGztX7verXEW2TJki1bRa4ifX7C5525JCmWiClmx7pco0suJZRwPvrcPnndXkXbonJZLk0eOdmp9Q9H/+DU+Kdjf5ItW7PGzHJq23F4hyTJ7/Ur2hZVsCSo5vZmnYydVHuiXT63T0suXKKqSVUZexmpiDj7F6mIOM+nzsG63etU7C7WucPP1c7GnRnnozfS58k1d/p8fVWzq0artqxyroPejtXV/L2tK1/1D4TBXBuAnlm2bduFLgJIF41GFQgE1NTUJL/fP+DzTXtsmhJ2Qi7Lpa3Xb5UkzXlyjhqaG+SyXErYCUlSsCQoSRnH059P/zyX/jzfVZ+exsq3vs4XLAmq7qo6Saf2Mn3/0p+XTp2D7DlT56M30ufJNXf6fH2VGid7bf2pqS915av+gTCYazuTnO7XQ5iDt4BhvHB5WC7LpXB52DkWqYgoWBJUuDwsv9evgDegSEUk43j286nPfW6f/F6/QmUhuSyXQmUhp63P7ZMlS6GykHxunyTJY3mc/sGSoEJlIVmy5HP7nD6SZMmSJBW5ijLm8rl98ljd38x3dXyppz6mapTk1Jj6mF5jwBuQ3+vPqC0l1T9YEpTf61eRq8gZO3W3L30v0/cv/fnUOUitOVVL+vnojVxjdzVfX0UqIhnXwcepqS915av+gTCYawPQM+4AYtDhO14ASOL1EAOFO4AAAACGIQACAAAYhgAIAABgGAIgAACAYQiAAAAAhiEAAgAAGIYACAAAYBgCIAAAgGEIgAAAAIYhAAIAABiGAAgAAGAYAiAAAIBhCIAAAACGIQACAAAYhgAIAABgGAIgAACAYQiAAAAAhiEAAgAAGIYACAAAYBgCIAAAgGEIgAAAAIYhAAIAABiGAAgAAGAYAiAAAIBhCIAAAACGIQACAAAYhgAIAABgGAIgAACAYQiAAAAAhiEAAgAAGIYAiLyKx+P67ne/q4kTJ2rIkCE699xz9f3vf1+2bRe6NAAA0MFT6AJwZlmxYoXuv/9+/exnP1MoFNIbb7yhhQsXKhAIaNGiRYUuDwAAiACIPHvllVf0pS99SfPnz5cklZeX64knntDrr79e4MoAAEAKbwEjry6++GI9//zzeueddyRJW7du1caNGzVv3rwCVwYAAFK4A4i8uv322xWNRnXeeefJ7XYrHo/r7rvv1nXXXddln9bWVrW2tjqPo9Ho6SjVUbOrRtXbqxWpiKhqUlWf29TsqtGqLatkydLMMTNVf6helaMqVX+ovtv2J9pPKGbH5LE88rg8aou3KaGEQmUhrb1irWp21WjlppVqibc4bYrdxRpbOlZvH35bxe5iLblwiSQ58y+avkhVk6o61Zv9+JpnrtGOwzsULAnqwxMfKmbHJEmhspAkacfhHc7jPx37k1rjrSp2F2vmmJl67v3n1J5od+pMmfPkHDU0Nzj9GlsanX1I/7hx/0Ydbz+uhJ2QJUu2bPncPs0eP1vr965XS7zFGWPfsX0Z+5q+nzW7arR6y2qntkXTkz9ikFrn5oObVbunVuHysFZcssLZg5G+kdrZuDPjePr+pfpNHjlZjS2NOc9hav/8Xr+Otx93xurvNSVJq7esli1bi6cv7rJPb2SP+3Gu7d7O09t+/Z2r0GMDZyLL5qfzkUdr167VkiVLtHLlSoVCIb355pu69dZbdd9992nBggU5+yxfvlx33nlnp+NNTU3y+/0DXbITXIIlQdVdVdfnNunBx2W5lLATzsee2ndl+4LtvWoXLAlKktMuNV92vdmPK35W0e24XUmtK73OlFxjZu9Hdv/uxs71XPp+Zu9P+l4ES4I6eOKgM+fW67d2ap/reHq/9HGzz2H2WlNjpfT1mkrV3dV8fZFr3P5e272dp7f9+jtXoccupGg0qkAgcNpeD2EO3gJGXi1ZskS33367rrnmGlVUVOirX/2qvvWtb+mee+7pss+yZcvU1NTk/Nu3b99prFiKVEQULAk6d0z62iZSEZHf61fAG1C4PKxgSdD52F17j5W8Ae+xPPK5fXJ1fDmm7sJFKiLyuX0ZbQLegEJlIVmy5HP7FKmIZMyfmi+73uzHqTmCJUGnjtTx1HOpxwFvwJk7XB5WkasoY4yUVOBIPZe+D+kf/V6/XFZyrZYsSZLP7VO4POysNzVG9r6m72ekIpJRW2ovUu3C5WG5LJfC5eGMPQiVhTodT9+/VL/UGnKdw9TaU2tJjZVeW1+uqdRa/F5/t316I3vcj3Nt93aegewzGMYGzkTcAURelZWV6a677tLNN9/sHLvnnnv0yCOPOD8X2BO+4wWAJF4PMVD4GUDk1Re+8AXdfffdGj9+vEKhkOrr63Xffffpa1/7WqFLAwAAHbgDiLw6duyYvvvd7+qpp57SoUOHdM455+jaa6/V9773PXm93l6NwXe8AJDE6yEGCgEQgw4veACQxOshBgq/BAIAAGAYAiAAAIBhCIAAAACGIQACAAAYhgAIAABgGAIgAACAYQiAAAAAhiEAAgAAGIYACAAAYBgCIAAAgGEIgAAAAIYhAAIAABiGAAgAAGAYAiAAAIBhCIAAAACGIQACAAAYhgAIAABgGAIgAACAYQiAAAAAhiEAAgAAGIYACAAAYBgCIAAAgGEIgAAAAIYhAAIAABiGAAgAAGAYAiAAAIBhCIAAAACGIQACAAAYhgAIAABgGAIgAACAYTyFLgAYrGp21ah6e7VG+kZqZ+NOhcvDWnHJCud4pCIiSbrnd/coZsfkslwaVjRMs8bM0vq969USb5HP7dOSC5dIklZtWaUT7ScUs2POHD63T5LUEm9RkatI8URcCSUULAnqRPsJtcZbVewu1qLpi1Q1qUo1u2q0assqtcXb5HV7tXj6YklS9fZqVY6qVN2eOsXsmDyWR8suWiZJWr1ltVrjrZLkjJXeZ/3e9WqNt+rskrN1oPmAJMmWLUuWJGnexHkZ664cVan6Q/XOvkweOVmNLY2SpIbmBkmSx/JoaNFQLZ6+OKNuS5Zmjpmp+kP1zv6l72Vq/I37N6ot3qZid7HGlo7VjsM7nD0LlYXU2NLo1BGpiKhqUlXGOUs/luucdtcn+/ymPt98cLNq99Q66+1qjt5cV6m9SJ3X7izdsFTrdq9TsbtYSy5c0uc5e9oTAGaybNu2C10EkC4ajSoQCKipqUl+v79gdcx5co4TaCTJZbm09fqtzvFgSVCSMtqk2iXshPO4q3Z9ESwJqu6quk41pY/d23m765NL9rp706e7ulP90+voa03Z49RdVSdJGecmdSxdruezj+U6v8GSoA6eONhpf3PN0ZP0vejNGNMem+bM2585e9oTDG6D5fUQZx7eAga6EKmIKFgSVKgsJJflUrg8nHE8UhFRpCIij5W8ke6yXPJ7/QqXh507ez63z2nn9/qdtik+t89pW+QqkqvjSzJYElTAG5DP7VPAG3DuRqXG8bl98nv9ztjBkqDC5WFnfI/lcZ5LjZM+Vnofn9snS5aCJUFZHf+T5Hyeve5weThjX0JlIQVLgk5gSs2fqi+97oA34PRPryO7ptQaA96AQmWhjD1LzZc+TvY5Sz+W65x21ydXTZGKiMLl4Yz1djVHT9L3ojdjhMvDsmQ511J/5vs49QI4M3EHEIMO3/ECQBKvhxgo3AEEAAAwDAEQAADAMARAAAAAwxAAAQAADEMABAAAMAwBEAAAwDAEQAAAAMMQAAEAAAxDAAQAADAMARAAAMAwBEAAAADDEAABAAAMQwAEAAAwDAEQAADAMARAAAAAwxAAAQAADEMABAAAMAwBEAAAwDAEQAAAAMMQAAEAAAxDAAQAADAMARAAAMAwBEAAAADDEAABAAAMQwAEAAAwDAEQAADAMARAAAAAwxAAAQAADEMABAAAMAwBEAAAwDAEQOTd/v379ZWvfEVlZWUaMmSIKioq9MYbbxS6LAAA0MFT6AJwZjly5Ihmzpypyy67TOvWrdNZZ52ld999VyNGjCh0aQAAoAMBEHm1YsUKjRs3To888ohzbOLEiQWsCAAAZCMAIq9+/etfa+7cubr66qv10ksvacyYMfqHf/gH3XDDDV32aW1tVWtrq/M4Go2ejlL7pWZXjVZtWSVLlhZNX6SqSVWSpKUblurZ3c9Kknxun5ZcuMR5Lr1v9fZqVY6qVP2hekUqIqqaVKWaXTVavWW1WuOtiiViitkxeSyPPK7kl2fcjqs90S6P5VHcjsuW7Yzpc/s0e/zsTuOt3LRSLfGWjDYb929UW7xNxe5izRwz0+mz+eBmp3aP5VFJUYnGlo7V24ffVrG72Bk/VXflqEq9vP9lNbc3K2bHOq03fX6X5VLCTjjr8bq9Wjx9sSRp1ZZVOtF+QjE7JkkKlYW09oq1GXuVqq92T63C5WG9H31fOw7v6LJt1aQqLd2w1Gk/Y/SMjL2N23HNmzhPM0bPcM7jzDEztX7verXGWzWlbIoaWxoVqYhIUsa4XZ3Ll/e/rNZ48votdhdnXBe5+nQ1dvY6+to/V7tc4/RWrnHyNTaAwrNs27Z7bgb0js/nkyTddtttuvrqq7Vp0yYtXrxYDzzwgBYsWJCzz/Lly3XnnXd2Ot7U1CS/3z+g9fbVnCfnqKG5QZIULAmq7qo6SdK0x6YpYSecdunPZfdNhaJUm/Qx+6M346Xa5Opz8MTBjOe6Gj/7Y7r09fa0nmBJUJJyttm+YHvGGOn1Zc+bq23dVXXOuXBZLo0eOjrnXqQf72o9qRp7cy672otcfboaO3sdfe2fq12ucXor1zj5Ghu9F41GFQgEBuXrIf688UsgyKtEIqHp06frBz/4gSorK3XjjTfqhhtu0AMPPNBln2XLlqmpqcn5t2/fvtNYcd9EKiLye/0KeAPOnRhJCpeHnc99bl/Gc+l9gyVBhcvDCpYEnTaRiogC3oB8bp88VvKun8fyyOf2yef2qchV5ByzZGWM6XP7co7nc/s6tfF7/fK5fQp4Axl90mv3WB4FvAGFykKyZGWMn/4x4A04tWavN31+l+XKWI/f61ekIuLsY2oMKXkHMHuvUvW5LJfC5WGnTVdtU+ci1T57by1ZzvHUeQyXh+Vz+2TJUqgs5IyVPW5X5zI1fmpvc7XPrjPX2N3N15v+vR2nt/pTI4A/H9wBRF5NmDBBn//851VdXe0cu//++3XXXXdp//79vRqD73gBIInXQwwU7gAir2bOnKldu3ZlHHvnnXc0YcKEAlUEAACyEQCRV9/61rf02muv6Qc/+IHee+89/eIXv9BDDz2kW265pdClAQCADgRA5NWFF16op556Sk888YSmTp2q73//+/rRj36k6667rtClAQCADvwMIAYdfuYFAJJ4PcRA4Q4gAACAYQiAAAAAhiEAAgAAGIYACAAAYBgCIAAAgGEIgAAAAIYhAAIAABiGAAgAAGAYAiAAAIBhCIAAAACGIQACAAAYhgAIAABgGAIgAACAYQiAAAAAhiEAAgAAGIYACAAAYBgCIAAAgGEIgAAAAIYhAAIAABiGAAgAAGAYAiAAAIBhCIAAAACGIQACAAAYhgAIAABgGAIgAACAYQiAAAAAhvEUugAAkhJx6f1XpOMHpWGjpQkXSy734Bu7q7H6OkciLu3+rfT+RsmWNPEzUvms/tWVr/Ul4tKejcm6LEkTZiXr6utYA3kuASBPCIBAob39a6l2qRT94NQx/zlSeIU05YuDZ+yuxpp6lfTWk72f4+1fS/+1SDp55NSx366UhoyUvrCqb3Xla31v/1r6r8XSyca0gyulISOkL6zu/VgDeS4BII8s27btQhcBpItGowoEAmpqapLf7y90OQPr7V9LNdcreRssnZX8UPVY/4NDPsfucqyudDHH27+War7afdeq/9u7uvK1vnzVNJDnEsYy6vUQpxU/AwgUSiKevFuUM1R1HKu9PdmukGN3O1ZXcsyRiEvrvt1z197Ula/1OeP0YN3S7scayHMJAAOAt4CBHGp21ah6e7UiFRFVTarKeG7phqWq3VOrySMnq7Gl0WnTXZ+c49f/RJXFraofe44iTVFVNR1L3iyyOu4YydY1JTHt+L8XSJIun3i5VlyyQpJ0zTPXaMfhHc7xGaNnOHNLUnX9TzSyJK6dI8dpdCymAx6P3LatobatxUeakm38tiKv3qvN8ahq99QqXB52xqkcVan6Q/WSpIbmBoVK4ppQXKZnS4ZKkopsKS5bCcuSy7bllRS3LMUkzWs+oRktraoO+FXZ2qL6mtmKVN4iffSuqgOWKn1lqi8uVqQpqs1er9aVlqjYtrWk8ag2+4pVW+JSuDaiFZc/0mmtkhQqC6nxeEPm3h07LsVtyX1q72rsJlV3zF01qUpLNyzVut3rVOwu1pILlyTP2av3qtovVRYna6psbdXGIT5Zkhal9ingV2Vrq7OOnOf2/VdUY0dVnX4uJcllqaZ0mKoDfkWamlT1/ivJnyvsQa5rqS/X1+kyGGsC0Du8BYxBZzC85THnyTlqaG5QsCSouqvqMp6b9tg0JeyE8zjVprs+XY3vspMhKtgeU93Gvclvycae+r6sonycEwhdlktbr9+aPP6zCqeNy3Jp9NDRztxSMrTJtpN9Ux9T9bbHkm2KPAp6AzrYfkwJO5ExjstyZaxRti2XpETaOF1x2bZGx+JqKPKcWl9JUGo/oYa2pow1H3S7lXBZTl0HPe5kqJSlrQu2dVpr9jzO3v3pA+nlVmlm8ak9HntOco0d5yP9vDnn7IlZGTWlPmbvU/o6cp7b7U9qzu++m5yvPaa6V/dKCUkTPKfqaI+p7qLvSxVX9biHua6lvlxfp8tgrOlMMxheD3Fm4i1gIIdIRUTBkqBzRy1duDwsl+VSqCyU0aa7PjnHLx6pcPMJBdtjijRFpXdiyX9pQq1tGfM6x8tCGcfT506NHWptk8u2FYzFZCVseeIJ+eNxRZqiijRFk/OOn+esJ32ccHlYwZKgEyhDrW0KN59IhknbVlF7Qq5EIhkMEwn5EgkVxW1ZCVvh5hPO+OHmEwoWj0zWNX7eqWPtMUV2HVF4a1RWwpYvkVCkKapw8wm5bFvhs2bkXGvqcae9O5GQNrRK7ae+n400RZ25U/tkyZLP7Tt1zrJqCu89Jv+JmALNMUWONuVcR07DRp/a06xzmXF82Ogerw3n+si6lvpyfZ0ug7EmAL3DHUAMOsZ8x5uISz+aKkUbJNnSj48n7wDeNKyjgZX8DdJbt/fvT5Gkxm5PSD88Jk3ySFcN7fvY2XW+3iata5EWDJXK036K5KmT0lvt0rdLpWKr8xyJuPSvIelYQ7L90yelN9uTny8aJo3o+H7UP6bnurJr2tom/apFunaI9L+Ler8+Z5yO39r9+QlpT0yKSfpGiXR2R9/Sc6RvvdX1WNn13H88eQfwljycSxjNmNdDnHbcAQQKxeVO/nkQSTqcSP47mJCOJuT85mj43v4FhvSx/xhPBpr3Ysmfk+vr2OljyZLe6Qht6XcrE7b0biwZet6L5Z7D5Zbm/TD5ud3RPiU1Zm/r6lRTx1i7upi7N+O02dLujvDnjNVh3orux0of56gtHUpIHyWkxjycSwAYAARAoJCmfDH550H2Dj117J1Y8m7Rx/2zIamx9xQlH7dKej/ev7FTYxWPlvbE0+ocI128SDoyQjpp91z/lC8m/6TKRyVSc9qbD+/Ekn8HsLd/Aia9pqFnd4ROJUNlabBv60vV9KchUvov6b7b3reacp3LXe35OZcAkGf8FjBQaFO+KEXvk3Qo+bj5fOnWV/Jzt+i8K6T3h0pK/kar3JdLt67t39hTvijtbJfiHb/EcDghXf6f0nmTpedbJa1MHt83VPrmm1KRt+txhr8m6Z5Tx/ZZ0je2SMNH9L2mPxVLbR0/H3nMli75mTTlr/o+TtHTkn566tj+hPTVjdI5Y/o2zvEfS3quo54p0q2buPMHYNDhDiBQaEeOSL/deOrxa29KJ07mZ+z6eqmh4dTjDVsk62N82f/mN5mPn12X/PhM2vEjTdLrm7of55mscdpj0v8838+ans1dU18kEp3XJknravs2zrFj0ksvnXq8absUPdb3egBggBEAgULbtUt65BHpvPOkadOkBx9MHsuHP/1JevZZyeORrrxSuvlm6cCB/o1l29LEidL3vpd8/OCDUlGR9NFH0le/KlV1/B24Z5/tfo4jR6S/+ztp6tRTx771Lam5uX91BYPSPR13E1etkkpL+z7Gnj3S7bdL554rFXf8KZn/83+keB//cPOuXcl9Of98afJk6ac/zd+5BIA84reAMegY+1tvFRXJ8PHGG/kf2+tNBrTHH//4Yz38sHTjjdLLL0sXX3zqeCQirVkjxWKSuxdved50UzIsSdK+fdLYsf2vae1a6dprpdpaae7c/o9z5ZVSXZ108qT01ltSKNRjl5xmzJDa26Vt2/pfCyCDXw8x4LgDCAAAYBgCIAAAgGEIgAAAAIYhAAIAABiGAAgAAGAYAiAAAIBhCIAAAACGIQACAAAYhgAIAABgGAIgAACAYQiAAAAAhiEAAgAAGIYACAAAYBgCIAAAgGEIgAAAAIYhAAIAABiGAAgAAGAYAiAAAIBhCIAAAACGIQACAAAYhgAIAABgGAIgAACAYQiAAAAAhiEAAgAAGIYAiAF17733yrIs3XrrrYUuBQAAdCAAYsBs2rRJDz74oM4///xClwIAANIQADEgjh8/ruuuu04PP/ywRowYUehyAABAGk+hC8CZ6ZZbbtH8+fP1uc99TnfddVe3bVtbW9Xa2uo8jkajA11er9TsqlH19mpFKiKSpOrt1RrpG6m3D7+tYnexzh1+rvP57PGzVX+oXpGKiKomValmV41WbVmltnibvG6vFk9f7IxROapSG/dv1In2E4rbcU0pm6J9x/bJukVa9FpcVR3zL92wVLV7ajWsaJiibVF5LI+WXbTMGX/1ltVqjbeq2F2sRdMXafPBzVq3e50sWbJla97EeZKkdbvXyf3vn5TH2qbiJ2ZpbOnYTnVXjqpU/aF6jfSN1M7GnZo8crL+cPQPaom3yGN55HF5nHnk2q6VD0xW67s3aV5snlZcsuLUnl02Qiuf+JRa4i3OscsnXq4Zo2d02svI6CHOWmv+9But+u1jsmRp0fRFqppUdWrMtPOQWnv64/S5qw/drcoN6zPWEi4PZ9Q4kFK1jaxq085RUnjDUq24ZIVzLtNrSZ1DW7YWT1+csZZ81pK9TwNtIOct1JqAM5Fl27Zd6CJwZlm7dq3uvvtubdq0ST6fT5deeqkuuOAC/ehHP8rZfvny5brzzjs7HW9qapLf7x/gars258k5amhuULAkKElqaG7osq3LcilhJxQsCaruqjqnb0r6GKm2uQSjUt03t0uSpj02rVO77sY/eOJgRnuXlbzB39Vc6XV3V1P2/Dp+XA3WMaf/1uu3Jp+MRDRn8m/V8BfeTnOMHjq6014GW4pVd9NmSdKctbPV0HIoY40p6echfe0Z7dau1Zz9d6jhL7yd1pJRY0+uvFKqq5NOnpTeeksKhXrXL6tW2ZKsU3OnzmV6LennMHvN+ZBzn06DgZy3UGsqpGg0qkAgUPDXQ5x5eAsYebVv3z4tXrxYP//5z+Xz+XrVZ9myZWpqanL+7du3b4Cr7J1IRUTBkqAiFRHn81BZSJYs+dy+jM/D5WGnbaqv3+uXz+2T3+vPGCNcHpbf65fH8siSpVBZSH6vX4GTUmTzqZvy4fKwXJZLfm/yRd9jeTLGD3gD8rl9CngDilREFC4Py5Ill1yyZClcHnaOedoT8sUsBbyBnHWnPobKQnJZLoXKQvK5fc686fNE4n8pX0vcmSNjz37zodMvfR259jLywZhT/SZUJfegY46uzkOux+lzB10jOq0lu8aB5FwnByVXQs7cqXOZXkvqHKauj4GqZSDGLtS8hVoTcCbiDiDy6le/+pX+5m/+Rm632zkWj8dlWZZcLpdaW1sznsvF2O94Kyqk4mLpjTfyP7bXK1VVSY8//vHHevhh6cYbpZdfli6++NTxSERas0aKxaQezrEk6aabpAcfTH6+b580dmz/a1q7Vrr2Wqm2Vpo7t//jfMw7gI4ZM6T2dmnbtv7XAsjg10MMOH4GEHn12c9+Vtu3b884tnDhQp133nlaunRpj+EPAAAMPAIg8qq0tFRTp07NOFZSUqKysrJOxwEAQGHwM4AAAACG4Q4gBtyLL75Y6BIAAEAa7gACAAAYhgAIAABgGAIgAACAYQiAAAAAhiEAAgAAGIYACAAAYBgCIAAAgGEIgAAAAIYhAAIAABiGAAgAAGAYAiAAAIBhCIAAAACGIQACAAAYhgAIAABgGAIgAACAYQiAAAAAhiEAAgAAGIYACAAAYBgCIAAAgGEIgAAAAIYhAAIAABiGAAgAAGAYAiAAAIBhCIAAAACGIQACAAAYhgAIAABgGAIgAACAYQiAAAAAhiEAAgAAGMaybdsudBFAumg0qkAgoKamJvn9/kKXI0mq2VWjVVtWyZKlRdMXqWpSVbdtV25aqdZ4q+ZNnKcVl6zIeG71ltWyZWvx9MWZ41RUqGaGR9VXnKXKUZVat3udbNnye/1aPH2xqrdXq3JUpeoP1StSEZEkp6aZY2bq5f0vqzXeKkkqdhfLlq1oW1SS5Ion5LXdKh7q16LpizL6ptZTs6tG1durFamIaPPBzVq3e52K3cWaPX62Nu7f6MxT98daxRRXyFeuv6283qlr/Xvr1GIl5CsaIklqibfIkqV//tQ/O+tcumGpnt39rCQpdKxEja1HJNtWw1nFCpWFtPaKtc7+pfrbsuWxPFp20TKnLkmyZStUFtIE/wSt2/2silviWjLqalX9zZ1aumGpavfUKlweztj/bNntam69TNXjGxR55pCq/u23Uijk7EvlqEqt37terfFWTSmbosaWRud8pJ+XqklV0owZUnu7av7jnzudt9RepI+b/VxP9aefq+6uxb60zW6XXV+uOjHwBuPrIc4MBEAMOoPxBW/Ok3PU0NwgSQqWBFV3VV2v2rosl7Zev7V341RUaM6NUoM/2S9hJ5yngiVBNTQ3OMeDJUFJypgnvX13svum6kjVFiwJ6uCJg8546WP3VFdX86XWOe2xaafa2ZIsSbYtWZYkafuC7Rl7lD1Oel0p6XMHXSNU99UNzjzZ+58tu92c+yvVMDSm4Edtqgv/f1Io5NSTa42pY+nnpe6qOicAzvne2Z3OW2ovssfNtU9d1Z9+rrq7FvvSNrtddn256sTAG4yvhzgz8BYw0AuRioj8Xr8C3oBz9627tj63T5YshcvDnZ4LeAPye/05x4ls9ihYElS4PCxLyVCUaps6HiwJKlIRyagpXB5WwBuQz+2Tz+1z5khxxRPyxSyn/lzrSc0RqYg48/vcPoXLwxnzeGyXZNsKFU/IqMsXt6SE7dQgSZasjHWm70foeImCH7Up+FFb8nFZKGP/Uv0lyWN5MupKHQ+VhTqOSb6WuCLDLnPmcVmuTvufLbtdZNdwBQ+3K/KbDzPOmbPGjvMaKgtlnI/085J9vrt6vrvneqo//Vz1pLdts9tl19fVGgH8eeIOIAYdY7/jraiQioulN97I/9her1RVJT3++Mcf6+GHpRtvlF5+Wbr44lPHIxFpzRopFpPc7p7Huekm6cEHk5/v2yeNHdv/mtaula69VqqtlebO7f84V14p1dVJJ09Kb70lhUL9G6fjDqC2bet/LYAMfj3EgOMOIAAAgGEIgAAAAIYhAAIAABiGAAgAAGAYAiAAAIBhCIAAAACGIQACAAAYhgAIAABgGAIgAACAYQiAAAAAhiEAAgAAGIYACAAAYBgCIAAAgGEIgAAAAIYhAAIAABiGAAgAAGAYAiAAAIBhCIAAAACGIQACAAAYhgAIAABgGAIgAACAYQiAAAAAhiEAAgAAGIYACAAAYBgCIAAAgGEIgAAAAIYhAAIAABiGAAgAAGAYAiAAAIBhCIAAAACGIQAir+655x5deOGFKi0t1ahRo3TllVdq165dhS4LAACkIQAir1566SXdcssteu211/Tcc8+pvb1dc+bMUXNzc6FLAwAAHTyFLgBnltra2ozHjz76qEaNGqXNmzfrkksuKVBVAAAgHXcAMaCampokSSNHjixwJQAAIIU7gBgwiURCt956q2bOnKmpU6d22a61tVWtra3O42g0ejrKG9RqdtWoenu1KkdVqv5QvSIVEVVNquqxfXq7pRuWqnZPrcLlYa2QVDP2I1U/OUcjfSP19uG3JUm2bIXKQlp7xdpe1yHXdlX/y/9WZUO16p9crpG+kdrZuFPhScO1oocx1u9dr5Z4S/KJT0n6VEiyben5eXLJJbfLrVgipnkT52nFJStUs6tGKzetPNVHks/t0+zxs1V/qN5Zi1uWSn58nhadeEXa1aTVW1bLlq1ZY2Zp/d71ao23akrZFDW2NDprcfpabpUUlWjmmJnaOH+32i6fqJhLir9xreYdTtaRkrGnacfT91+SVt/QJlvSrA1LO52/1BiTR07OqCf7XNfsqtGqLatkydKi6Yu0+eDmTnPX7KrRPb+7RzE75pzH3taY2lef26clFy7pdH0t3bBU63avU7G72Nnv7OswvcaZY2b2eK1m15B9zQI4fSzbtu1CF4Ez080336x169Zp48aNGjt2bJftli9frjvvvLPT8aamJvn9/oEscXCpqJCKi6U33tCcJ+eooblBLsulhJ1QsCSouqvquuyaap/ebtpj05SwE3JZLm2N7NSc1VPVMKQ9Z//tC7Z3O256HTp+XA3WMbnkUkIJp63LlrYufEuKxSS3u8sxesNlubT1+q1O31zP5xor6BohDfE5fXK166pvV223Xr/VeZyxp2nH0/dfUqf5c52X7Hmz26avPVgS1METBzvNnb0/2xds73ONqfGzr6/0Oru6DtPn7821mquGnq5t00WjUQUCAfNeDzHgeAsYA+If//Ef9cwzz+iFF17oNvxJ0rJly9TU1OT827dv32mqcvCKVEQULAkqXB5WsCTo3DHpqX16u3B5WC7LpXB5ONlmzygFS4IKlYVkdfxPkkJloT7VEYn/pYIftSk8bIYznstyKfxh7rf508fwuX2nnrCVvPuX6AgZcqnIVSRL1qmaKyKZfZS8A5iqJ7UWj1wKHI8pMuwyRSoiCngD8nv9zpyWLIXKQhlrcfpaHgW8AYXLw/K3ueRrTcjTnsioo6s9zbX/kYqIAicl/0nlPH+pMbLryW4bqYjI7/Ur4A0oUhHJOXekIiKP5ck4j72tMbWvPrcv5/UVLg/LkpWx39nt0mvszbWaXUNvrm0AA4M7gMgr27b1zW9+U0899ZRefPFFffKTn+zzGMZ+x5t2BzDvvF6pqkp6/PGPP9bDD0s33ii9/LJ08cWnjkci0po1ne4Adummm6QHH0x+vm+f1MM3Ct1au1a69lqptlaaO7f/41x5pVRXJ508Kb31lhTqOhx3a8YMqb1d2rat/7UAMvj1EAOOnwFEXt1yyy36xS9+oaefflqlpaU6cOCAJCkQCGjIkCEFrg4AAEi8BYw8u//++9XU1KRLL71UwWDQ+ffLX/6y0KUBAIAO3AFEXvETBQAADH7cAQQAADAMARAAAMAwBEAAAADDEAABAAAMQwAEAAAwDAEQAADAMARAAAAAwxAAAQAADEMABAAAMAwBEAAAwDAEQAAAAMMQAAEAAAxDAAQAADAMARAAAMAwBEAAAADDEAABAAAMQwAEAAAwDAEQAADAMARAAAAAwxAAAQAADEMABAAAMAwBEAAAwDAEQAAAAMMQAAEAAAxDAAQAADAMARAAAMAwBEAAAADDEAABAAAMQwAEAAAwDAEQAADAMJ5CFwDkU82uGlVvr9ZI30i9ffhtFbuLteTCJZKkVVtW6Xj7cSXshEJlIf3tJ/9Wd712l2zZvR7fJZcSSnT5vCVLtmy5LJds21apt1TRtqjzvMfyKGbHFCwJqu6qOknSNc9cox2Hd8hzq7Tst3FV9VDD0g1LtW73OhW7izV7/Gyt37terfFWTSmbosaWRkUqIqqa1NMop6T2rKd+SzcsVe2eWoXd/0szLhuh6t3LFCm7pV9zVY6qVH3lG4pcNkJVLxzpdX8AQH5wBxBnlOrt1WpobtCOwztky1ZLvEXV26tVvb1a0baoEnYyvO04vEPV26v7FP4kdRv+JDnjJeyEbNkZ4U+SYnZMktTQ3OAc23F4R/I5j1Q9I9ZjDbV7ap211e6pVUu8RbZs7Ti8Qw3NDareXt2nNaX2rKd+tXtqlbATqnW9q+r5Z6kh1tjvuWr31KrB16rq+Wf1qT8AID8IgDijRCoiCpYEFSoLyZIln9unSEVEkYqI/F6/XFbykg+VhRSpiMiS1afxXT18yaTGc1kuWbLk9/oznvdYyZvuwZKgcyxUFko+F5Mim3u+KR8uDztrC5eH5XP7ZMlSqCykYElQkYpIn9aU2rOe+oXLw3JZLoUTn1TkNx8q6BnZ77nC5WEFW4oV+c2HfeoPAMgPy7btvt0CAQZYNBpVIBBQU1OT/H5/zx3OFBUVUnGx9MYb+R/b65WqqqTHH//4Yz38sHTjjdLLL0sXX3zqeCQirVkjxWKS293zODfdJD34YPLzffuksWP7X9PatdK110q1tdLcuf0f58orpbo66eRJ6a23pFCof+PMmCG1t0vbtvW/FkAGvx5iwHEHEAAAwDAEQAAAAMMQAAEAAAxDAAQAADAMARAAAMAwBEAAAADDEAABAAAMQwAEAAAwDAEQAADAMARAAAAAwxAAAQAADEMABAAAMAwBEAAAwDAEQAAAAMMQAAEAAAxDAAQAADAMARAAAMAwBEAAAADDEAABAAAMQwAEAAAwDAEQAADAMARAAAAAwxAAAQAADEMABAAAMAwBEAAAwDAEQAAAAMMQAAEAAAxDAAQAADAMARAAAMAwBEBgEIgnbJ1oi+voiXa9+ofDiifsvI6dkLTvyImPPXY8YesPh45Lkrbvb3LGiidsHYy2SFKv5ognbB1oanEeb9rd2O+64glb7xw8Jkl6+4PoxxrncHOb2uMJSdKW94/0a6x4wtbx1piaWvJ/LgEgXwiAGBA/+clPVF5eLp/Pp4suukivv/56oUsatGrfatCsFeu1t/GE9h45oWsffk2zVqxX7VsNeRs7Frf1xp4jH2vs1FgP//aPkqQ7nt6hWSvW655n39asFev1wq4PJUnXVXc/R+1bDZpx13N6/vcHnWPffKJeM+56rs91pWr6t+fflSTdu25nv9aXqmnz+0cU6whsS/9zW59rStWz+6NmfXC0Ja/nEgDyiQCIvPvlL3+p2267TXfccYe2bNmiadOmae7cuTp06FChSxt0at9q0M2Pb1FD2t0wSTrQ1KKbH9/ysYJDPsfuaqyGphY9uGF3r+eofatBNz2+RUdPtHea4+iJdt3Uh7rytb581TSQ5xIA8o0AiLy77777dMMNN2jhwoWaMmWKHnjgAQ0dOlQ//elPC13aoBJP2Lrzv95WrjcIU8fu/K+3+/02ZL7G7m6sruSaI56wtfzXO3rs25u68rW+ZE1v91jT8l/v6HasgTyXADAQPIUuAGeWtrY2bd68WcuWLXOOuVwufe5zn9Orr76as09ra6taW1udx9FodMDrHGg1u2pUvb1akYqIqiZV5Wzz+u5GfWS9qJJzX1Tb4Us7PV98zhM65t+mG9Zdpp/OX9Wn+V/f3djpTlRK0fDX5C17UUdOTtDsmnv0qXNmqP5QvSpHVar+UH2nmlNjpfq9f/ws6b97rsEz/DVFy17Uylfe1yfOGqaf1D+ko8POVslZ72esd+k3xqj5r/5flbQHZBU16Uj0fL2++wJ9+twyLd2wVLV7ajV55GQ1tjQ6Nc4++xodKVmvYcFtstsDevG8o6r4m5Bk/Yd80XfU8sG1amhq0cpXHtH6A2tVOapSG/dvlCVLi6YvUtWkKtXsqtFP6h/SYden5Ttntzz+rVqyVBrWcq7GHWrRgYkPyBc9X/ETE3X8rP/WhT9PaKjHp0XTF0mSVm1Z5Yz32PYaHQvu0rCzLdkJn/7nIrd2lXs07LzbnXUeiU5z1pWSuk5S6xrpG6mdjTsVLg9rxugZWr1ltZrbmxWzY/K5fVpy4RJJ0uotq2XL1rjScdrZuNPZn1zXW82uGq3ctFKt8VbNmzjPGdeWrZKiEjU0J+9MXj7xcq24ZEXynGxYqnW718ltuTW0aKhmjZnl7N/Y0rFOjan26WtJ1XDNM9dox+EdCpWFtPaKtTm/JlLzeFweDfEMcdaTPXauverqayt9Hkm96tOXOXKto6ev9968HgCnm2XbNt+SIm8++OADjRkzRq+88oo+/elPO8e//e1v66WXXtLvfve7Tn2WL1+uO++8s9PxpqYm+f3+Aa13oMx5co4amhsULAmq7qq6nG2efnO/vrPpGrm8R5VoG66//s0sxS2X/nvSxZKkYectk2XZsuTStgVb+zT/02/u1+K1bzqP/5+t/629w8/WqxOmqeTce+XyHpVtW7IsWy7LpYSdcD5m15waK9XP1VKqy5+aof/5Xxfpw2EjnHYX7d2uTzTu19ppc2RbLqf98KJRGuJ1q6G5wZkz0TZcU168Qpf+cbMeuHGn5JJsW7IsybYt3X3BOn3pgjGa9tg0JeyEM0eqxuFFo3Sk7UNZlu30S7FtS8d/f48kadz59+lo+yGnnyRnfalzlGgbLquoSZaV9lJoS+qoxW4PyOU96jwVLAlKkhOcgiVB5/OU4hND1Oo7mfEeS/q6UlI1pNeXWufooaM7jZs9d7Zc11tqju7GTT239frkddbVvnfVPn2eVA0VP6twntu+YHvOr4nseboaO338rq7TXHVI6lWfvsyRax09fb335vWgK9FoVIFA4M/69RCDE28Bo+CWLVumpqYm59++ffsKXdLHFqmIKFgSdO5C5DKq1Ke2w5cq0TZcbYcv1bPnzXLCnyTFoufLti395V9c2uf5R5X6Mh7/ctpcvTphmiQ5c8ai52tk8WiFy8MKlgSdj9k1p8ZK9Ttx5LN64oJwRviTpN+Nr9ATF4RlW66M9vPHX6dIRUQji0crFj3fWe+mcVO18q8XqP3YtI6gNVy2bSkWPd+ZM1welstyKVQWyqhx/vjrnP1J9pPzLxY936lp/vjrnH5+r18Bb8BZX6qmtsOXdowlJRIu2bEhireMcWppO3yp7NgQFbmKnf6RikjGeBNKJiXnT1hKxIaoqWlux7oy68o+L6nrJLWuUFlILsulcHlYkYqIAt6APFbyjRqf2+fMHfAG5Pf6nfap/cl1vUUqIvK5fbJkZYzr9/qdkJTa6/TPLVnyWB75vf6M/UuvMddaUjWEykIZH3N9TaTmKXIVZawne+xce9XV11b6PL3t05c5cq2jp6/33rweAKcbdwCRV21tbRo6dKiefPJJXXnllc7xBQsW6OjRo3r66ad7HMOU73jjCVuzVqzXgaaWnD87Zkk6O+DTxqWz5XZZOVqcnrF7Gqsr2XPEE7Zm3vu8DkRbu+0X7EVd+Vpfsqb1OhDN/XZ5ytn+Yr18+2e7HGsgzyXMZsrrIU4/7gAir7xer2bMmKHnn3/eOZZIJPT8889nvCUMye2ydMcXpkhKBoR0qcd3fGFKvwJDPsfubqyu5JrD7bK0/IuhHvv2pq58rS9Z05Qea1r+xVC3Yw3kuQSAgUAARN7ddtttevjhh/Wzn/1MO3fu1M0336zm5mYtXLiw0KUNOuGpQd3/lek6O5D51uDZAZ/u/8p0hacGu+h5esfuaqxgwKdvXDJRwV7OEZ4a1ANfma7hQ4s6zTFiaJEe6ENd+VpfdzUN70NNA3kuASDfeAsYA+LHP/6xVq5cqQMHDuiCCy7Q6tWrddFFF/Wqr4lvecQTtl7f3ahDx1o0qtSnv5o4Mm93i/I5dldj9XWOeMLWa384rFf/+JEkS58+t0yf+kRZv+rK1/riCVuv/fGwXv3DYUm2Pv2Jv9Cnzu17TQN5LmEeE18PcXoQADHo8IIHAEm8HmKg8BYwAACAYQiAAAAAhiEAAgAAGIYACAAAYBgCIAAAgGEIgAAAAIYhAAIAABiGAAgAAGAYAiAAAIBhPIUuAMiW+o/TRKPRAlcCAIWVeh3kP9qFfCMAYtA5duyYJGncuHEFrgQABodjx44pEAgUugycQfhvAWPQSSQS+uCDD1RaWirLsgpdzmkTjUY1btw47du3j//mZzfYp95jr3pvsO6Vbds6duyYzjnnHLlc/NQW8oc7gBh0XC6Xxo4dW+gyCsbv9w+q/wMarNin3mOvem8w7hV3/jAQ+HYCAADAMARAAAAAwxAAgUGiuLhYd9xxh4qLiwtdyqDGPvUee9V77BVMwy+BAAAAGIY7gAAAAIYhAAIAABiGAAgAAGAYAiAAAIBhCIBAge3Zs0df//rXNXHiRA0ZMkTnnnuu7rjjDrW1teVs/95776m0tFTDhw8/vYUWWG/26cUXX9SXvvQlBYNBlZSU6IILLtDPf/7zAlZdGL29prZt26bPfOYz8vl8GjdunH74wx8WqOLCufvuu3XxxRdr6NChXX5Nbdq0SZ/97Gc1fPhwjRgxQnPnztXWrVtPb6FAnhEAgQL7/e9/r0QioQcffFA7duzQv/7rv+qBBx7Qd77znU5t29vbde211+ozn/lMASotrN7s0yuvvKLzzz9f//mf/6lt27Zp4cKFuv766/XMM88UsPLTrzd7FY1GNWfOHE2YMEGbN2/WypUrtXz5cj300EMFrPz0a2tr09VXX62bb7455/PHjx9XOBzW+PHj9bvf/U4bN25UaWmp5s6dq/b29tNcLZBHNoBB54c//KE9ceLETse//e1v21/5ylfsRx55xA4EAqe/sEGmq31Kd/nll9sLFy48TRUNXtl79e///u/2iBEj7NbWVufY0qVL7UmTJhWivILr6mtq06ZNtiR77969zrFt27bZkux33333NFYI5Bd3AIFBqKmpSSNHjsw4tn79ev3Hf/yHfvKTnxSoqsEn1z71p40Jsvfh1Vdf1SWXXCKv1+scmzt3rnbt2qUjR44UosRBadKkSSorK9OaNWvU1tamkydPas2aNZo8ebLKy8sLXR7QbwRAYJB577339G//9m/6xje+4Rw7fPiw/v7v/16PPvrooPsP1RdKrn3KVlNTo02bNmnhwoWnsbLBJ9deHThwQKNHj85ol3p84MCB01rfYFZaWqoXX3xRjz/+uIYMGaJhw4aptrZW69atk8fjKXR5QL8RAIEBcvvtt8uyrG7//f73v8/os3//foXDYV199dW64YYbnOM33HCDvvzlL+uSSy453csYcPncp3QvvPCCFi5cqIcfflihUOh0LGXADdRenWn6s09dOXnypL7+9a9r5syZeu211/Tyyy9r6tSpmj9/vk6ePDnAKwEGDv8pOGCAfPjhhzp8+HC3bT7xiU84b8F98MEHuvTSS/WpT31Kjz76qFyuU9+fDR8+XMePH3ce27atRCIht9uthx56SF/72tcGZhGnQT73KeWll17S/Pnzdd999+nGG28ckLoLIZ97df311ysajepXv/qVc+yFF17Q7Nmz1djYqBEjRgzIGk6Hvu6TJD366KO69dZbdfTo0Yx2a9as0Xe+8x01NDQ4+9fW1qYRI0ZozZo1uuaaa/JeP3A6cP8aGCBnnXWWzjrrrF613b9/vy677DLNmDFDjzzySKdQ8+qrryoejzuPn376aa1YsUKvvPKKxowZk9e6T7d87pOU/FMwV1xxhVasWHFGhT8pv3v16U9/Wv/0T/+k9vZ2FRUVSZKee+45TZo06c86/El926eenDhxQi6XS5ZlOcdSjxOJRF7mAAqBt4CBAtu/f78uvfRSjR8/Xv/yL/+iDz/8UAcOHMj4OazJkydr6tSpzr8xY8bI5XJp6tSpf/b/Z91bvdmnF154QfPnz9eiRYv0d3/3d87zjY2NBaz89OvNXn35y1+W1+vV17/+de3YsUO//OUvtWrVKt12220FrPz027t3r958803t3btX8Xhcb775pt58803njvvnP/95HTlyRLfccot27typHTt2aOHChfJ4PLrssssKXD3wMRT4t5AB4z3yyCO2pJz/uutj2p+B6c0+LViwIOfzf/3Xf124wgugt9fU1q1b7VmzZtnFxcX2mDFj7HvvvbdAFRdOV9fMCy+84LSpq6uzZ86caQcCAXvEiBH27Nmz7VdffbVwRQN5wM8AAgAAGIa3gAEAAAxDAAQAADAMARAAAMAwBEAAAADDEAABAAAMQwAEAAAwDAEQAADAMARAAAAAwxAAAQAADEMABAAAMAwBEAAAwDAEQAAAAMMQAAEAAAxDAAQAADAMARAAAMAwBEAAAADDEAABAAAMQwAEAAAwDAEQAADAMARAAAAAwxAAAQAADEMABAAAMAwBEAAAwDAEQAAAAMMQAAEAAAxDAAQAADAMARAAAMAwBEAAAADDEAABAAAMQwAEAAAwDAEQAADAMP8/d2n+SNZLcNAAAAAASUVORK5CYII=' width=640.0/>\n",
       "            </div>\n",
       "        "
      ],
      "text/plain": [
       "Canvas(toolbar=Toolbar(toolitems=[('Home', 'Reset original view', 'home', 'home'), ('Back', 'Back to previous …"
      ]
     },
     "metadata": {},
     "output_type": "display_data"
    }
   ],
   "source": [
    "\n",
    "plot_iterations = 1\n",
    "\n",
    "mapped_tensor = zh_start_tensor\n",
    "for i in range(plot_iterations):\n",
    "    mapped_tensor = map(mapped_tensor)\n",
    "mapped_tensor = mapped_tensor.detach()\n",
    "\n",
    "my_plot(zh_start_tensor, mapped_tensor, zh_target_tensor, plot_points=10, x_idx=x_idx, y_idx=y_idx, one_hot_y=one_hot_y)\n"
   ]
  },
  {
   "cell_type": "code",
   "execution_count": 14,
   "id": "8ac074be-5d27-480a-83fe-e1161e9d69ef",
   "metadata": {
    "id": "8ac074be-5d27-480a-83fe-e1161e9d69ef"
   },
   "outputs": [
    {
     "data": {
      "application/vnd.jupyter.widget-view+json": {
       "model_id": "d1e0cfb5776a4d01a1f178b147a6d627",
       "version_major": 2,
       "version_minor": 0
      },
      "image/png": "[encoded data removed]",
      "text/html": [
       "\n",
       "            <div style=\"display: inline-block;\">\n",
       "                <div class=\"jupyter-widgets widget-label\" style=\"text-align: center;\">\n",
       "                    Figure\n",
       "                </div>\n",
       "                <img src='data:image/png;base64,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' width=640.0/>\n",
       "            </div>\n",
       "        "
      ],
      "text/plain": [
       "Canvas(toolbar=Toolbar(toolitems=[('Home', 'Reset original view', 'home', 'home'), ('Back', 'Back to previous …"
      ]
     },
     "metadata": {},
     "output_type": "display_data"
    }
   ],
   "source": [
    "plot_iterations = iterations\n",
    "\n",
    "mapped_tensor = zh_start_tensor\n",
    "for i in range(plot_iterations):\n",
    "    mapped_tensor = map(mapped_tensor)\n",
    "mapped_tensor = mapped_tensor.detach()\n",
    "\n",
    "my_plot(zh_start_tensor, mapped_tensor, zh_target_tensor, plot_points=10, x_idx=x_idx, y_idx=y_idx, one_hot_y=one_hot_y)"
   ]
  },
  {
   "cell_type": "markdown",
   "id": "ea123cd4",
   "metadata": {},
   "source": [
    "# Path"
   ]
  },
  {
   "cell_type": "code",
   "execution_count": 15,
   "id": "911b76b9",
   "metadata": {},
   "outputs": [
    {
     "data": {
      "application/vnd.jupyter.widget-view+json": {
       "model_id": "9291afb31cd14695acbc66ee7fbd663c",
       "version_major": 2,
       "version_minor": 0
      },
      "image/png": "[encoded data removed]",
      "text/html": [
       "\n",
       "            <div style=\"display: inline-block;\">\n",
       "                <div class=\"jupyter-widgets widget-label\" style=\"text-align: center;\">\n",
       "                    Figure\n",
       "                </div>\n",
       "                <img src='data:image/png;base64,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' width=640.0/>\n",
       "            </div>\n",
       "        "
      ],
      "text/plain": [
       "Canvas(toolbar=Toolbar(toolitems=[('Home', 'Reset original view', 'home', 'home'), ('Back', 'Back to previous …"
      ]
     },
     "metadata": {},
     "output_type": "display_data"
    }
   ],
   "source": [
    "plot_points = 10\n",
    "\n",
    "\n",
    "mapped_tensors = [zh_start_tensor[:plot_points, :]]\n",
    "for i in range(iterations):\n",
    "    mapped_tensors.append(map(mapped_tensors[i]).detach())\n",
    "\n",
    "\n",
    "plt.figure()\n",
    "\n",
    "for i, mapped_tensor in enumerate(mapped_tensors):\n",
    "    if i > 0:\n",
    "        start = mapped_tensors[i-1]\n",
    "        mapped = mapped_tensors[i]\n",
    "\n",
    "        start_x, mapped_x, target_x = project(start, mapped, zh_target_tensor, idx=x_idx)\n",
    "        start_y, mapped_y, target_y = project(start, mapped, zh_target_tensor, idx=y_idx, one_hot=one_hot_y)\n",
    "\n",
    "        dx = mapped_x-start_x\n",
    "        dy = mapped_y-start_y\n",
    "        plt.quiver(start_x, start_y, dx, dy, scale=1, scale_units='xy', angles='xy', color='r', width=0.005)\n",
    "\n",
    "plt.scatter(target_x, target_y, s=1)\n",
    "\n",
    "plt.gca().set_aspect('equal')\n",
    "plt.show()"
   ]
  },
  {
   "cell_type": "markdown",
   "id": "a8d68302",
   "metadata": {},
   "source": [
    "# Testing data"
   ]
  },
  {
   "cell_type": "code",
   "execution_count": 16,
   "id": "1c14b142",
   "metadata": {},
   "outputs": [
    {
     "data": {
      "application/vnd.jupyter.widget-view+json": {
       "model_id": "a0bebf6c640b4a1fa0e76d1eae229d00",
       "version_major": 2,
       "version_minor": 0
      },
      "image/png": "[encoded data removed]",
      "text/html": [
       "\n",
       "            <div style=\"display: inline-block;\">\n",
       "                <div class=\"jupyter-widgets widget-label\" style=\"text-align: center;\">\n",
       "                    Figure\n",
       "                </div>\n",
       "                <img src='data:image/png;base64,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' width=640.0/>\n",
       "            </div>\n",
       "        "
      ],
      "text/plain": [
       "Canvas(toolbar=Toolbar(toolitems=[('Home', 'Reset original view', 'home', 'home'), ('Back', 'Back to previous …"
      ]
     },
     "metadata": {},
     "output_type": "display_data"
    }
   ],
   "source": [
    "zh_start_tensor_test = zh_start_tensor+torch.rand_like(zh_start_tensor)*0.2\n",
    "mapped_tensor = zh_start_tensor_test\n",
    "for i in range(iterations):\n",
    "    mapped_tensor = map(mapped_tensor)\n",
    "mapped_tensor = mapped_tensor.detach()\n",
    "\n",
    "my_plot(zh_start_tensor_test, mapped_tensor, zh_target_tensor, plot_points=10, x_idx=x_idx, y_idx=y_idx, one_hot_y=one_hot_y)\n"
   ]
  },
  {
   "cell_type": "code",
   "execution_count": 17,
   "id": "5e549cdb",
   "metadata": {},
   "outputs": [
    {
     "name": "stdout",
     "output_type": "stream",
     "text": [
      "i = 135\n",
      "tensor([0.1610, 0.1227, 0.2762, 0.2225, 0.2878, 0.2994, 0.2871, 0.2647, 0.1593,\n",
      "        0.2499])\n",
      "tensor([-0.0313,  1.0166, -0.0117,  0.0346, -0.0481, -0.0625, -0.0039,  0.0024,\n",
      "         0.1569, -0.0174])\n",
      "tensor([0., 1., 0., 0., 0., 0., 0., 0., 0., 0.])\n",
      "5 -> 1 -> 1\n",
      "i = 118\n",
      "tensor([0.1760, 0.1492, 0.2393, 0.2028, 0.1769, 0.1479, 0.2357, 0.2074, 0.1513,\n",
      "        0.2041])\n",
      "tensor([ 0.0478, -0.0381,  1.0154, -0.0350, -0.0431,  0.0438,  0.1438,  0.0204,\n",
      "        -0.0952,  0.0064])\n",
      "tensor([0., 0., 1., 0., 0., 0., 0., 0., 0., 0.])\n",
      "2 -> 2 -> 2\n",
      "i = 992\n",
      "tensor([0.2195, 0.2053, 0.1627, 0.2599, 0.1612, 0.1175, 0.1123, 0.1249, 0.1373,\n",
      "        0.1127])\n",
      "tensor([ 0.0877, -0.0011,  0.0056,  0.8620,  0.1340, -0.1091,  0.1176,  0.0044,\n",
      "         0.1033, -0.0168])\n",
      "tensor([0., 0., 0., 1., 0., 0., 0., 0., 0., 0.])\n",
      "3 -> 3 -> 3\n",
      "i = 585\n",
      "tensor([0.1651, 0.1423, 0.2820, 0.2345, 0.2460, 0.1084, 0.1756, 0.2501, 0.2348,\n",
      "        0.1183])\n",
      "tensor([-0.0375,  0.0667,  0.0083, -0.0362,  0.1755, -0.0788,  0.0227, -0.1526,\n",
      "        -0.0125,  1.0062])\n",
      "tensor([0., 0., 0., 0., 0., 0., 0., 0., 0., 1.])\n",
      "2 -> 9 -> 9\n",
      "i = 211\n",
      "tensor([0.1152, 0.2349, 0.2885, 0.1887, 0.2188, 0.2226, 0.1994, 0.2061, 0.2154,\n",
      "        0.2893])\n",
      "tensor([-1.7904e-02,  3.9894e-03,  2.5004e-03,  8.1869e-01, -1.5872e-02,\n",
      "         3.1331e-04, -3.5408e-03, -5.3466e-02,  9.9354e-02, -1.0641e-02])\n",
      "tensor([0., 0., 0., 1., 0., 0., 0., 0., 0., 0.])\n",
      "9 -> 3 -> 3\n"
     ]
    }
   ],
   "source": [
    "for i in torch.randperm(zh_start_tensor.shape[0])[:5]:\n",
    "    print(f'i = {i}')    \n",
    "    print(zh_start_tensor_test[i,y_idx])\n",
    "    print(mapped_tensor[i,y_idx])\n",
    "    print(zh_target_tensor[i,y_idx])\n",
    "    print(f'{torch.argmax(zh_start_tensor_test[i,y_idx])} -> {torch.argmax(mapped_tensor[i,y_idx])} -> {torch.argmax(zh_target_tensor[i,y_idx])}')\n",
    "\n"
   ]
  },
  {
   "cell_type": "code",
   "execution_count": null,
   "metadata": {},
   "outputs": [],
   "source": []
  }
 ],
 "metadata": {
  "accelerator": "GPU",
  "colab": {
   "include_colab_link": true,
   "provenance": []
  },
  "gpuClass": "standard",
  "jupytext": {
   "formats": "ipynb,py:percent,md"
  },
  "kernelspec": {
   "display_name": "iterativennsimple-py3.10",
   "language": "python",
   "name": "python3"
  },
  "language_info": {
   "codemirror_mode": {
    "name": "ipython",
    "version": 3
   },
   "file_extension": ".py",
   "mimetype": "text/x-python",
   "name": "python",
   "nbconvert_exporter": "python",
   "pygments_lexer": "ipython3",
   "version": "3.10.12"
  },
  "widgets": {
   "application/vnd.jupyter.widget-state+json": {
    "4340e450c8c9444784e3ac188b9230df": {
     "model_module": "@jupyter-widgets/controls",
     "model_module_version": "1.5.0",
     "model_name": "DescriptionStyleModel",
     "state": {
      "_model_module": "@jupyter-widgets/controls",
      "_model_module_version": "1.5.0",
      "_model_name": "DescriptionStyleModel",
      "_view_count": null,
      "_view_module": "@jupyter-widgets/base",
      "_view_module_version": "1.2.0",
      "_view_name": "StyleView",
      "description_width": ""
     }
    },
    "4d5e173f3cdd465b9b40f8b23d270e8a": {
     "model_module": "@jupyter-widgets/base",
     "model_module_version": "1.2.0",
     "model_name": "LayoutModel",
     "state": {
      "_model_module": "@jupyter-widgets/base",
      "_model_module_version": "1.2.0",
      "_model_name": "LayoutModel",
      "_view_count": null,
      "_view_module": "@jupyter-widgets/base",
      "_view_module_version": "1.2.0",
      "_view_name": "LayoutView",
      "align_content": null,
      "align_items": null,
      "align_self": null,
      "border": null,
      "bottom": null,
      "display": null,
      "flex": null,
      "flex_flow": null,
      "grid_area": null,
      "grid_auto_columns": null,
      "grid_auto_flow": null,
      "grid_auto_rows": null,
      "grid_column": null,
      "grid_gap": null,
      "grid_row": null,
      "grid_template_areas": null,
      "grid_template_columns": null,
      "grid_template_rows": null,
      "height": null,
      "justify_content": null,
      "justify_items": null,
      "left": null,
      "margin": null,
      "max_height": null,
      "max_width": null,
      "min_height": null,
      "min_width": null,
      "object_fit": null,
      "object_position": null,
      "order": null,
      "overflow": null,
      "overflow_x": null,
      "overflow_y": null,
      "padding": null,
      "right": null,
      "top": null,
      "visibility": null,
      "width": null
     }
    },
    "5959c15bd28a4059b8952689490ebe2f": {
     "model_module": "@jupyter-widgets/controls",
     "model_module_version": "1.5.0",
     "model_name": "HTMLModel",
     "state": {
      "_dom_classes": [],
      "_model_module": "@jupyter-widgets/controls",
      "_model_module_version": "1.5.0",
      "_model_name": "HTMLModel",
      "_view_count": null,
      "_view_module": "@jupyter-widgets/controls",
      "_view_module_version": "1.5.0",
      "_view_name": "HTMLView",
      "description": "",
      "description_tooltip": null,
      "layout": "IPY_MODEL_a955f09104b54e37b262198a3807761c",
      "placeholder": "​",
      "style": "IPY_MODEL_d4d3328dd8914927b619350b49b6f81c",
      "value": " 999/999 [00:08&lt;00:00, 114.60it/s, loss=0.000293, v_num=0]"
     }
    },
    "915d05c1f046462ebe574b6b306b6110": {
     "model_module": "@jupyter-widgets/controls",
     "model_module_version": "1.5.0",
     "model_name": "HBoxModel",
     "state": {
      "_dom_classes": [],
      "_model_module": "@jupyter-widgets/controls",
      "_model_module_version": "1.5.0",
      "_model_name": "HBoxModel",
      "_view_count": null,
      "_view_module": "@jupyter-widgets/controls",
      "_view_module_version": "1.5.0",
      "_view_name": "HBoxView",
      "box_style": "",
      "children": [
       "IPY_MODEL_df24beefb77f4549b7beed2e23558980",
       "IPY_MODEL_a5a6545605cb475fb4bd6db5d32b0b24",
       "IPY_MODEL_5959c15bd28a4059b8952689490ebe2f"
      ],
      "layout": "IPY_MODEL_a3075bdd01e047faa3f1246dabaedcc7"
     }
    },
    "a3075bdd01e047faa3f1246dabaedcc7": {
     "model_module": "@jupyter-widgets/base",
     "model_module_version": "1.2.0",
     "model_name": "LayoutModel",
     "state": {
      "_model_module": "@jupyter-widgets/base",
      "_model_module_version": "1.2.0",
      "_model_name": "LayoutModel",
      "_view_count": null,
      "_view_module": "@jupyter-widgets/base",
      "_view_module_version": "1.2.0",
      "_view_name": "LayoutView",
      "align_content": null,
      "align_items": null,
      "align_self": null,
      "border": null,
      "bottom": null,
      "display": "inline-flex",
      "flex": null,
      "flex_flow": "row wrap",
      "grid_area": null,
      "grid_auto_columns": null,
      "grid_auto_flow": null,
      "grid_auto_rows": null,
      "grid_column": null,
      "grid_gap": null,
      "grid_row": null,
      "grid_template_areas": null,
      "grid_template_columns": null,
      "grid_template_rows": null,
      "height": null,
      "justify_content": null,
      "justify_items": null,
      "left": null,
      "margin": null,
      "max_height": null,
      "max_width": null,
      "min_height": null,
      "min_width": null,
      "object_fit": null,
      "object_position": null,
      "order": null,
      "overflow": null,
      "overflow_x": null,
      "overflow_y": null,
      "padding": null,
      "right": null,
      "top": null,
      "visibility": null,
      "width": "100%"
     }
    },
    "a5a6545605cb475fb4bd6db5d32b0b24": {
     "model_module": "@jupyter-widgets/controls",
     "model_module_version": "1.5.0",
     "model_name": "FloatProgressModel",
     "state": {
      "_dom_classes": [],
      "_model_module": "@jupyter-widgets/controls",
      "_model_module_version": "1.5.0",
      "_model_name": "FloatProgressModel",
      "_view_count": null,
      "_view_module": "@jupyter-widgets/controls",
      "_view_module_version": "1.5.0",
      "_view_name": "ProgressView",
      "bar_style": "success",
      "description": "",
      "description_tooltip": null,
      "layout": "IPY_MODEL_c81f9b0a5dee4db396442599cb295097",
      "max": 999,
      "min": 0,
      "orientation": "horizontal",
      "style": "IPY_MODEL_faf8ff98c59b4951b62cd8ad4e1d5bfa",
      "value": 999
     }
    },
    "a955f09104b54e37b262198a3807761c": {
     "model_module": "@jupyter-widgets/base",
     "model_module_version": "1.2.0",
     "model_name": "LayoutModel",
     "state": {
      "_model_module": "@jupyter-widgets/base",
      "_model_module_version": "1.2.0",
      "_model_name": "LayoutModel",
      "_view_count": null,
      "_view_module": "@jupyter-widgets/base",
      "_view_module_version": "1.2.0",
      "_view_name": "LayoutView",
      "align_content": null,
      "align_items": null,
      "align_self": null,
      "border": null,
      "bottom": null,
      "display": null,
      "flex": null,
      "flex_flow": null,
      "grid_area": null,
      "grid_auto_columns": null,
      "grid_auto_flow": null,
      "grid_auto_rows": null,
      "grid_column": null,
      "grid_gap": null,
      "grid_row": null,
      "grid_template_areas": null,
      "grid_template_columns": null,
      "grid_template_rows": null,
      "height": null,
      "justify_content": null,
      "justify_items": null,
      "left": null,
      "margin": null,
      "max_height": null,
      "max_width": null,
      "min_height": null,
      "min_width": null,
      "object_fit": null,
      "object_position": null,
      "order": null,
      "overflow": null,
      "overflow_x": null,
      "overflow_y": null,
      "padding": null,
      "right": null,
      "top": null,
      "visibility": null,
      "width": null
     }
    },
    "c81f9b0a5dee4db396442599cb295097": {
     "model_module": "@jupyter-widgets/base",
     "model_module_version": "1.2.0",
     "model_name": "LayoutModel",
     "state": {
      "_model_module": "@jupyter-widgets/base",
      "_model_module_version": "1.2.0",
      "_model_name": "LayoutModel",
      "_view_count": null,
      "_view_module": "@jupyter-widgets/base",
      "_view_module_version": "1.2.0",
      "_view_name": "LayoutView",
      "align_content": null,
      "align_items": null,
      "align_self": null,
      "border": null,
      "bottom": null,
      "display": null,
      "flex": "2",
      "flex_flow": null,
      "grid_area": null,
      "grid_auto_columns": null,
      "grid_auto_flow": null,
      "grid_auto_rows": null,
      "grid_column": null,
      "grid_gap": null,
      "grid_row": null,
      "grid_template_areas": null,
      "grid_template_columns": null,
      "grid_template_rows": null,
      "height": null,
      "justify_content": null,
      "justify_items": null,
      "left": null,
      "margin": null,
      "max_height": null,
      "max_width": null,
      "min_height": null,
      "min_width": null,
      "object_fit": null,
      "object_position": null,
      "order": null,
      "overflow": null,
      "overflow_x": null,
      "overflow_y": null,
      "padding": null,
      "right": null,
      "top": null,
      "visibility": null,
      "width": null
     }
    },
    "d4d3328dd8914927b619350b49b6f81c": {
     "model_module": "@jupyter-widgets/controls",
     "model_module_version": "1.5.0",
     "model_name": "DescriptionStyleModel",
     "state": {
      "_model_module": "@jupyter-widgets/controls",
      "_model_module_version": "1.5.0",
      "_model_name": "DescriptionStyleModel",
      "_view_count": null,
      "_view_module": "@jupyter-widgets/base",
      "_view_module_version": "1.2.0",
      "_view_name": "StyleView",
      "description_width": ""
     }
    },
    "df24beefb77f4549b7beed2e23558980": {
     "model_module": "@jupyter-widgets/controls",
     "model_module_version": "1.5.0",
     "model_name": "HTMLModel",
     "state": {
      "_dom_classes": [],
      "_model_module": "@jupyter-widgets/controls",
      "_model_module_version": "1.5.0",
      "_model_name": "HTMLModel",
      "_view_count": null,
      "_view_module": "@jupyter-widgets/controls",
      "_view_module_version": "1.5.0",
      "_view_name": "HTMLView",
      "description": "",
      "description_tooltip": null,
      "layout": "IPY_MODEL_4d5e173f3cdd465b9b40f8b23d270e8a",
      "placeholder": "​",
      "style": "IPY_MODEL_4340e450c8c9444784e3ac188b9230df",
      "value": "Epoch 9: 100%"
     }
    },
    "faf8ff98c59b4951b62cd8ad4e1d5bfa": {
     "model_module": "@jupyter-widgets/controls",
     "model_module_version": "1.5.0",
     "model_name": "ProgressStyleModel",
     "state": {
      "_model_module": "@jupyter-widgets/controls",
      "_model_module_version": "1.5.0",
      "_model_name": "ProgressStyleModel",
      "_view_count": null,
      "_view_module": "@jupyter-widgets/base",
      "_view_module_version": "1.2.0",
      "_view_name": "StyleView",
      "bar_color": null,
      "description_width": ""
     }
    }
   }
  }
 },
 "nbformat": 4,
 "nbformat_minor": 5
}
