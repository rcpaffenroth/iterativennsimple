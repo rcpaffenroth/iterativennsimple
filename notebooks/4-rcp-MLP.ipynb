{
 "cells": [
  {
   "cell_type": "code",
   "execution_count": 1,
   "id": "7bbf52f7",
   "metadata": {},
   "outputs": [],
   "source": [
    "# Uncomment this code if you are running on Google Colab\n",
    "# ! pip install https://github.com/rcpaffenroth/generatedata\n",
    "# ! pip install https://github.com/rcpaffenroth/iterativennsimple"
   ]
  },
  {
   "cell_type": "markdown",
   "id": "89b2345e",
   "metadata": {},
   "source": [
    "<a href=\"https://colab.research.google.com/github/rcpaffenroth/iterativennsimple/blob/main/notebooks/4-rcp-MLP.ipynb\" target=\"_parent\"><img src=\"https://colab.research.google.com/assets/colab-badge.svg\" alt=\"Open In Colab\"/></a>"
   ]
  },
  {
   "cell_type": "markdown",
   "id": "f6828844-3a74-49bd-8348-ceae45948da7",
   "metadata": {
    "id": "f6828844-3a74-49bd-8348-ceae45948da7"
   },
   "source": [
    "# Load data"
   ]
  },
  {
   "cell_type": "code",
   "execution_count": 2,
   "id": "a5713c2d-0108-4708-9f0d-021e183f6d1e",
   "metadata": {
    "id": "a5713c2d-0108-4708-9f0d-021e183f6d1e"
   },
   "outputs": [],
   "source": [
    "import torch\n",
    "import matplotlib.pyplot as plt\n",
    "%matplotlib widget\n",
    "\n",
    "from iterativennsimple.Sequential2D import Sequential2D, Identity\n",
    "from iterativennsimple.Sequential1D import Sequential1D\n",
    "from generatedata.load_data import load_data\n",
    "from generatedata.plot_2D_start_end import plot_2D_start_end"
   ]
  },
  {
   "cell_type": "code",
   "execution_count": 3,
   "id": "d0e79796",
   "metadata": {},
   "outputs": [],
   "source": [
    "# Turn a pandas dataframe into a pytorch tensor\n",
    "def df_to_tensor(df):\n",
    "    return torch.tensor(df.values, dtype=torch.float32)"
   ]
  },
  {
   "cell_type": "code",
   "execution_count": 4,
   "id": "9f5c3fcc-147d-4669-8ab2-3ddf16a88b4e",
   "metadata": {
    "id": "9f5c3fcc-147d-4669-8ab2-3ddf16a88b4e"
   },
   "outputs": [],
   "source": [
    "#name = 'regression_line'\n",
    "#name = 'pca_line'\n",
    "#name = 'circle'\n",
    "#name = 'regression_circle'\n",
    "#one_hot_y = False\n",
    "\n",
    "name = 'MNIST'\n",
    "one_hot_y = True\n",
    "\n",
    "# Read the data\n",
    "data_dict = load_data(name)\n",
    "\n",
    "z_start = data_dict['start']\n",
    "z_target = data_dict['target']"
   ]
  },
  {
   "cell_type": "markdown",
   "id": "78ba5bdc",
   "metadata": {},
   "source": [
    "## Data preprocessing"
   ]
  },
  {
   "cell_type": "code",
   "execution_count": 5,
   "id": "133ecd27",
   "metadata": {},
   "outputs": [],
   "source": [
    "z_start_tensor = df_to_tensor(z_start)\n",
    "z_target_tensor = df_to_tensor(z_target)\n",
    "\n",
    "# Only use the given number of sample\n",
    "max_num_samples = 1000\n",
    "num_samples = min(max_num_samples, z_start_tensor.shape[0])\n",
    "z_start_tensor = z_start_tensor[:num_samples]\n",
    "z_target_tensor = z_target_tensor[:num_samples]\n"
   ]
  },
  {
   "cell_type": "markdown",
   "id": "2d9b3a29",
   "metadata": {},
   "source": [
    "We have two views of the data, and here is where we reconcile them.   The dynamical systems view is to have vector $z_0$ (called \"z_start_tensor\" in the code) and $z_1$ (called \"z_target_tensor\" in the code) that are the initial and final states of the system.  We want to construct a function $f$ (or more precisely choose a set of parameters $\\theta$ that selects $f$ from some family of functions) such that $\\|f(z_0) - z_1\\|$ is small.  The machine learning view is to have a set of inputs $x$ (which is a subset of \"z_start_tensor\") and a set of outputs $y$ (which is a subset of \"z_target_tensor\") and to construct a function $g$ (or more precisely choose a set of parameters $\\phi$ that selects $g$ from some family of functions) such that $\\|g(x) - y\\|$ is small.   \n",
    "\n",
    "**The idea is to have $x$ and $y$ be subsets of $z_0$ and $z_1$ respectively!**   But how to do that!?"
   ]
  },
  {
   "cell_type": "markdown",
   "id": "4f1e3668",
   "metadata": {},
   "source": [
    "Let's begin by writing \n",
    "\n",
    "$$\n",
    "z_i=\n",
    "\\begin{bmatrix}\n",
    "x_i \\\\\n",
    "y_i \\\\\n",
    "\\end{bmatrix}\n",
    "$$\n",
    "\n",
    "and **we assume that $x_0=x_1$**.  This may seem odd at first glance, but is actually quite natural.  For example, in our MNIST example the starting image in $x_0$ and the target image in $x_1$ are the same.  It is merely the classification in $y_0$ and $y_1$ that are different.  I.e., $y_0$ contains some noisy classification or uniform prior of $x_0$ and $y_1$ contains the correct classification of $x_0$.  In the case of the MNIST data, we have $x_0=x_1$ and $y_0\\neq y_1$.\n",
    "\n",
    "So, in slighltly more detail we choose $z_0$ and $z_1$ so that\n",
    "\n",
    "$$\n",
    "z_0=\n",
    "\\begin{bmatrix}\n",
    "x_0 \\\\\n",
    "y_0 \\\\\n",
    "\\end{bmatrix}\n",
    "$$\n",
    "\n",
    "and\n",
    "\n",
    "$$\n",
    "z_1=\n",
    "\\begin{bmatrix}\n",
    "x_0 \\\\\n",
    "y_1 \\\\\n",
    "\\end{bmatrix}\n",
    "$$"
   ]
  },
  {
   "cell_type": "code",
   "execution_count": 6,
   "id": "701f8d98",
   "metadata": {},
   "outputs": [
    {
     "name": "stdout",
     "output_type": "stream",
     "text": [
      "torch.Size([794]) torch.Size([794])\n",
      "tensor(784) tensor(10)\n"
     ]
    }
   ],
   "source": [
    "\n",
    "# compute a mask for the data where every entry in each column is the same\n",
    "# this is used to remove columns that are constant\n",
    "mask = (z_start_tensor == z_target_tensor).all(axis=0)\n",
    "mask.shape\n",
    "x_mask = mask\n",
    "y_mask = ~mask\n",
    "\n",
    "# print out the shape of the masks\n",
    "print(x_mask.shape, y_mask.shape)\n",
    "\n",
    "# print out number of true entries in each mask\n",
    "print(x_mask.sum(), y_mask.sum())\n"
   ]
  },
  {
   "cell_type": "markdown",
   "id": "1880ae29-6269-42a9-870f-fb52bb18cf36",
   "metadata": {
    "id": "1880ae29-6269-42a9-870f-fb52bb18cf36"
   },
   "source": [
    "# MLP model"
   ]
  },
  {
   "cell_type": "markdown",
   "id": "11bc5490",
   "metadata": {},
   "source": [
    "Now we start using Sequential2D to build our model.  This requires a little massaging of the data.  In particlar, remember that we now have an iterative map of the form\n",
    "\n",
    "$$\n",
    "\\begin{bmatrix}\n",
    "I   & 0   & 0   & 0 \\\\\n",
    "f_1 & 0   & 0   & 0 \\\\\n",
    "0   & f_2 & 0   & 0 \\\\\n",
    "0   & 0   & f_3 & 0 \\\\\n",
    "\\end{bmatrix}\n",
    "$$\n",
    "\n",
    "and a state vector that combines $x$, $y$, and *the hidden layers* in the following way.\n",
    "\n",
    "$$\n",
    "\\begin{bmatrix}\n",
    "I   & 0   & 0   & 0 \\\\\n",
    "f_1 & 0   & 0   & 0 \\\\\n",
    "0   & f_2 & 0   & 0 \\\\\n",
    "0   & 0   & f_3 & 0 \\\\\n",
    "\\end{bmatrix}\n",
    "\\circ\n",
    "\\begin{bmatrix}\n",
    "x_0 \\\\\n",
    "h_1 \\\\\n",
    "h_2 \\\\\n",
    "y_0 \\\\\n",
    "\\end{bmatrix}\n",
    "$$"
   ]
  },
  {
   "cell_type": "markdown",
   "id": "0fc9ed2c",
   "metadata": {},
   "source": [
    "I am feeling a little silly today, so let's do the rest using Achilles and the Hare from Godel, Escher, Bach.\n",
    "\n",
    "![Godel, Escher, Bach](https://m.media-amazon.com/images/I/41AkcQQKK3L._SY445_SX342_PQ29_.jpg)"
   ]
  },
  {
   "cell_type": "markdown",
   "id": "7daa36af",
   "metadata": {},
   "source": [
    "Achilles:  But... didn't you just say that an normal ML algorithm link and MLP ignores $y_0$?  Look, doesn't $y_0$ appear right up there?  \n",
    "\n",
    "Hare: Well, look at what happens after the first iteration.\n",
    "\n",
    "$$\n",
    "\\begin{bmatrix}\n",
    "I   & 0   & 0   & 0 \\\\\n",
    "f_1 & 0   & 0   & 0 \\\\\n",
    "0   & f_2 & 0   & 0 \\\\\n",
    "0   & 0   & f_3 & 0 \\\\\n",
    "\\end{bmatrix}\n",
    "\\circ\n",
    "\\begin{bmatrix}\n",
    "x_0 \\\\\n",
    "h_1 \\\\\n",
    "h_2 \\\\\n",
    "y_0 \\\\\n",
    "\\end{bmatrix}\n",
    "=\n",
    "\\begin{bmatrix}\n",
    "x_0 \\\\\n",
    "f_1(x_0) \\\\\n",
    "f_2(h_1) \\\\\n",
    "f_3(h_2) \\\\\n",
    "\\end{bmatrix}\n",
    "$$\n",
    "\n",
    "which **does not** contain $y_0$!  The MLP is cunningly designed to ignore the initial guess contained in $y_0$ :-)"
   ]
  },
  {
   "cell_type": "markdown",
   "id": "3c74a4ef",
   "metadata": {},
   "source": [
    "Achilles:  But... but... but...  what about the hidden layers $h_1$ and $h_2$?  Don't you need to choose them carefully since they are the input to the next layer\\iteration?  I remember reading that MLPs don't care about random initializations of the hidden layers since they will be overwritten by the training process!?\n",
    "\n",
    "Hare: Yes, but...  look at what happens after the second iteration.\n",
    "\n",
    "$$\n",
    "\\begin{bmatrix}\n",
    "I   & 0   & 0   & 0 \\\\\n",
    "f_1 & 0   & 0   & 0 \\\\\n",
    "0   & f_2 & 0   & 0 \\\\\n",
    "0   & 0   & f_3 & 0 \\\\\n",
    "\\end{bmatrix}\n",
    "\\circ\n",
    "\\begin{bmatrix}\n",
    "I   & 0   & 0   & 0 \\\\\n",
    "f_1 & 0   & 0   & 0 \\\\\n",
    "0   & f_2 & 0   & 0 \\\\\n",
    "0   & 0   & f_3 & 0 \\\\\n",
    "\\end{bmatrix}\n",
    "\\circ\n",
    "\\begin{bmatrix}\n",
    "x_0 \\\\\n",
    "h_1 \\\\\n",
    "h_2 \\\\\n",
    "y_0 \\\\\n",
    "\\end{bmatrix}\n",
    "=\n",
    "\\begin{bmatrix}\n",
    "x_0 \\\\\n",
    "f_1(x_0) \\\\\n",
    "f_2(f_1(x_0)) \\\\\n",
    "f_3(f_2(h_1)) \\\\\n",
    "\\end{bmatrix}\n",
    "$$\n"
   ]
  },
  {
   "cell_type": "markdown",
   "id": "19538528",
   "metadata": {},
   "source": [
    "Hare: And one more iteration gives\n",
    "\n",
    "$$\n",
    "\\begin{bmatrix}\n",
    "I   & 0   & 0   & 0 \\\\\n",
    "f_1 & 0   & 0   & 0 \\\\\n",
    "0   & f_2 & 0   & 0 \\\\\n",
    "0   & 0   & f_3 & 0 \\\\\n",
    "\\end{bmatrix}\n",
    "\\circ\n",
    "\\begin{bmatrix}\n",
    "I   & 0   & 0   & 0 \\\\\n",
    "f_1 & 0   & 0   & 0 \\\\\n",
    "0   & f_2 & 0   & 0 \\\\\n",
    "0   & 0   & f_3 & 0 \\\\\n",
    "\\end{bmatrix}\n",
    "\\circ\n",
    "\\begin{bmatrix}\n",
    "I   & 0   & 0   & 0 \\\\\n",
    "f_1 & 0   & 0   & 0 \\\\\n",
    "0   & f_2 & 0   & 0 \\\\\n",
    "0   & 0   & f_3 & 0 \\\\\n",
    "\\end{bmatrix}\n",
    "\\circ\n",
    "\\begin{bmatrix}\n",
    "x_0 \\\\\n",
    "h_1 \\\\\n",
    "h_2 \\\\\n",
    "y_0 \\\\\n",
    "\\end{bmatrix}\n",
    "=\n",
    "\\begin{bmatrix}\n",
    "x_0 \\\\\n",
    "f_1(x_0) \\\\\n",
    "f_2(f_1(x_0)) \\\\\n",
    "f_3(f_2(f_1(x_0))) \\\\\n",
    "\\end{bmatrix}\n",
    "$$\n",
    "\n",
    "Two neat things have happened. First notice that the hidden layers $h_1$ and $h_2$ have been overwritten by the training process, so their initiationlization is irrelevant.  Second, we have the last entry has the form $f_3(f_2(f_1(x_0)))$ which is exactly the form of the answer that the MLP would have given!"
   ]
  },
  {
   "cell_type": "markdown",
   "id": "1fddde4e",
   "metadata": {},
   "source": [
    "Hare:  So, the MLP is a cunningly designed iterative map that ignores the initial guess $y_0$ and the hidden layers $h_1$ and $h_2$ and gives the same answer as the iterative map that we are trying to learn!  "
   ]
  },
  {
   "cell_type": "code",
   "execution_count": 7,
   "id": "ebbc9b74-d7dc-4dd6-bb72-88ed57f5b63e",
   "metadata": {
    "id": "ebbc9b74-d7dc-4dd6-bb72-88ed57f5b63e"
   },
   "outputs": [],
   "source": [
    "input_size = int(x_mask.sum())\n",
    "h1_size = 20\n",
    "h2_size = 20\n",
    "output_size = int(y_mask.sum())\n",
    "\n",
    "x_idx = torch.arange(0, input_size)\n",
    "h_idx = torch.arange(input_size, input_size+h1_size+h2_size)\n",
    "y_idx = torch.arange(input_size+h1_size+h2_size, input_size+h1_size+h2_size+output_size)\n",
    "\n",
    "total_size = input_size + h1_size + h2_size + output_size\n",
    "\n",
    "iterations = 3\n",
    "\n",
    "I = Identity(in_features=input_size, out_features=input_size)\n",
    "f1 = Sequential1D(torch.nn.Linear(in_features=input_size, out_features=h1_size), \n",
    "                  torch.nn.ReLU(), \n",
    "                  in_features=input_size, out_features=h1_size)\n",
    "f2 = Sequential1D(torch.nn.Linear(in_features=h1_size, out_features=h2_size), \n",
    "                  torch.nn.ReLU(), \n",
    "                  in_features=h1_size,    out_features=h2_size)\n",
    "f3 = torch.nn.Linear(in_features=h2_size,    out_features=output_size)    \n",
    "\n",
    "in_features_list  = [input_size, h1_size, h2_size, output_size]\n",
    "out_features_list = [input_size, h1_size, h2_size, output_size]\n",
    "blocks = [[I,    None, None, None],\n",
    "          [f1,   None, None, None],\n",
    "          [None, f2,   None, None],\n",
    "          [None, None, f3,   None]]\n",
    "\n",
    "def transpose_blocks(blocks):\n",
    "    return [[blocks[j][i] for j in range(len(blocks))] for i in range(len(blocks[0]))]\n",
    "\n",
    "map = Sequential2D(\n",
    "    in_features_list=in_features_list,\n",
    "    out_features_list=out_features_list,\n",
    "    blocks=transpose_blocks(blocks)\n",
    ")   "
   ]
  },
  {
   "cell_type": "code",
   "execution_count": 8,
   "id": "c367059b",
   "metadata": {},
   "outputs": [],
   "source": [
    "zh_start_tensor = torch.cat((z_start_tensor[:, x_mask],\n",
    "                             torch.zeros(z_start_tensor.shape[0], len(h_idx)), \n",
    "                             z_start_tensor[:, y_mask]), dim=1)\n",
    "zh_target_tensor = torch.cat((z_target_tensor[:, x_mask], \n",
    "                             torch.zeros(z_target_tensor.shape[0], len(h_idx)), \n",
    "                             z_target_tensor[:, y_mask]), dim=1)"
   ]
  },
  {
   "cell_type": "code",
   "execution_count": 9,
   "id": "a7eeb2b8",
   "metadata": {},
   "outputs": [],
   "source": [
    "# a dataloader which returns a batch of start and target data\n",
    "class Data(torch.utils.data.Dataset):\n",
    "    def __init__(self, z_start, z_target):\n",
    "        self.z_start = z_start\n",
    "        self.z_target = z_target\n",
    "    def __len__(self):\n",
    "        return len(self.z_start)\n",
    "    def __getitem__(self, idx):\n",
    "        return self.z_start[idx], self.z_target[idx]\n",
    "    \n",
    "train_data = Data(zh_start_tensor, zh_target_tensor)\n",
    "train_loader = torch.utils.data.DataLoader(train_data, batch_size=512, shuffle=True)"
   ]
  },
  {
   "cell_type": "code",
   "execution_count": 10,
   "id": "7486ca78-5e1c-4f94-afb5-9015303aaa09",
   "metadata": {
    "colab": {
     "base_uri": "https://localhost:8080/",
     "height": 382,
     "referenced_widgets": [
      "915d05c1f046462ebe574b6b306b6110",
      "df24beefb77f4549b7beed2e23558980",
      "a5a6545605cb475fb4bd6db5d32b0b24",
      "5959c15bd28a4059b8952689490ebe2f",
      "a3075bdd01e047faa3f1246dabaedcc7",
      "4d5e173f3cdd465b9b40f8b23d270e8a",
      "4340e450c8c9444784e3ac188b9230df",
      "c81f9b0a5dee4db396442599cb295097",
      "faf8ff98c59b4951b62cd8ad4e1d5bfa",
      "a955f09104b54e37b262198a3807761c",
      "d4d3328dd8914927b619350b49b6f81c"
     ]
    },
    "id": "7486ca78-5e1c-4f94-afb5-9015303aaa09",
    "outputId": "e3247ec9-d372-4fda-c69e-654d985bc905"
   },
   "outputs": [],
   "source": [
    "# Define the loss function and optimizer\n",
    "criterion = torch.nn.MSELoss()\n",
    "optimizer = torch.optim.Adam(map.parameters(), lr=0.001)"
   ]
  },
  {
   "cell_type": "code",
   "execution_count": 11,
   "id": "cb50afb7",
   "metadata": {},
   "outputs": [
    {
     "name": "stdout",
     "output_type": "stream",
     "text": [
      "Epoch 0, Batch 1, Loss 0.10853260010480881\n",
      "Epoch 100, Batch 1, Loss 0.03874697908759117\n",
      "Epoch 200, Batch 1, Loss 0.026041988283395767\n",
      "Epoch 300, Batch 1, Loss 0.017449701204895973\n",
      "Epoch 400, Batch 1, Loss 0.01374930702149868\n"
     ]
    }
   ],
   "source": [
    "max_epochs = 500\n",
    "# Train the model\n",
    "for epoch in range(max_epochs):\n",
    "    for batch_idx, (start, target) in enumerate(train_loader):\n",
    "        optimizer.zero_grad()\n",
    "\n",
    "        mapped = start\n",
    "\n",
    "        loss = 0.0\n",
    "        for i in range(iterations):\n",
    "            mapped = map(mapped)\n",
    "\n",
    "        loss = criterion(mapped[:, y_idx], target[:, y_idx])\n",
    "        loss.backward()\n",
    "\n",
    "        optimizer.step()\n",
    "    if epoch % 100 == 0:\n",
    "        print(f'Epoch {epoch}, Batch {batch_idx}, Loss {loss.item()}')"
   ]
  },
  {
   "cell_type": "markdown",
   "id": "054793e0",
   "metadata": {},
   "source": [
    "# Training data"
   ]
  },
  {
   "cell_type": "code",
   "execution_count": 12,
   "id": "0545bf25",
   "metadata": {},
   "outputs": [],
   "source": [
    "def project(z_start, z_mapped, z_target, idx, one_hot=False):\n",
    "    if len(idx) == 1:\n",
    "        start = z_start[:, idx[0]]\n",
    "        target = z_target[:, idx[0]]\n",
    "        mapped = z_mapped[:, idx[0]]\n",
    "    else:\n",
    "        if one_hot:\n",
    "            start = torch.argmax(z_start[:, idx], dim=1)\n",
    "            target = torch.argmax(z_target[:, idx], dim=1)\n",
    "            mapped = torch.argmax(z_mapped[:, idx], dim=1)\n",
    "        else:\n",
    "            # Use PCA to reduce the dimensionality of the data\n",
    "            _, _, V = torch.svd(z_target[:, idx])\n",
    "            start = torch.matmul(z_start[:, idx], V[:, 0])\n",
    "            target = torch.matmul(z_target[:, idx], V[:, 0])\n",
    "            mapped = torch.matmul(z_mapped[:, idx], V[:, 0])\n",
    "    return start, mapped, target\n",
    "\n",
    "\n",
    "def my_plot(z_start, z_mapped, z_target, plot_points, x_idx, y_idx, one_hot_y=False):\n",
    "    start_x, mapped_x, target_x = project(z_start, z_mapped, z_target, x_idx)\n",
    "    start_y, mapped_y, target_y = project(z_start, z_mapped, z_target, y_idx, one_hot_y)\n",
    "    plot_2D_start_end(start_x, start_y,\n",
    "                      mapped_x, mapped_y, \n",
    "                      target_x, target_y, \n",
    "                      plot_points)"
   ]
  },
  {
   "cell_type": "code",
   "execution_count": 13,
   "id": "86109c30",
   "metadata": {},
   "outputs": [
    {
     "data": {
      "application/vnd.jupyter.widget-view+json": {
       "model_id": "2d8db45b69a543228b08eeb0793528df",
       "version_major": 2,
       "version_minor": 0
      },
      "image/png": "[encoded data removed]",
      "text/html": [
       "\n",
       "            <div style=\"display: inline-block;\">\n",
       "                <div class=\"jupyter-widgets widget-label\" style=\"text-align: center;\">\n",
       "                    Figure\n",
       "                </div>\n",
       "                <img src='data:image/png;base64,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' width=640.0/>\n",
       "            </div>\n",
       "        "
      ],
      "text/plain": [
       "Canvas(toolbar=Toolbar(toolitems=[('Home', 'Reset original view', 'home', 'home'), ('Back', 'Back to previous …"
      ]
     },
     "metadata": {},
     "output_type": "display_data"
    }
   ],
   "source": [
    "\n",
    "plot_iterations = 1\n",
    "\n",
    "mapped_tensor = zh_start_tensor\n",
    "for i in range(plot_iterations):\n",
    "    mapped_tensor = map(mapped_tensor)\n",
    "mapped_tensor = mapped_tensor.detach()\n",
    "\n",
    "my_plot(zh_start_tensor, mapped_tensor, zh_target_tensor, plot_points=10, x_idx=x_idx, y_idx=y_idx, one_hot_y=one_hot_y)\n"
   ]
  },
  {
   "cell_type": "code",
   "execution_count": 14,
   "id": "8ac074be-5d27-480a-83fe-e1161e9d69ef",
   "metadata": {
    "id": "8ac074be-5d27-480a-83fe-e1161e9d69ef"
   },
   "outputs": [
    {
     "data": {
      "application/vnd.jupyter.widget-view+json": {
       "model_id": "9c7eb419dbd14f6f9fd14094e98a2108",
       "version_major": 2,
       "version_minor": 0
      },
      "image/png": "[encoded data removed]",
      "text/html": [
       "\n",
       "            <div style=\"display: inline-block;\">\n",
       "                <div class=\"jupyter-widgets widget-label\" style=\"text-align: center;\">\n",
       "                    Figure\n",
       "                </div>\n",
       "                <img src='data:image/png;base64,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' width=640.0/>\n",
       "            </div>\n",
       "        "
      ],
      "text/plain": [
       "Canvas(toolbar=Toolbar(toolitems=[('Home', 'Reset original view', 'home', 'home'), ('Back', 'Back to previous …"
      ]
     },
     "metadata": {},
     "output_type": "display_data"
    }
   ],
   "source": [
    "plot_iterations = iterations\n",
    "\n",
    "mapped_tensor = zh_start_tensor\n",
    "for i in range(plot_iterations):\n",
    "    mapped_tensor = map(mapped_tensor)\n",
    "mapped_tensor = mapped_tensor.detach()\n",
    "\n",
    "my_plot(zh_start_tensor, mapped_tensor, zh_target_tensor, plot_points=10, x_idx=x_idx, y_idx=y_idx, one_hot_y=one_hot_y)"
   ]
  },
  {
   "cell_type": "markdown",
   "id": "ea123cd4",
   "metadata": {},
   "source": [
    "# Path"
   ]
  },
  {
   "cell_type": "code",
   "execution_count": 15,
   "id": "911b76b9",
   "metadata": {},
   "outputs": [
    {
     "data": {
      "application/vnd.jupyter.widget-view+json": {
       "model_id": "0a2f096fb54b4fac867405d12aa03327",
       "version_major": 2,
       "version_minor": 0
      },
      "image/png": "[encoded data removed]",
      "text/html": [
       "\n",
       "            <div style=\"display: inline-block;\">\n",
       "                <div class=\"jupyter-widgets widget-label\" style=\"text-align: center;\">\n",
       "                    Figure\n",
       "                </div>\n",
       "                <img src='data:image/png;base64,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' width=640.0/>\n",
       "            </div>\n",
       "        "
      ],
      "text/plain": [
       "Canvas(toolbar=Toolbar(toolitems=[('Home', 'Reset original view', 'home', 'home'), ('Back', 'Back to previous …"
      ]
     },
     "metadata": {},
     "output_type": "display_data"
    }
   ],
   "source": [
    "plot_points = 10\n",
    "\n",
    "\n",
    "mapped_tensors = [zh_start_tensor[:plot_points, :]]\n",
    "for i in range(iterations):\n",
    "    mapped_tensors.append(map(mapped_tensors[i]).detach())\n",
    "\n",
    "\n",
    "plt.figure()\n",
    "\n",
    "for i, mapped_tensor in enumerate(mapped_tensors):\n",
    "    if i > 0:\n",
    "        start = mapped_tensors[i-1]\n",
    "        mapped = mapped_tensors[i]\n",
    "\n",
    "        start_x, mapped_x, target_x = project(start, mapped, zh_target_tensor, idx=x_idx)\n",
    "        start_y, mapped_y, target_y = project(start, mapped, zh_target_tensor, idx=y_idx, one_hot=one_hot_y)\n",
    "\n",
    "        dx = mapped_x-start_x\n",
    "        dy = mapped_y-start_y\n",
    "        plt.quiver(start_x, start_y, dx, dy, scale=1, scale_units='xy', angles='xy', color='r', width=0.005)\n",
    "\n",
    "plt.scatter(target_x, target_y, s=1)\n",
    "\n",
    "plt.gca().set_aspect('equal')\n",
    "plt.show()"
   ]
  },
  {
   "cell_type": "markdown",
   "id": "a8d68302",
   "metadata": {},
   "source": [
    "# Testing data"
   ]
  },
  {
   "cell_type": "code",
   "execution_count": 16,
   "id": "1c14b142",
   "metadata": {},
   "outputs": [
    {
     "data": {
      "application/vnd.jupyter.widget-view+json": {
       "model_id": "5b1709dd9b20412abd4d9e519bd69949",
       "version_major": 2,
       "version_minor": 0
      },
      "image/png": "[encoded data removed]",
      "text/html": [
       "\n",
       "            <div style=\"display: inline-block;\">\n",
       "                <div class=\"jupyter-widgets widget-label\" style=\"text-align: center;\">\n",
       "                    Figure\n",
       "                </div>\n",
       "                <img src='data:image/png;base64,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' width=640.0/>\n",
       "            </div>\n",
       "        "
      ],
      "text/plain": [
       "Canvas(toolbar=Toolbar(toolitems=[('Home', 'Reset original view', 'home', 'home'), ('Back', 'Back to previous …"
      ]
     },
     "metadata": {},
     "output_type": "display_data"
    }
   ],
   "source": [
    "zh_start_tensor_test = zh_start_tensor+torch.rand_like(zh_start_tensor)*0.2\n",
    "mapped_tensor = zh_start_tensor_test\n",
    "for i in range(iterations):\n",
    "    mapped_tensor = map(mapped_tensor)\n",
    "mapped_tensor = mapped_tensor.detach()\n",
    "\n",
    "my_plot(zh_start_tensor_test, mapped_tensor, zh_target_tensor, plot_points=10, x_idx=x_idx, y_idx=y_idx, one_hot_y=one_hot_y)\n"
   ]
  },
  {
   "cell_type": "code",
   "execution_count": 17,
   "id": "5e549cdb",
   "metadata": {},
   "outputs": [
    {
     "name": "stdout",
     "output_type": "stream",
     "text": [
      "i = 63\n",
      "tensor([0.1681, 0.2887, 0.2106, 0.2481, 0.2477, 0.1234, 0.1731, 0.1684, 0.1940,\n",
      "        0.2067])\n",
      "tensor([ 1.1155, -0.0059, -0.0236, -0.0387, -0.0195,  0.0291, -0.0335,  0.0167,\n",
      "        -0.0083, -0.0205])\n",
      "tensor([1., 0., 0., 0., 0., 0., 0., 0., 0., 0.])\n",
      "1 -> 0 -> 0\n",
      "i = 970\n",
      "tensor([0.2171, 0.1649, 0.2529, 0.2234, 0.1693, 0.2512, 0.2763, 0.2648, 0.2910,\n",
      "        0.1248])\n",
      "tensor([ 7.8718e-03,  7.4136e-03,  5.0145e-02,  3.6940e-05, -1.4148e-02,\n",
      "        -7.0167e-03,  1.0175e+00, -1.0092e-02, -2.6382e-02, -8.4444e-03])\n",
      "tensor([0., 0., 0., 0., 0., 0., 1., 0., 0., 0.])\n",
      "8 -> 6 -> 6\n",
      "i = 752\n",
      "tensor([0.2508, 0.1469, 0.2926, 0.1466, 0.2522, 0.2988, 0.2803, 0.1161, 0.1602,\n",
      "        0.2458])\n",
      "tensor([ 0.0081,  0.0053, -0.1113, -0.0015, -0.0011,  0.2638, -0.0288, -0.0386,\n",
      "         0.8961,  0.0268])\n",
      "tensor([0., 0., 0., 0., 0., 0., 0., 0., 1., 0.])\n",
      "5 -> 8 -> 8\n",
      "i = 325\n",
      "tensor([0.1298, 0.1185, 0.1015, 0.1916, 0.2183, 0.1355, 0.1542, 0.1604, 0.1029,\n",
      "        0.1159])\n",
      "tensor([ 0.1014,  0.0164,  0.0779,  0.0281,  0.1072,  0.1385,  0.0059, -0.0238,\n",
      "         0.0261,  0.4835])\n",
      "tensor([0., 0., 0., 0., 0., 0., 0., 0., 0., 1.])\n",
      "4 -> 9 -> 9\n",
      "i = 122\n",
      "tensor([0.2834, 0.1619, 0.1112, 0.2662, 0.1383, 0.1717, 0.1800, 0.2618, 0.1344,\n",
      "        0.1902])\n",
      "tensor([ 0.9678,  0.0024,  0.0012,  0.0451, -0.0014, -0.0461,  0.0109, -0.0058,\n",
      "        -0.0071, -0.0113])\n",
      "tensor([1., 0., 0., 0., 0., 0., 0., 0., 0., 0.])\n",
      "0 -> 0 -> 0\n"
     ]
    }
   ],
   "source": [
    "for i in torch.randperm(zh_start_tensor.shape[0])[:5]:\n",
    "    print(f'i = {i}')    \n",
    "    print(zh_start_tensor_test[i,y_idx])\n",
    "    print(mapped_tensor[i,y_idx])\n",
    "    print(zh_target_tensor[i,y_idx])\n",
    "    print(f'{torch.argmax(zh_start_tensor_test[i,y_idx])} -> {torch.argmax(mapped_tensor[i,y_idx])} -> {torch.argmax(zh_target_tensor[i,y_idx])}')\n",
    "\n"
   ]
  },
  {
   "cell_type": "code",
   "execution_count": null,
   "metadata": {},
   "outputs": [],
   "source": []
  }
 ],
 "metadata": {
  "accelerator": "GPU",
  "colab": {
   "include_colab_link": true,
   "provenance": []
  },
  "gpuClass": "standard",
  "jupytext": {
   "formats": "ipynb,py:percent,md"
  },
  "kernelspec": {
   "display_name": "iterativennsimple-py3.10",
   "language": "python",
   "name": "python3"
  },
  "language_info": {
   "codemirror_mode": {
    "name": "ipython",
    "version": 3
   },
   "file_extension": ".py",
   "mimetype": "text/x-python",
   "name": "python",
   "nbconvert_exporter": "python",
   "pygments_lexer": "ipython3",
   "version": "3.10.12"
  },
  "widgets": {
   "application/vnd.jupyter.widget-state+json": {
    "4340e450c8c9444784e3ac188b9230df": {
     "model_module": "@jupyter-widgets/controls",
     "model_module_version": "1.5.0",
     "model_name": "DescriptionStyleModel",
     "state": {
      "_model_module": "@jupyter-widgets/controls",
      "_model_module_version": "1.5.0",
      "_model_name": "DescriptionStyleModel",
      "_view_count": null,
      "_view_module": "@jupyter-widgets/base",
      "_view_module_version": "1.2.0",
      "_view_name": "StyleView",
      "description_width": ""
     }
    },
    "4d5e173f3cdd465b9b40f8b23d270e8a": {
     "model_module": "@jupyter-widgets/base",
     "model_module_version": "1.2.0",
     "model_name": "LayoutModel",
     "state": {
      "_model_module": "@jupyter-widgets/base",
      "_model_module_version": "1.2.0",
      "_model_name": "LayoutModel",
      "_view_count": null,
      "_view_module": "@jupyter-widgets/base",
      "_view_module_version": "1.2.0",
      "_view_name": "LayoutView",
      "align_content": null,
      "align_items": null,
      "align_self": null,
      "border": null,
      "bottom": null,
      "display": null,
      "flex": null,
      "flex_flow": null,
      "grid_area": null,
      "grid_auto_columns": null,
      "grid_auto_flow": null,
      "grid_auto_rows": null,
      "grid_column": null,
      "grid_gap": null,
      "grid_row": null,
      "grid_template_areas": null,
      "grid_template_columns": null,
      "grid_template_rows": null,
      "height": null,
      "justify_content": null,
      "justify_items": null,
      "left": null,
      "margin": null,
      "max_height": null,
      "max_width": null,
      "min_height": null,
      "min_width": null,
      "object_fit": null,
      "object_position": null,
      "order": null,
      "overflow": null,
      "overflow_x": null,
      "overflow_y": null,
      "padding": null,
      "right": null,
      "top": null,
      "visibility": null,
      "width": null
     }
    },
    "5959c15bd28a4059b8952689490ebe2f": {
     "model_module": "@jupyter-widgets/controls",
     "model_module_version": "1.5.0",
     "model_name": "HTMLModel",
     "state": {
      "_dom_classes": [],
      "_model_module": "@jupyter-widgets/controls",
      "_model_module_version": "1.5.0",
      "_model_name": "HTMLModel",
      "_view_count": null,
      "_view_module": "@jupyter-widgets/controls",
      "_view_module_version": "1.5.0",
      "_view_name": "HTMLView",
      "description": "",
      "description_tooltip": null,
      "layout": "IPY_MODEL_a955f09104b54e37b262198a3807761c",
      "placeholder": "​",
      "style": "IPY_MODEL_d4d3328dd8914927b619350b49b6f81c",
      "value": " 999/999 [00:08&lt;00:00, 114.60it/s, loss=0.000293, v_num=0]"
     }
    },
    "915d05c1f046462ebe574b6b306b6110": {
     "model_module": "@jupyter-widgets/controls",
     "model_module_version": "1.5.0",
     "model_name": "HBoxModel",
     "state": {
      "_dom_classes": [],
      "_model_module": "@jupyter-widgets/controls",
      "_model_module_version": "1.5.0",
      "_model_name": "HBoxModel",
      "_view_count": null,
      "_view_module": "@jupyter-widgets/controls",
      "_view_module_version": "1.5.0",
      "_view_name": "HBoxView",
      "box_style": "",
      "children": [
       "IPY_MODEL_df24beefb77f4549b7beed2e23558980",
       "IPY_MODEL_a5a6545605cb475fb4bd6db5d32b0b24",
       "IPY_MODEL_5959c15bd28a4059b8952689490ebe2f"
      ],
      "layout": "IPY_MODEL_a3075bdd01e047faa3f1246dabaedcc7"
     }
    },
    "a3075bdd01e047faa3f1246dabaedcc7": {
     "model_module": "@jupyter-widgets/base",
     "model_module_version": "1.2.0",
     "model_name": "LayoutModel",
     "state": {
      "_model_module": "@jupyter-widgets/base",
      "_model_module_version": "1.2.0",
      "_model_name": "LayoutModel",
      "_view_count": null,
      "_view_module": "@jupyter-widgets/base",
      "_view_module_version": "1.2.0",
      "_view_name": "LayoutView",
      "align_content": null,
      "align_items": null,
      "align_self": null,
      "border": null,
      "bottom": null,
      "display": "inline-flex",
      "flex": null,
      "flex_flow": "row wrap",
      "grid_area": null,
      "grid_auto_columns": null,
      "grid_auto_flow": null,
      "grid_auto_rows": null,
      "grid_column": null,
      "grid_gap": null,
      "grid_row": null,
      "grid_template_areas": null,
      "grid_template_columns": null,
      "grid_template_rows": null,
      "height": null,
      "justify_content": null,
      "justify_items": null,
      "left": null,
      "margin": null,
      "max_height": null,
      "max_width": null,
      "min_height": null,
      "min_width": null,
      "object_fit": null,
      "object_position": null,
      "order": null,
      "overflow": null,
      "overflow_x": null,
      "overflow_y": null,
      "padding": null,
      "right": null,
      "top": null,
      "visibility": null,
      "width": "100%"
     }
    },
    "a5a6545605cb475fb4bd6db5d32b0b24": {
     "model_module": "@jupyter-widgets/controls",
     "model_module_version": "1.5.0",
     "model_name": "FloatProgressModel",
     "state": {
      "_dom_classes": [],
      "_model_module": "@jupyter-widgets/controls",
      "_model_module_version": "1.5.0",
      "_model_name": "FloatProgressModel",
      "_view_count": null,
      "_view_module": "@jupyter-widgets/controls",
      "_view_module_version": "1.5.0",
      "_view_name": "ProgressView",
      "bar_style": "success",
      "description": "",
      "description_tooltip": null,
      "layout": "IPY_MODEL_c81f9b0a5dee4db396442599cb295097",
      "max": 999,
      "min": 0,
      "orientation": "horizontal",
      "style": "IPY_MODEL_faf8ff98c59b4951b62cd8ad4e1d5bfa",
      "value": 999
     }
    },
    "a955f09104b54e37b262198a3807761c": {
     "model_module": "@jupyter-widgets/base",
     "model_module_version": "1.2.0",
     "model_name": "LayoutModel",
     "state": {
      "_model_module": "@jupyter-widgets/base",
      "_model_module_version": "1.2.0",
      "_model_name": "LayoutModel",
      "_view_count": null,
      "_view_module": "@jupyter-widgets/base",
      "_view_module_version": "1.2.0",
      "_view_name": "LayoutView",
      "align_content": null,
      "align_items": null,
      "align_self": null,
      "border": null,
      "bottom": null,
      "display": null,
      "flex": null,
      "flex_flow": null,
      "grid_area": null,
      "grid_auto_columns": null,
      "grid_auto_flow": null,
      "grid_auto_rows": null,
      "grid_column": null,
      "grid_gap": null,
      "grid_row": null,
      "grid_template_areas": null,
      "grid_template_columns": null,
      "grid_template_rows": null,
      "height": null,
      "justify_content": null,
      "justify_items": null,
      "left": null,
      "margin": null,
      "max_height": null,
      "max_width": null,
      "min_height": null,
      "min_width": null,
      "object_fit": null,
      "object_position": null,
      "order": null,
      "overflow": null,
      "overflow_x": null,
      "overflow_y": null,
      "padding": null,
      "right": null,
      "top": null,
      "visibility": null,
      "width": null
     }
    },
    "c81f9b0a5dee4db396442599cb295097": {
     "model_module": "@jupyter-widgets/base",
     "model_module_version": "1.2.0",
     "model_name": "LayoutModel",
     "state": {
      "_model_module": "@jupyter-widgets/base",
      "_model_module_version": "1.2.0",
      "_model_name": "LayoutModel",
      "_view_count": null,
      "_view_module": "@jupyter-widgets/base",
      "_view_module_version": "1.2.0",
      "_view_name": "LayoutView",
      "align_content": null,
      "align_items": null,
      "align_self": null,
      "border": null,
      "bottom": null,
      "display": null,
      "flex": "2",
      "flex_flow": null,
      "grid_area": null,
      "grid_auto_columns": null,
      "grid_auto_flow": null,
      "grid_auto_rows": null,
      "grid_column": null,
      "grid_gap": null,
      "grid_row": null,
      "grid_template_areas": null,
      "grid_template_columns": null,
      "grid_template_rows": null,
      "height": null,
      "justify_content": null,
      "justify_items": null,
      "left": null,
      "margin": null,
      "max_height": null,
      "max_width": null,
      "min_height": null,
      "min_width": null,
      "object_fit": null,
      "object_position": null,
      "order": null,
      "overflow": null,
      "overflow_x": null,
      "overflow_y": null,
      "padding": null,
      "right": null,
      "top": null,
      "visibility": null,
      "width": null
     }
    },
    "d4d3328dd8914927b619350b49b6f81c": {
     "model_module": "@jupyter-widgets/controls",
     "model_module_version": "1.5.0",
     "model_name": "DescriptionStyleModel",
     "state": {
      "_model_module": "@jupyter-widgets/controls",
      "_model_module_version": "1.5.0",
      "_model_name": "DescriptionStyleModel",
      "_view_count": null,
      "_view_module": "@jupyter-widgets/base",
      "_view_module_version": "1.2.0",
      "_view_name": "StyleView",
      "description_width": ""
     }
    },
    "df24beefb77f4549b7beed2e23558980": {
     "model_module": "@jupyter-widgets/controls",
     "model_module_version": "1.5.0",
     "model_name": "HTMLModel",
     "state": {
      "_dom_classes": [],
      "_model_module": "@jupyter-widgets/controls",
      "_model_module_version": "1.5.0",
      "_model_name": "HTMLModel",
      "_view_count": null,
      "_view_module": "@jupyter-widgets/controls",
      "_view_module_version": "1.5.0",
      "_view_name": "HTMLView",
      "description": "",
      "description_tooltip": null,
      "layout": "IPY_MODEL_4d5e173f3cdd465b9b40f8b23d270e8a",
      "placeholder": "​",
      "style": "IPY_MODEL_4340e450c8c9444784e3ac188b9230df",
      "value": "Epoch 9: 100%"
     }
    },
    "faf8ff98c59b4951b62cd8ad4e1d5bfa": {
     "model_module": "@jupyter-widgets/controls",
     "model_module_version": "1.5.0",
     "model_name": "ProgressStyleModel",
     "state": {
      "_model_module": "@jupyter-widgets/controls",
      "_model_module_version": "1.5.0",
      "_model_name": "ProgressStyleModel",
      "_view_count": null,
      "_view_module": "@jupyter-widgets/base",
      "_view_module_version": "1.2.0",
      "_view_name": "StyleView",
      "bar_color": null,
      "description_width": ""
     }
    }
   }
  }
 },
 "nbformat": 4,
 "nbformat_minor": 5
}
